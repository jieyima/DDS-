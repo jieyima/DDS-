{
 "cells": [
  {
   "cell_type": "markdown",
   "metadata": {
    "toc": true
   },
   "source": [
    "<h1>Table of Contents<span class=\"tocSkip\"></span></h1>\n",
    "<div class=\"toc\"><ul class=\"toc-item\"><li><span><a href=\"#Inputs\" data-toc-modified-id=\"Inputs-1\"><span class=\"toc-item-num\">1&nbsp;&nbsp;</span>Inputs</a></span><ul class=\"toc-item\"><li><span><a href=\"#Time-Dimension\" data-toc-modified-id=\"Time-Dimension-1.1\"><span class=\"toc-item-num\">1.1&nbsp;&nbsp;</span>Time Dimension</a></span></li><li><span><a href=\"#Level-Dimension\" data-toc-modified-id=\"Level-Dimension-1.2\"><span class=\"toc-item-num\">1.2&nbsp;&nbsp;</span>Level Dimension</a></span></li></ul></li><li><span><a href=\"#Data-Processing\" data-toc-modified-id=\"Data-Processing-2\"><span class=\"toc-item-num\">2&nbsp;&nbsp;</span>Data Processing</a></span><ul class=\"toc-item\"><li><span><a href=\"#Get-data\" data-toc-modified-id=\"Get-data-2.1\"><span class=\"toc-item-num\">2.1&nbsp;&nbsp;</span>Get data</a></span></li><li><span><a href=\"#Prepare-data-for-chosen-region\" data-toc-modified-id=\"Prepare-data-for-chosen-region-2.2\"><span class=\"toc-item-num\">2.2&nbsp;&nbsp;</span>Prepare data for chosen region</a></span></li><li><span><a href=\"#Prepare-data-for-past-3-months-and-for-nine-months\" data-toc-modified-id=\"Prepare-data-for-past-3-months-and-for-nine-months-2.3\"><span class=\"toc-item-num\">2.3&nbsp;&nbsp;</span>Prepare data for past 3 months and for nine months</a></span></li><li><span><a href=\"#Categorize-lead-for-past-3-periods\" data-toc-modified-id=\"Categorize-lead-for-past-3-periods-2.4\"><span class=\"toc-item-num\">2.4&nbsp;&nbsp;</span>Categorize lead for past 3 periods</a></span><ul class=\"toc-item\"><li><span><a href=\"#Attention:-Must-Read\" data-toc-modified-id=\"Attention:-Must-Read-2.4.1\"><span class=\"toc-item-num\">2.4.1&nbsp;&nbsp;</span>Attention: Must Read</a></span></li></ul></li><li><span><a href=\"#KPI-Strip-w/Conquests,-Loyalists,-Defectors\" data-toc-modified-id=\"KPI-Strip-w/Conquests,-Loyalists,-Defectors-2.5\"><span class=\"toc-item-num\">2.5&nbsp;&nbsp;</span>KPI Strip w/Conquests, Loyalists, Defectors</a></span><ul class=\"toc-item\"><li><span><a href=\"#Attention:-Must-Read\" data-toc-modified-id=\"Attention:-Must-Read-2.5.1\"><span class=\"toc-item-num\">2.5.1&nbsp;&nbsp;</span>Attention: Must Read</a></span></li></ul></li><li><span><a href=\"#Sales-vs.-Foot-Traffic-Trend-Report\" data-toc-modified-id=\"Sales-vs.-Foot-Traffic-Trend-Report-2.6\"><span class=\"toc-item-num\">2.6&nbsp;&nbsp;</span>Sales vs. Foot Traffic Trend Report</a></span></li><li><span><a href=\"#Ranking-Report-for-Outcome-Metrics-including-Sales\" data-toc-modified-id=\"Ranking-Report-for-Outcome-Metrics-including-Sales-2.7\"><span class=\"toc-item-num\">2.7&nbsp;&nbsp;</span>Ranking Report for Outcome Metrics including Sales</a></span></li><li><span><a href=\"#Tree-Diagram-–-Organizational-View\" data-toc-modified-id=\"Tree-Diagram-–-Organizational-View-2.8\"><span class=\"toc-item-num\">2.8&nbsp;&nbsp;</span>Tree Diagram – Organizational View</a></span><ul class=\"toc-item\"><li><span><a href=\"#Calculation-Process:\" data-toc-modified-id=\"Calculation-Process:-2.8.1\"><span class=\"toc-item-num\">2.8.1&nbsp;&nbsp;</span>Calculation Process:</a></span></li><li><span><a href=\"#Let's-check-the-number-of-people-whose-owned-brands-is-null\" data-toc-modified-id=\"Let's-check-the-number-of-people-whose-owned-brands-is-null-2.8.2\"><span class=\"toc-item-num\">2.8.2&nbsp;&nbsp;</span>Let's check the number of people whose owned brands is null</a></span></li><li><span><a href=\"#Calculation-Process:\" data-toc-modified-id=\"Calculation-Process:-2.8.3\"><span class=\"toc-item-num\">2.8.3&nbsp;&nbsp;</span>Calculation Process:</a></span></li></ul></li><li><span><a href=\"#SWOT-Chart-by-Class-of-Vehicle\" data-toc-modified-id=\"SWOT-Chart-by-Class-of-Vehicle-2.9\"><span class=\"toc-item-num\">2.9&nbsp;&nbsp;</span>SWOT Chart by Class of Vehicle</a></span><ul class=\"toc-item\"><li><span><a href=\"#Calculation-Process:\" data-toc-modified-id=\"Calculation-Process:-2.9.1\"><span class=\"toc-item-num\">2.9.1&nbsp;&nbsp;</span>Calculation Process:</a></span></li></ul></li><li><span><a href=\"#Cross-brand-Shopping-Table\" data-toc-modified-id=\"Cross-brand-Shopping-Table-2.10\"><span class=\"toc-item-num\">2.10&nbsp;&nbsp;</span>Cross-brand Shopping Table</a></span></li><li><span><a href=\"#Organizational-Summary\" data-toc-modified-id=\"Organizational-Summary-2.11\"><span class=\"toc-item-num\">2.11&nbsp;&nbsp;</span>Organizational Summary</a></span></li><li><span><a href=\"#Ending\" data-toc-modified-id=\"Ending-2.12\"><span class=\"toc-item-num\">2.12&nbsp;&nbsp;</span>Ending</a></span></li><li><span><a href=\"#Visits-for-brands\" data-toc-modified-id=\"Visits-for-brands-2.13\"><span class=\"toc-item-num\">2.13&nbsp;&nbsp;</span>Visits for brands</a></span></li><li><span><a href=\"#Output-of-brand-visits\" data-toc-modified-id=\"Output-of-brand-visits-2.14\"><span class=\"toc-item-num\">2.14&nbsp;&nbsp;</span>Output of brand visits</a></span></li><li><span><a href=\"#Brand-Visits-by-Lead-Types\" data-toc-modified-id=\"Brand-Visits-by-Lead-Types-2.15\"><span class=\"toc-item-num\">2.15&nbsp;&nbsp;</span>Brand Visits by Lead Types</a></span></li><li><span><a href=\"#Output-of-Brand-Visits-by-Lead-Type\" data-toc-modified-id=\"Output-of-Brand-Visits-by-Lead-Type-2.16\"><span class=\"toc-item-num\">2.16&nbsp;&nbsp;</span>Output of Brand Visits by Lead Type</a></span></li><li><span><a href=\"#Average-#-of-Visiting-Brands\" data-toc-modified-id=\"Average-#-of-Visiting-Brands-2.17\"><span class=\"toc-item-num\">2.17&nbsp;&nbsp;</span>Average # of Visiting Brands</a></span></li><li><span><a href=\"#Output-of-Avg-#-of-Brands-Visited\" data-toc-modified-id=\"Output-of-Avg-#-of-Brands-Visited-2.18\"><span class=\"toc-item-num\">2.18&nbsp;&nbsp;</span>Output of Avg # of Brands Visited</a></span></li><li><span><a href=\"#Conquest-Owned-Brand-Visits\" data-toc-modified-id=\"Conquest-Owned-Brand-Visits-2.19\"><span class=\"toc-item-num\">2.19&nbsp;&nbsp;</span>Conquest Owned Brand Visits</a></span></li><li><span><a href=\"#Output-of-Conquest-Owned-Brand-Visits\" data-toc-modified-id=\"Output-of-Conquest-Owned-Brand-Visits-2.20\"><span class=\"toc-item-num\">2.20&nbsp;&nbsp;</span>Output of Conquest Owned Brand Visits</a></span></li><li><span><a href=\"#Defector-Visiting-Brands-Visits\" data-toc-modified-id=\"Defector-Visiting-Brands-Visits-2.21\"><span class=\"toc-item-num\">2.21&nbsp;&nbsp;</span>Defector Visiting Brands Visits</a></span></li><li><span><a href=\"#Output-of-Defector-Visiting-Brands-Visits\" data-toc-modified-id=\"Output-of-Defector-Visiting-Brands-Visits-2.22\"><span class=\"toc-item-num\">2.22&nbsp;&nbsp;</span>Output of Defector Visiting Brands Visits</a></span></li></ul></li><li><span><a href=\"#Outputs\" data-toc-modified-id=\"Outputs-3\"><span class=\"toc-item-num\">3&nbsp;&nbsp;</span>Outputs</a></span><ul class=\"toc-item\"><li><span><a href=\"#Output-of-brand-visits\" data-toc-modified-id=\"Output-of-brand-visits-3.1\"><span class=\"toc-item-num\">3.1&nbsp;&nbsp;</span>Output of brand visits</a></span></li><li><span><a href=\"#Output-of-Brand-Visits-by-Lead-Type\" data-toc-modified-id=\"Output-of-Brand-Visits-by-Lead-Type-3.2\"><span class=\"toc-item-num\">3.2&nbsp;&nbsp;</span>Output of Brand Visits by Lead Type</a></span></li><li><span><a href=\"#Output-of-Avg-#-of-Brands-Visited\" data-toc-modified-id=\"Output-of-Avg-#-of-Brands-Visited-3.3\"><span class=\"toc-item-num\">3.3&nbsp;&nbsp;</span>Output of Avg # of Brands Visited</a></span></li><li><span><a href=\"#Output-of-Conquest-Owned-Brand-Visits\" data-toc-modified-id=\"Output-of-Conquest-Owned-Brand-Visits-3.4\"><span class=\"toc-item-num\">3.4&nbsp;&nbsp;</span>Output of Conquest Owned Brand Visits</a></span></li><li><span><a href=\"#Output-of-Defector-Visiting-Brands-Visits\" data-toc-modified-id=\"Output-of-Defector-Visiting-Brands-Visits-3.5\"><span class=\"toc-item-num\">3.5&nbsp;&nbsp;</span>Output of Defector Visiting Brands Visits</a></span></li></ul></li></ul></div>"
   ]
  },
  {
   "cell_type": "code",
   "execution_count": 223,
   "metadata": {
    "colab": {
     "autoexec": {
      "startup": false,
      "wait_interval": 0
     }
    },
    "colab_type": "code",
    "collapsed": true,
    "id": "u82Vd9Ei-Ssk"
   },
   "outputs": [],
   "source": [
    "import numpy as np\n",
    "import pandas as pd\n",
    "import seaborn as sns\n",
    "import matplotlib.pyplot as plt"
   ]
  },
  {
   "cell_type": "code",
   "execution_count": 224,
   "metadata": {
    "collapsed": true
   },
   "outputs": [],
   "source": [
    "from __future__ import print_function\n",
    "from ipywidgets import interact, interactive, fixed, interact_manual,Dropdown,Output\n",
    "import ipywidgets as widgets\n",
    "from IPython.display import display"
   ]
  },
  {
   "cell_type": "code",
   "execution_count": 225,
   "metadata": {
    "collapsed": true
   },
   "outputs": [],
   "source": [
    "#!pip install tkcalendar"
   ]
  },
  {
   "cell_type": "markdown",
   "metadata": {},
   "source": [
    "# Inputs"
   ]
  },
  {
   "cell_type": "markdown",
   "metadata": {},
   "source": [
    "## Time Dimension"
   ]
  },
  {
   "cell_type": "code",
   "execution_count": 226,
   "metadata": {},
   "outputs": [
    {
     "name": "stdout",
     "output_type": "stream",
     "text": [
      "Start date: \n",
      "End date: 2018-06-15\n"
     ]
    }
   ],
   "source": [
    "#from: https://stackoverflow.com/questions/50814594/how-save-date-from-calendar-in-tkcalendar-python\n",
    "# Input Start Date and End Date\n",
    "\n",
    "import tkinter as tk\n",
    "from tkinter import ttk\n",
    "\n",
    "from tkcalendar import Calendar\n",
    "import datetime\n",
    "\n",
    "today = datetime.datetime.now()\n",
    "year = today.year\n",
    "month = today.month\n",
    "day = today.day\n",
    "\n",
    "class Example1():\n",
    "    def __init__(self, root):\n",
    "        self.top = tk.Toplevel(root)\n",
    "\n",
    "        self.cal = Calendar(self.top, font=\"Arial 14\", selectmode='day',\n",
    "                            cursor=\"hand1\", year=year, month=month, day=day)\n",
    "        self.cal.pack(fill=\"both\", expand=True)\n",
    "        ttk.Button(self.top, text=\"ok\", command=self.print_sel).pack()\n",
    "        ttk.Button(self.top, text=\"exit\", command=self.quit1).pack()\n",
    "\n",
    "        self.date = ''\n",
    "\n",
    "        self.top.grab_set()\n",
    "\n",
    "    def print_sel(self):\n",
    "        self.date = self.cal.selection_get()\n",
    "\n",
    "    def quit1(self):\n",
    "        self.top.destroy()\n",
    "\n",
    "\n",
    "class App():\n",
    "    def __init__(self):\n",
    "        self.root = tk.Tk()\n",
    "        s = ttk.Style(self.root)\n",
    "        s.theme_use('clam')\n",
    "\n",
    "        ttk.Button(self.root, text='Start Date', command=self.last).pack(padx=10, pady=10)\n",
    "        ttk.Button(self.root, text='End Date', command=self.next).pack(padx=10, pady=10)\n",
    "\n",
    "        self.last_date = ''\n",
    "        self.next_date = ''\n",
    "\n",
    "        self.root.mainloop()\n",
    "\n",
    "    def last(self):\n",
    "        cal = Example1(self.root)\n",
    "        self.root.wait_window(cal.top)\n",
    "        self.last_date = cal.date\n",
    "\n",
    "    def next(self):\n",
    "        cal = Example1(self.root)\n",
    "        self.root.wait_window(cal.top)\n",
    "        self.next_date = cal.date\n",
    "\n",
    "\n",
    "app = App()\n",
    "print('Start date: {}'.format(app.last_date))\n",
    "print('End date: {}'.format(app.next_date))"
   ]
  },
  {
   "cell_type": "code",
   "execution_count": 227,
   "metadata": {
    "collapsed": true
   },
   "outputs": [],
   "source": [
    "start_date = app.last_date\n",
    "end_date = app.next_date"
   ]
  },
  {
   "cell_type": "code",
   "execution_count": 228,
   "metadata": {
    "scrolled": true
   },
   "outputs": [
    {
     "data": {
      "application/vnd.jupyter.widget-view+json": {
       "model_id": "4cd8688771ee4208981e6e62fdfec57e",
       "version_major": 2,
       "version_minor": 0
      },
      "text/plain": [
       "Dropdown(description='Period:', options=('1 month', '3 month'), value='1 month')"
      ]
     },
     "metadata": {},
     "output_type": "display_data"
    }
   ],
   "source": [
    "# input the period\n",
    "selection = widgets.Dropdown(\n",
    "    options=[\"1 month\", \"3 month\"],\n",
    "    value=\"1 month\",\n",
    "    description='Period:',\n",
    "    #disabled=False,\n",
    ")\n",
    "display(selection)\n"
   ]
  },
  {
   "cell_type": "code",
   "execution_count": 229,
   "metadata": {},
   "outputs": [
    {
     "name": "stdout",
     "output_type": "stream",
     "text": [
      "You have selected 1 month\n"
     ]
    }
   ],
   "source": [
    "duration = selection.value\n",
    "print(\"You have selected {}\".format(duration))"
   ]
  },
  {
   "cell_type": "markdown",
   "metadata": {},
   "source": [
    "## Level Dimension"
   ]
  },
  {
   "cell_type": "code",
   "execution_count": 230,
   "metadata": {},
   "outputs": [
    {
     "data": {
      "application/vnd.jupyter.widget-view+json": {
       "model_id": "73fd3fb536ce4399818a177e9b966ffe",
       "version_major": 2,
       "version_minor": 0
      },
      "text/plain": [
       "Dropdown(description='Level:', options=('Brand Level', 'Dealer Level'), value='Brand Level')"
      ]
     },
     "metadata": {},
     "output_type": "display_data"
    }
   ],
   "source": [
    "#Select level\n",
    "selection = widgets.Dropdown(\n",
    "    options=[\"Brand Level\",\"Dealer Level\"],\n",
    "    value=\"Brand Level\",\n",
    "    description='Level:',\n",
    "    #disabled=False,\n",
    ")\n",
    "display(selection)\n"
   ]
  },
  {
   "cell_type": "code",
   "execution_count": 231,
   "metadata": {},
   "outputs": [
    {
     "name": "stdout",
     "output_type": "stream",
     "text": [
      "You have selected Brand Level\n"
     ]
    }
   ],
   "source": [
    "Level = selection.value\n",
    "print(\"You have selected {}\".format(Level))"
   ]
  },
  {
   "cell_type": "code",
   "execution_count": 232,
   "metadata": {
    "collapsed": true
   },
   "outputs": [],
   "source": [
    "#select region\n",
    "region_list = [\"South Atlantic\",\"National\"]"
   ]
  },
  {
   "cell_type": "code",
   "execution_count": 233,
   "metadata": {
    "scrolled": true
   },
   "outputs": [
    {
     "data": {
      "application/vnd.jupyter.widget-view+json": {
       "model_id": "1a15a3c38f8242c9af35beba3954d26e",
       "version_major": 2,
       "version_minor": 0
      },
      "text/plain": [
       "Dropdown(description='Region:', options=('South Atlantic', 'National'), value='South Atlantic')"
      ]
     },
     "metadata": {},
     "output_type": "display_data"
    }
   ],
   "source": [
    "selection = widgets.Dropdown(\n",
    "    options=region_list,\n",
    "    value=region_list[0],\n",
    "    description='Region:',\n",
    "    #disabled=False,\n",
    ")\n",
    "display(selection)\n"
   ]
  },
  {
   "cell_type": "code",
   "execution_count": 234,
   "metadata": {},
   "outputs": [
    {
     "name": "stdout",
     "output_type": "stream",
     "text": [
      "You have selected South Atlantic\n"
     ]
    }
   ],
   "source": [
    "Region = selection.value\n",
    "print(\"You have selected {}\".format(Region))"
   ]
  },
  {
   "cell_type": "code",
   "execution_count": 235,
   "metadata": {
    "collapsed": true
   },
   "outputs": [],
   "source": [
    "#select brand\n",
    "brandlist = brandlist = ['Acura','Audi','BMW','Buick','Cadillac','Chevrolet','Chrysler'\\\n",
    "                         ,'Dodge','FIAT','Ford','GMC','Honda','Hyundai','Inifiniti','Jaguar','Jeep','Kia','Lamborghini',\\\n",
    "                         'Land Rover','Lexus','Lincoln','Mazda','Mercedes-Benz','MINI','Mitsubishi','Nissan','Porsche',\\\n",
    "                         'Scion','Subaru','Toyota','Volkswagen','Volvo']"
   ]
  },
  {
   "cell_type": "code",
   "execution_count": 236,
   "metadata": {},
   "outputs": [
    {
     "data": {
      "application/vnd.jupyter.widget-view+json": {
       "model_id": "5b2b075bde3649dfa9402acbc6ce6873",
       "version_major": 2,
       "version_minor": 0
      },
      "text/plain": [
       "Dropdown(description='Brand:', options=('Acura', 'Audi', 'BMW', 'Buick', 'Cadillac', 'Chevrolet', 'Chrysler', …"
      ]
     },
     "metadata": {},
     "output_type": "display_data"
    }
   ],
   "source": [
    "selection = widgets.Dropdown(\n",
    "    options=brandlist,\n",
    "    value=brandlist[0],\n",
    "    description='Brand:',\n",
    "    #disabled=False,\n",
    ")\n",
    "display(selection)"
   ]
  },
  {
   "cell_type": "code",
   "execution_count": 237,
   "metadata": {},
   "outputs": [
    {
     "name": "stdout",
     "output_type": "stream",
     "text": [
      "You have selected ACURA\n"
     ]
    }
   ],
   "source": [
    "Brand = selection.value.upper()\n",
    "print(\"You have selected {}\".format(Brand))"
   ]
  },
  {
   "cell_type": "code",
   "execution_count": 238,
   "metadata": {},
   "outputs": [
    {
     "name": "stdout",
     "output_type": "stream",
     "text": [
      "You are analyzing ACURA in the South Atlantic on a 1 month basis until 2018-06-15.\n"
     ]
    }
   ],
   "source": [
    "print(\"You are analyzing {} in the {} on a {} basis until {}.\".format(Brand,Region,duration,str(end_date)))"
   ]
  },
  {
   "cell_type": "markdown",
   "metadata": {},
   "source": [
    "# Data Processing"
   ]
  },
  {
   "cell_type": "markdown",
   "metadata": {
    "colab_type": "text",
    "id": "MxANmiaXGNs5"
   },
   "source": [
    "## Get data"
   ]
  },
  {
   "cell_type": "code",
   "execution_count": 239,
   "metadata": {
    "colab": {
     "autoexec": {
      "startup": false,
      "wait_interval": 0
     }
    },
    "colab_type": "code",
    "id": "IqZQpVwH-Stn",
    "outputId": "63ffa539-6e84-487e-cb3d-b4b758344afe",
    "scrolled": true
   },
   "outputs": [
    {
     "name": "stderr",
     "output_type": "stream",
     "text": [
      "C:\\Users\\Mengyu\\Anaconda3\\lib\\site-packages\\IPython\\core\\interactiveshell.py:2728: DtypeWarning: Columns (8,65,66,94,96,114,128,129,130,155,167,171,172,173,189,190,192,193,196,197,198,199,229,230,240,241,242,243,254,255,256,257,258,259,260,262,265,266,268,269,270,271,272,274,275,277,278,279,280,281,283,284,286,287,288,289,290,292,293,295,296,297,298,299,309,310,335,365,374,378,379,380,450,451,452,453,472,473,474,494,505,506,508,509,510,511,512,521) have mixed types. Specify dtype option on import or set low_memory=False.\n",
      "  interactivity=interactivity, compiler=compiler, result=result)\n"
     ]
    }
   ],
   "source": [
    "all_data = pd.read_csv(\"all_data.csv\")"
   ]
  },
  {
   "cell_type": "code",
   "execution_count": 240,
   "metadata": {
    "collapsed": true
   },
   "outputs": [],
   "source": [
    "# Some Basic Manipulation on the all data \n",
    "all_data = all_data[[\"DealerId\",\"LeadId\",\"DateId\",'Key Category','Region_l','Acura','Audi','BMW','Buick','Cadillac','Chevrolet','Chrysler'\\\n",
    "                         ,'Dodge','FIAT','Ford','GMC','Honda','Hyundai','Inifiniti','Jaguar','Jeep','Kia','Lamborghini',\\\n",
    "                         'Land Rover','Lexus','Lincoln','Mazda','Mercedes-Benz','MINI','Mitsubishi','Nissan','Porsche',\\\n",
    "                         'Scion','Subaru','Toyota','Volkswagen','Volvo',\"Auto Make\",\"Second Auto Make\",\"Third Auto Make\",\"Fourth Auto Make\",\\\n",
    "                    \"Auto Class\",\"Second Auto Class\",\"Third Auto Class\",\"Fourth Auto Class\"]]\n",
    "all_data = all_data.drop_duplicates(subset=[\"DealerId\",\"LeadId\",\"DateId\"])\n",
    "all_data[\"Region_l\"]=all_data[\"Region_l\"].str.lower()"
   ]
  },
  {
   "cell_type": "markdown",
   "metadata": {},
   "source": [
    "## Prepare data for chosen region"
   ]
  },
  {
   "cell_type": "code",
   "execution_count": 241,
   "metadata": {
    "collapsed": true
   },
   "outputs": [],
   "source": [
    "if Region == \"National\":\n",
    "    None\n",
    "else:\n",
    "    all_data = all_data[all_data[\"Region_l\"] == Region.lower()]"
   ]
  },
  {
   "cell_type": "code",
   "execution_count": 242,
   "metadata": {},
   "outputs": [
    {
     "data": {
      "text/html": [
       "<div>\n",
       "<style scoped>\n",
       "    .dataframe tbody tr th:only-of-type {\n",
       "        vertical-align: middle;\n",
       "    }\n",
       "\n",
       "    .dataframe tbody tr th {\n",
       "        vertical-align: top;\n",
       "    }\n",
       "\n",
       "    .dataframe thead th {\n",
       "        text-align: right;\n",
       "    }\n",
       "</style>\n",
       "<table border=\"1\" class=\"dataframe\">\n",
       "  <thead>\n",
       "    <tr style=\"text-align: right;\">\n",
       "      <th></th>\n",
       "      <th>DealerId</th>\n",
       "      <th>LeadId</th>\n",
       "      <th>DateId</th>\n",
       "      <th>Key Category</th>\n",
       "      <th>Region_l</th>\n",
       "      <th>Acura</th>\n",
       "      <th>Audi</th>\n",
       "      <th>BMW</th>\n",
       "      <th>Buick</th>\n",
       "      <th>Cadillac</th>\n",
       "      <th>...</th>\n",
       "      <th>Volkswagen</th>\n",
       "      <th>Volvo</th>\n",
       "      <th>Auto Make</th>\n",
       "      <th>Second Auto Make</th>\n",
       "      <th>Third Auto Make</th>\n",
       "      <th>Fourth Auto Make</th>\n",
       "      <th>Auto Class</th>\n",
       "      <th>Second Auto Class</th>\n",
       "      <th>Third Auto Class</th>\n",
       "      <th>Fourth Auto Class</th>\n",
       "    </tr>\n",
       "  </thead>\n",
       "  <tbody>\n",
       "    <tr>\n",
       "      <th>0</th>\n",
       "      <td>1722781</td>\n",
       "      <td>31400</td>\n",
       "      <td>20170102</td>\n",
       "      <td>CarMax</td>\n",
       "      <td>south atlantic</td>\n",
       "      <td>0.0</td>\n",
       "      <td>0.0</td>\n",
       "      <td>0.0</td>\n",
       "      <td>0.0</td>\n",
       "      <td>0.0</td>\n",
       "      <td>...</td>\n",
       "      <td>0.0</td>\n",
       "      <td>0.0</td>\n",
       "      <td>NaN</td>\n",
       "      <td>NaN</td>\n",
       "      <td>NaN</td>\n",
       "      <td>NaN</td>\n",
       "      <td>NaN</td>\n",
       "      <td>NaN</td>\n",
       "      <td>NaN</td>\n",
       "      <td>NaN</td>\n",
       "    </tr>\n",
       "    <tr>\n",
       "      <th>1</th>\n",
       "      <td>1722781</td>\n",
       "      <td>31400</td>\n",
       "      <td>20170103</td>\n",
       "      <td>CarMax</td>\n",
       "      <td>south atlantic</td>\n",
       "      <td>0.0</td>\n",
       "      <td>0.0</td>\n",
       "      <td>0.0</td>\n",
       "      <td>0.0</td>\n",
       "      <td>0.0</td>\n",
       "      <td>...</td>\n",
       "      <td>0.0</td>\n",
       "      <td>0.0</td>\n",
       "      <td>NaN</td>\n",
       "      <td>NaN</td>\n",
       "      <td>NaN</td>\n",
       "      <td>NaN</td>\n",
       "      <td>NaN</td>\n",
       "      <td>NaN</td>\n",
       "      <td>NaN</td>\n",
       "      <td>NaN</td>\n",
       "    </tr>\n",
       "    <tr>\n",
       "      <th>2</th>\n",
       "      <td>1722781</td>\n",
       "      <td>31400</td>\n",
       "      <td>20170104</td>\n",
       "      <td>CarMax</td>\n",
       "      <td>south atlantic</td>\n",
       "      <td>0.0</td>\n",
       "      <td>0.0</td>\n",
       "      <td>0.0</td>\n",
       "      <td>0.0</td>\n",
       "      <td>0.0</td>\n",
       "      <td>...</td>\n",
       "      <td>0.0</td>\n",
       "      <td>0.0</td>\n",
       "      <td>NaN</td>\n",
       "      <td>NaN</td>\n",
       "      <td>NaN</td>\n",
       "      <td>NaN</td>\n",
       "      <td>NaN</td>\n",
       "      <td>NaN</td>\n",
       "      <td>NaN</td>\n",
       "      <td>NaN</td>\n",
       "    </tr>\n",
       "    <tr>\n",
       "      <th>3</th>\n",
       "      <td>1722781</td>\n",
       "      <td>31400</td>\n",
       "      <td>20170106</td>\n",
       "      <td>CarMax</td>\n",
       "      <td>south atlantic</td>\n",
       "      <td>0.0</td>\n",
       "      <td>0.0</td>\n",
       "      <td>0.0</td>\n",
       "      <td>0.0</td>\n",
       "      <td>0.0</td>\n",
       "      <td>...</td>\n",
       "      <td>0.0</td>\n",
       "      <td>0.0</td>\n",
       "      <td>NaN</td>\n",
       "      <td>NaN</td>\n",
       "      <td>NaN</td>\n",
       "      <td>NaN</td>\n",
       "      <td>NaN</td>\n",
       "      <td>NaN</td>\n",
       "      <td>NaN</td>\n",
       "      <td>NaN</td>\n",
       "    </tr>\n",
       "    <tr>\n",
       "      <th>4</th>\n",
       "      <td>1722781</td>\n",
       "      <td>31400</td>\n",
       "      <td>20170109</td>\n",
       "      <td>CarMax</td>\n",
       "      <td>south atlantic</td>\n",
       "      <td>0.0</td>\n",
       "      <td>0.0</td>\n",
       "      <td>0.0</td>\n",
       "      <td>0.0</td>\n",
       "      <td>0.0</td>\n",
       "      <td>...</td>\n",
       "      <td>0.0</td>\n",
       "      <td>0.0</td>\n",
       "      <td>NaN</td>\n",
       "      <td>NaN</td>\n",
       "      <td>NaN</td>\n",
       "      <td>NaN</td>\n",
       "      <td>NaN</td>\n",
       "      <td>NaN</td>\n",
       "      <td>NaN</td>\n",
       "      <td>NaN</td>\n",
       "    </tr>\n",
       "  </tbody>\n",
       "</table>\n",
       "<p>5 rows × 45 columns</p>\n",
       "</div>"
      ],
      "text/plain": [
       "   DealerId  LeadId    DateId Key Category        Region_l  Acura  Audi  BMW  \\\n",
       "0   1722781   31400  20170102       CarMax  south atlantic    0.0   0.0  0.0   \n",
       "1   1722781   31400  20170103       CarMax  south atlantic    0.0   0.0  0.0   \n",
       "2   1722781   31400  20170104       CarMax  south atlantic    0.0   0.0  0.0   \n",
       "3   1722781   31400  20170106       CarMax  south atlantic    0.0   0.0  0.0   \n",
       "4   1722781   31400  20170109       CarMax  south atlantic    0.0   0.0  0.0   \n",
       "\n",
       "   Buick  Cadillac        ...          Volkswagen  Volvo  Auto Make  \\\n",
       "0    0.0       0.0        ...                 0.0    0.0        NaN   \n",
       "1    0.0       0.0        ...                 0.0    0.0        NaN   \n",
       "2    0.0       0.0        ...                 0.0    0.0        NaN   \n",
       "3    0.0       0.0        ...                 0.0    0.0        NaN   \n",
       "4    0.0       0.0        ...                 0.0    0.0        NaN   \n",
       "\n",
       "   Second Auto Make  Third Auto Make  Fourth Auto Make  Auto Class  \\\n",
       "0               NaN              NaN               NaN         NaN   \n",
       "1               NaN              NaN               NaN         NaN   \n",
       "2               NaN              NaN               NaN         NaN   \n",
       "3               NaN              NaN               NaN         NaN   \n",
       "4               NaN              NaN               NaN         NaN   \n",
       "\n",
       "   Second Auto Class  Third Auto Class  Fourth Auto Class  \n",
       "0                NaN               NaN                NaN  \n",
       "1                NaN               NaN                NaN  \n",
       "2                NaN               NaN                NaN  \n",
       "3                NaN               NaN                NaN  \n",
       "4                NaN               NaN                NaN  \n",
       "\n",
       "[5 rows x 45 columns]"
      ]
     },
     "execution_count": 242,
     "metadata": {},
     "output_type": "execute_result"
    }
   ],
   "source": [
    "all_data.head()"
   ]
  },
  {
   "cell_type": "markdown",
   "metadata": {},
   "source": [
    "## Prepare data for past 3 months and for nine months"
   ]
  },
  {
   "cell_type": "code",
   "execution_count": 243,
   "metadata": {
    "collapsed": true
   },
   "outputs": [],
   "source": [
    "all_data[\"Date\"] = all_data[\"DateId\"].apply(lambda x: pd.to_datetime(str(x), format='%Y%m%d'))"
   ]
  },
  {
   "cell_type": "code",
   "execution_count": 244,
   "metadata": {},
   "outputs": [
    {
     "name": "stderr",
     "output_type": "stream",
     "text": [
      "C:\\Users\\Mengyu\\Anaconda3\\lib\\site-packages\\ipykernel\\__main__.py:29: FutureWarning: Comparing Series of datetimes with 'datetime.date'.  Currently, the\n",
      "'datetime.date' is coerced to a datetime. In the future pandas will\n",
      "not coerce, and a TypeError will be raised. To retain the current\n",
      "behavior, convert the 'datetime.date' to a datetime with\n",
      "'pd.Timestamp'.\n",
      "C:\\Users\\Mengyu\\Anaconda3\\lib\\site-packages\\ipykernel\\__main__.py:30: FutureWarning: Comparing Series of datetimes with 'datetime.date'.  Currently, the\n",
      "'datetime.date' is coerced to a datetime. In the future pandas will\n",
      "not coerce, and a TypeError will be raised. To retain the current\n",
      "behavior, convert the 'datetime.date' to a datetime with\n",
      "'pd.Timestamp'.\n",
      "C:\\Users\\Mengyu\\Anaconda3\\lib\\site-packages\\ipykernel\\__main__.py:31: FutureWarning: Comparing Series of datetimes with 'datetime.date'.  Currently, the\n",
      "'datetime.date' is coerced to a datetime. In the future pandas will\n",
      "not coerce, and a TypeError will be raised. To retain the current\n",
      "behavior, convert the 'datetime.date' to a datetime with\n",
      "'pd.Timestamp'.\n",
      "C:\\Users\\Mengyu\\Anaconda3\\lib\\site-packages\\ipykernel\\__main__.py:34: FutureWarning: Comparing Series of datetimes with 'datetime.date'.  Currently, the\n",
      "'datetime.date' is coerced to a datetime. In the future pandas will\n",
      "not coerce, and a TypeError will be raised. To retain the current\n",
      "behavior, convert the 'datetime.date' to a datetime with\n",
      "'pd.Timestamp'.\n",
      "C:\\Users\\Mengyu\\Anaconda3\\lib\\site-packages\\ipykernel\\__main__.py:35: FutureWarning: Comparing Series of datetimes with 'datetime.date'.  Currently, the\n",
      "'datetime.date' is coerced to a datetime. In the future pandas will\n",
      "not coerce, and a TypeError will be raised. To retain the current\n",
      "behavior, convert the 'datetime.date' to a datetime with\n",
      "'pd.Timestamp'.\n",
      "C:\\Users\\Mengyu\\Anaconda3\\lib\\site-packages\\ipykernel\\__main__.py:36: FutureWarning: Comparing Series of datetimes with 'datetime.date'.  Currently, the\n",
      "'datetime.date' is coerced to a datetime. In the future pandas will\n",
      "not coerce, and a TypeError will be raised. To retain the current\n",
      "behavior, convert the 'datetime.date' to a datetime with\n",
      "'pd.Timestamp'.\n"
     ]
    }
   ],
   "source": [
    "#Here we get the last month and last 2 month given the input year and month\n",
    "# for 1 month index:\n",
    "import datetime\n",
    "import datedelta\n",
    "# Base is the end_date\n",
    "Base = end_date\n",
    "#calculate the start and end date for each period\n",
    "if duration == \"1 month\":\n",
    "    first_month_end = Base\n",
    "    first_month_start = Base.replace(day=1)\n",
    "    second_month_end = first_month_start - datetime.timedelta(days=1)\n",
    "    second_month_start = (Base - datedelta.datedelta(years=0, months=1)).replace(day=1)\n",
    "    third_month_end = second_month_start - datetime.timedelta(days=1)\n",
    "    third_month_start = (Base - datedelta.datedelta(years=0, months=2)).replace(day=1)\n",
    "else: \n",
    "    first_month_end = Base\n",
    "    first_month_start = (Base - datedelta.datedelta(years=0, months=3)).replace(day=1)\n",
    "    second_month_end = first_month_start- datetime.timedelta(days=1)\n",
    "    second_month_start = (Base - datedelta.datedelta(years=0, months=6)).replace(day=1)\n",
    "    third_month_end = second_month_start- datetime.timedelta(days=1)\n",
    "    third_month_start = (Base - datedelta.datedelta(years=0, months=9)).replace(day=1)\n",
    "\n",
    "#calculate the start date for each shopping window \n",
    "first_day_130 = first_month_end- datetime.timedelta(days=130)\n",
    "second_day_130 = second_month_end- datetime.timedelta(days=130)\n",
    "third_day_130 = third_month_end- datetime.timedelta(days=130)\n",
    "\n",
    "#get the lead ids who are visiting within the active windows\n",
    "all_data_base = all_data[[\"LeadId\"]+brandlist][(all_data[\"Date\"] >= first_month_start) & (all_data[\"Date\"] <= first_month_end)]\n",
    "all_data_lastmonth = all_data[[\"LeadId\"]+brandlist][(all_data[\"Date\"] >= second_month_start) & (all_data[\"Date\"] <= second_month_end)]\n",
    "all_data_last2month = all_data[[\"LeadId\"]+brandlist][(all_data[\"Date\"] >= third_month_start) & (all_data[\"Date\"] <= third_month_end)]\n",
    "\n",
    "#get all data within each shopping window\n",
    "all_data_130_base = all_data[(all_data[\"Date\"] >= first_day_130) & (all_data[\"Date\"] <= first_month_end)]\n",
    "all_data_130_lastmonth = all_data[(all_data[\"Date\"] >= second_day_130) & (all_data[\"Date\"] <= second_month_end)]\n",
    "all_data_130_last2month = all_data[(all_data[\"Date\"] >= third_day_130) & (all_data[\"Date\"] <= third_month_end)]"
   ]
  },
  {
   "cell_type": "code",
   "execution_count": 245,
   "metadata": {},
   "outputs": [
    {
     "data": {
      "text/html": [
       "<div>\n",
       "<style scoped>\n",
       "    .dataframe tbody tr th:only-of-type {\n",
       "        vertical-align: middle;\n",
       "    }\n",
       "\n",
       "    .dataframe tbody tr th {\n",
       "        vertical-align: top;\n",
       "    }\n",
       "\n",
       "    .dataframe thead th {\n",
       "        text-align: right;\n",
       "    }\n",
       "</style>\n",
       "<table border=\"1\" class=\"dataframe\">\n",
       "  <thead>\n",
       "    <tr style=\"text-align: right;\">\n",
       "      <th></th>\n",
       "      <th>DealerId</th>\n",
       "      <th>LeadId</th>\n",
       "      <th>DateId</th>\n",
       "      <th>Key Category</th>\n",
       "      <th>Region_l</th>\n",
       "      <th>Acura</th>\n",
       "      <th>Audi</th>\n",
       "      <th>BMW</th>\n",
       "      <th>Buick</th>\n",
       "      <th>Cadillac</th>\n",
       "      <th>...</th>\n",
       "      <th>Volvo</th>\n",
       "      <th>Auto Make</th>\n",
       "      <th>Second Auto Make</th>\n",
       "      <th>Third Auto Make</th>\n",
       "      <th>Fourth Auto Make</th>\n",
       "      <th>Auto Class</th>\n",
       "      <th>Second Auto Class</th>\n",
       "      <th>Third Auto Class</th>\n",
       "      <th>Fourth Auto Class</th>\n",
       "      <th>Date</th>\n",
       "    </tr>\n",
       "  </thead>\n",
       "  <tbody>\n",
       "    <tr>\n",
       "      <th>67</th>\n",
       "      <td>1722781</td>\n",
       "      <td>31400</td>\n",
       "      <td>20180207</td>\n",
       "      <td>CarMax</td>\n",
       "      <td>south atlantic</td>\n",
       "      <td>0.0</td>\n",
       "      <td>0.0</td>\n",
       "      <td>0.0</td>\n",
       "      <td>0.0</td>\n",
       "      <td>0.0</td>\n",
       "      <td>...</td>\n",
       "      <td>0.0</td>\n",
       "      <td>NaN</td>\n",
       "      <td>NaN</td>\n",
       "      <td>NaN</td>\n",
       "      <td>NaN</td>\n",
       "      <td>NaN</td>\n",
       "      <td>NaN</td>\n",
       "      <td>NaN</td>\n",
       "      <td>NaN</td>\n",
       "      <td>2018-02-07</td>\n",
       "    </tr>\n",
       "    <tr>\n",
       "      <th>68</th>\n",
       "      <td>1722781</td>\n",
       "      <td>31400</td>\n",
       "      <td>20180212</td>\n",
       "      <td>CarMax</td>\n",
       "      <td>south atlantic</td>\n",
       "      <td>0.0</td>\n",
       "      <td>0.0</td>\n",
       "      <td>0.0</td>\n",
       "      <td>0.0</td>\n",
       "      <td>0.0</td>\n",
       "      <td>...</td>\n",
       "      <td>0.0</td>\n",
       "      <td>NaN</td>\n",
       "      <td>NaN</td>\n",
       "      <td>NaN</td>\n",
       "      <td>NaN</td>\n",
       "      <td>NaN</td>\n",
       "      <td>NaN</td>\n",
       "      <td>NaN</td>\n",
       "      <td>NaN</td>\n",
       "      <td>2018-02-12</td>\n",
       "    </tr>\n",
       "    <tr>\n",
       "      <th>69</th>\n",
       "      <td>1722781</td>\n",
       "      <td>31400</td>\n",
       "      <td>20180217</td>\n",
       "      <td>CarMax</td>\n",
       "      <td>south atlantic</td>\n",
       "      <td>0.0</td>\n",
       "      <td>0.0</td>\n",
       "      <td>0.0</td>\n",
       "      <td>0.0</td>\n",
       "      <td>0.0</td>\n",
       "      <td>...</td>\n",
       "      <td>0.0</td>\n",
       "      <td>NaN</td>\n",
       "      <td>NaN</td>\n",
       "      <td>NaN</td>\n",
       "      <td>NaN</td>\n",
       "      <td>NaN</td>\n",
       "      <td>NaN</td>\n",
       "      <td>NaN</td>\n",
       "      <td>NaN</td>\n",
       "      <td>2018-02-17</td>\n",
       "    </tr>\n",
       "    <tr>\n",
       "      <th>70</th>\n",
       "      <td>1722781</td>\n",
       "      <td>31400</td>\n",
       "      <td>20180219</td>\n",
       "      <td>CarMax</td>\n",
       "      <td>south atlantic</td>\n",
       "      <td>0.0</td>\n",
       "      <td>0.0</td>\n",
       "      <td>0.0</td>\n",
       "      <td>0.0</td>\n",
       "      <td>0.0</td>\n",
       "      <td>...</td>\n",
       "      <td>0.0</td>\n",
       "      <td>NaN</td>\n",
       "      <td>NaN</td>\n",
       "      <td>NaN</td>\n",
       "      <td>NaN</td>\n",
       "      <td>NaN</td>\n",
       "      <td>NaN</td>\n",
       "      <td>NaN</td>\n",
       "      <td>NaN</td>\n",
       "      <td>2018-02-19</td>\n",
       "    </tr>\n",
       "    <tr>\n",
       "      <th>71</th>\n",
       "      <td>1722781</td>\n",
       "      <td>31400</td>\n",
       "      <td>20180223</td>\n",
       "      <td>CarMax</td>\n",
       "      <td>south atlantic</td>\n",
       "      <td>0.0</td>\n",
       "      <td>0.0</td>\n",
       "      <td>0.0</td>\n",
       "      <td>0.0</td>\n",
       "      <td>0.0</td>\n",
       "      <td>...</td>\n",
       "      <td>0.0</td>\n",
       "      <td>NaN</td>\n",
       "      <td>NaN</td>\n",
       "      <td>NaN</td>\n",
       "      <td>NaN</td>\n",
       "      <td>NaN</td>\n",
       "      <td>NaN</td>\n",
       "      <td>NaN</td>\n",
       "      <td>NaN</td>\n",
       "      <td>2018-02-23</td>\n",
       "    </tr>\n",
       "  </tbody>\n",
       "</table>\n",
       "<p>5 rows × 46 columns</p>\n",
       "</div>"
      ],
      "text/plain": [
       "    DealerId  LeadId    DateId Key Category        Region_l  Acura  Audi  BMW  \\\n",
       "67   1722781   31400  20180207       CarMax  south atlantic    0.0   0.0  0.0   \n",
       "68   1722781   31400  20180212       CarMax  south atlantic    0.0   0.0  0.0   \n",
       "69   1722781   31400  20180217       CarMax  south atlantic    0.0   0.0  0.0   \n",
       "70   1722781   31400  20180219       CarMax  south atlantic    0.0   0.0  0.0   \n",
       "71   1722781   31400  20180223       CarMax  south atlantic    0.0   0.0  0.0   \n",
       "\n",
       "    Buick  Cadillac    ...      Volvo  Auto Make  Second Auto Make  \\\n",
       "67    0.0       0.0    ...        0.0        NaN               NaN   \n",
       "68    0.0       0.0    ...        0.0        NaN               NaN   \n",
       "69    0.0       0.0    ...        0.0        NaN               NaN   \n",
       "70    0.0       0.0    ...        0.0        NaN               NaN   \n",
       "71    0.0       0.0    ...        0.0        NaN               NaN   \n",
       "\n",
       "    Third Auto Make  Fourth Auto Make  Auto Class  Second Auto Class  \\\n",
       "67              NaN               NaN         NaN                NaN   \n",
       "68              NaN               NaN         NaN                NaN   \n",
       "69              NaN               NaN         NaN                NaN   \n",
       "70              NaN               NaN         NaN                NaN   \n",
       "71              NaN               NaN         NaN                NaN   \n",
       "\n",
       "    Third Auto Class  Fourth Auto Class       Date  \n",
       "67               NaN                NaN 2018-02-07  \n",
       "68               NaN                NaN 2018-02-12  \n",
       "69               NaN                NaN 2018-02-17  \n",
       "70               NaN                NaN 2018-02-19  \n",
       "71               NaN                NaN 2018-02-23  \n",
       "\n",
       "[5 rows x 46 columns]"
      ]
     },
     "execution_count": 245,
     "metadata": {},
     "output_type": "execute_result"
    }
   ],
   "source": [
    "all_data_130_base.head()"
   ]
  },
  {
   "cell_type": "code",
   "execution_count": 246,
   "metadata": {},
   "outputs": [
    {
     "data": {
      "text/plain": [
       "3775"
      ]
     },
     "execution_count": 246,
     "metadata": {},
     "output_type": "execute_result"
    }
   ],
   "source": [
    "len(all_data_base)"
   ]
  },
  {
   "cell_type": "code",
   "execution_count": 247,
   "metadata": {
    "collapsed": true
   },
   "outputs": [],
   "source": [
    "Base_Period= \"{} to {}\".format(first_month_start,first_month_end)\n",
    "Last_Period= \"{} to {}\".format(second_month_start,second_month_end)\n",
    "Last_2_Period = \"{} to {}\".format(third_month_start,third_month_end)"
   ]
  },
  {
   "cell_type": "code",
   "execution_count": 248,
   "metadata": {},
   "outputs": [
    {
     "name": "stdout",
     "output_type": "stream",
     "text": [
      "2018-06-01 to 2018-06-15\n",
      "2018-05-01 to 2018-05-31\n",
      "2018-04-01 to 2018-04-30\n"
     ]
    }
   ],
   "source": [
    "print(Base_Period)\n",
    "print(Last_Period)\n",
    "print(Last_2_Period )"
   ]
  },
  {
   "cell_type": "markdown",
   "metadata": {},
   "source": [
    "## Categorize lead for past 3 periods"
   ]
  },
  {
   "cell_type": "code",
   "execution_count": 249,
   "metadata": {
    "collapsed": true
   },
   "outputs": [],
   "source": [
    "#here write sql to get dimlead"
   ]
  },
  {
   "cell_type": "code",
   "execution_count": 250,
   "metadata": {},
   "outputs": [
    {
     "name": "stderr",
     "output_type": "stream",
     "text": [
      "C:\\Users\\Mengyu\\Anaconda3\\lib\\site-packages\\IPython\\core\\interactiveshell.py:2728: DtypeWarning: Columns (10,18,19,20,21,22,24,38,53,54,79,86,91,92,95,96,97,113,114,116,117,122,123,165,166,183,189,190,192,193,194,195,196,198,199,201,202,203,204,205,207,208,210,211,212,213,214,216,217,219,220,221,222,223,233,234,235,236,238,255,256,257,258,259) have mixed types. Specify dtype option on import or set low_memory=False.\n",
      "  interactivity=interactivity, compiler=compiler, result=result)\n"
     ]
    }
   ],
   "source": [
    "DimLead = pd.read_csv(\"DimLead_2city_2.csv\")"
   ]
  },
  {
   "cell_type": "code",
   "execution_count": 251,
   "metadata": {
    "collapsed": true
   },
   "outputs": [],
   "source": [
    "def leadtype(row):\n",
    "    brand_u = brand.upper()\n",
    "    if brand.upper() in row[\"owned_brand\"]:\n",
    "        if len(list(set(row[\"Visiting Brand\"]) - set([brand.upper()]))) > 0 :\n",
    "            val = \"Defector\"\n",
    "        else:\n",
    "            val = \"Loyalist\"\n",
    "    else:\n",
    "        if brand_u in row[\"Visiting Brand\"]:\n",
    "            val = \"Conquest\"\n",
    "        else:\n",
    "            val = \"Non-shopper\"\n",
    "    return val"
   ]
  },
  {
   "cell_type": "markdown",
   "metadata": {},
   "source": [
    "### Attention: Must Read\n",
    "\n",
    "We use the visits data in the 130-day-window to categorize lead types, but we calculate the number of visits only using the visits data in the selected period! If we also use the the visits data in the 130-day-window to calculate the number of visits, we cannot see significant difference between 1 month and 3 month period!"
   ]
  },
  {
   "cell_type": "code",
   "execution_count": 252,
   "metadata": {
    "collapsed": true
   },
   "outputs": [],
   "source": [
    "# get lead types for 130 shopping windows\n",
    "i=0\n",
    "for data_processing in [all_data_130_base,all_data_130_lastmonth,all_data_130_last2month]:\n",
    "    #Get the lead type for each brand\n",
    "    cross_visit_brand = data_processing.groupby([\"LeadId\"])[brandlist].sum()\n",
    "    ## put all the visiting brands within a period into a list for each lead\n",
    "    customer_type = pd.DataFrame(cross_visit_brand.apply(lambda x: ','.join(x[x!=0].index).upper().split(\",\"),axis=1),columns=[\"Visiting Brand\"])\n",
    "    ## put all owened brands within a period into a list for each lead\n",
    "    DimLead_part = DimLead[[\"LeadId\",\"Auto Make\",\"Second Auto Make\",\"Third Auto Make\",\"Fourth Auto Make\",\"Auto Class\",\"Second Auto Class\",\"Third Auto Class\",\"Fourth Auto Class\"]].set_index('LeadId')\n",
    "    lead_type = customer_type.merge(DimLead_part,left_index = True, right_index = True, how = \"left\")\n",
    "    owned_brand = lead_type[[\"Auto Make\",\"Second Auto Make\",\"Third Auto Make\",\"Fourth Auto Make\"]].values.tolist()\n",
    "    owned_brands = [list(set(x)-set([np.nan])) for x in owned_brand]\n",
    "    lead_type[\"owned_brand\"] = owned_brands\n",
    "    ##Get the lead type for each brand using the defined function and give column names\n",
    "    brand_type = []\n",
    "    for brand in brandlist:\n",
    "        lead_type[brand.lower()+\"_type\"] = lead_type.apply(leadtype,axis=1)\n",
    "        brand_type.append(brand.lower()+\"_type\")\n",
    "    lead_brand_visits = lead_type.join(cross_visit_brand)\n",
    "    lead_brand_visits[\"LeadId\"] = lead_brand_visits.index\n",
    "    lead_brand_visits = lead_brand_visits[[\"LeadId\",\"Auto Make\",\"Second Auto Make\",\"Third Auto Make\",\"Fourth Auto Make\",\"Auto Class\",\"Second Auto Class\",\"Third Auto Class\",\"Fourth Auto Class\"\\\n",
    "                                          ,\"owned_brand\",\"Visiting Brand\"]+brand_type]\n",
    "    #Give the name of finished dataframe for each period\n",
    "    name = \"lead_brand_visits_\" + [\"base\",\"lastmonth\",\"last2month\"][i]\n",
    "    exec(name + \"=lead_brand_visits\")\n",
    "    i+=1\n",
    "    ###\n",
    "    \n",
    "#Get the visits to each brand for each lead for the selected period! not the 130 day window\n",
    "i=0\n",
    "for data_processing in [all_data_base,all_data_lastmonth,all_data_last2month]:\n",
    "    cross_visit_brand = data_processing.groupby([\"LeadId\"])[brandlist].sum()\n",
    "    #Give the name of finished dataframe for each period\n",
    "    name = \"all_data_\" + [\"base\",\"lastmonth\",\"last2month\"][i]\n",
    "    exec(name + \"=cross_visit_brand\")\n",
    "    i+=1\n",
    "    \n",
    "    #cross_visit = pd.pivot_table(data_processing[[\"DealerId\",\"LeadId\",\"DateId\"]],values='DateId', index=['LeadId'],columns=['DealerId'], aggfunc='count')\n",
    "    #lead_dealer_visits = lead_type.join(cross_visit)\n",
    "    #lead_dealer_visits[\"LeadId\"] = lead_dealer_visits.index\n",
    "    #name2 = \"lead_dealer_visits_\" + [\"base\",\"lastmonth\",\"last2month\"][i]\n",
    "    #exec(name2 + \"=lead_dealer_visits\")\n",
    "    "
   ]
  },
  {
   "cell_type": "code",
   "execution_count": 253,
   "metadata": {},
   "outputs": [
    {
     "name": "stderr",
     "output_type": "stream",
     "text": [
      "C:\\Users\\Mengyu\\Anaconda3\\lib\\site-packages\\ipykernel\\__main__.py:2: FutureWarning: 'LeadId' is both an index level and a column label.\n",
      "Defaulting to column, but this will raise an ambiguity error in a future version\n",
      "  from ipykernel import kernelapp as app\n",
      "C:\\Users\\Mengyu\\Anaconda3\\lib\\site-packages\\ipykernel\\__main__.py:3: FutureWarning: 'LeadId' is both an index level and a column label.\n",
      "Defaulting to column, but this will raise an ambiguity error in a future version\n",
      "  app.launch_new_instance()\n",
      "C:\\Users\\Mengyu\\Anaconda3\\lib\\site-packages\\ipykernel\\__main__.py:4: FutureWarning: 'LeadId' is both an index level and a column label.\n",
      "Defaulting to column, but this will raise an ambiguity error in a future version\n"
     ]
    }
   ],
   "source": [
    "# Only select active shoppers within 3 active windows\n",
    "lead_brand_visits_base = lead_brand_visits_base.merge(all_data_base,left_on = \"LeadId\",right_index = True,how=\"right\")\n",
    "lead_brand_visits_lastmonth = lead_brand_visits_lastmonth.merge(all_data_lastmonth,left_on = \"LeadId\",right_index = True,how=\"right\")\n",
    "lead_brand_visits_last2month = lead_brand_visits_last2month.merge(all_data_last2month,left_on = \"LeadId\",right_index = True,how=\"right\")"
   ]
  },
  {
   "cell_type": "markdown",
   "metadata": {},
   "source": [
    "## KPI Strip w/Conquests, Loyalists, Defectors"
   ]
  },
  {
   "cell_type": "markdown",
   "metadata": {},
   "source": [
    "### Attention: Must Read\n",
    "\n",
    "We use the visits data in the 130-day-window to categorize lead types, but we calculate the number of visits only using the visits data in the selected period! If we also use the the visits data in the 130-day-window to calculate the number of visits, we cannot see significant difference between 1 month and 3 month period!"
   ]
  },
  {
   "cell_type": "code",
   "execution_count": 307,
   "metadata": {
    "collapsed": true,
    "scrolled": true
   },
   "outputs": [],
   "source": [
    "KPI = pd.DataFrame()\n",
    "for data_processing in [lead_brand_visits_last2month,lead_brand_visits_lastmonth,lead_brand_visits_base]:\n",
    "    #get the number of each type for the given brand\n",
    "    c = data_processing[Brand.lower()+\"_type\"].value_counts()\n",
    "    #a is to build a frame for the result table\n",
    "    a = pd.DataFrame([(\"Conquest\",0),(\"Loyalist\",0),(\"Defector\",0)],columns = [\"Leadtype\",\"Nouse\"])\n",
    "    #b contains information\n",
    "    b= pd.DataFrame(c)\n",
    "    b.columns=[\"Number\"]\n",
    "    kpi = a.merge(b,how=\"left\",left_on=\"Leadtype\",right_index = True).fillna(0)[[\"Leadtype\",\"Number\"]]\n",
    "    #Calculate the percentage\n",
    "    kpi[\"Percent\"] = round(kpi[\"Number\"]/kpi[\"Number\"].sum(),3)*100\n",
    "    kpi = kpi[[\"Leadtype\",\"Number\",\"Percent\"]]\n",
    "    #put the information of three periods into one dataframe\n",
    "    KPI = pd.concat([KPI,kpi],axis=1)\n",
    "    "
   ]
  },
  {
   "cell_type": "code",
   "execution_count": 308,
   "metadata": {},
   "outputs": [
    {
     "data": {
      "text/html": [
       "<div>\n",
       "<style scoped>\n",
       "    .dataframe tbody tr th:only-of-type {\n",
       "        vertical-align: middle;\n",
       "    }\n",
       "\n",
       "    .dataframe tbody tr th {\n",
       "        vertical-align: top;\n",
       "    }\n",
       "\n",
       "    .dataframe thead th {\n",
       "        text-align: right;\n",
       "    }\n",
       "</style>\n",
       "<table border=\"1\" class=\"dataframe\">\n",
       "  <thead>\n",
       "    <tr style=\"text-align: right;\">\n",
       "      <th></th>\n",
       "      <th>Leadtype</th>\n",
       "      <th>Number</th>\n",
       "      <th>Percent</th>\n",
       "    </tr>\n",
       "  </thead>\n",
       "  <tbody>\n",
       "    <tr>\n",
       "      <th>0</th>\n",
       "      <td>Conquest</td>\n",
       "      <td>22.0</td>\n",
       "      <td>56.4</td>\n",
       "    </tr>\n",
       "    <tr>\n",
       "      <th>1</th>\n",
       "      <td>Loyalist</td>\n",
       "      <td>0.0</td>\n",
       "      <td>0.0</td>\n",
       "    </tr>\n",
       "    <tr>\n",
       "      <th>2</th>\n",
       "      <td>Defector</td>\n",
       "      <td>17.0</td>\n",
       "      <td>43.6</td>\n",
       "    </tr>\n",
       "  </tbody>\n",
       "</table>\n",
       "</div>"
      ],
      "text/plain": [
       "   Leadtype  Number  Percent\n",
       "0  Conquest    22.0     56.4\n",
       "1  Loyalist     0.0      0.0\n",
       "2  Defector    17.0     43.6"
      ]
     },
     "execution_count": 308,
     "metadata": {},
     "output_type": "execute_result"
    }
   ],
   "source": [
    "#Get the data for base period\n",
    "KPI_base = KPI.iloc[:,[6,7,8]]\n",
    "KPI_base"
   ]
  },
  {
   "cell_type": "code",
   "execution_count": 309,
   "metadata": {},
   "outputs": [
    {
     "data": {
      "image/png": "[encoded data removed]",
      "text/plain": [
       "<Figure size 432x288 with 1 Axes>"
      ]
     },
     "metadata": {},
     "output_type": "display_data"
    }
   ],
   "source": [
    "#Draw the bar chart for three periods\n",
    "\n",
    "\n",
    "\n",
    "\n",
    "barWidth = 0.3\n",
    "plot = KPI.iloc[:,[2,5,8]]\n",
    "bars1 = plot.iloc[:,0].tolist()\n",
    "bars2 = plot.iloc[:,1].tolist()\n",
    "bars3 = plot.iloc[:,2].tolist()\n",
    "\n",
    "# The x position of bars\n",
    "r1 = np.arange(len(bars1))\n",
    "r2 = [x + barWidth for x in r1]\n",
    "r3 = [x + 2*barWidth for x in r1]\n",
    "# Create 1st color bars\n",
    "plt.bar(r1, bars1, width = barWidth, color = (0.3,0.1,0.4,0.6), edgecolor = 'black', capsize=7, label=Last_2_Period)\n",
    " \n",
    "# Create 2nd color bars\n",
    "plt.bar(r2, bars2, width = barWidth, color = (0.3,0.5,0.4,0.6), edgecolor = 'black', capsize=7, label=Last_Period)\n",
    "\n",
    "#Create 3rd color bars\n",
    "plt.bar(r3, bars3, width = barWidth, color = (0.3,0.9,0.4,0.6), edgecolor = 'black', capsize=7, label=Base_Period)\n",
    "# Create legend\n",
    "plt.legend()\n",
    "# general layout\n",
    "plt.xticks([r + 1.5*barWidth for r in range(len(bars1))], ['Conquest', 'Loyalist', 'Defector'])\n",
    "plt.ylabel('Percent')\n",
    "\n",
    "\n",
    "plt.show()\n"
   ]
  },
  {
   "cell_type": "markdown",
   "metadata": {},
   "source": [
    "##  Sales vs. Foot Traffic Trend Report"
   ]
  },
  {
   "cell_type": "code",
   "execution_count": 257,
   "metadata": {
    "collapsed": true
   },
   "outputs": [],
   "source": [
    "traffic = []\n",
    "for data_processing in [lead_brand_visits_last2month,lead_brand_visits_lastmonth,lead_brand_visits_base]:\n",
    "    #Because the columname is not uppercase, we need to retireve it using next code\n",
    "    owened_brands=[x if x.upper() == Brand else None for x in brandlist]\n",
    "    #Remove None in the list\n",
    "    owened_brands=list(filter(None.__ne__, owened_brands))\n",
    "    #Get the total traffic for given brand\n",
    "    traffic.append(data_processing[owened_brands].sum()[0])\n",
    "    \n",
    "    "
   ]
  },
  {
   "cell_type": "code",
   "execution_count": 258,
   "metadata": {
    "scrolled": true
   },
   "outputs": [
    {
     "data": {
      "image/png": "[encoded data removed]",
      "text/plain": [
       "<Figure size 432x288 with 1 Axes>"
      ]
     },
     "metadata": {},
     "output_type": "display_data"
    }
   ],
   "source": [
    "# Plot the bar chart\n",
    "\n",
    "barWidth = 0.3\n",
    "bars1 = traffic\n",
    "\n",
    "# The x position of bars\n",
    "r1 = np.arange(len(bars1))\n",
    "\n",
    "# Create bars\n",
    "plt.bar(r1, bars1, width = barWidth, color = (0.3,0.1,0.4,0.6), edgecolor = 'black', capsize=7, label=Base_Period)\n",
    " \n",
    "\n",
    "# general layout\n",
    "plt.xticks(r1, [Base_Period, Last_Period, Last_2_Period][::-1])\n",
    "plt.ylabel('Foot Traffic')\n",
    "\n",
    "\n",
    "plt.show()\n"
   ]
  },
  {
   "cell_type": "markdown",
   "metadata": {},
   "source": [
    "## Ranking Report for Outcome Metrics including Sales"
   ]
  },
  {
   "cell_type": "code",
   "execution_count": 300,
   "metadata": {},
   "outputs": [
    {
     "data": {
      "application/vnd.jupyter.widget-view+json": {
       "model_id": "437cfb8d192d40c2ac06be2ba6109a4b",
       "version_major": 2,
       "version_minor": 0
      },
      "text/plain": [
       "Dropdown(description='LeadType:', options=('Conquest', 'Loyalist', 'Defector'), value='Conquest')"
      ]
     },
     "metadata": {},
     "output_type": "display_data"
    }
   ],
   "source": [
    "#Select level\n",
    "selection = widgets.Dropdown(\n",
    "    options=[\"Conquest\",\"Loyalist\",\"Defector\"],\n",
    "    value=\"Conquest\",\n",
    "    description='LeadType:',\n",
    "    #disabled=False,\n",
    ")\n",
    "display(selection)\n"
   ]
  },
  {
   "cell_type": "code",
   "execution_count": 301,
   "metadata": {},
   "outputs": [
    {
     "name": "stdout",
     "output_type": "stream",
     "text": [
      "You have selected Conquest\n"
     ]
    }
   ],
   "source": [
    "leadtype = selection.value\n",
    "print(\"You have selected {}\".format(leadtype))"
   ]
  },
  {
   "cell_type": "code",
   "execution_count": 302,
   "metadata": {
    "collapsed": true
   },
   "outputs": [],
   "source": [
    "brand_visits_all = []\n",
    "# we will calculate the foot traffic for given leadtype of each brand\n",
    "for brand in brandlist:\n",
    "    brand_visits = []\n",
    "    for data_processing in [lead_brand_visits_lastmonth,lead_brand_visits_base]:\n",
    "        # filter all traffic data when the lead type of given brand is the given leadtype\n",
    "        data_processing_m = data_processing[brand][data_processing[brand.lower()+\"_type\"] == leadtype]\n",
    "        #Get the visits for each brand\n",
    "        one_brand = data_processing_m.sum()\n",
    "        brand_visits.extend([one_brand])\n",
    "    brand_visits_all.append(brand_visits)\n",
    "brand_visits = pd.DataFrame(brand_visits_all)\n",
    "brand_visits.index = brandlist\n",
    "#Calculate the %change\n",
    "brand_visits[\"%Change\"] = round((brand_visits.iloc[:,1]-brand_visits.iloc[:,0])/brand_visits.iloc[:,0],3)*100\n",
    "#only choose the data of base period\n",
    "brand_visits = brand_visits.iloc[:,[1,2]]"
   ]
  },
  {
   "cell_type": "code",
   "execution_count": 303,
   "metadata": {
    "collapsed": true
   },
   "outputs": [],
   "source": [
    "#Set multiple layer column names\n",
    "iterables = [[\"Foot Traffic\"], [\"Visits\",\"%Change\"]]\n",
    "index = pd.MultiIndex.from_product(iterables, names=['first', 'second'])\n",
    "brand_visits.columns = index\n",
    "#Calculate ranking\n",
    "brand_visits = brand_visits.sort_values((\"Foot Traffic\",\"Visits\"),ascending=False)\n",
    "brand_visits[(\"\",\"Ranking\")] = brand_visits[(\"Foot Traffic\",\"Visits\")].rank(method=\"min\",ascending = False).astype(\"int\")\n",
    "#brand_visits[(\"\",\"Brands\")] = brand_visits.index\n",
    "brand_visits = brand_visits[[(\"\",\"Ranking\"),(\"Foot Traffic\",\"Visits\"),(\"Foot Traffic\",\"%Change\")]]"
   ]
  },
  {
   "cell_type": "code",
   "execution_count": 304,
   "metadata": {
    "scrolled": true
   },
   "outputs": [
    {
     "data": {
      "text/html": [
       "<div>\n",
       "<style scoped>\n",
       "    .dataframe tbody tr th:only-of-type {\n",
       "        vertical-align: middle;\n",
       "    }\n",
       "\n",
       "    .dataframe tbody tr th {\n",
       "        vertical-align: top;\n",
       "    }\n",
       "\n",
       "    .dataframe thead tr th {\n",
       "        text-align: left;\n",
       "    }\n",
       "</style>\n",
       "<table border=\"1\" class=\"dataframe\">\n",
       "  <thead>\n",
       "    <tr>\n",
       "      <th>first</th>\n",
       "      <th></th>\n",
       "      <th colspan=\"2\" halign=\"left\">Foot Traffic</th>\n",
       "    </tr>\n",
       "    <tr>\n",
       "      <th>second</th>\n",
       "      <th>Ranking</th>\n",
       "      <th>Visits</th>\n",
       "      <th>%Change</th>\n",
       "    </tr>\n",
       "  </thead>\n",
       "  <tbody>\n",
       "    <tr>\n",
       "      <th>Scion</th>\n",
       "      <td>1</td>\n",
       "      <td>561.0</td>\n",
       "      <td>-53.2</td>\n",
       "    </tr>\n",
       "    <tr>\n",
       "      <th>Toyota</th>\n",
       "      <td>2</td>\n",
       "      <td>526.0</td>\n",
       "      <td>-52.5</td>\n",
       "    </tr>\n",
       "    <tr>\n",
       "      <th>Ford</th>\n",
       "      <td>3</td>\n",
       "      <td>355.0</td>\n",
       "      <td>-65.0</td>\n",
       "    </tr>\n",
       "    <tr>\n",
       "      <th>Honda</th>\n",
       "      <td>4</td>\n",
       "      <td>267.0</td>\n",
       "      <td>-64.0</td>\n",
       "    </tr>\n",
       "    <tr>\n",
       "      <th>Jeep</th>\n",
       "      <td>5</td>\n",
       "      <td>266.0</td>\n",
       "      <td>-58.4</td>\n",
       "    </tr>\n",
       "    <tr>\n",
       "      <th>Chrysler</th>\n",
       "      <td>6</td>\n",
       "      <td>264.0</td>\n",
       "      <td>-58.7</td>\n",
       "    </tr>\n",
       "    <tr>\n",
       "      <th>Dodge</th>\n",
       "      <td>7</td>\n",
       "      <td>258.0</td>\n",
       "      <td>-58.5</td>\n",
       "    </tr>\n",
       "    <tr>\n",
       "      <th>Chevrolet</th>\n",
       "      <td>8</td>\n",
       "      <td>239.0</td>\n",
       "      <td>-62.9</td>\n",
       "    </tr>\n",
       "    <tr>\n",
       "      <th>Subaru</th>\n",
       "      <td>9</td>\n",
       "      <td>218.0</td>\n",
       "      <td>-59.2</td>\n",
       "    </tr>\n",
       "    <tr>\n",
       "      <th>Mercedes-Benz</th>\n",
       "      <td>10</td>\n",
       "      <td>217.0</td>\n",
       "      <td>-56.4</td>\n",
       "    </tr>\n",
       "    <tr>\n",
       "      <th>Nissan</th>\n",
       "      <td>11</td>\n",
       "      <td>175.0</td>\n",
       "      <td>-57.2</td>\n",
       "    </tr>\n",
       "    <tr>\n",
       "      <th>Mitsubishi</th>\n",
       "      <td>12</td>\n",
       "      <td>111.0</td>\n",
       "      <td>-64.8</td>\n",
       "    </tr>\n",
       "    <tr>\n",
       "      <th>Buick</th>\n",
       "      <td>13</td>\n",
       "      <td>107.0</td>\n",
       "      <td>-62.3</td>\n",
       "    </tr>\n",
       "    <tr>\n",
       "      <th>Kia</th>\n",
       "      <td>13</td>\n",
       "      <td>107.0</td>\n",
       "      <td>-53.1</td>\n",
       "    </tr>\n",
       "    <tr>\n",
       "      <th>Cadillac</th>\n",
       "      <td>15</td>\n",
       "      <td>103.0</td>\n",
       "      <td>-56.0</td>\n",
       "    </tr>\n",
       "    <tr>\n",
       "      <th>Hyundai</th>\n",
       "      <td>16</td>\n",
       "      <td>101.0</td>\n",
       "      <td>-65.1</td>\n",
       "    </tr>\n",
       "    <tr>\n",
       "      <th>GMC</th>\n",
       "      <td>17</td>\n",
       "      <td>91.0</td>\n",
       "      <td>-66.4</td>\n",
       "    </tr>\n",
       "    <tr>\n",
       "      <th>BMW</th>\n",
       "      <td>18</td>\n",
       "      <td>72.0</td>\n",
       "      <td>-64.0</td>\n",
       "    </tr>\n",
       "    <tr>\n",
       "      <th>Lincoln</th>\n",
       "      <td>19</td>\n",
       "      <td>67.0</td>\n",
       "      <td>-51.8</td>\n",
       "    </tr>\n",
       "    <tr>\n",
       "      <th>Lexus</th>\n",
       "      <td>20</td>\n",
       "      <td>63.0</td>\n",
       "      <td>-65.6</td>\n",
       "    </tr>\n",
       "    <tr>\n",
       "      <th>Mazda</th>\n",
       "      <td>20</td>\n",
       "      <td>63.0</td>\n",
       "      <td>-53.3</td>\n",
       "    </tr>\n",
       "    <tr>\n",
       "      <th>Volkswagen</th>\n",
       "      <td>22</td>\n",
       "      <td>55.0</td>\n",
       "      <td>-42.7</td>\n",
       "    </tr>\n",
       "    <tr>\n",
       "      <th>Inifiniti</th>\n",
       "      <td>23</td>\n",
       "      <td>35.0</td>\n",
       "      <td>-72.9</td>\n",
       "    </tr>\n",
       "    <tr>\n",
       "      <th>Volvo</th>\n",
       "      <td>24</td>\n",
       "      <td>32.0</td>\n",
       "      <td>-61.4</td>\n",
       "    </tr>\n",
       "    <tr>\n",
       "      <th>Jaguar</th>\n",
       "      <td>25</td>\n",
       "      <td>29.0</td>\n",
       "      <td>-72.4</td>\n",
       "    </tr>\n",
       "    <tr>\n",
       "      <th>Audi</th>\n",
       "      <td>26</td>\n",
       "      <td>27.0</td>\n",
       "      <td>-66.7</td>\n",
       "    </tr>\n",
       "    <tr>\n",
       "      <th>Land Rover</th>\n",
       "      <td>27</td>\n",
       "      <td>23.0</td>\n",
       "      <td>-58.9</td>\n",
       "    </tr>\n",
       "    <tr>\n",
       "      <th>Porsche</th>\n",
       "      <td>28</td>\n",
       "      <td>18.0</td>\n",
       "      <td>-18.2</td>\n",
       "    </tr>\n",
       "    <tr>\n",
       "      <th>Acura</th>\n",
       "      <td>29</td>\n",
       "      <td>17.0</td>\n",
       "      <td>-58.5</td>\n",
       "    </tr>\n",
       "    <tr>\n",
       "      <th>MINI</th>\n",
       "      <td>30</td>\n",
       "      <td>0.0</td>\n",
       "      <td>NaN</td>\n",
       "    </tr>\n",
       "    <tr>\n",
       "      <th>Lamborghini</th>\n",
       "      <td>30</td>\n",
       "      <td>0.0</td>\n",
       "      <td>NaN</td>\n",
       "    </tr>\n",
       "    <tr>\n",
       "      <th>FIAT</th>\n",
       "      <td>30</td>\n",
       "      <td>0.0</td>\n",
       "      <td>NaN</td>\n",
       "    </tr>\n",
       "  </tbody>\n",
       "</table>\n",
       "</div>"
      ],
      "text/plain": [
       "first                 Foot Traffic        \n",
       "second        Ranking       Visits %Change\n",
       "Scion               1        561.0   -53.2\n",
       "Toyota              2        526.0   -52.5\n",
       "Ford                3        355.0   -65.0\n",
       "Honda               4        267.0   -64.0\n",
       "Jeep                5        266.0   -58.4\n",
       "Chrysler            6        264.0   -58.7\n",
       "Dodge               7        258.0   -58.5\n",
       "Chevrolet           8        239.0   -62.9\n",
       "Subaru              9        218.0   -59.2\n",
       "Mercedes-Benz      10        217.0   -56.4\n",
       "Nissan             11        175.0   -57.2\n",
       "Mitsubishi         12        111.0   -64.8\n",
       "Buick              13        107.0   -62.3\n",
       "Kia                13        107.0   -53.1\n",
       "Cadillac           15        103.0   -56.0\n",
       "Hyundai            16        101.0   -65.1\n",
       "GMC                17         91.0   -66.4\n",
       "BMW                18         72.0   -64.0\n",
       "Lincoln            19         67.0   -51.8\n",
       "Lexus              20         63.0   -65.6\n",
       "Mazda              20         63.0   -53.3\n",
       "Volkswagen         22         55.0   -42.7\n",
       "Inifiniti          23         35.0   -72.9\n",
       "Volvo              24         32.0   -61.4\n",
       "Jaguar             25         29.0   -72.4\n",
       "Audi               26         27.0   -66.7\n",
       "Land Rover         27         23.0   -58.9\n",
       "Porsche            28         18.0   -18.2\n",
       "Acura              29         17.0   -58.5\n",
       "MINI               30          0.0     NaN\n",
       "Lamborghini        30          0.0     NaN\n",
       "FIAT               30          0.0     NaN"
      ]
     },
     "execution_count": 304,
     "metadata": {},
     "output_type": "execute_result"
    }
   ],
   "source": [
    "brand_visits"
   ]
  },
  {
   "cell_type": "markdown",
   "metadata": {},
   "source": [
    "## Tree Diagram – Organizational View"
   ]
  },
  {
   "cell_type": "code",
   "execution_count": 310,
   "metadata": {
    "collapsed": true
   },
   "outputs": [],
   "source": [
    "tree_1 = pd.DataFrame([(\"Conquesting Opportunity\",KPI_base.iloc[0,2]),(\"Current Customer\",KPI_base.iloc[1,2]+KPI_base.iloc[2,2])])"
   ]
  },
  {
   "cell_type": "code",
   "execution_count": 311,
   "metadata": {},
   "outputs": [
    {
     "data": {
      "text/html": [
       "<div>\n",
       "<style scoped>\n",
       "    .dataframe tbody tr th:only-of-type {\n",
       "        vertical-align: middle;\n",
       "    }\n",
       "\n",
       "    .dataframe tbody tr th {\n",
       "        vertical-align: top;\n",
       "    }\n",
       "\n",
       "    .dataframe thead th {\n",
       "        text-align: right;\n",
       "    }\n",
       "</style>\n",
       "<table border=\"1\" class=\"dataframe\">\n",
       "  <thead>\n",
       "    <tr style=\"text-align: right;\">\n",
       "      <th></th>\n",
       "      <th>0</th>\n",
       "      <th>1</th>\n",
       "    </tr>\n",
       "  </thead>\n",
       "  <tbody>\n",
       "    <tr>\n",
       "      <th>0</th>\n",
       "      <td>Conquesting Opportunity</td>\n",
       "      <td>Current Customer</td>\n",
       "    </tr>\n",
       "    <tr>\n",
       "      <th>1</th>\n",
       "      <td>56.4</td>\n",
       "      <td>43.6</td>\n",
       "    </tr>\n",
       "  </tbody>\n",
       "</table>\n",
       "</div>"
      ],
      "text/plain": [
       "                         0                 1\n",
       "0  Conquesting Opportunity  Current Customer\n",
       "1                     56.4              43.6"
      ]
     },
     "execution_count": 311,
     "metadata": {},
     "output_type": "execute_result"
    }
   ],
   "source": [
    "tree_1.T"
   ]
  },
  {
   "cell_type": "code",
   "execution_count": 319,
   "metadata": {
    "collapsed": true
   },
   "outputs": [],
   "source": [
    "\n",
    "from functools import reduce\n",
    "data_processing = lead_brand_visits_base\n",
    "leadtype = \"Conquest\"\n",
    "# put all owned brands of conquest to a list\n",
    "list2 = data_processing[\"owned_brand\"][data_processing[Brand.lower()+\"_type\"] == leadtype].tolist()\n",
    "owned_brands_list = reduce(lambda x,y: x+y,list2 )\n",
    "# since each owned_brand does not contain duplicates, we can directly count how many times each brand appear in this list\n",
    "# we will put that into a dictionary {brand:number of times}\n",
    "counts = dict()\n",
    "for i in owned_brands_list:\n",
    "  counts[i] = counts.get(i, 0) + 1\n",
    "#Calculte the percentage of each brand\n",
    "conquesting_brands = pd.DataFrame.from_dict(counts, orient='index')\n",
    "conquesting_brands.columns = [\"Number\"]\n",
    "conquesting_brands[\"Percent\"] = round(conquesting_brands[\"Number\"]/conquesting_brands[\"Number\"].sum(),3)*100\n",
    "#choose top 5\n",
    "conquesting_oppor = conquesting_brands[[\"Number\",\"Percent\"]].sort_values(\"Percent\",ascending=False).iloc[0:5,]"
   ]
  },
  {
   "cell_type": "markdown",
   "metadata": {},
   "source": [
    "### Calculation Process:\n",
    "\n",
    "1.We already have a owned brands list for each lead, and one brand only occurs once in that list even if that lead owned several models with a same brand. For example: there are two leads who are the conquest of Audi, and their owned brand lists are: [Ford,Toyota][Ford,BMW]\n",
    "\n",
    "2.Then we just need to select the records of people who are \"Conquest\" of the selected brand and put all their owned brand lists in to a list. The result list will be like: [Ford,Toyota,Ford,BMW]\n",
    "\n",
    "3.Then the next step is to calculate how many times a brand occurs in the result list. In the example, the result would be :{Ford:2,Toyota:1,BMW:1}"
   ]
  },
  {
   "cell_type": "code",
   "execution_count": 320,
   "metadata": {
    "scrolled": false
   },
   "outputs": [
    {
     "name": "stdout",
     "output_type": "stream",
     "text": [
      "#######Conquesting Opportunity#######\n",
      "If the number in the following table is small, it means either there are few customers who are the conquests, or we do not have enough data of what brands they own. \n"
     ]
    },
    {
     "data": {
      "text/html": [
       "<div>\n",
       "<style scoped>\n",
       "    .dataframe tbody tr th:only-of-type {\n",
       "        vertical-align: middle;\n",
       "    }\n",
       "\n",
       "    .dataframe tbody tr th {\n",
       "        vertical-align: top;\n",
       "    }\n",
       "\n",
       "    .dataframe thead th {\n",
       "        text-align: right;\n",
       "    }\n",
       "</style>\n",
       "<table border=\"1\" class=\"dataframe\">\n",
       "  <thead>\n",
       "    <tr style=\"text-align: right;\">\n",
       "      <th></th>\n",
       "      <th>Number</th>\n",
       "      <th>Percent</th>\n",
       "    </tr>\n",
       "  </thead>\n",
       "  <tbody>\n",
       "    <tr>\n",
       "      <th>CHEVROLET</th>\n",
       "      <td>4</td>\n",
       "      <td>36.4</td>\n",
       "    </tr>\n",
       "    <tr>\n",
       "      <th>SATURN</th>\n",
       "      <td>1</td>\n",
       "      <td>9.1</td>\n",
       "    </tr>\n",
       "    <tr>\n",
       "      <th>SUZUKI</th>\n",
       "      <td>1</td>\n",
       "      <td>9.1</td>\n",
       "    </tr>\n",
       "    <tr>\n",
       "      <th>TOYOTA</th>\n",
       "      <td>1</td>\n",
       "      <td>9.1</td>\n",
       "    </tr>\n",
       "    <tr>\n",
       "      <th>ISUZU</th>\n",
       "      <td>1</td>\n",
       "      <td>9.1</td>\n",
       "    </tr>\n",
       "  </tbody>\n",
       "</table>\n",
       "</div>"
      ],
      "text/plain": [
       "           Number  Percent\n",
       "CHEVROLET       4     36.4\n",
       "SATURN          1      9.1\n",
       "SUZUKI          1      9.1\n",
       "TOYOTA          1      9.1\n",
       "ISUZU           1      9.1"
      ]
     },
     "execution_count": 320,
     "metadata": {},
     "output_type": "execute_result"
    }
   ],
   "source": [
    "print(\"#######Conquesting Opportunity#######\")\n",
    "print(\"If the number in the following table is small, it means either there are few customers who are the conquests, or we do not have enough data of what brands they own. \")\n",
    "conquesting_oppor"
   ]
  },
  {
   "cell_type": "markdown",
   "metadata": {},
   "source": [
    "### Let's check the number of people whose owned brands is null"
   ]
  },
  {
   "cell_type": "code",
   "execution_count": 314,
   "metadata": {
    "collapsed": true
   },
   "outputs": [],
   "source": [
    "leadtype = \"Conquest\"\n",
    "list2 = data_processing[[\"owned_brand\"]][data_processing[Brand.lower()+\"_type\"] == leadtype]\n"
   ]
  },
  {
   "cell_type": "code",
   "execution_count": 315,
   "metadata": {},
   "outputs": [
    {
     "data": {
      "text/plain": [
       "12"
      ]
     },
     "execution_count": 315,
     "metadata": {},
     "output_type": "execute_result"
    }
   ],
   "source": [
    "#this is the number of conquests whose owned brand data is null\n",
    "(list2.apply(lambda x: len(x[0]),axis=1) == 0).sum()"
   ]
  },
  {
   "cell_type": "code",
   "execution_count": 316,
   "metadata": {},
   "outputs": [
    {
     "data": {
      "text/plain": [
       "22"
      ]
     },
     "execution_count": 316,
     "metadata": {},
     "output_type": "execute_result"
    }
   ],
   "source": [
    "#this is the number of conquests of selected brands\n",
    "len(list2)\n"
   ]
  },
  {
   "cell_type": "code",
   "execution_count": 272,
   "metadata": {
    "collapsed": true
   },
   "outputs": [],
   "source": [
    "from functools import reduce\n",
    "data_processing = lead_brand_visits_base\n",
    "leadtype = \"Defector\"\n",
    "# put all visiting brands of defectors to a list\n",
    "list2 = data_processing[\"Visiting Brand\"][data_processing[Brand.lower()+\"_type\"] == leadtype].tolist()\n",
    "owned_brands_list = reduce(lambda x,y: x+y,list2 )\n",
    "# since each visiting brand does not contain duplicates, we can directly count how many times each brand appear in this list\n",
    "# put the result into a dictionary {brand:number of times}\n",
    "counts = dict()\n",
    "for i in owned_brands_list:\n",
    "  counts[i] = counts.get(i, 0) + 1\n",
    "conquesting_brands = pd.DataFrame.from_dict(counts, orient='index')\n",
    "conquesting_brands.columns = [\"Number\"]\n",
    "conquesting_brands[\"Percent\"] = round(conquesting_brands[\"Number\"]/conquesting_brands[\"Number\"].sum(),3)*100\n",
    "#Remove the selected brand\n",
    "conquesting_brands = conquesting_brands.dropna(how = \"any\")\n",
    "try :\n",
    "    conquesting_brands=conquesting_brands.drop([Brand.upper()])\n",
    "except:\n",
    "    None\n",
    "defector_brand = conquesting_brands[[\"Number\",\"Percent\"]].sort_values(\"Percent\",ascending=False).iloc[0:5,]"
   ]
  },
  {
   "cell_type": "markdown",
   "metadata": {},
   "source": [
    "### Calculation Process:\n",
    "\n",
    "1.We already have a visiting brands list for each lead, and one brand only occurs once in that list even if that lead visits several times for a same brand. For example: there are two leads who are the defector of Audi, and their visiting brand lists are: [Ford,Toyota][Ford,BMW]\n",
    "\n",
    "2.Then we just need to select the records of people who are \"Defector\" of the selected brand and put all their visiting brand lists in to a list. The result list will be like: [Ford,Toyota,Ford,BMW]\n",
    "\n",
    "3.Then the next step is to calculate how many times a brand occurs in the result list. In the example, the result would be :{Ford:2,Toyota:1,BMW:1}"
   ]
  },
  {
   "cell_type": "code",
   "execution_count": 273,
   "metadata": {
    "scrolled": true
   },
   "outputs": [
    {
     "name": "stdout",
     "output_type": "stream",
     "text": [
      "#######Defector Risk#######\n",
      "If the number in the following table is small, it means either there are few customers who are the defectors.\n"
     ]
    },
    {
     "data": {
      "text/html": [
       "<div>\n",
       "<style scoped>\n",
       "    .dataframe tbody tr th:only-of-type {\n",
       "        vertical-align: middle;\n",
       "    }\n",
       "\n",
       "    .dataframe tbody tr th {\n",
       "        vertical-align: top;\n",
       "    }\n",
       "\n",
       "    .dataframe thead th {\n",
       "        text-align: right;\n",
       "    }\n",
       "</style>\n",
       "<table border=\"1\" class=\"dataframe\">\n",
       "  <thead>\n",
       "    <tr style=\"text-align: right;\">\n",
       "      <th></th>\n",
       "      <th>Number</th>\n",
       "      <th>Percent</th>\n",
       "    </tr>\n",
       "  </thead>\n",
       "  <tbody>\n",
       "    <tr>\n",
       "      <th>SCION</th>\n",
       "      <td>5</td>\n",
       "      <td>17.2</td>\n",
       "    </tr>\n",
       "    <tr>\n",
       "      <th>TOYOTA</th>\n",
       "      <td>5</td>\n",
       "      <td>17.2</td>\n",
       "    </tr>\n",
       "    <tr>\n",
       "      <th>LAND ROVER</th>\n",
       "      <td>3</td>\n",
       "      <td>10.3</td>\n",
       "    </tr>\n",
       "    <tr>\n",
       "      <th>CHEVROLET</th>\n",
       "      <td>3</td>\n",
       "      <td>10.3</td>\n",
       "    </tr>\n",
       "    <tr>\n",
       "      <th>SUBARU</th>\n",
       "      <td>2</td>\n",
       "      <td>6.9</td>\n",
       "    </tr>\n",
       "  </tbody>\n",
       "</table>\n",
       "</div>"
      ],
      "text/plain": [
       "            Number  Percent\n",
       "SCION            5     17.2\n",
       "TOYOTA           5     17.2\n",
       "LAND ROVER       3     10.3\n",
       "CHEVROLET        3     10.3\n",
       "SUBARU           2      6.9"
      ]
     },
     "execution_count": 273,
     "metadata": {},
     "output_type": "execute_result"
    }
   ],
   "source": [
    "print(\"#######Defector Risk#######\")\n",
    "print(\"If the number in the following table is small, it means either there are few customers who are the defectors.\")\n",
    "\n",
    "defector_brand"
   ]
  },
  {
   "cell_type": "markdown",
   "metadata": {},
   "source": [
    "## SWOT Chart by Class of Vehicle"
   ]
  },
  {
   "cell_type": "code",
   "execution_count": 274,
   "metadata": {
    "collapsed": true,
    "scrolled": true
   },
   "outputs": [],
   "source": [
    "# get the classes for loyalist and defectors\n",
    "class_type = []\n",
    "for suff in [\"\",\"Second \",\"Third \",\"Fourth \"]:\n",
    "    classes = lead_brand_visits_base[[\"LeadId\",suff+'Auto Class',Brand.lower()+\"_type\"]][lead_brand_visits_base[suff+'Auto Make'] == Brand.upper()]\n",
    "    classes = classes.dropna(how='any')\n",
    "    class_type.extend(classes.values.tolist())\n",
    "#get the classes for conquests\n",
    "class_type_con = []\n",
    "for suff in [\"\",\"Second \",\"Third \",\"Fourth \"]:\n",
    "    classes = lead_brand_visits_base[[\"LeadId\",suff+'Auto Class',Brand.lower()+\"_type\"]][lead_brand_visits_base[Brand.lower()+\"_type\"] == \"Conquest\"]\n",
    "    classes = classes.dropna(how='any')\n",
    "    class_type_con.extend(classes.values.tolist())\n",
    "#combine the two lists we get above\n",
    "class_type.extend(class_type_con)\n",
    "#transform the list to dataframe\n",
    "class_types = pd.DataFrame(class_type,columns=[\"LeadId\",\"Classes\",\"LeadType\"])\n",
    "class_types = class_types.drop_duplicates()\n",
    "#get pivot table and then draw the graph\n",
    "class_p = pd.pivot_table(class_types,values='LeadId', index=['Classes'],columns = [\"LeadType\"],aggfunc='count').fillna(0)\n",
    "class_p = class_p.reset_index()"
   ]
  },
  {
   "cell_type": "markdown",
   "metadata": {},
   "source": [
    "### Calculation Process:\n",
    "\n",
    "\n",
    "1. Our dataset records the information of four cars for each lead. In the original data, there are four columns recording the classes: Auto Class, Second Auto Class, Third Auto Class, and Fourth Auto Class. So we need to put the classes information of the four cars into one column: Auto Classes.\n",
    "2. However, we do not consider how many the lead owned that classes. For example: if one lead owned 2 same classes of a same brand, we only consider this lead once when analyzing the classes. So we need to drop duplicates in the table we get above based on their leadId and classes.\n",
    "3. Since we already have the lead type for each leadID, we can then calculate the relation between classes and the number of conquests as well as defectors."
   ]
  },
  {
   "cell_type": "code",
   "execution_count": 275,
   "metadata": {
    "scrolled": false
   },
   "outputs": [
    {
     "data": {
      "text/plain": [
       "<matplotlib.legend.Legend at 0x28e12e3dc50>"
      ]
     },
     "execution_count": 275,
     "metadata": {},
     "output_type": "execute_result"
    },
    {
     "data": {
      "image/png": "[encoded data removed]",
      "text/plain": [
       "<Figure size 360x360 with 1 Axes>"
      ]
     },
     "metadata": {},
     "output_type": "display_data"
    }
   ],
   "source": [
    "import seaborn as sns\n",
    "df = class_p\n",
    " \n",
    "# Use the 'hue' argument to provide a factor variable\n",
    "sns.lmplot( x=\"Defector\", y=\"Conquest\",data=df, fit_reg=False, hue='Classes', legend=False)\n",
    "plt.legend(loc='upper right')"
   ]
  },
  {
   "cell_type": "markdown",
   "metadata": {},
   "source": [
    "## Cross-brand Shopping Table"
   ]
  },
  {
   "cell_type": "code",
   "execution_count": 276,
   "metadata": {
    "collapsed": true
   },
   "outputs": [],
   "source": [
    "list_all_info = []\n",
    "for brand in brandlist:\n",
    "    KPI = pd.DataFrame()\n",
    "    for data_processing in [lead_brand_visits_lastmonth,lead_brand_visits_base]:\n",
    "        c = data_processing[brand.lower()+\"_type\"].value_counts()\n",
    "        #this code is to build a frame of the result table\n",
    "        a = pd.DataFrame([(\"Conquest\",0),(\"Loyalist\",0),(\"Defector\",0)],columns = [\"Leadtype\",\"Nouse\"])\n",
    "        #there is already a column name in the series c\n",
    "        b= pd.DataFrame(c)\n",
    "        #change that name\n",
    "        b.columns=[\"Number\"]\n",
    "        #a is the base to merge, and b contains information\n",
    "        kpi = a.merge(b,how=\"left\",left_on=\"Leadtype\",right_index = True).fillna(0)[[\"Leadtype\",\"Number\"]]\n",
    "        #calculate percentage\n",
    "        kpi[\"Percent\"] = round(kpi[\"Number\"]/kpi[\"Number\"].sum(),3)*100\n",
    "        #KPI is the result table contains both number and percent for each lead type during two periods\n",
    "        KPI = pd.concat([KPI,kpi],axis=1)\n",
    "    # Calculate the number and percent for Net Impact\n",
    "    KPI_m = KPI.set_index(\"Leadtype\")\n",
    "    s = KPI_m.iloc[0,:] + KPI_m.iloc[1,:] - KPI_m.iloc[2,:]\n",
    "    s.name = \"Net Impact\"\n",
    "    KPI = KPI_m.append(s)\n",
    "    #Calculate the percentage of change \n",
    "    KPI[\"%Change\"] = round((KPI.iloc[:,2]-KPI.iloc[:,0])/KPI.iloc[:,0],3)*100\n",
    "    #since we will get inf if the number in the last period is 0, we can transform inf to nan\n",
    "    KPI=KPI.replace(-np.inf, np.nan).replace(np.inf, np.nan)\n",
    "    #KPI_base is the information to show for a particular brand\n",
    "    KPI_base = KPI.iloc[:,[2,3,4]]\n",
    "    list_base = KPI_base.values.tolist()\n",
    "    list_info = reduce(lambda x,y: x+y,list_base)\n",
    "    list_all_info.append(list_info)\n",
    "cross_brand = pd.DataFrame(list_all_info)\n",
    "#Set multiple layer column names\n",
    "iterables = [[\"Conquest\",\"Loyalist\",\"Defector\",\"Net Impact\"], [\"Volume\",\"Percent\",\"%Change\"]]\n",
    "index = pd.MultiIndex.from_product(iterables, names=['LeadType', 'Metric'])\n",
    "cross_brand.columns = index\n",
    "cross_brand.index = brandlist"
   ]
  },
  {
   "cell_type": "code",
   "execution_count": 277,
   "metadata": {
    "collapsed": true
   },
   "outputs": [],
   "source": [
    "# Get the average number of brands shopped by those people who are visiting a specific brand, including that particulat brand.\n",
    "data_processing=lead_brand_visits_base\n",
    "list1 = []\n",
    "for brand in brandlist:\n",
    "    #choose people who are visiting the selected brand and get the length of their visiting brands list\n",
    "    p =data_processing[\"Visiting Brand\"][data_processing[brand]>0].apply(lambda x: len(x))\n",
    "    #the mean of those lengths is the average number of brands those people are visiting\n",
    "    list1.append((brand,np.mean(p)))\n",
    "df = pd.DataFrame(list1,columns=([\"Brand\",\"Avg of Brands Visited\"]))\n",
    "df = df.fillna(0)\n",
    "df[\"Avg of Brands Visited\"]=round(df[\"Avg of Brands Visited\"],1)\n",
    "#put that column into cross_brand\n",
    "cross_brand[(\"\",\"Avg of Brands Visited\")] = df[\"Avg of Brands Visited\"].tolist()\n",
    "cross_brand = cross_brand[[(\"\",\"Avg of Brands Visited\"),('Conquest', 'Volume'), ('Conquest', 'Percent'), ('Conquest', '%Change'), ('Loyalist', 'Volume'), ('Loyalist', 'Percent'), ('Loyalist', '%Change'), ('Defector', 'Volume'), ('Defector', 'Percent'), ('Defector', '%Change'), ('Net Impact', 'Volume'), ('Net Impact', 'Percent'), ('Net Impact', '%Change')]]\n",
    "\n"
   ]
  },
  {
   "cell_type": "code",
   "execution_count": 278,
   "metadata": {
    "scrolled": true
   },
   "outputs": [
    {
     "data": {
      "text/html": [
       "<div>\n",
       "<style scoped>\n",
       "    .dataframe tbody tr th:only-of-type {\n",
       "        vertical-align: middle;\n",
       "    }\n",
       "\n",
       "    .dataframe tbody tr th {\n",
       "        vertical-align: top;\n",
       "    }\n",
       "\n",
       "    .dataframe thead tr th {\n",
       "        text-align: left;\n",
       "    }\n",
       "</style>\n",
       "<table border=\"1\" class=\"dataframe\">\n",
       "  <thead>\n",
       "    <tr>\n",
       "      <th>LeadType</th>\n",
       "      <th></th>\n",
       "      <th colspan=\"3\" halign=\"left\">Conquest</th>\n",
       "      <th colspan=\"3\" halign=\"left\">Loyalist</th>\n",
       "      <th colspan=\"3\" halign=\"left\">Defector</th>\n",
       "      <th colspan=\"3\" halign=\"left\">Net Impact</th>\n",
       "    </tr>\n",
       "    <tr>\n",
       "      <th>Metric</th>\n",
       "      <th>Avg of Brands Visited</th>\n",
       "      <th>Volume</th>\n",
       "      <th>Percent</th>\n",
       "      <th>%Change</th>\n",
       "      <th>Volume</th>\n",
       "      <th>Percent</th>\n",
       "      <th>%Change</th>\n",
       "      <th>Volume</th>\n",
       "      <th>Percent</th>\n",
       "      <th>%Change</th>\n",
       "      <th>Volume</th>\n",
       "      <th>Percent</th>\n",
       "      <th>%Change</th>\n",
       "    </tr>\n",
       "  </thead>\n",
       "  <tbody>\n",
       "    <tr>\n",
       "      <th>Acura</th>\n",
       "      <td>3.1</td>\n",
       "      <td>22.0</td>\n",
       "      <td>56.4</td>\n",
       "      <td>-52.2</td>\n",
       "      <td>0.0</td>\n",
       "      <td>0.0</td>\n",
       "      <td>NaN</td>\n",
       "      <td>17.0</td>\n",
       "      <td>43.6</td>\n",
       "      <td>-63.0</td>\n",
       "      <td>5.0</td>\n",
       "      <td>12.8</td>\n",
       "      <td>NaN</td>\n",
       "    </tr>\n",
       "    <tr>\n",
       "      <th>Audi</th>\n",
       "      <td>3.3</td>\n",
       "      <td>35.0</td>\n",
       "      <td>81.4</td>\n",
       "      <td>-47.8</td>\n",
       "      <td>0.0</td>\n",
       "      <td>0.0</td>\n",
       "      <td>NaN</td>\n",
       "      <td>8.0</td>\n",
       "      <td>18.6</td>\n",
       "      <td>-55.6</td>\n",
       "      <td>27.0</td>\n",
       "      <td>62.8</td>\n",
       "      <td>-44.9</td>\n",
       "    </tr>\n",
       "    <tr>\n",
       "      <th>BMW</th>\n",
       "      <td>2.4</td>\n",
       "      <td>85.0</td>\n",
       "      <td>74.6</td>\n",
       "      <td>-52.5</td>\n",
       "      <td>3.0</td>\n",
       "      <td>2.6</td>\n",
       "      <td>50.0</td>\n",
       "      <td>26.0</td>\n",
       "      <td>22.8</td>\n",
       "      <td>-57.4</td>\n",
       "      <td>62.0</td>\n",
       "      <td>54.4</td>\n",
       "      <td>-48.3</td>\n",
       "    </tr>\n",
       "    <tr>\n",
       "      <th>Buick</th>\n",
       "      <td>3.1</td>\n",
       "      <td>99.0</td>\n",
       "      <td>83.2</td>\n",
       "      <td>-59.6</td>\n",
       "      <td>0.0</td>\n",
       "      <td>0.0</td>\n",
       "      <td>NaN</td>\n",
       "      <td>20.0</td>\n",
       "      <td>16.8</td>\n",
       "      <td>-56.5</td>\n",
       "      <td>79.0</td>\n",
       "      <td>66.4</td>\n",
       "      <td>-60.3</td>\n",
       "    </tr>\n",
       "    <tr>\n",
       "      <th>Cadillac</th>\n",
       "      <td>1.5</td>\n",
       "      <td>111.0</td>\n",
       "      <td>85.4</td>\n",
       "      <td>-52.2</td>\n",
       "      <td>3.0</td>\n",
       "      <td>2.3</td>\n",
       "      <td>-62.5</td>\n",
       "      <td>16.0</td>\n",
       "      <td>12.3</td>\n",
       "      <td>-66.0</td>\n",
       "      <td>98.0</td>\n",
       "      <td>75.4</td>\n",
       "      <td>-49.2</td>\n",
       "    </tr>\n",
       "    <tr>\n",
       "      <th>Chevrolet</th>\n",
       "      <td>2.2</td>\n",
       "      <td>250.0</td>\n",
       "      <td>69.1</td>\n",
       "      <td>-54.7</td>\n",
       "      <td>12.0</td>\n",
       "      <td>3.3</td>\n",
       "      <td>-42.9</td>\n",
       "      <td>100.0</td>\n",
       "      <td>27.6</td>\n",
       "      <td>-60.9</td>\n",
       "      <td>162.0</td>\n",
       "      <td>44.8</td>\n",
       "      <td>-48.9</td>\n",
       "    </tr>\n",
       "    <tr>\n",
       "      <th>Chrysler</th>\n",
       "      <td>3.9</td>\n",
       "      <td>300.0</td>\n",
       "      <td>88.5</td>\n",
       "      <td>-52.2</td>\n",
       "      <td>0.0</td>\n",
       "      <td>0.0</td>\n",
       "      <td>NaN</td>\n",
       "      <td>39.0</td>\n",
       "      <td>11.5</td>\n",
       "      <td>-44.3</td>\n",
       "      <td>261.0</td>\n",
       "      <td>77.0</td>\n",
       "      <td>-53.2</td>\n",
       "    </tr>\n",
       "    <tr>\n",
       "      <th>Dodge</th>\n",
       "      <td>3.9</td>\n",
       "      <td>291.0</td>\n",
       "      <td>81.7</td>\n",
       "      <td>-52.4</td>\n",
       "      <td>0.0</td>\n",
       "      <td>0.0</td>\n",
       "      <td>NaN</td>\n",
       "      <td>65.0</td>\n",
       "      <td>18.3</td>\n",
       "      <td>-60.8</td>\n",
       "      <td>226.0</td>\n",
       "      <td>63.4</td>\n",
       "      <td>-49.2</td>\n",
       "    </tr>\n",
       "    <tr>\n",
       "      <th>FIAT</th>\n",
       "      <td>0.0</td>\n",
       "      <td>0.0</td>\n",
       "      <td>0.0</td>\n",
       "      <td>NaN</td>\n",
       "      <td>0.0</td>\n",
       "      <td>0.0</td>\n",
       "      <td>NaN</td>\n",
       "      <td>1.0</td>\n",
       "      <td>100.0</td>\n",
       "      <td>NaN</td>\n",
       "      <td>-1.0</td>\n",
       "      <td>-100.0</td>\n",
       "      <td>NaN</td>\n",
       "    </tr>\n",
       "    <tr>\n",
       "      <th>Ford</th>\n",
       "      <td>1.5</td>\n",
       "      <td>393.0</td>\n",
       "      <td>67.2</td>\n",
       "      <td>-59.0</td>\n",
       "      <td>39.0</td>\n",
       "      <td>6.7</td>\n",
       "      <td>-51.9</td>\n",
       "      <td>153.0</td>\n",
       "      <td>26.2</td>\n",
       "      <td>-55.5</td>\n",
       "      <td>279.0</td>\n",
       "      <td>47.7</td>\n",
       "      <td>-59.9</td>\n",
       "    </tr>\n",
       "    <tr>\n",
       "      <th>GMC</th>\n",
       "      <td>3.1</td>\n",
       "      <td>95.0</td>\n",
       "      <td>78.5</td>\n",
       "      <td>-60.4</td>\n",
       "      <td>0.0</td>\n",
       "      <td>0.0</td>\n",
       "      <td>NaN</td>\n",
       "      <td>26.0</td>\n",
       "      <td>21.5</td>\n",
       "      <td>-64.9</td>\n",
       "      <td>69.0</td>\n",
       "      <td>57.0</td>\n",
       "      <td>-58.4</td>\n",
       "    </tr>\n",
       "    <tr>\n",
       "      <th>Honda</th>\n",
       "      <td>1.9</td>\n",
       "      <td>295.0</td>\n",
       "      <td>72.1</td>\n",
       "      <td>-55.0</td>\n",
       "      <td>13.0</td>\n",
       "      <td>3.2</td>\n",
       "      <td>-53.6</td>\n",
       "      <td>101.0</td>\n",
       "      <td>24.7</td>\n",
       "      <td>-49.8</td>\n",
       "      <td>207.0</td>\n",
       "      <td>50.6</td>\n",
       "      <td>-57.1</td>\n",
       "    </tr>\n",
       "    <tr>\n",
       "      <th>Hyundai</th>\n",
       "      <td>2.3</td>\n",
       "      <td>128.0</td>\n",
       "      <td>71.9</td>\n",
       "      <td>-51.1</td>\n",
       "      <td>1.0</td>\n",
       "      <td>0.6</td>\n",
       "      <td>-83.3</td>\n",
       "      <td>49.0</td>\n",
       "      <td>27.5</td>\n",
       "      <td>-46.7</td>\n",
       "      <td>80.0</td>\n",
       "      <td>45.0</td>\n",
       "      <td>-54.5</td>\n",
       "    </tr>\n",
       "    <tr>\n",
       "      <th>Inifiniti</th>\n",
       "      <td>1.5</td>\n",
       "      <td>53.0</td>\n",
       "      <td>100.0</td>\n",
       "      <td>-65.1</td>\n",
       "      <td>0.0</td>\n",
       "      <td>0.0</td>\n",
       "      <td>NaN</td>\n",
       "      <td>0.0</td>\n",
       "      <td>0.0</td>\n",
       "      <td>NaN</td>\n",
       "      <td>53.0</td>\n",
       "      <td>100.0</td>\n",
       "      <td>-65.1</td>\n",
       "    </tr>\n",
       "    <tr>\n",
       "      <th>Jaguar</th>\n",
       "      <td>1.8</td>\n",
       "      <td>35.0</td>\n",
       "      <td>100.0</td>\n",
       "      <td>-67.3</td>\n",
       "      <td>0.0</td>\n",
       "      <td>0.0</td>\n",
       "      <td>NaN</td>\n",
       "      <td>0.0</td>\n",
       "      <td>0.0</td>\n",
       "      <td>-100.0</td>\n",
       "      <td>35.0</td>\n",
       "      <td>100.0</td>\n",
       "      <td>-62.8</td>\n",
       "    </tr>\n",
       "    <tr>\n",
       "      <th>Jeep</th>\n",
       "      <td>3.9</td>\n",
       "      <td>300.0</td>\n",
       "      <td>87.7</td>\n",
       "      <td>-52.2</td>\n",
       "      <td>0.0</td>\n",
       "      <td>0.0</td>\n",
       "      <td>NaN</td>\n",
       "      <td>42.0</td>\n",
       "      <td>12.3</td>\n",
       "      <td>-60.7</td>\n",
       "      <td>258.0</td>\n",
       "      <td>75.4</td>\n",
       "      <td>-50.4</td>\n",
       "    </tr>\n",
       "    <tr>\n",
       "      <th>Kia</th>\n",
       "      <td>2.0</td>\n",
       "      <td>119.0</td>\n",
       "      <td>75.8</td>\n",
       "      <td>-51.0</td>\n",
       "      <td>1.0</td>\n",
       "      <td>0.6</td>\n",
       "      <td>-80.0</td>\n",
       "      <td>37.0</td>\n",
       "      <td>23.6</td>\n",
       "      <td>-33.9</td>\n",
       "      <td>83.0</td>\n",
       "      <td>52.8</td>\n",
       "      <td>-56.8</td>\n",
       "    </tr>\n",
       "    <tr>\n",
       "      <th>Lamborghini</th>\n",
       "      <td>0.0</td>\n",
       "      <td>0.0</td>\n",
       "      <td>NaN</td>\n",
       "      <td>NaN</td>\n",
       "      <td>0.0</td>\n",
       "      <td>NaN</td>\n",
       "      <td>NaN</td>\n",
       "      <td>0.0</td>\n",
       "      <td>NaN</td>\n",
       "      <td>NaN</td>\n",
       "      <td>0.0</td>\n",
       "      <td>NaN</td>\n",
       "      <td>NaN</td>\n",
       "    </tr>\n",
       "    <tr>\n",
       "      <th>Land Rover</th>\n",
       "      <td>4.7</td>\n",
       "      <td>33.0</td>\n",
       "      <td>82.5</td>\n",
       "      <td>-37.7</td>\n",
       "      <td>0.0</td>\n",
       "      <td>0.0</td>\n",
       "      <td>-100.0</td>\n",
       "      <td>7.0</td>\n",
       "      <td>17.5</td>\n",
       "      <td>-30.0</td>\n",
       "      <td>26.0</td>\n",
       "      <td>65.0</td>\n",
       "      <td>-40.9</td>\n",
       "    </tr>\n",
       "    <tr>\n",
       "      <th>Lexus</th>\n",
       "      <td>1.4</td>\n",
       "      <td>77.0</td>\n",
       "      <td>78.6</td>\n",
       "      <td>-61.3</td>\n",
       "      <td>0.0</td>\n",
       "      <td>0.0</td>\n",
       "      <td>-100.0</td>\n",
       "      <td>21.0</td>\n",
       "      <td>21.4</td>\n",
       "      <td>-61.8</td>\n",
       "      <td>56.0</td>\n",
       "      <td>57.2</td>\n",
       "      <td>-62.4</td>\n",
       "    </tr>\n",
       "    <tr>\n",
       "      <th>Lincoln</th>\n",
       "      <td>2.4</td>\n",
       "      <td>76.0</td>\n",
       "      <td>84.4</td>\n",
       "      <td>-39.7</td>\n",
       "      <td>2.0</td>\n",
       "      <td>2.2</td>\n",
       "      <td>-50.0</td>\n",
       "      <td>12.0</td>\n",
       "      <td>13.3</td>\n",
       "      <td>-68.4</td>\n",
       "      <td>66.0</td>\n",
       "      <td>73.3</td>\n",
       "      <td>-28.3</td>\n",
       "    </tr>\n",
       "    <tr>\n",
       "      <th>Mazda</th>\n",
       "      <td>2.1</td>\n",
       "      <td>72.0</td>\n",
       "      <td>63.7</td>\n",
       "      <td>-47.8</td>\n",
       "      <td>2.0</td>\n",
       "      <td>1.8</td>\n",
       "      <td>100.0</td>\n",
       "      <td>39.0</td>\n",
       "      <td>34.5</td>\n",
       "      <td>-42.6</td>\n",
       "      <td>35.0</td>\n",
       "      <td>31.0</td>\n",
       "      <td>-50.7</td>\n",
       "    </tr>\n",
       "    <tr>\n",
       "      <th>Mercedes-Benz</th>\n",
       "      <td>2.0</td>\n",
       "      <td>234.0</td>\n",
       "      <td>89.7</td>\n",
       "      <td>-51.7</td>\n",
       "      <td>3.0</td>\n",
       "      <td>1.1</td>\n",
       "      <td>-78.6</td>\n",
       "      <td>24.0</td>\n",
       "      <td>9.2</td>\n",
       "      <td>-41.5</td>\n",
       "      <td>213.0</td>\n",
       "      <td>81.6</td>\n",
       "      <td>-53.4</td>\n",
       "    </tr>\n",
       "    <tr>\n",
       "      <th>MINI</th>\n",
       "      <td>0.0</td>\n",
       "      <td>0.0</td>\n",
       "      <td>0.0</td>\n",
       "      <td>NaN</td>\n",
       "      <td>0.0</td>\n",
       "      <td>0.0</td>\n",
       "      <td>NaN</td>\n",
       "      <td>4.0</td>\n",
       "      <td>100.0</td>\n",
       "      <td>-60.0</td>\n",
       "      <td>-4.0</td>\n",
       "      <td>-100.0</td>\n",
       "      <td>-60.0</td>\n",
       "    </tr>\n",
       "    <tr>\n",
       "      <th>Mitsubishi</th>\n",
       "      <td>2.6</td>\n",
       "      <td>122.0</td>\n",
       "      <td>89.1</td>\n",
       "      <td>-58.5</td>\n",
       "      <td>0.0</td>\n",
       "      <td>0.0</td>\n",
       "      <td>NaN</td>\n",
       "      <td>15.0</td>\n",
       "      <td>10.9</td>\n",
       "      <td>-67.4</td>\n",
       "      <td>107.0</td>\n",
       "      <td>78.2</td>\n",
       "      <td>-56.9</td>\n",
       "    </tr>\n",
       "    <tr>\n",
       "      <th>Nissan</th>\n",
       "      <td>2.0</td>\n",
       "      <td>180.0</td>\n",
       "      <td>60.8</td>\n",
       "      <td>-50.4</td>\n",
       "      <td>3.0</td>\n",
       "      <td>1.0</td>\n",
       "      <td>-84.2</td>\n",
       "      <td>113.0</td>\n",
       "      <td>38.2</td>\n",
       "      <td>-50.2</td>\n",
       "      <td>70.0</td>\n",
       "      <td>23.6</td>\n",
       "      <td>-54.8</td>\n",
       "    </tr>\n",
       "    <tr>\n",
       "      <th>Porsche</th>\n",
       "      <td>2.3</td>\n",
       "      <td>22.0</td>\n",
       "      <td>95.7</td>\n",
       "      <td>-31.2</td>\n",
       "      <td>0.0</td>\n",
       "      <td>0.0</td>\n",
       "      <td>NaN</td>\n",
       "      <td>1.0</td>\n",
       "      <td>4.3</td>\n",
       "      <td>-83.3</td>\n",
       "      <td>21.0</td>\n",
       "      <td>91.4</td>\n",
       "      <td>-19.2</td>\n",
       "    </tr>\n",
       "    <tr>\n",
       "      <th>Scion</th>\n",
       "      <td>2.5</td>\n",
       "      <td>533.0</td>\n",
       "      <td>98.7</td>\n",
       "      <td>-48.7</td>\n",
       "      <td>0.0</td>\n",
       "      <td>0.0</td>\n",
       "      <td>NaN</td>\n",
       "      <td>7.0</td>\n",
       "      <td>1.3</td>\n",
       "      <td>-53.3</td>\n",
       "      <td>526.0</td>\n",
       "      <td>97.4</td>\n",
       "      <td>-48.6</td>\n",
       "    </tr>\n",
       "    <tr>\n",
       "      <th>Subaru</th>\n",
       "      <td>1.9</td>\n",
       "      <td>225.0</td>\n",
       "      <td>97.0</td>\n",
       "      <td>-50.0</td>\n",
       "      <td>2.0</td>\n",
       "      <td>0.9</td>\n",
       "      <td>-33.3</td>\n",
       "      <td>5.0</td>\n",
       "      <td>2.2</td>\n",
       "      <td>-68.8</td>\n",
       "      <td>222.0</td>\n",
       "      <td>95.7</td>\n",
       "      <td>-49.2</td>\n",
       "    </tr>\n",
       "    <tr>\n",
       "      <th>Toyota</th>\n",
       "      <td>2.5</td>\n",
       "      <td>498.0</td>\n",
       "      <td>76.0</td>\n",
       "      <td>-47.7</td>\n",
       "      <td>0.0</td>\n",
       "      <td>0.0</td>\n",
       "      <td>NaN</td>\n",
       "      <td>157.0</td>\n",
       "      <td>24.0</td>\n",
       "      <td>-55.0</td>\n",
       "      <td>341.0</td>\n",
       "      <td>52.0</td>\n",
       "      <td>-43.4</td>\n",
       "    </tr>\n",
       "    <tr>\n",
       "      <th>Volkswagen</th>\n",
       "      <td>2.6</td>\n",
       "      <td>63.0</td>\n",
       "      <td>75.0</td>\n",
       "      <td>-37.0</td>\n",
       "      <td>0.0</td>\n",
       "      <td>0.0</td>\n",
       "      <td>-100.0</td>\n",
       "      <td>21.0</td>\n",
       "      <td>25.0</td>\n",
       "      <td>-47.5</td>\n",
       "      <td>42.0</td>\n",
       "      <td>50.0</td>\n",
       "      <td>-32.3</td>\n",
       "    </tr>\n",
       "    <tr>\n",
       "      <th>Volvo</th>\n",
       "      <td>1.6</td>\n",
       "      <td>36.0</td>\n",
       "      <td>75.0</td>\n",
       "      <td>-57.6</td>\n",
       "      <td>0.0</td>\n",
       "      <td>0.0</td>\n",
       "      <td>-100.0</td>\n",
       "      <td>12.0</td>\n",
       "      <td>25.0</td>\n",
       "      <td>-42.9</td>\n",
       "      <td>24.0</td>\n",
       "      <td>50.0</td>\n",
       "      <td>-63.1</td>\n",
       "    </tr>\n",
       "  </tbody>\n",
       "</table>\n",
       "</div>"
      ],
      "text/plain": [
       "LeadType                            Conquest                 Loyalist          \\\n",
       "Metric        Avg of Brands Visited   Volume Percent %Change   Volume Percent   \n",
       "Acura                           3.1     22.0    56.4   -52.2      0.0     0.0   \n",
       "Audi                            3.3     35.0    81.4   -47.8      0.0     0.0   \n",
       "BMW                             2.4     85.0    74.6   -52.5      3.0     2.6   \n",
       "Buick                           3.1     99.0    83.2   -59.6      0.0     0.0   \n",
       "Cadillac                        1.5    111.0    85.4   -52.2      3.0     2.3   \n",
       "Chevrolet                       2.2    250.0    69.1   -54.7     12.0     3.3   \n",
       "Chrysler                        3.9    300.0    88.5   -52.2      0.0     0.0   \n",
       "Dodge                           3.9    291.0    81.7   -52.4      0.0     0.0   \n",
       "FIAT                            0.0      0.0     0.0     NaN      0.0     0.0   \n",
       "Ford                            1.5    393.0    67.2   -59.0     39.0     6.7   \n",
       "GMC                             3.1     95.0    78.5   -60.4      0.0     0.0   \n",
       "Honda                           1.9    295.0    72.1   -55.0     13.0     3.2   \n",
       "Hyundai                         2.3    128.0    71.9   -51.1      1.0     0.6   \n",
       "Inifiniti                       1.5     53.0   100.0   -65.1      0.0     0.0   \n",
       "Jaguar                          1.8     35.0   100.0   -67.3      0.0     0.0   \n",
       "Jeep                            3.9    300.0    87.7   -52.2      0.0     0.0   \n",
       "Kia                             2.0    119.0    75.8   -51.0      1.0     0.6   \n",
       "Lamborghini                     0.0      0.0     NaN     NaN      0.0     NaN   \n",
       "Land Rover                      4.7     33.0    82.5   -37.7      0.0     0.0   \n",
       "Lexus                           1.4     77.0    78.6   -61.3      0.0     0.0   \n",
       "Lincoln                         2.4     76.0    84.4   -39.7      2.0     2.2   \n",
       "Mazda                           2.1     72.0    63.7   -47.8      2.0     1.8   \n",
       "Mercedes-Benz                   2.0    234.0    89.7   -51.7      3.0     1.1   \n",
       "MINI                            0.0      0.0     0.0     NaN      0.0     0.0   \n",
       "Mitsubishi                      2.6    122.0    89.1   -58.5      0.0     0.0   \n",
       "Nissan                          2.0    180.0    60.8   -50.4      3.0     1.0   \n",
       "Porsche                         2.3     22.0    95.7   -31.2      0.0     0.0   \n",
       "Scion                           2.5    533.0    98.7   -48.7      0.0     0.0   \n",
       "Subaru                          1.9    225.0    97.0   -50.0      2.0     0.9   \n",
       "Toyota                          2.5    498.0    76.0   -47.7      0.0     0.0   \n",
       "Volkswagen                      2.6     63.0    75.0   -37.0      0.0     0.0   \n",
       "Volvo                           1.6     36.0    75.0   -57.6      0.0     0.0   \n",
       "\n",
       "LeadType              Defector                 Net Impact                  \n",
       "Metric        %Change   Volume Percent %Change     Volume Percent %Change  \n",
       "Acura             NaN     17.0    43.6   -63.0        5.0    12.8     NaN  \n",
       "Audi              NaN      8.0    18.6   -55.6       27.0    62.8   -44.9  \n",
       "BMW              50.0     26.0    22.8   -57.4       62.0    54.4   -48.3  \n",
       "Buick             NaN     20.0    16.8   -56.5       79.0    66.4   -60.3  \n",
       "Cadillac        -62.5     16.0    12.3   -66.0       98.0    75.4   -49.2  \n",
       "Chevrolet       -42.9    100.0    27.6   -60.9      162.0    44.8   -48.9  \n",
       "Chrysler          NaN     39.0    11.5   -44.3      261.0    77.0   -53.2  \n",
       "Dodge             NaN     65.0    18.3   -60.8      226.0    63.4   -49.2  \n",
       "FIAT              NaN      1.0   100.0     NaN       -1.0  -100.0     NaN  \n",
       "Ford            -51.9    153.0    26.2   -55.5      279.0    47.7   -59.9  \n",
       "GMC               NaN     26.0    21.5   -64.9       69.0    57.0   -58.4  \n",
       "Honda           -53.6    101.0    24.7   -49.8      207.0    50.6   -57.1  \n",
       "Hyundai         -83.3     49.0    27.5   -46.7       80.0    45.0   -54.5  \n",
       "Inifiniti         NaN      0.0     0.0     NaN       53.0   100.0   -65.1  \n",
       "Jaguar            NaN      0.0     0.0  -100.0       35.0   100.0   -62.8  \n",
       "Jeep              NaN     42.0    12.3   -60.7      258.0    75.4   -50.4  \n",
       "Kia             -80.0     37.0    23.6   -33.9       83.0    52.8   -56.8  \n",
       "Lamborghini       NaN      0.0     NaN     NaN        0.0     NaN     NaN  \n",
       "Land Rover     -100.0      7.0    17.5   -30.0       26.0    65.0   -40.9  \n",
       "Lexus          -100.0     21.0    21.4   -61.8       56.0    57.2   -62.4  \n",
       "Lincoln         -50.0     12.0    13.3   -68.4       66.0    73.3   -28.3  \n",
       "Mazda           100.0     39.0    34.5   -42.6       35.0    31.0   -50.7  \n",
       "Mercedes-Benz   -78.6     24.0     9.2   -41.5      213.0    81.6   -53.4  \n",
       "MINI              NaN      4.0   100.0   -60.0       -4.0  -100.0   -60.0  \n",
       "Mitsubishi        NaN     15.0    10.9   -67.4      107.0    78.2   -56.9  \n",
       "Nissan          -84.2    113.0    38.2   -50.2       70.0    23.6   -54.8  \n",
       "Porsche           NaN      1.0     4.3   -83.3       21.0    91.4   -19.2  \n",
       "Scion             NaN      7.0     1.3   -53.3      526.0    97.4   -48.6  \n",
       "Subaru          -33.3      5.0     2.2   -68.8      222.0    95.7   -49.2  \n",
       "Toyota            NaN    157.0    24.0   -55.0      341.0    52.0   -43.4  \n",
       "Volkswagen     -100.0     21.0    25.0   -47.5       42.0    50.0   -32.3  \n",
       "Volvo          -100.0     12.0    25.0   -42.9       24.0    50.0   -63.1  "
      ]
     },
     "execution_count": 278,
     "metadata": {},
     "output_type": "execute_result"
    }
   ],
   "source": [
    "cross_brand"
   ]
  },
  {
   "cell_type": "markdown",
   "metadata": {},
   "source": [
    "## Organizational Summary"
   ]
  },
  {
   "cell_type": "code",
   "execution_count": 279,
   "metadata": {
    "scrolled": true
   },
   "outputs": [
    {
     "name": "stderr",
     "output_type": "stream",
     "text": [
      "C:\\Users\\Mengyu\\Anaconda3\\lib\\site-packages\\IPython\\core\\interactiveshell.py:2728: DtypeWarning: Columns (8,65,66,94,96,114,128,129,130,155,167,171,172,173,189,190,192,193,196,197,198,199,229,230,240,241,242,243,254,255,256,257,258,259,260,262,265,266,268,269,270,271,272,274,275,277,278,279,280,281,283,284,286,287,288,289,290,292,293,295,296,297,298,299,309,310,335,365,374,378,379,380,450,451,452,453,472,473,474,494,505,506,508,509,510,511,512,521) have mixed types. Specify dtype option on import or set low_memory=False.\n",
      "  interactivity=interactivity, compiler=compiler, result=result)\n"
     ]
    }
   ],
   "source": [
    "all_data_dealer = pd.read_csv(\"all_data.csv\")"
   ]
  },
  {
   "cell_type": "code",
   "execution_count": 280,
   "metadata": {
    "collapsed": true
   },
   "outputs": [],
   "source": [
    "# Some Basic Manipulation on the all data \n",
    "all_data_dealer = all_data_dealer[[\"DealerId\",\"LeadId\",\"DateId\",'Key Category','Region_l','Acura','Audi','BMW','Buick','Cadillac','Chevrolet','Chrysler'\\\n",
    "                         ,'Dodge','FIAT','Ford','GMC','Honda','Hyundai','Inifiniti','Jaguar','Jeep','Kia','Lamborghini',\\\n",
    "                         'Land Rover','Lexus','Lincoln','Mazda','Mercedes-Benz','MINI','Mitsubishi','Nissan','Porsche',\\\n",
    "                         'Scion','Subaru','Toyota','Volkswagen','Volvo',\"Auto Make\",\"Second Auto Make\",\"Third Auto Make\",\"Fourth Auto Make\",\\\n",
    "                    \"Auto Class\",\"Second Auto Class\",\"Third Auto Class\",\"Fourth Auto Class\"]]\n",
    "all_data_dealer = all_data_dealer.drop_duplicates(subset=[\"DealerId\",\"LeadId\",\"DateId\"])\n",
    "all_data_dealer[\"Region_l\"]=all_data_dealer[\"Region_l\"].str.lower()"
   ]
  },
  {
   "cell_type": "code",
   "execution_count": 281,
   "metadata": {
    "collapsed": true
   },
   "outputs": [],
   "source": [
    "Dim_Dealer = pd.read_csv(\"DimDealer_2city.csv\")"
   ]
  },
  {
   "cell_type": "code",
   "execution_count": 282,
   "metadata": {
    "collapsed": true
   },
   "outputs": [],
   "source": [
    "all_data_dealer[\"Date\"] = all_data_dealer[\"DateId\"].apply(lambda x: pd.to_datetime(str(x), format='%Y%m%d'))"
   ]
  },
  {
   "cell_type": "code",
   "execution_count": 283,
   "metadata": {
    "collapsed": true
   },
   "outputs": [],
   "source": [
    "def leadtype(row):\n",
    "    brand_u = brand.upper()\n",
    "    if brand.upper() in row[\"owned_brand\"]:\n",
    "        if len(list(set(row[\"Visiting Brand\"]) - set([brand.upper()]))) > 0 :\n",
    "            val = \"Defector\"\n",
    "        else:\n",
    "            val = \"Loyalist\"\n",
    "    else:\n",
    "        if brand_u in row[\"Visiting Brand\"]:\n",
    "            val = \"Conquest\"\n",
    "        else:\n",
    "            val = \"Non-shopper\"\n",
    "    return val"
   ]
  },
  {
   "cell_type": "code",
   "execution_count": 284,
   "metadata": {
    "scrolled": true
   },
   "outputs": [
    {
     "name": "stderr",
     "output_type": "stream",
     "text": [
      "C:\\Users\\Mengyu\\Anaconda3\\lib\\site-packages\\ipykernel\\__main__.py:29: FutureWarning: Comparing Series of datetimes with 'datetime.date'.  Currently, the\n",
      "'datetime.date' is coerced to a datetime. In the future pandas will\n",
      "not coerce, and a TypeError will be raised. To retain the current\n",
      "behavior, convert the 'datetime.date' to a datetime with\n",
      "'pd.Timestamp'.\n",
      "C:\\Users\\Mengyu\\Anaconda3\\lib\\site-packages\\ipykernel\\__main__.py:30: FutureWarning: Comparing Series of datetimes with 'datetime.date'.  Currently, the\n",
      "'datetime.date' is coerced to a datetime. In the future pandas will\n",
      "not coerce, and a TypeError will be raised. To retain the current\n",
      "behavior, convert the 'datetime.date' to a datetime with\n",
      "'pd.Timestamp'.\n",
      "C:\\Users\\Mengyu\\Anaconda3\\lib\\site-packages\\ipykernel\\__main__.py:31: FutureWarning: Comparing Series of datetimes with 'datetime.date'.  Currently, the\n",
      "'datetime.date' is coerced to a datetime. In the future pandas will\n",
      "not coerce, and a TypeError will be raised. To retain the current\n",
      "behavior, convert the 'datetime.date' to a datetime with\n",
      "'pd.Timestamp'.\n",
      "C:\\Users\\Mengyu\\Anaconda3\\lib\\site-packages\\ipykernel\\__main__.py:34: FutureWarning: Comparing Series of datetimes with 'datetime.date'.  Currently, the\n",
      "'datetime.date' is coerced to a datetime. In the future pandas will\n",
      "not coerce, and a TypeError will be raised. To retain the current\n",
      "behavior, convert the 'datetime.date' to a datetime with\n",
      "'pd.Timestamp'.\n",
      "C:\\Users\\Mengyu\\Anaconda3\\lib\\site-packages\\ipykernel\\__main__.py:35: FutureWarning: Comparing Series of datetimes with 'datetime.date'.  Currently, the\n",
      "'datetime.date' is coerced to a datetime. In the future pandas will\n",
      "not coerce, and a TypeError will be raised. To retain the current\n",
      "behavior, convert the 'datetime.date' to a datetime with\n",
      "'pd.Timestamp'.\n",
      "C:\\Users\\Mengyu\\Anaconda3\\lib\\site-packages\\ipykernel\\__main__.py:36: FutureWarning: Comparing Series of datetimes with 'datetime.date'.  Currently, the\n",
      "'datetime.date' is coerced to a datetime. In the future pandas will\n",
      "not coerce, and a TypeError will be raised. To retain the current\n",
      "behavior, convert the 'datetime.date' to a datetime with\n",
      "'pd.Timestamp'.\n"
     ]
    }
   ],
   "source": [
    "#Here we get the last month and last 2 month given the input year and month\n",
    "# for 1 month index:\n",
    "import datetime\n",
    "import datedelta\n",
    "# Base is the end_date\n",
    "Base = end_date\n",
    "#calculate the start and end date for each period\n",
    "if duration == \"1 month\":\n",
    "    first_month_end = Base\n",
    "    first_month_start = Base.replace(day=1)\n",
    "    second_month_end = first_month_start - datetime.timedelta(days=1)\n",
    "    second_month_start = (Base - datedelta.datedelta(years=0, months=1)).replace(day=1)\n",
    "    third_month_end = second_month_start - datetime.timedelta(days=1)\n",
    "    third_month_start = (Base - datedelta.datedelta(years=0, months=2)).replace(day=1)\n",
    "else: \n",
    "    first_month_end = Base\n",
    "    first_month_start = (Base - datedelta.datedelta(years=0, months=3)).replace(day=1)\n",
    "    second_month_end = first_month_start- datetime.timedelta(days=1)\n",
    "    second_month_start = (Base - datedelta.datedelta(years=0, months=6)).replace(day=1)\n",
    "    third_month_end = second_month_start- datetime.timedelta(days=1)\n",
    "    third_month_start = (Base - datedelta.datedelta(years=0, months=9)).replace(day=1)\n",
    "\n",
    "#calculate the start date for each shopping window \n",
    "first_day_130 = first_month_end- datetime.timedelta(days=130)\n",
    "second_day_130 = second_month_end- datetime.timedelta(days=130)\n",
    "third_day_130 = third_month_end- datetime.timedelta(days=130)\n",
    "\n",
    "#get the lead ids who are visiting within the active windows\n",
    "all_data_base = all_data_dealer[[\"DealerId\",\"LeadId\",\"DateId\"]+brandlist][(all_data_dealer[\"Date\"] >= first_month_start) & (all_data_dealer[\"Date\"] <= first_month_end)]\n",
    "all_data_lastmonth = all_data_dealer[[\"DealerId\",\"LeadId\",\"DateId\"]+brandlist][(all_data_dealer[\"Date\"] >= second_month_start) & (all_data_dealer[\"Date\"] <= second_month_end)]\n",
    "all_data_last2month = all_data_dealer[[\"DealerId\",\"LeadId\",\"DateId\"]+brandlist][(all_data_dealer[\"Date\"] >= third_month_start) & (all_data_dealer[\"Date\"] <= third_month_end)]\n",
    "\n",
    "#get all data within each shopping window\n",
    "all_data_130_base = all_data_dealer[(all_data_dealer[\"Date\"] >= first_day_130) & (all_data_dealer[\"Date\"] <= first_month_end)]\n",
    "all_data_130_lastmonth = all_data_dealer[(all_data_dealer[\"Date\"] >= second_day_130) & (all_data_dealer[\"Date\"] <= second_month_end)]\n",
    "all_data_130_last2month = all_data_dealer[(all_data_dealer[\"Date\"] >= third_day_130) & (all_data_dealer[\"Date\"] <= third_month_end)]"
   ]
  },
  {
   "cell_type": "code",
   "execution_count": 285,
   "metadata": {
    "collapsed": true
   },
   "outputs": [],
   "source": [
    "# get lead types for 130 shopping windows\n",
    "i=0\n",
    "for data_processing in [all_data_130_base,all_data_130_lastmonth,all_data_130_last2month]:\n",
    "    #Get the lead type for each brand\n",
    "    cross_visit_brand = data_processing.groupby([\"LeadId\"])[brandlist].sum()\n",
    "    ## put all the visiting brands within a period into a list for each lead\n",
    "    customer_type = pd.DataFrame(cross_visit_brand.apply(lambda x: ','.join(x[x!=0].index).upper().split(\",\"),axis=1),columns=[\"Visiting Brand\"])\n",
    "    ## put all owened brands within a period into a list for each lead\n",
    "    DimLead_part = DimLead[[\"LeadId\",\"Auto Make\",\"Second Auto Make\",\"Third Auto Make\",\"Fourth Auto Make\",\"Auto Class\",\"Second Auto Class\",\"Third Auto Class\",\"Fourth Auto Class\"]].set_index('LeadId')\n",
    "    lead_type = customer_type.merge(DimLead_part,left_index = True, right_index = True, how = \"left\")\n",
    "    owned_brand = lead_type[[\"Auto Make\",\"Second Auto Make\",\"Third Auto Make\",\"Fourth Auto Make\"]].values.tolist()\n",
    "    owned_brands = [list(set(x)-set([np.nan])) for x in owned_brand]\n",
    "    lead_type[\"owned_brand\"] = owned_brands\n",
    "    ##Get the lead type for each brand using the defined function and give column names\n",
    "    brand_type = []\n",
    "    for brand in brandlist:\n",
    "        lead_type[brand.lower()+\"_type\"] = lead_type.apply(leadtype,axis=1)\n",
    "        brand_type.append(brand.lower()+\"_type\")\n",
    "    lead_brand_visits = lead_type.join(cross_visit_brand)\n",
    "    lead_brand_visits[\"LeadId\"] = lead_brand_visits.index\n",
    "    lead_dealer_visits = lead_brand_visits[[\"LeadId\",\"Auto Make\",\"Second Auto Make\",\"Third Auto Make\",\"Fourth Auto Make\",\"Auto Class\",\"Second Auto Class\",\"Third Auto Class\",\"Fourth Auto Class\"\\\n",
    "                                          ,\"owned_brand\",\"Visiting Brand\"]+brand_type]\n",
    "    #Give the name of finished dataframe for each period\n",
    "    name = \"lead_dealer_visits_\" + [\"base\",\"lastmonth\",\"last2month\"][i]\n",
    "    exec(name + \"=lead_dealer_visits\")\n",
    "    i+=1\n",
    "    ###\n",
    "    \n",
    "#Get the visits to each dealer for each lead for the selected period! not the 130 day window\n",
    "i=0\n",
    "for data_processing in [all_data_base,all_data_lastmonth,all_data_last2month]:\n",
    "    \n",
    "    #cross_visit = pd.pivot_table(data_processing[[\"DealerId\",\"LeadId\",\"DateId\"]],values='DateId', index=['LeadId'],columns=['DealerId'], aggfunc='count')\n",
    "    #lead_dealer_visits = lead_type.join(cross_visit)\n",
    "    #lead_dealer_visits[\"LeadId\"] = lead_dealer_visits.index\n",
    "    #name2 = \"lead_dealer_visits_\" + [\"base\",\"lastmonth\",\"last2month\"][i]\n",
    "    #exec(name2 + \"=lead_dealer_visits\")\n",
    "    cross_visit = pd.pivot_table(data_processing[[\"DealerId\",\"LeadId\",\"DateId\"]],values='DateId', index=['LeadId'],columns=['DealerId'], aggfunc='count')\n",
    "    name2 = \"all_data_\" + [\"base\",\"lastmonth\",\"last2month\"][i]\n",
    "    exec(name2 + \"=cross_visit\")\n",
    "    i+=1"
   ]
  },
  {
   "cell_type": "code",
   "execution_count": 286,
   "metadata": {},
   "outputs": [
    {
     "name": "stderr",
     "output_type": "stream",
     "text": [
      "C:\\Users\\Mengyu\\Anaconda3\\lib\\site-packages\\ipykernel\\__main__.py:2: FutureWarning: 'LeadId' is both an index level and a column label.\n",
      "Defaulting to column, but this will raise an ambiguity error in a future version\n",
      "  from ipykernel import kernelapp as app\n",
      "C:\\Users\\Mengyu\\Anaconda3\\lib\\site-packages\\ipykernel\\__main__.py:3: FutureWarning: 'LeadId' is both an index level and a column label.\n",
      "Defaulting to column, but this will raise an ambiguity error in a future version\n",
      "  app.launch_new_instance()\n",
      "C:\\Users\\Mengyu\\Anaconda3\\lib\\site-packages\\ipykernel\\__main__.py:4: FutureWarning: 'LeadId' is both an index level and a column label.\n",
      "Defaulting to column, but this will raise an ambiguity error in a future version\n"
     ]
    }
   ],
   "source": [
    "# Only select active shoppers within 3 active windows\n",
    "lead_dealer_visits_base = lead_brand_visits_base.merge(all_data_base,left_on = \"LeadId\",right_index = True,how=\"right\")\n",
    "lead_dealer_visits_lastmonth = lead_brand_visits_lastmonth.merge(all_data_lastmonth,left_on = \"LeadId\",right_index = True,how=\"right\")\n",
    "lead_dealer_visits_last2month = lead_brand_visits_last2month.merge(all_data_last2month,left_on = \"LeadId\",right_index = True,how=\"right\")"
   ]
  },
  {
   "cell_type": "code",
   "execution_count": 287,
   "metadata": {
    "collapsed": true
   },
   "outputs": [],
   "source": [
    "#here we get the dealer list selling the given brand\n",
    "\n",
    "brand_selection=[x if x.upper() == Brand.upper() else None for x in brandlist]\n",
    "brand_se=list(filter(None.__ne__,brand_selection))\n",
    "dealer_selection = Dim_Dealer[[\"DealerId\",\"Region\"]][Dim_Dealer[brand_se[0]] == 1]\n",
    "dealerlist = dealer_selection[\"DealerId\"].values.tolist()"
   ]
  },
  {
   "cell_type": "code",
   "execution_count": 288,
   "metadata": {
    "collapsed": true
   },
   "outputs": [],
   "source": [
    "dealer_visits_all = pd.DataFrame()\n",
    "for leadtype in [\"Conquest\",\"Loyalist\",\"Defector\"]:\n",
    "    lead_visits_all = []\n",
    "    # we will calculate the foot traffic for given leadtype of each dealer\n",
    "    for dealer in dealerlist:\n",
    "        dealer_visits = []\n",
    "        for data_processing in [lead_dealer_visits_lastmonth,lead_dealer_visits_base]:\n",
    "            # filter all traffic data when the lead type of given brand is the given leadtype\n",
    "            data_processing_m = data_processing[dealer][data_processing[Brand.lower()+\"_type\"] == leadtype]\n",
    "            #Get the visits for each brand\n",
    "            one_dealer = data_processing_m.sum()\n",
    "            dealer_visits.extend([one_dealer])\n",
    "        lead_visits_all.append(dealer_visits)\n",
    "    dealer_visits = pd.DataFrame(lead_visits_all)\n",
    "    dealer_visits.index = dealerlist\n",
    "    #Calculate the %change\n",
    "    dealer_visits[\"%Change\"] = round((dealer_visits.iloc[:,1]-dealer_visits.iloc[:,0])/dealer_visits.iloc[:,0],3)*100\n",
    "    #only choose the data of base period\n",
    "    dealer_visits = dealer_visits.iloc[:,[1,2]]\n",
    "    dealer_visits_all = pd.concat([dealer_visits_all,dealer_visits],axis = 1)"
   ]
  },
  {
   "cell_type": "code",
   "execution_count": 289,
   "metadata": {
    "collapsed": true
   },
   "outputs": [],
   "source": [
    "#Set multiple layer column names\n",
    "iterables = [[\"Conquest\",\"Loyalist\",\"Defector\"], [\"Foot Traffic\",\"%Change\"]]\n",
    "index = pd.MultiIndex.from_product(iterables)\n",
    "dealer_visits_all.columns = index\n",
    "# Create several new columns\n",
    "dealer_visits_all[(\"\",\"Region\")] = dealer_selection[\"Region\"].values\n",
    "dealer_visits_all[(\"\",\"Brand\")] = Brand.upper()\n",
    "dealer_visits_all[(\"\",\"DealerId\")] = dealer_visits_all.index\n",
    "#since we will get inf if the number in the last period is 0, we can transform inf to nan\n",
    "dealer_visits_all=dealer_visits_all.replace(-np.inf, np.nan).replace(np.inf, np.nan)\n",
    "# Arrange the order\n",
    "dealer_visits_all = dealer_visits_all[[(\"\",\"Brand\"),(\"\",\"Region\"),(\"\",\"DealerId\"),('Conquest', 'Foot Traffic'), ('Conquest', '%Change'), ('Loyalist', 'Foot Traffic'), ('Loyalist', '%Change'), ('Defector', 'Foot Traffic'), ('Defector', '%Change')]]"
   ]
  },
  {
   "cell_type": "code",
   "execution_count": 291,
   "metadata": {},
   "outputs": [
    {
     "data": {
      "text/html": [
       "<div>\n",
       "<style scoped>\n",
       "    .dataframe tbody tr th:only-of-type {\n",
       "        vertical-align: middle;\n",
       "    }\n",
       "\n",
       "    .dataframe tbody tr th {\n",
       "        vertical-align: top;\n",
       "    }\n",
       "\n",
       "    .dataframe thead tr th {\n",
       "        text-align: left;\n",
       "    }\n",
       "</style>\n",
       "<table border=\"1\" class=\"dataframe\">\n",
       "  <thead>\n",
       "    <tr>\n",
       "      <th></th>\n",
       "      <th colspan=\"3\" halign=\"left\"></th>\n",
       "      <th colspan=\"2\" halign=\"left\">Conquest</th>\n",
       "      <th colspan=\"2\" halign=\"left\">Loyalist</th>\n",
       "      <th colspan=\"2\" halign=\"left\">Defector</th>\n",
       "    </tr>\n",
       "    <tr>\n",
       "      <th></th>\n",
       "      <th>Brand</th>\n",
       "      <th>Region</th>\n",
       "      <th>DealerId</th>\n",
       "      <th>Foot Traffic</th>\n",
       "      <th>%Change</th>\n",
       "      <th>Foot Traffic</th>\n",
       "      <th>%Change</th>\n",
       "      <th>Foot Traffic</th>\n",
       "      <th>%Change</th>\n",
       "    </tr>\n",
       "  </thead>\n",
       "  <tbody>\n",
       "    <tr>\n",
       "      <th>5907333</th>\n",
       "      <td>ACURA</td>\n",
       "      <td>South Atlantic</td>\n",
       "      <td>5907333</td>\n",
       "      <td>17.0</td>\n",
       "      <td>-58.5</td>\n",
       "      <td>0.0</td>\n",
       "      <td>NaN</td>\n",
       "      <td>0.0</td>\n",
       "      <td>NaN</td>\n",
       "    </tr>\n",
       "  </tbody>\n",
       "</table>\n",
       "</div>"
      ],
      "text/plain": [
       "                                            Conquest             Loyalist  \\\n",
       "         Brand          Region DealerId Foot Traffic %Change Foot Traffic   \n",
       "5907333  ACURA  South Atlantic  5907333         17.0   -58.5          0.0   \n",
       "\n",
       "                    Defector          \n",
       "        %Change Foot Traffic %Change  \n",
       "5907333     NaN          0.0     NaN  "
      ]
     },
     "execution_count": 291,
     "metadata": {},
     "output_type": "execute_result"
    }
   ],
   "source": [
    "dealer_visits_all"
   ]
  },
  {
   "cell_type": "markdown",
   "metadata": {},
   "source": [
    "## Ending"
   ]
  },
  {
   "cell_type": "code",
   "execution_count": null,
   "metadata": {
    "collapsed": true
   },
   "outputs": [],
   "source": []
  },
  {
   "cell_type": "code",
   "execution_count": null,
   "metadata": {
    "collapsed": true,
    "scrolled": true
   },
   "outputs": [],
   "source": []
  },
  {
   "cell_type": "code",
   "execution_count": null,
   "metadata": {
    "collapsed": true
   },
   "outputs": [],
   "source": []
  },
  {
   "cell_type": "code",
   "execution_count": null,
   "metadata": {
    "collapsed": true
   },
   "outputs": [],
   "source": []
  },
  {
   "cell_type": "code",
   "execution_count": null,
   "metadata": {
    "collapsed": true
   },
   "outputs": [],
   "source": []
  },
  {
   "cell_type": "code",
   "execution_count": null,
   "metadata": {
    "collapsed": true
   },
   "outputs": [],
   "source": []
  },
  {
   "cell_type": "code",
   "execution_count": null,
   "metadata": {
    "collapsed": true
   },
   "outputs": [],
   "source": []
  },
  {
   "cell_type": "code",
   "execution_count": null,
   "metadata": {
    "collapsed": true
   },
   "outputs": [],
   "source": []
  },
  {
   "cell_type": "code",
   "execution_count": null,
   "metadata": {
    "collapsed": true
   },
   "outputs": [],
   "source": []
  },
  {
   "cell_type": "code",
   "execution_count": 292,
   "metadata": {},
   "outputs": [
    {
     "name": "stdout",
     "output_type": "stream",
     "text": [
      "[('Conquest', 'Foot Traffic'), ('Conquest', '%Change'), ('Loyalist', 'Foot Traffic'), ('Loyalist', '%Change'), ('Defector', 'Foot Traffic'), ('Defector', '%Change')]\n"
     ]
    }
   ],
   "source": [
    "a=[]\n",
    "for i in [\"Conquest\",\"Loyalist\",\"Defector\"]:\n",
    "    for j in [\"Foot Traffic\",\"%Change\"]:\n",
    "        a.append((i,j))\n",
    "print(a)"
   ]
  },
  {
   "cell_type": "code",
   "execution_count": 293,
   "metadata": {
    "scrolled": true
   },
   "outputs": [
    {
     "data": {
      "text/html": [
       "<div>\n",
       "<style scoped>\n",
       "    .dataframe tbody tr th:only-of-type {\n",
       "        vertical-align: middle;\n",
       "    }\n",
       "\n",
       "    .dataframe tbody tr th {\n",
       "        vertical-align: top;\n",
       "    }\n",
       "\n",
       "    .dataframe thead tr th {\n",
       "        text-align: left;\n",
       "    }\n",
       "</style>\n",
       "<table border=\"1\" class=\"dataframe\">\n",
       "  <thead>\n",
       "    <tr>\n",
       "      <th>LeadType</th>\n",
       "      <th></th>\n",
       "      <th colspan=\"3\" halign=\"left\">Conquest</th>\n",
       "      <th colspan=\"3\" halign=\"left\">Loyalist</th>\n",
       "      <th colspan=\"3\" halign=\"left\">Defector</th>\n",
       "      <th colspan=\"3\" halign=\"left\">Net Impact</th>\n",
       "    </tr>\n",
       "    <tr>\n",
       "      <th>Metric</th>\n",
       "      <th>Avg of Brands Visited</th>\n",
       "      <th>Volume</th>\n",
       "      <th>Percent</th>\n",
       "      <th>%Change</th>\n",
       "      <th>Volume</th>\n",
       "      <th>Percent</th>\n",
       "      <th>%Change</th>\n",
       "      <th>Volume</th>\n",
       "      <th>Percent</th>\n",
       "      <th>%Change</th>\n",
       "      <th>Volume</th>\n",
       "      <th>Percent</th>\n",
       "      <th>%Change</th>\n",
       "    </tr>\n",
       "  </thead>\n",
       "  <tbody>\n",
       "    <tr>\n",
       "      <th>Acura</th>\n",
       "      <td>3.1</td>\n",
       "      <td>22.0</td>\n",
       "      <td>56.4</td>\n",
       "      <td>-52.2</td>\n",
       "      <td>0.0</td>\n",
       "      <td>0.0</td>\n",
       "      <td>NaN</td>\n",
       "      <td>17.0</td>\n",
       "      <td>43.6</td>\n",
       "      <td>-63.0</td>\n",
       "      <td>5.0</td>\n",
       "      <td>12.8</td>\n",
       "      <td>NaN</td>\n",
       "    </tr>\n",
       "    <tr>\n",
       "      <th>Audi</th>\n",
       "      <td>3.3</td>\n",
       "      <td>35.0</td>\n",
       "      <td>81.4</td>\n",
       "      <td>-47.8</td>\n",
       "      <td>0.0</td>\n",
       "      <td>0.0</td>\n",
       "      <td>NaN</td>\n",
       "      <td>8.0</td>\n",
       "      <td>18.6</td>\n",
       "      <td>-55.6</td>\n",
       "      <td>27.0</td>\n",
       "      <td>62.8</td>\n",
       "      <td>-44.9</td>\n",
       "    </tr>\n",
       "    <tr>\n",
       "      <th>BMW</th>\n",
       "      <td>2.4</td>\n",
       "      <td>85.0</td>\n",
       "      <td>74.6</td>\n",
       "      <td>-52.5</td>\n",
       "      <td>3.0</td>\n",
       "      <td>2.6</td>\n",
       "      <td>50.0</td>\n",
       "      <td>26.0</td>\n",
       "      <td>22.8</td>\n",
       "      <td>-57.4</td>\n",
       "      <td>62.0</td>\n",
       "      <td>54.4</td>\n",
       "      <td>-48.3</td>\n",
       "    </tr>\n",
       "    <tr>\n",
       "      <th>Buick</th>\n",
       "      <td>3.1</td>\n",
       "      <td>99.0</td>\n",
       "      <td>83.2</td>\n",
       "      <td>-59.6</td>\n",
       "      <td>0.0</td>\n",
       "      <td>0.0</td>\n",
       "      <td>NaN</td>\n",
       "      <td>20.0</td>\n",
       "      <td>16.8</td>\n",
       "      <td>-56.5</td>\n",
       "      <td>79.0</td>\n",
       "      <td>66.4</td>\n",
       "      <td>-60.3</td>\n",
       "    </tr>\n",
       "    <tr>\n",
       "      <th>Cadillac</th>\n",
       "      <td>1.5</td>\n",
       "      <td>111.0</td>\n",
       "      <td>85.4</td>\n",
       "      <td>-52.2</td>\n",
       "      <td>3.0</td>\n",
       "      <td>2.3</td>\n",
       "      <td>-62.5</td>\n",
       "      <td>16.0</td>\n",
       "      <td>12.3</td>\n",
       "      <td>-66.0</td>\n",
       "      <td>98.0</td>\n",
       "      <td>75.4</td>\n",
       "      <td>-49.2</td>\n",
       "    </tr>\n",
       "    <tr>\n",
       "      <th>Chevrolet</th>\n",
       "      <td>2.2</td>\n",
       "      <td>250.0</td>\n",
       "      <td>69.1</td>\n",
       "      <td>-54.7</td>\n",
       "      <td>12.0</td>\n",
       "      <td>3.3</td>\n",
       "      <td>-42.9</td>\n",
       "      <td>100.0</td>\n",
       "      <td>27.6</td>\n",
       "      <td>-60.9</td>\n",
       "      <td>162.0</td>\n",
       "      <td>44.8</td>\n",
       "      <td>-48.9</td>\n",
       "    </tr>\n",
       "    <tr>\n",
       "      <th>Chrysler</th>\n",
       "      <td>3.9</td>\n",
       "      <td>300.0</td>\n",
       "      <td>88.5</td>\n",
       "      <td>-52.2</td>\n",
       "      <td>0.0</td>\n",
       "      <td>0.0</td>\n",
       "      <td>NaN</td>\n",
       "      <td>39.0</td>\n",
       "      <td>11.5</td>\n",
       "      <td>-44.3</td>\n",
       "      <td>261.0</td>\n",
       "      <td>77.0</td>\n",
       "      <td>-53.2</td>\n",
       "    </tr>\n",
       "    <tr>\n",
       "      <th>Dodge</th>\n",
       "      <td>3.9</td>\n",
       "      <td>291.0</td>\n",
       "      <td>81.7</td>\n",
       "      <td>-52.4</td>\n",
       "      <td>0.0</td>\n",
       "      <td>0.0</td>\n",
       "      <td>NaN</td>\n",
       "      <td>65.0</td>\n",
       "      <td>18.3</td>\n",
       "      <td>-60.8</td>\n",
       "      <td>226.0</td>\n",
       "      <td>63.4</td>\n",
       "      <td>-49.2</td>\n",
       "    </tr>\n",
       "    <tr>\n",
       "      <th>FIAT</th>\n",
       "      <td>0.0</td>\n",
       "      <td>0.0</td>\n",
       "      <td>0.0</td>\n",
       "      <td>NaN</td>\n",
       "      <td>0.0</td>\n",
       "      <td>0.0</td>\n",
       "      <td>NaN</td>\n",
       "      <td>1.0</td>\n",
       "      <td>100.0</td>\n",
       "      <td>NaN</td>\n",
       "      <td>-1.0</td>\n",
       "      <td>-100.0</td>\n",
       "      <td>NaN</td>\n",
       "    </tr>\n",
       "    <tr>\n",
       "      <th>Ford</th>\n",
       "      <td>1.5</td>\n",
       "      <td>393.0</td>\n",
       "      <td>67.2</td>\n",
       "      <td>-59.0</td>\n",
       "      <td>39.0</td>\n",
       "      <td>6.7</td>\n",
       "      <td>-51.9</td>\n",
       "      <td>153.0</td>\n",
       "      <td>26.2</td>\n",
       "      <td>-55.5</td>\n",
       "      <td>279.0</td>\n",
       "      <td>47.7</td>\n",
       "      <td>-59.9</td>\n",
       "    </tr>\n",
       "    <tr>\n",
       "      <th>GMC</th>\n",
       "      <td>3.1</td>\n",
       "      <td>95.0</td>\n",
       "      <td>78.5</td>\n",
       "      <td>-60.4</td>\n",
       "      <td>0.0</td>\n",
       "      <td>0.0</td>\n",
       "      <td>NaN</td>\n",
       "      <td>26.0</td>\n",
       "      <td>21.5</td>\n",
       "      <td>-64.9</td>\n",
       "      <td>69.0</td>\n",
       "      <td>57.0</td>\n",
       "      <td>-58.4</td>\n",
       "    </tr>\n",
       "    <tr>\n",
       "      <th>Honda</th>\n",
       "      <td>1.9</td>\n",
       "      <td>295.0</td>\n",
       "      <td>72.1</td>\n",
       "      <td>-55.0</td>\n",
       "      <td>13.0</td>\n",
       "      <td>3.2</td>\n",
       "      <td>-53.6</td>\n",
       "      <td>101.0</td>\n",
       "      <td>24.7</td>\n",
       "      <td>-49.8</td>\n",
       "      <td>207.0</td>\n",
       "      <td>50.6</td>\n",
       "      <td>-57.1</td>\n",
       "    </tr>\n",
       "    <tr>\n",
       "      <th>Hyundai</th>\n",
       "      <td>2.3</td>\n",
       "      <td>128.0</td>\n",
       "      <td>71.9</td>\n",
       "      <td>-51.1</td>\n",
       "      <td>1.0</td>\n",
       "      <td>0.6</td>\n",
       "      <td>-83.3</td>\n",
       "      <td>49.0</td>\n",
       "      <td>27.5</td>\n",
       "      <td>-46.7</td>\n",
       "      <td>80.0</td>\n",
       "      <td>45.0</td>\n",
       "      <td>-54.5</td>\n",
       "    </tr>\n",
       "    <tr>\n",
       "      <th>Inifiniti</th>\n",
       "      <td>1.5</td>\n",
       "      <td>53.0</td>\n",
       "      <td>100.0</td>\n",
       "      <td>-65.1</td>\n",
       "      <td>0.0</td>\n",
       "      <td>0.0</td>\n",
       "      <td>NaN</td>\n",
       "      <td>0.0</td>\n",
       "      <td>0.0</td>\n",
       "      <td>NaN</td>\n",
       "      <td>53.0</td>\n",
       "      <td>100.0</td>\n",
       "      <td>-65.1</td>\n",
       "    </tr>\n",
       "    <tr>\n",
       "      <th>Jaguar</th>\n",
       "      <td>1.8</td>\n",
       "      <td>35.0</td>\n",
       "      <td>100.0</td>\n",
       "      <td>-67.3</td>\n",
       "      <td>0.0</td>\n",
       "      <td>0.0</td>\n",
       "      <td>NaN</td>\n",
       "      <td>0.0</td>\n",
       "      <td>0.0</td>\n",
       "      <td>-100.0</td>\n",
       "      <td>35.0</td>\n",
       "      <td>100.0</td>\n",
       "      <td>-62.8</td>\n",
       "    </tr>\n",
       "    <tr>\n",
       "      <th>Jeep</th>\n",
       "      <td>3.9</td>\n",
       "      <td>300.0</td>\n",
       "      <td>87.7</td>\n",
       "      <td>-52.2</td>\n",
       "      <td>0.0</td>\n",
       "      <td>0.0</td>\n",
       "      <td>NaN</td>\n",
       "      <td>42.0</td>\n",
       "      <td>12.3</td>\n",
       "      <td>-60.7</td>\n",
       "      <td>258.0</td>\n",
       "      <td>75.4</td>\n",
       "      <td>-50.4</td>\n",
       "    </tr>\n",
       "    <tr>\n",
       "      <th>Kia</th>\n",
       "      <td>2.0</td>\n",
       "      <td>119.0</td>\n",
       "      <td>75.8</td>\n",
       "      <td>-51.0</td>\n",
       "      <td>1.0</td>\n",
       "      <td>0.6</td>\n",
       "      <td>-80.0</td>\n",
       "      <td>37.0</td>\n",
       "      <td>23.6</td>\n",
       "      <td>-33.9</td>\n",
       "      <td>83.0</td>\n",
       "      <td>52.8</td>\n",
       "      <td>-56.8</td>\n",
       "    </tr>\n",
       "    <tr>\n",
       "      <th>Lamborghini</th>\n",
       "      <td>0.0</td>\n",
       "      <td>0.0</td>\n",
       "      <td>NaN</td>\n",
       "      <td>NaN</td>\n",
       "      <td>0.0</td>\n",
       "      <td>NaN</td>\n",
       "      <td>NaN</td>\n",
       "      <td>0.0</td>\n",
       "      <td>NaN</td>\n",
       "      <td>NaN</td>\n",
       "      <td>0.0</td>\n",
       "      <td>NaN</td>\n",
       "      <td>NaN</td>\n",
       "    </tr>\n",
       "    <tr>\n",
       "      <th>Land Rover</th>\n",
       "      <td>4.7</td>\n",
       "      <td>33.0</td>\n",
       "      <td>82.5</td>\n",
       "      <td>-37.7</td>\n",
       "      <td>0.0</td>\n",
       "      <td>0.0</td>\n",
       "      <td>-100.0</td>\n",
       "      <td>7.0</td>\n",
       "      <td>17.5</td>\n",
       "      <td>-30.0</td>\n",
       "      <td>26.0</td>\n",
       "      <td>65.0</td>\n",
       "      <td>-40.9</td>\n",
       "    </tr>\n",
       "    <tr>\n",
       "      <th>Lexus</th>\n",
       "      <td>1.4</td>\n",
       "      <td>77.0</td>\n",
       "      <td>78.6</td>\n",
       "      <td>-61.3</td>\n",
       "      <td>0.0</td>\n",
       "      <td>0.0</td>\n",
       "      <td>-100.0</td>\n",
       "      <td>21.0</td>\n",
       "      <td>21.4</td>\n",
       "      <td>-61.8</td>\n",
       "      <td>56.0</td>\n",
       "      <td>57.2</td>\n",
       "      <td>-62.4</td>\n",
       "    </tr>\n",
       "    <tr>\n",
       "      <th>Lincoln</th>\n",
       "      <td>2.4</td>\n",
       "      <td>76.0</td>\n",
       "      <td>84.4</td>\n",
       "      <td>-39.7</td>\n",
       "      <td>2.0</td>\n",
       "      <td>2.2</td>\n",
       "      <td>-50.0</td>\n",
       "      <td>12.0</td>\n",
       "      <td>13.3</td>\n",
       "      <td>-68.4</td>\n",
       "      <td>66.0</td>\n",
       "      <td>73.3</td>\n",
       "      <td>-28.3</td>\n",
       "    </tr>\n",
       "    <tr>\n",
       "      <th>Mazda</th>\n",
       "      <td>2.1</td>\n",
       "      <td>72.0</td>\n",
       "      <td>63.7</td>\n",
       "      <td>-47.8</td>\n",
       "      <td>2.0</td>\n",
       "      <td>1.8</td>\n",
       "      <td>100.0</td>\n",
       "      <td>39.0</td>\n",
       "      <td>34.5</td>\n",
       "      <td>-42.6</td>\n",
       "      <td>35.0</td>\n",
       "      <td>31.0</td>\n",
       "      <td>-50.7</td>\n",
       "    </tr>\n",
       "    <tr>\n",
       "      <th>Mercedes-Benz</th>\n",
       "      <td>2.0</td>\n",
       "      <td>234.0</td>\n",
       "      <td>89.7</td>\n",
       "      <td>-51.7</td>\n",
       "      <td>3.0</td>\n",
       "      <td>1.1</td>\n",
       "      <td>-78.6</td>\n",
       "      <td>24.0</td>\n",
       "      <td>9.2</td>\n",
       "      <td>-41.5</td>\n",
       "      <td>213.0</td>\n",
       "      <td>81.6</td>\n",
       "      <td>-53.4</td>\n",
       "    </tr>\n",
       "    <tr>\n",
       "      <th>MINI</th>\n",
       "      <td>0.0</td>\n",
       "      <td>0.0</td>\n",
       "      <td>0.0</td>\n",
       "      <td>NaN</td>\n",
       "      <td>0.0</td>\n",
       "      <td>0.0</td>\n",
       "      <td>NaN</td>\n",
       "      <td>4.0</td>\n",
       "      <td>100.0</td>\n",
       "      <td>-60.0</td>\n",
       "      <td>-4.0</td>\n",
       "      <td>-100.0</td>\n",
       "      <td>-60.0</td>\n",
       "    </tr>\n",
       "    <tr>\n",
       "      <th>Mitsubishi</th>\n",
       "      <td>2.6</td>\n",
       "      <td>122.0</td>\n",
       "      <td>89.1</td>\n",
       "      <td>-58.5</td>\n",
       "      <td>0.0</td>\n",
       "      <td>0.0</td>\n",
       "      <td>NaN</td>\n",
       "      <td>15.0</td>\n",
       "      <td>10.9</td>\n",
       "      <td>-67.4</td>\n",
       "      <td>107.0</td>\n",
       "      <td>78.2</td>\n",
       "      <td>-56.9</td>\n",
       "    </tr>\n",
       "    <tr>\n",
       "      <th>Nissan</th>\n",
       "      <td>2.0</td>\n",
       "      <td>180.0</td>\n",
       "      <td>60.8</td>\n",
       "      <td>-50.4</td>\n",
       "      <td>3.0</td>\n",
       "      <td>1.0</td>\n",
       "      <td>-84.2</td>\n",
       "      <td>113.0</td>\n",
       "      <td>38.2</td>\n",
       "      <td>-50.2</td>\n",
       "      <td>70.0</td>\n",
       "      <td>23.6</td>\n",
       "      <td>-54.8</td>\n",
       "    </tr>\n",
       "    <tr>\n",
       "      <th>Porsche</th>\n",
       "      <td>2.3</td>\n",
       "      <td>22.0</td>\n",
       "      <td>95.7</td>\n",
       "      <td>-31.2</td>\n",
       "      <td>0.0</td>\n",
       "      <td>0.0</td>\n",
       "      <td>NaN</td>\n",
       "      <td>1.0</td>\n",
       "      <td>4.3</td>\n",
       "      <td>-83.3</td>\n",
       "      <td>21.0</td>\n",
       "      <td>91.4</td>\n",
       "      <td>-19.2</td>\n",
       "    </tr>\n",
       "    <tr>\n",
       "      <th>Scion</th>\n",
       "      <td>2.5</td>\n",
       "      <td>533.0</td>\n",
       "      <td>98.7</td>\n",
       "      <td>-48.7</td>\n",
       "      <td>0.0</td>\n",
       "      <td>0.0</td>\n",
       "      <td>NaN</td>\n",
       "      <td>7.0</td>\n",
       "      <td>1.3</td>\n",
       "      <td>-53.3</td>\n",
       "      <td>526.0</td>\n",
       "      <td>97.4</td>\n",
       "      <td>-48.6</td>\n",
       "    </tr>\n",
       "    <tr>\n",
       "      <th>Subaru</th>\n",
       "      <td>1.9</td>\n",
       "      <td>225.0</td>\n",
       "      <td>97.0</td>\n",
       "      <td>-50.0</td>\n",
       "      <td>2.0</td>\n",
       "      <td>0.9</td>\n",
       "      <td>-33.3</td>\n",
       "      <td>5.0</td>\n",
       "      <td>2.2</td>\n",
       "      <td>-68.8</td>\n",
       "      <td>222.0</td>\n",
       "      <td>95.7</td>\n",
       "      <td>-49.2</td>\n",
       "    </tr>\n",
       "    <tr>\n",
       "      <th>Toyota</th>\n",
       "      <td>2.5</td>\n",
       "      <td>498.0</td>\n",
       "      <td>76.0</td>\n",
       "      <td>-47.7</td>\n",
       "      <td>0.0</td>\n",
       "      <td>0.0</td>\n",
       "      <td>NaN</td>\n",
       "      <td>157.0</td>\n",
       "      <td>24.0</td>\n",
       "      <td>-55.0</td>\n",
       "      <td>341.0</td>\n",
       "      <td>52.0</td>\n",
       "      <td>-43.4</td>\n",
       "    </tr>\n",
       "    <tr>\n",
       "      <th>Volkswagen</th>\n",
       "      <td>2.6</td>\n",
       "      <td>63.0</td>\n",
       "      <td>75.0</td>\n",
       "      <td>-37.0</td>\n",
       "      <td>0.0</td>\n",
       "      <td>0.0</td>\n",
       "      <td>-100.0</td>\n",
       "      <td>21.0</td>\n",
       "      <td>25.0</td>\n",
       "      <td>-47.5</td>\n",
       "      <td>42.0</td>\n",
       "      <td>50.0</td>\n",
       "      <td>-32.3</td>\n",
       "    </tr>\n",
       "    <tr>\n",
       "      <th>Volvo</th>\n",
       "      <td>1.6</td>\n",
       "      <td>36.0</td>\n",
       "      <td>75.0</td>\n",
       "      <td>-57.6</td>\n",
       "      <td>0.0</td>\n",
       "      <td>0.0</td>\n",
       "      <td>-100.0</td>\n",
       "      <td>12.0</td>\n",
       "      <td>25.0</td>\n",
       "      <td>-42.9</td>\n",
       "      <td>24.0</td>\n",
       "      <td>50.0</td>\n",
       "      <td>-63.1</td>\n",
       "    </tr>\n",
       "  </tbody>\n",
       "</table>\n",
       "</div>"
      ],
      "text/plain": [
       "LeadType                            Conquest                 Loyalist          \\\n",
       "Metric        Avg of Brands Visited   Volume Percent %Change   Volume Percent   \n",
       "Acura                           3.1     22.0    56.4   -52.2      0.0     0.0   \n",
       "Audi                            3.3     35.0    81.4   -47.8      0.0     0.0   \n",
       "BMW                             2.4     85.0    74.6   -52.5      3.0     2.6   \n",
       "Buick                           3.1     99.0    83.2   -59.6      0.0     0.0   \n",
       "Cadillac                        1.5    111.0    85.4   -52.2      3.0     2.3   \n",
       "Chevrolet                       2.2    250.0    69.1   -54.7     12.0     3.3   \n",
       "Chrysler                        3.9    300.0    88.5   -52.2      0.0     0.0   \n",
       "Dodge                           3.9    291.0    81.7   -52.4      0.0     0.0   \n",
       "FIAT                            0.0      0.0     0.0     NaN      0.0     0.0   \n",
       "Ford                            1.5    393.0    67.2   -59.0     39.0     6.7   \n",
       "GMC                             3.1     95.0    78.5   -60.4      0.0     0.0   \n",
       "Honda                           1.9    295.0    72.1   -55.0     13.0     3.2   \n",
       "Hyundai                         2.3    128.0    71.9   -51.1      1.0     0.6   \n",
       "Inifiniti                       1.5     53.0   100.0   -65.1      0.0     0.0   \n",
       "Jaguar                          1.8     35.0   100.0   -67.3      0.0     0.0   \n",
       "Jeep                            3.9    300.0    87.7   -52.2      0.0     0.0   \n",
       "Kia                             2.0    119.0    75.8   -51.0      1.0     0.6   \n",
       "Lamborghini                     0.0      0.0     NaN     NaN      0.0     NaN   \n",
       "Land Rover                      4.7     33.0    82.5   -37.7      0.0     0.0   \n",
       "Lexus                           1.4     77.0    78.6   -61.3      0.0     0.0   \n",
       "Lincoln                         2.4     76.0    84.4   -39.7      2.0     2.2   \n",
       "Mazda                           2.1     72.0    63.7   -47.8      2.0     1.8   \n",
       "Mercedes-Benz                   2.0    234.0    89.7   -51.7      3.0     1.1   \n",
       "MINI                            0.0      0.0     0.0     NaN      0.0     0.0   \n",
       "Mitsubishi                      2.6    122.0    89.1   -58.5      0.0     0.0   \n",
       "Nissan                          2.0    180.0    60.8   -50.4      3.0     1.0   \n",
       "Porsche                         2.3     22.0    95.7   -31.2      0.0     0.0   \n",
       "Scion                           2.5    533.0    98.7   -48.7      0.0     0.0   \n",
       "Subaru                          1.9    225.0    97.0   -50.0      2.0     0.9   \n",
       "Toyota                          2.5    498.0    76.0   -47.7      0.0     0.0   \n",
       "Volkswagen                      2.6     63.0    75.0   -37.0      0.0     0.0   \n",
       "Volvo                           1.6     36.0    75.0   -57.6      0.0     0.0   \n",
       "\n",
       "LeadType              Defector                 Net Impact                  \n",
       "Metric        %Change   Volume Percent %Change     Volume Percent %Change  \n",
       "Acura             NaN     17.0    43.6   -63.0        5.0    12.8     NaN  \n",
       "Audi              NaN      8.0    18.6   -55.6       27.0    62.8   -44.9  \n",
       "BMW              50.0     26.0    22.8   -57.4       62.0    54.4   -48.3  \n",
       "Buick             NaN     20.0    16.8   -56.5       79.0    66.4   -60.3  \n",
       "Cadillac        -62.5     16.0    12.3   -66.0       98.0    75.4   -49.2  \n",
       "Chevrolet       -42.9    100.0    27.6   -60.9      162.0    44.8   -48.9  \n",
       "Chrysler          NaN     39.0    11.5   -44.3      261.0    77.0   -53.2  \n",
       "Dodge             NaN     65.0    18.3   -60.8      226.0    63.4   -49.2  \n",
       "FIAT              NaN      1.0   100.0     NaN       -1.0  -100.0     NaN  \n",
       "Ford            -51.9    153.0    26.2   -55.5      279.0    47.7   -59.9  \n",
       "GMC               NaN     26.0    21.5   -64.9       69.0    57.0   -58.4  \n",
       "Honda           -53.6    101.0    24.7   -49.8      207.0    50.6   -57.1  \n",
       "Hyundai         -83.3     49.0    27.5   -46.7       80.0    45.0   -54.5  \n",
       "Inifiniti         NaN      0.0     0.0     NaN       53.0   100.0   -65.1  \n",
       "Jaguar            NaN      0.0     0.0  -100.0       35.0   100.0   -62.8  \n",
       "Jeep              NaN     42.0    12.3   -60.7      258.0    75.4   -50.4  \n",
       "Kia             -80.0     37.0    23.6   -33.9       83.0    52.8   -56.8  \n",
       "Lamborghini       NaN      0.0     NaN     NaN        0.0     NaN     NaN  \n",
       "Land Rover     -100.0      7.0    17.5   -30.0       26.0    65.0   -40.9  \n",
       "Lexus          -100.0     21.0    21.4   -61.8       56.0    57.2   -62.4  \n",
       "Lincoln         -50.0     12.0    13.3   -68.4       66.0    73.3   -28.3  \n",
       "Mazda           100.0     39.0    34.5   -42.6       35.0    31.0   -50.7  \n",
       "Mercedes-Benz   -78.6     24.0     9.2   -41.5      213.0    81.6   -53.4  \n",
       "MINI              NaN      4.0   100.0   -60.0       -4.0  -100.0   -60.0  \n",
       "Mitsubishi        NaN     15.0    10.9   -67.4      107.0    78.2   -56.9  \n",
       "Nissan          -84.2    113.0    38.2   -50.2       70.0    23.6   -54.8  \n",
       "Porsche           NaN      1.0     4.3   -83.3       21.0    91.4   -19.2  \n",
       "Scion             NaN      7.0     1.3   -53.3      526.0    97.4   -48.6  \n",
       "Subaru          -33.3      5.0     2.2   -68.8      222.0    95.7   -49.2  \n",
       "Toyota            NaN    157.0    24.0   -55.0      341.0    52.0   -43.4  \n",
       "Volkswagen     -100.0     21.0    25.0   -47.5       42.0    50.0   -32.3  \n",
       "Volvo          -100.0     12.0    25.0   -42.9       24.0    50.0   -63.1  "
      ]
     },
     "execution_count": 293,
     "metadata": {},
     "output_type": "execute_result"
    }
   ],
   "source": [
    "cross_brand[[(\"\",\"Avg of Brands Visited\"),('Conquest', 'Volume'), ('Conquest', 'Percent'), ('Conquest', '%Change'), ('Loyalist', 'Volume'), ('Loyalist', 'Percent'), ('Loyalist', '%Change'), ('Defector', 'Volume'), ('Defector', 'Percent'), ('Defector', '%Change'), ('Net Impact', 'Volume'), ('Net Impact', 'Percent'), ('Net Impact', '%Change')]]"
   ]
  },
  {
   "cell_type": "code",
   "execution_count": null,
   "metadata": {
    "collapsed": true
   },
   "outputs": [],
   "source": []
  },
  {
   "cell_type": "code",
   "execution_count": null,
   "metadata": {
    "collapsed": true
   },
   "outputs": [],
   "source": []
  },
  {
   "cell_type": "code",
   "execution_count": null,
   "metadata": {
    "collapsed": true
   },
   "outputs": [],
   "source": []
  },
  {
   "cell_type": "code",
   "execution_count": 294,
   "metadata": {},
   "outputs": [
    {
     "ename": "TypeError",
     "evalue": "unhashable type: 'list'",
     "output_type": "error",
     "traceback": [
      "\u001b[1;31m---------------------------------------------------------------------------\u001b[0m",
      "\u001b[1;31mTypeError\u001b[0m                                 Traceback (most recent call last)",
      "\u001b[1;32m<ipython-input-294-ab337c02b082>\u001b[0m in \u001b[0;36m<module>\u001b[1;34m()\u001b[0m\n\u001b[0;32m      1\u001b[0m \u001b[0mcounts\u001b[0m \u001b[1;33m=\u001b[0m \u001b[0mdict\u001b[0m\u001b[1;33m(\u001b[0m\u001b[1;33m)\u001b[0m\u001b[1;33m\u001b[0m\u001b[0m\n\u001b[0;32m      2\u001b[0m \u001b[1;32mfor\u001b[0m \u001b[0mi\u001b[0m \u001b[1;32min\u001b[0m \u001b[0mlist2\u001b[0m\u001b[1;33m:\u001b[0m\u001b[1;33m\u001b[0m\u001b[0m\n\u001b[1;32m----> 3\u001b[1;33m   \u001b[0mcounts\u001b[0m\u001b[1;33m[\u001b[0m\u001b[0mi\u001b[0m\u001b[1;33m]\u001b[0m \u001b[1;33m=\u001b[0m \u001b[0mcounts\u001b[0m\u001b[1;33m.\u001b[0m\u001b[0mget\u001b[0m\u001b[1;33m(\u001b[0m\u001b[0mi\u001b[0m\u001b[1;33m,\u001b[0m \u001b[1;36m0\u001b[0m\u001b[1;33m)\u001b[0m\u001b[1;33m+\u001b[0m\u001b[1;36m1\u001b[0m\u001b[1;33m\u001b[0m\u001b[0m\n\u001b[0m",
      "\u001b[1;31mTypeError\u001b[0m: unhashable type: 'list'"
     ]
    }
   ],
   "source": [
    "counts = dict()\n",
    "for i in list2:\n",
    "  counts[i] = counts.get(i, 0)+1"
   ]
  },
  {
   "cell_type": "code",
   "execution_count": null,
   "metadata": {
    "collapsed": true
   },
   "outputs": [],
   "source": [
    "counts[1]"
   ]
  },
  {
   "cell_type": "code",
   "execution_count": null,
   "metadata": {
    "collapsed": true
   },
   "outputs": [],
   "source": [
    "#generate multiple layer column names\n",
    "    iterables = [[leadtype], [\"Lot Visits\", \"% of Total Visits\"]]\n",
    "    index = pd.MultiIndex.from_product(iterables, names=['first', 'second'])\n",
    "    brand_visits.columns = index\n",
    "    brand_visits_type=brand_visits_type.merge(brand_visits,left_index=True,right_index=True,how=\"right\")\n"
   ]
  },
  {
   "cell_type": "code",
   "execution_count": null,
   "metadata": {
    "collapsed": true,
    "scrolled": true
   },
   "outputs": [],
   "source": [
    "a = pd.DataFrame([(\"Conquest\",0),(\"Loyalist\",0),(\"Defector\",0)],columns = [\"Leadtype\",\"Nouse\"])"
   ]
  },
  {
   "cell_type": "code",
   "execution_count": null,
   "metadata": {
    "collapsed": true
   },
   "outputs": [],
   "source": [
    "lead_type_percent_no_nonshopper"
   ]
  },
  {
   "cell_type": "code",
   "execution_count": null,
   "metadata": {
    "collapsed": true
   },
   "outputs": [],
   "source": [
    "b=pd.DataFrame(lead_type_percent_no_nonshopper)"
   ]
  },
  {
   "cell_type": "code",
   "execution_count": null,
   "metadata": {
    "collapsed": true
   },
   "outputs": [],
   "source": [
    "b.columns = [\"Percent\"]"
   ]
  },
  {
   "cell_type": "code",
   "execution_count": null,
   "metadata": {
    "collapsed": true
   },
   "outputs": [],
   "source": [
    "b"
   ]
  },
  {
   "cell_type": "code",
   "execution_count": null,
   "metadata": {
    "collapsed": true
   },
   "outputs": [],
   "source": [
    "KPI = a.merge(b,how=\"left\",left_on=\"Leadtype\",right_index = True).fillna(0)[[\"Leadtype\",\"Percent\"]]"
   ]
  },
  {
   "cell_type": "code",
   "execution_count": null,
   "metadata": {
    "collapsed": true
   },
   "outputs": [],
   "source": [
    "i = 0\n",
    "for data_processing in [all_data_base,all_data_lastmonth,all_data_last2month]:\n",
    "    cross_visit_brand = data_processing.groupby([\"LeadId\"])brandlist.sum()\n",
    "    customer_type = pd.DataFrame(cross_visit_brand.drop(\"LeadId\",axis=1).apply(lambda x: ','.join(x[x!=0].index).upper().split(\",\"),axis=1),columns=[\"Visiting Brand\"])\n",
    "    DimLead_part = DimLead[[\"LeadId\",\"Auto Make\",\"Second Auto Make\",\"Third Auto Make\",\"Fourth Auto Make\"]].set_index('LeadId')\n",
    "    lead_type = customer_type.join(DimLead_part,rsuffix=\"_d\")\n",
    "    owned_brand = lead_type[[\"Auto Make\",\"Second Auto Make\",\"Third Auto Make\",\"Fourth Auto Make\"]].values.tolist()\n",
    "    owned_brands = [list(set(x)-set([np.nan])) for x in owned_brand]\n",
    "    lead_type[\"owned_brand\"] = owned_brands\n",
    "    for brand in brandlist:\n",
    "        lead_type[brand.lower()+\"_type\"] = lead_type.apply(leadtype,axis=1)\n",
    "    lead_brand_visits = lead_type.join(cross_visit_brand)\n",
    "    lead_brand_visits[\"LeadId\"] = lead_brand_visits.index\n",
    "    name = \"lead_brand_visits_\" + [\"base\",\"lastmonth\",\"last2month\"][i]\n",
    "    exec(name + \"=lead_brand_visits\")\n",
    "    \n",
    "    ###\n",
    "    \n",
    "    cross_visit = pd.pivot_table(data_processing[[\"DealerId\",\"LeadId\",\"DateId\"]],values='DateId', index=['LeadId'],columns=['DealerId'], aggfunc='count')\n",
    "    lead_dealer_visits = lead_type.join(cross_visit)\n",
    "    lead_dealer_visits[\"LeadId\"] = lead_dealer_visits.index\n",
    "    name2 = \"lead_dealer_visits_\" + [\"base\",\"lastmonth\",\"last2month\"][i]\n",
    "    exec(name2 + \"=lead_dealer_visits\")\n",
    "    i+=1\n",
    "    "
   ]
  },
  {
   "cell_type": "code",
   "execution_count": null,
   "metadata": {
    "collapsed": true,
    "scrolled": true
   },
   "outputs": [],
   "source": [
    "lead_brand_visits_lastmonth.sort_values(\"LeadId\")"
   ]
  },
  {
   "cell_type": "markdown",
   "metadata": {},
   "source": [
    "## Visits for brands"
   ]
  },
  {
   "cell_type": "code",
   "execution_count": null,
   "metadata": {
    "collapsed": true
   },
   "outputs": [],
   "source": [
    "for i in range(4):\n",
    "    print(\"lead_brand_visits_\" + [\"base\",\"lastmonth\",\"last2month\",\"pastyear\"][i])"
   ]
  },
  {
   "cell_type": "code",
   "execution_count": null,
   "metadata": {
    "collapsed": true,
    "scrolled": false
   },
   "outputs": [],
   "source": [
    "i=0\n",
    "for data_processing in [lead_brand_visits_base,lead_brand_visits_lastmonth,lead_brand_visits_last2month,lead_brand_visits_pastyear]:\n",
    "    total_visits = data_processing[brandlist].sum().T.sum()\n",
    "    brand_visits = pd.DataFrame(data_processing[brandlist].sum().T,columns = [\"Lot Visits\"])\n",
    "    brand_visits[\"% of Total Visits\"] = round(brand_visits[\"Lot Visits\"]/total_visits,3)\n",
    "    name3 = \"brand_visits_\" + [\"base\",\"lastmonth\",\"last2month\",\"pastyear\"][i]\n",
    "    exec(name3 + \"=brand_visits\")\n",
    "    i+=1"
   ]
  },
  {
   "cell_type": "code",
   "execution_count": null,
   "metadata": {
    "collapsed": true
   },
   "outputs": [],
   "source": [
    "for i in range(4):\n",
    "    print(\"brand_visits_\" + [\"base\",\"lastmonth\",\"last2month\",\"pastyear\"][i])"
   ]
  },
  {
   "cell_type": "code",
   "execution_count": null,
   "metadata": {
    "collapsed": true,
    "scrolled": true
   },
   "outputs": [],
   "source": [
    "## This month\n",
    "new = brand_visits_base.sort_values(\"Lot Visits\",ascending=False)\n",
    "new[\"Company\"] = new.index\n",
    "new[\"Ranking\"]=new[\"Lot Visits\"].rank(method=\"min\",ascending = False)\n",
    "base_v1 = new[[\"Ranking\",\"Company\",\"Lot Visits\",\"% of Total Visits\"]]"
   ]
  },
  {
   "cell_type": "code",
   "execution_count": null,
   "metadata": {
    "collapsed": true
   },
   "outputs": [],
   "source": [
    "#Last Month\n",
    "new = brand_visits_lastmonth.sort_values(\"Lot Visits\",ascending=False)\n",
    "new[\"Company\"] = new.index\n",
    "new[\"Ranking\"]=new[\"Lot Visits\"].rank(method=\"min\",ascending = False)\n",
    "base_v2 = new[[\"Ranking\",\"Company\",\"Lot Visits\",\"% of Total Visits\"]]"
   ]
  },
  {
   "cell_type": "code",
   "execution_count": null,
   "metadata": {
    "collapsed": true
   },
   "outputs": [],
   "source": [
    "#Last 2 Month\n",
    "new = brand_visits_last2month.sort_values(\"Lot Visits\",ascending=False)\n",
    "new[\"Company\"] = new.index\n",
    "new[\"Ranking\"]=new[\"Lot Visits\"].rank(method=\"min\",ascending = False)\n",
    "base_v3 = new[[\"Ranking\",\"Company\",\"Lot Visits\",\"% of Total Visits\"]]"
   ]
  },
  {
   "cell_type": "code",
   "execution_count": null,
   "metadata": {
    "collapsed": true
   },
   "outputs": [],
   "source": [
    "#Last 2 Month\n",
    "new = brand_visits_pastyear.sort_values(\"Lot Visits\",ascending=False)\n",
    "new[\"Company\"] = new.index\n",
    "new[\"Ranking\"]=new[\"Lot Visits\"].rank(method=\"min\",ascending = False)\n",
    "base_v4 = new[[\"Ranking\",\"Company\",\"Lot Visits\",\"% of Total Visits\"]]"
   ]
  },
  {
   "cell_type": "markdown",
   "metadata": {},
   "source": [
    "## Output of brand visits"
   ]
  },
  {
   "cell_type": "code",
   "execution_count": null,
   "metadata": {
    "collapsed": true,
    "scrolled": true
   },
   "outputs": [],
   "source": [
    "#This Month\n",
    "print(\"Brand Visits for {} in {}\".format(Year+\"/\"+Month,city.upper()))\n",
    "base_v1"
   ]
  },
  {
   "cell_type": "code",
   "execution_count": null,
   "metadata": {
    "collapsed": true,
    "scrolled": true
   },
   "outputs": [],
   "source": [
    "#Last Month\n",
    "print(\"Brand Visits for {} in {}\".format(str(lastMonth.year)+\"/\"+str(lastMonth.month),city.upper()))\n",
    "base_v2"
   ]
  },
  {
   "cell_type": "code",
   "execution_count": null,
   "metadata": {
    "collapsed": true,
    "scrolled": true
   },
   "outputs": [],
   "source": [
    "#Last 2 Month\n",
    "print(\"Brand Visits for {} in {}\".format(str(last2Month.year)+\"/\"+str(last2Month.month),city.upper()))\n",
    "base_v3"
   ]
  },
  {
   "cell_type": "code",
   "execution_count": null,
   "metadata": {
    "collapsed": true,
    "scrolled": false
   },
   "outputs": [],
   "source": [
    "#Last 2 Month\n",
    "print(\"Brand Visits from {} to {} in {}\".format(str(start_date.strftime(\"%Y%m%d\")),str(end_date.strftime(\"%Y%m%d\")),city.upper()))\n",
    "base_v4"
   ]
  },
  {
   "cell_type": "markdown",
   "metadata": {},
   "source": [
    "## Brand Visits by Lead Types"
   ]
  },
  {
   "cell_type": "code",
   "execution_count": null,
   "metadata": {
    "collapsed": true
   },
   "outputs": [],
   "source": [
    "i=0\n",
    "\n",
    "for data_processing in [lead_brand_visits_base,lead_brand_visits_lastmonth,lead_brand_visits_last2month,lead_brand_visits_pastyear]:\n",
    "    brand_visits_type = pd.DataFrame()\n",
    "    for leadtype in [\"Conquest\",\"Loyalist\",\"Defector\"]:\n",
    "        data_processing_m = data_processing[brandlist][data_processing[Brand.lower()+\"_type\"] == leadtype]\n",
    "        total_visits = data_processing_m[brandlist].sum().T.sum()\n",
    "        brand_visits = pd.DataFrame(data_processing_m[brandlist].sum().T,columns = [\"Lot Visits\"])\n",
    "        brand_visits[\"% of Total Visits\"] = round(brand_visits[\"Lot Visits\"]/total_visits,3)\n",
    "        #generate multiple layer column names\n",
    "        iterables = [[leadtype], [\"Lot Visits\", \"% of Total Visits\"]]\n",
    "        index = pd.MultiIndex.from_product(iterables, names=['first', 'second'])\n",
    "        brand_visits.columns = index\n",
    "        brand_visits_type=brand_visits_type.merge(brand_visits,left_index=True,right_index=True,how=\"right\")\n",
    "        \n",
    "    name3 = \"brand_visits_type_\" + [\"base\",\"lastmonth\",\"last2month\",\"pastyear\"][i]\n",
    "    exec(name3 + \"=brand_visits_type\")\n",
    "    i+=1"
   ]
  },
  {
   "cell_type": "code",
   "execution_count": null,
   "metadata": {
    "collapsed": true,
    "scrolled": false
   },
   "outputs": [],
   "source": [
    "for i in range(4):\n",
    "    print(\"brand_visits_type_\" + [\"base\",\"lastmonth\",\"last2month\",\"pastyear\"][i])"
   ]
  },
  {
   "cell_type": "markdown",
   "metadata": {},
   "source": [
    "## Output of Brand Visits by Lead Type"
   ]
  },
  {
   "cell_type": "code",
   "execution_count": null,
   "metadata": {
    "collapsed": true,
    "scrolled": true
   },
   "outputs": [],
   "source": [
    "## This month\n",
    "new = brand_visits_type_base.sort_values(('Conquest', 'Lot Visits'),ascending=False)\n",
    "inter = pd.DataFrame()\n",
    "inter[\"Ranking\"]=new[('Conquest', 'Lot Visits')].rank(method=\"min\",ascending = False).tolist()\n",
    "inter[\"Company\"] = new.index\n",
    "inter.index=new.index\n",
    "type_v1=inter.merge(new,left_index=True,right_index=True,how=\"left\")"
   ]
  },
  {
   "cell_type": "code",
   "execution_count": null,
   "metadata": {
    "collapsed": true,
    "scrolled": false
   },
   "outputs": [],
   "source": [
    "#This Month\n",
    "print(\"###########Brand Visits by Lead Types of {} during {} in {}#########\".format(Brand.upper(),Year+\"/\"+Month,city.upper()))\n",
    "type_v1"
   ]
  },
  {
   "cell_type": "markdown",
   "metadata": {},
   "source": [
    "## Average # of Visiting Brands"
   ]
  },
  {
   "cell_type": "code",
   "execution_count": null,
   "metadata": {
    "collapsed": true
   },
   "outputs": [],
   "source": [
    "i=0\n",
    "for data_processing in [lead_brand_visits_base,lead_brand_visits_lastmonth,lead_brand_visits_last2month,lead_brand_visits_pastyear]:\n",
    "    list1 = []\n",
    "    for brand in brandlist:\n",
    "        p =data_processing[\"Visiting Brand\"][data_processing[brand]>0].apply(lambda x: len(x))\n",
    "        \n",
    "        list1.append((brand,np.mean(p)))\n",
    "    df = pd.DataFrame(list1,columns=([\"Brand\",\"Avg of Brands Visited\"])).sort_values(\"Avg of Brands Visited\",ascending=False)\n",
    "    df = df.fillna(0)\n",
    "    df[\"Avg of Brands Visited\"]=round(df[\"Avg of Brands Visited\"],1)\n",
    "    df[\"Ranking\"]=df[\"Avg of Brands Visited\"].rank(method=\"min\",ascending = False).tolist()\n",
    "    df=df[[\"Ranking\",\"Brand\",\"Avg of Brands Visited\"]]\n",
    "    name4 = \"avg_visiting_brands_\" + [\"base\",\"lastmonth\",\"last2month\",\"pastyear\"][i]\n",
    "    exec(name4 + \"=df\")\n",
    "    i+=1   \n"
   ]
  },
  {
   "cell_type": "markdown",
   "metadata": {},
   "source": [
    "## Output of Avg # of Brands Visited"
   ]
  },
  {
   "cell_type": "code",
   "execution_count": null,
   "metadata": {
    "collapsed": true,
    "scrolled": true
   },
   "outputs": [],
   "source": [
    "print(\"##############Avg number of Brands Visited during {} in {}#########\".format(Year+\"/\"+Month,city.upper()))\n",
    "avg_visiting_brands_base"
   ]
  },
  {
   "cell_type": "markdown",
   "metadata": {},
   "source": [
    "## Conquest Owned Brand Visits"
   ]
  },
  {
   "cell_type": "code",
   "execution_count": null,
   "metadata": {
    "collapsed": true
   },
   "outputs": [],
   "source": [
    "i=0\n",
    "from functools import reduce\n",
    "for data_processing in [lead_brand_visits_base,lead_brand_visits_lastmonth,lead_brand_visits_last2month,lead_brand_visits_pastyear]:\n",
    "    leadtype = \"Conquest\"\n",
    "    list2 = data_processing[\"owned_brand\"][data_processing[Brand.lower()+\"_type\"] == leadtype].tolist()\n",
    "    owned_brands_list = list(set(reduce(lambda x,y: x+y,list2 )))\n",
    "    owened_brands=[x if x.upper() in owned_brands_list else None for x in brandlist]\n",
    "    owened_brands=list(filter(None.__ne__, owened_brands))\n",
    "    data_processing_m = data_processing[owened_brands][data_processing[Brand.lower()+\"_type\"] == leadtype]\n",
    "    data_processing_m.sum()\n",
    "    total = data_processing_m.sum().sum()\n",
    "    df = pd.DataFrame(data_processing_m.sum(),columns=[\"Lot Visits\"])\n",
    "    df = df.sort_values(\"Lot Visits\",ascending=False)\n",
    "    df[\"Ranking\"]=df['Lot Visits'].rank(method=\"min\",ascending = False).tolist()\n",
    "    df[\"Company\"] = df.index\n",
    "    df[\"% of Total Lot Visits\"] = round(df['Lot Visits']/total,3)\n",
    "    df = df[[\"Ranking\",\"Company\",'Lot Visits','% of Total Lot Visits']]\n",
    "    name5 = \"conquest_owned_brand_visits_\" + [\"base\",\"lastmonth\",\"last2month\",\"pastyear\"][i]\n",
    "    exec(name5 + \"=df\")\n",
    "    i+=1\n",
    "        "
   ]
  },
  {
   "cell_type": "markdown",
   "metadata": {},
   "source": [
    "## Output of Conquest Owned Brand Visits"
   ]
  },
  {
   "cell_type": "code",
   "execution_count": null,
   "metadata": {
    "collapsed": true
   },
   "outputs": [],
   "source": [
    "#This Month\n",
    "print(\"###########Conquest of {} Owned Brand Visits during {} in {}#########\".format(Brand.upper(),Year+\"/\"+Month,city.upper()))\n",
    "conquest_owned_brand_visits_base"
   ]
  },
  {
   "cell_type": "markdown",
   "metadata": {},
   "source": [
    "## Defector Visiting Brands Visits"
   ]
  },
  {
   "cell_type": "code",
   "execution_count": null,
   "metadata": {
    "collapsed": true
   },
   "outputs": [],
   "source": [
    "i=0\n",
    "from functools import reduce\n",
    "for data_processing in [lead_brand_visits_base,lead_brand_visits_lastmonth,lead_brand_visits_last2month,lead_brand_visits_pastyear]:\n",
    "    leadtype = \"Defector\"\n",
    "    list2 = data_processing[\"Visiting Brand\"][data_processing[Brand.lower()+\"_type\"] == leadtype].tolist()\n",
    "    owned_brands_list = list(set(reduce(lambda x,y: x+y,list2 )))\n",
    "    owened_brands=[x if x.upper() in owned_brands_list else None for x in brandlist]\n",
    "    owened_brands=list(filter(None.__ne__, owened_brands))\n",
    "    data_processing_m = data_processing[owened_brands][data_processing[Brand.lower()+\"_type\"] == leadtype]\n",
    "    data_processing_m.sum()\n",
    "    total = data_processing_m.sum().sum()\n",
    "    df = pd.DataFrame(data_processing_m.sum(),columns=[\"Lot Visits\"])\n",
    "    df = df.sort_values(\"Lot Visits\",ascending=False)\n",
    "    df[\"Ranking\"]=df['Lot Visits'].rank(method=\"min\",ascending = False).tolist()\n",
    "    df[\"Company\"] = df.index\n",
    "    df[\"% of Total Lot Visits\"] = round(df['Lot Visits']/total,3)\n",
    "    df = df[[\"Ranking\",\"Company\",'Lot Visits','% of Total Lot Visits']]\n",
    "    name6 = \"defector_visiting_brand_visits_\" + [\"base\",\"lastmonth\",\"last2month\",\"pastyear\"][i]\n",
    "    exec(name6 + \"=df\")\n",
    "    i+=1"
   ]
  },
  {
   "cell_type": "markdown",
   "metadata": {},
   "source": [
    "## Output of Defector Visiting Brands Visits"
   ]
  },
  {
   "cell_type": "code",
   "execution_count": null,
   "metadata": {
    "collapsed": true,
    "scrolled": true
   },
   "outputs": [],
   "source": [
    "#This Month\n",
    "print(\"###########Defector of {} Visiting Brand Visits during {} in {}#########\".format(Brand.upper(),Year+\"/\"+Month,city.upper()))\n",
    "defector_visiting_brand_visits_base"
   ]
  },
  {
   "cell_type": "markdown",
   "metadata": {},
   "source": [
    "# Outputs"
   ]
  },
  {
   "cell_type": "markdown",
   "metadata": {},
   "source": [
    "## Output of brand visits"
   ]
  },
  {
   "cell_type": "code",
   "execution_count": null,
   "metadata": {
    "collapsed": true,
    "scrolled": false
   },
   "outputs": [],
   "source": [
    "#This Month\n",
    "print(\"Brand Visits for {} in {}\".format(Year+\"/\"+Month,city.upper()))\n",
    "base_v1"
   ]
  },
  {
   "cell_type": "code",
   "execution_count": null,
   "metadata": {
    "collapsed": true,
    "scrolled": true
   },
   "outputs": [],
   "source": [
    "#Last Month\n",
    "print(\"Brand Visits for {} in {}\".format(str(lastMonth.year)+\"/\"+str(lastMonth.month),city.upper()))\n",
    "base_v2"
   ]
  },
  {
   "cell_type": "code",
   "execution_count": null,
   "metadata": {
    "collapsed": true,
    "scrolled": true
   },
   "outputs": [],
   "source": [
    "#Last 2 Month\n",
    "print(\"Brand Visits for {} in {}\".format(str(last2Month.year)+\"/\"+str(last2Month.month),city.upper()))\n",
    "base_v3"
   ]
  },
  {
   "cell_type": "code",
   "execution_count": null,
   "metadata": {
    "collapsed": true,
    "scrolled": true
   },
   "outputs": [],
   "source": [
    "#Last 2 Month\n",
    "print(\"Brand Visits from {} to {} in {}\".format(str(start_date.strftime(\"%Y%m%d\")),str(end_date.strftime(\"%Y%m%d\")),city.upper()))\n",
    "base_v4"
   ]
  },
  {
   "cell_type": "markdown",
   "metadata": {},
   "source": [
    "## Output of Brand Visits by Lead Type"
   ]
  },
  {
   "cell_type": "code",
   "execution_count": null,
   "metadata": {
    "collapsed": true,
    "scrolled": false
   },
   "outputs": [],
   "source": [
    "#This Month\n",
    "print(\"###########Brand Visits by Lead Types of {} during {} in {}#########\".format(Brand.upper(),Year+\"/\"+Month,city.upper()))\n",
    "type_v1"
   ]
  },
  {
   "cell_type": "markdown",
   "metadata": {},
   "source": [
    "## Output of Avg # of Brands Visited"
   ]
  },
  {
   "cell_type": "code",
   "execution_count": null,
   "metadata": {
    "collapsed": true,
    "scrolled": true
   },
   "outputs": [],
   "source": [
    "print(\"##############Avg number of Brands Visited during {} in {}#########\".format(Year+\"/\"+Month,city.upper()))\n",
    "avg_visiting_brands_base"
   ]
  },
  {
   "cell_type": "markdown",
   "metadata": {},
   "source": [
    "## Output of Conquest Owned Brand Visits"
   ]
  },
  {
   "cell_type": "code",
   "execution_count": null,
   "metadata": {
    "collapsed": true
   },
   "outputs": [],
   "source": [
    "#This Month\n",
    "print(\"###########Conquest of {} Owned Brand Visits during {} in {}#########\".format(Brand.upper(),Year+\"/\"+Month,city.upper()))\n",
    "conquest_owned_brand_visits_base"
   ]
  },
  {
   "cell_type": "markdown",
   "metadata": {},
   "source": [
    "## Output of Defector Visiting Brands Visits"
   ]
  },
  {
   "cell_type": "code",
   "execution_count": null,
   "metadata": {
    "collapsed": true,
    "scrolled": true
   },
   "outputs": [],
   "source": [
    "#This Month\n",
    "print(\"###########Defector of {} Visiting Brand Visits during {} in {}#########\".format(Brand.upper(),Year+\"/\"+Month,city.upper()))\n",
    "defector_visiting_brand_visits_base"
   ]
  },
  {
   "cell_type": "code",
   "execution_count": null,
   "metadata": {
    "collapsed": true
   },
   "outputs": [],
   "source": []
  }
 ],
 "metadata": {
  "anaconda-cloud": {},
  "colab": {
   "collapsed_sections": [],
   "default_view": {},
   "name": "EDA for DDS Part2.ipynb",
   "provenance": [],
   "version": "0.3.2",
   "views": {}
  },
  "kernelspec": {
   "display_name": "Python 3",
   "language": "python",
   "name": "python3"
  },
  "language_info": {
   "codemirror_mode": {
    "name": "ipython",
    "version": 3
   },
   "file_extension": ".py",
   "mimetype": "text/x-python",
   "name": "python",
   "nbconvert_exporter": "python",
   "pygments_lexer": "ipython3",
   "version": "3.6.4"
  },
  "toc": {
   "nav_menu": {},
   "number_sections": true,
   "sideBar": true,
   "skip_h1_title": false,
   "title_cell": "Table of Contents",
   "title_sidebar": "Contents",
   "toc_cell": true,
   "toc_position": {},
   "toc_section_display": true,
   "toc_window_display": false
  }
 },
 "nbformat": 4,
 "nbformat_minor": 1
}
