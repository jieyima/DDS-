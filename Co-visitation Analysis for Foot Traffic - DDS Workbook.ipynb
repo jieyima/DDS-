{
 "cells": [
  {
   "cell_type": "markdown",
   "metadata": {
    "toc": true
   },
   "source": [
    "<h1>Table of Contents<span class=\"tocSkip\"></span></h1>\n",
    "<div class=\"toc\"><ul class=\"toc-item\"><li><span><a href=\"#Co-visitation-Analysis\" data-toc-modified-id=\"Co-visitation-Analysis-1\"><span class=\"toc-item-num\">1&nbsp;&nbsp;</span>Co-visitation Analysis</a></span><ul class=\"toc-item\"><li><span><a href=\"#Importing-Packages-and-Datafiles\" data-toc-modified-id=\"Importing-Packages-and-Datafiles-1.1\"><span class=\"toc-item-num\">1.1&nbsp;&nbsp;</span>Importing Packages and Datafiles</a></span></li><li><span><a href=\"#Data-Transformation-to-Get-All-Data\" data-toc-modified-id=\"Data-Transformation-to-Get-All-Data-1.2\"><span class=\"toc-item-num\">1.2&nbsp;&nbsp;</span>Data Transformation to Get All Data</a></span><ul class=\"toc-item\"><li><span><a href=\"#Create-Subsets\" data-toc-modified-id=\"Create-Subsets-1.2.1\"><span class=\"toc-item-num\">1.2.1&nbsp;&nbsp;</span>Create Subsets</a></span><ul class=\"toc-item\"><li><span><a href=\"#create-a-new-dataframe-counts_by_dealer-with-dealership-ID-and-its-visits-count\" data-toc-modified-id=\"create-a-new-dataframe-counts_by_dealer-with-dealership-ID-and-its-visits-count-1.2.1.1\"><span class=\"toc-item-num\">1.2.1.1&nbsp;&nbsp;</span>create a new dataframe counts_by_dealer with dealership ID and its visits count</a></span></li><li><span><a href=\"#join-table-counts_by_dealer-with-table-Dim_Dealer\" data-toc-modified-id=\"join-table-counts_by_dealer-with-table-Dim_Dealer-1.2.1.2\"><span class=\"toc-item-num\">1.2.1.2&nbsp;&nbsp;</span>join table counts_by_dealer with table Dim_Dealer</a></span></li><li><span><a href=\"#check-null-value-in-dealership-count\" data-toc-modified-id=\"check-null-value-in-dealership-count-1.2.1.3\"><span class=\"toc-item-num\">1.2.1.3&nbsp;&nbsp;</span>check null value in dealership count</a></span></li><li><span><a href=\"#create-a-new-table-Lead_simple-with-LeadId-as-Index\" data-toc-modified-id=\"create-a-new-table-Lead_simple-with-LeadId-as-Index-1.2.1.4\"><span class=\"toc-item-num\">1.2.1.4&nbsp;&nbsp;</span>create a new table Lead_simple with LeadId as Index</a></span></li><li><span><a href=\"#create-a-new-table-visitor_agg-with-visitor-Id-and-count-of-visits\" data-toc-modified-id=\"create-a-new-table-visitor_agg-with-visitor-Id-and-count-of-visits-1.2.1.5\"><span class=\"toc-item-num\">1.2.1.5&nbsp;&nbsp;</span>create a new table visitor_agg with visitor Id and count of visits</a></span></li></ul></li><li><span><a href=\"#Export-all-data\" data-toc-modified-id=\"Export-all-data-1.2.2\"><span class=\"toc-item-num\">1.2.2&nbsp;&nbsp;</span>Export all data</a></span></li></ul></li><li><span><a href=\"#Co-visitation-Analysis\" data-toc-modified-id=\"Co-visitation-Analysis-1.3\"><span class=\"toc-item-num\">1.3&nbsp;&nbsp;</span>Co-visitation Analysis</a></span><ul class=\"toc-item\"><li><span><a href=\"#Fetch-Data\" data-toc-modified-id=\"Fetch-Data-1.3.1\"><span class=\"toc-item-num\">1.3.1&nbsp;&nbsp;</span>Fetch Data</a></span><ul class=\"toc-item\"><li><span><a href=\"#pull-out-count-of-visits-by-city\" data-toc-modified-id=\"pull-out-count-of-visits-by-city-1.3.1.1\"><span class=\"toc-item-num\">1.3.1.1&nbsp;&nbsp;</span>pull out count of visits by city</a></span></li><li><span><a href=\"#Set-City\" data-toc-modified-id=\"Set-City-1.3.1.2\"><span class=\"toc-item-num\">1.3.1.2&nbsp;&nbsp;</span>Set City</a></span></li></ul></li><li><span><a href=\"#Co-visitation-on-dealer-level\" data-toc-modified-id=\"Co-visitation-on-dealer-level-1.3.2\"><span class=\"toc-item-num\">1.3.2&nbsp;&nbsp;</span>Co-visitation on dealer level</a></span><ul class=\"toc-item\"><li><span><a href=\"#Use-For-Loop-to-calculate-covisitation-by-DealerId\" data-toc-modified-id=\"Use-For-Loop-to-calculate-covisitation-by-DealerId-1.3.2.1\"><span class=\"toc-item-num\">1.3.2.1&nbsp;&nbsp;</span>Use For Loop to calculate covisitation by DealerId</a></span></li><li><span><a href=\"#Export-to-CSV-file\" data-toc-modified-id=\"Export-to-CSV-file-1.3.2.2\"><span class=\"toc-item-num\">1.3.2.2&nbsp;&nbsp;</span>Export to CSV file</a></span></li></ul></li><li><span><a href=\"#Co-visitation-on-OEM-level\" data-toc-modified-id=\"Co-visitation-on-OEM-level-1.3.3\"><span class=\"toc-item-num\">1.3.3&nbsp;&nbsp;</span>Co-visitation on OEM level</a></span><ul class=\"toc-item\"><li><span><a href=\"#Data-Transformation\" data-toc-modified-id=\"Data-Transformation-1.3.3.1\"><span class=\"toc-item-num\">1.3.3.1&nbsp;&nbsp;</span>Data Transformation</a></span></li><li><span><a href=\"#Co-visitation-for-brand\" data-toc-modified-id=\"Co-visitation-for-brand-1.3.3.2\"><span class=\"toc-item-num\">1.3.3.2&nbsp;&nbsp;</span>Co visitation for brand</a></span></li><li><span><a href=\"#Export-to-csv\" data-toc-modified-id=\"Export-to-csv-1.3.3.3\"><span class=\"toc-item-num\">1.3.3.3&nbsp;&nbsp;</span>Export to csv</a></span></li></ul></li><li><span><a href=\"#Lead-Type-Analysis\" data-toc-modified-id=\"Lead-Type-Analysis-1.3.4\"><span class=\"toc-item-num\">1.3.4&nbsp;&nbsp;</span>Lead Type Analysis</a></span><ul class=\"toc-item\"><li><span><a href=\"#Create-new-table-customer_type-contains-unique-leadid-and-the-visiting-brand\" data-toc-modified-id=\"Create-new-table-customer_type-contains-unique-leadid-and-the-visiting-brand-1.3.4.1\"><span class=\"toc-item-num\">1.3.4.1&nbsp;&nbsp;</span>Create new table customer_type contains unique leadid and the visiting brand</a></span></li><li><span><a href=\"#Load-Dataset\" data-toc-modified-id=\"Load-Dataset-1.3.4.2\"><span class=\"toc-item-num\">1.3.4.2&nbsp;&nbsp;</span>Load Dataset</a></span></li><li><span><a href=\"#Join-customer_type-and-DimLead_part-to-create-a-new-table-lead_type\" data-toc-modified-id=\"Join-customer_type-and-DimLead_part-to-create-a-new-table-lead_type-1.3.4.3\"><span class=\"toc-item-num\">1.3.4.3&nbsp;&nbsp;</span>Join customer_type and DimLead_part to create a new table lead_type</a></span></li><li><span><a href=\"#Create-owned_brands-list-that-are-not-null-in-owned_brand-list\" data-toc-modified-id=\"Create-owned_brands-list-that-are-not-null-in-owned_brand-list-1.3.4.4\"><span class=\"toc-item-num\">1.3.4.4&nbsp;&nbsp;</span>Create owned_brands list that are not null in owned_brand list</a></span></li><li><span><a href=\"#Assign-owned_brands-list-to-owned_brand-column-in-lead_type\" data-toc-modified-id=\"Assign-owned_brands-list-to-owned_brand-column-in-lead_type-1.3.4.5\"><span class=\"toc-item-num\">1.3.4.5&nbsp;&nbsp;</span>Assign owned_brands list to owned_brand column in lead_type</a></span></li><li><span><a href=\"#Check-null-value\" data-toc-modified-id=\"Check-null-value-1.3.4.6\"><span class=\"toc-item-num\">1.3.4.6&nbsp;&nbsp;</span>Check null value</a></span></li><li><span><a href=\"#Use-For-loop-to-create-logic-to-assign-Defector/Loyalist/Conquest/Non-shopper\" data-toc-modified-id=\"Use-For-loop-to-create-logic-to-assign-Defector/Loyalist/Conquest/Non-shopper-1.3.4.7\"><span class=\"toc-item-num\">1.3.4.7&nbsp;&nbsp;</span>Use For loop to create logic to assign Defector/Loyalist/Conquest/Non-shopper</a></span></li><li><span><a href=\"#Export-lead_type-csv\" data-toc-modified-id=\"Export-lead_type-csv-1.3.4.8\"><span class=\"toc-item-num\">1.3.4.8&nbsp;&nbsp;</span>Export lead_type csv</a></span></li></ul></li></ul></li></ul></li><li><span><a href=\"#Frequency-of-Shopping-Behavior\" data-toc-modified-id=\"Frequency-of-Shopping-Behavior-2\"><span class=\"toc-item-num\">2&nbsp;&nbsp;</span>Frequency of Shopping Behavior</a></span><ul class=\"toc-item\"><li><ul class=\"toc-item\"><li><span><a href=\"#Import-Packages-and-Fetch-Data\" data-toc-modified-id=\"Import-Packages-and-Fetch-Data-2.0.1\"><span class=\"toc-item-num\">2.0.1&nbsp;&nbsp;</span>Import Packages and Fetch Data</a></span></li><li><span><a href=\"#Number-of-Dealerships-Visited-by-a-Household\" data-toc-modified-id=\"Number-of-Dealerships-Visited-by-a-Household-2.0.2\"><span class=\"toc-item-num\">2.0.2&nbsp;&nbsp;</span>Number of Dealerships Visited by a Household</a></span></li><li><span><a href=\"#Length-of-time-people-tend-to-shop-for-(days/weeks?)\" data-toc-modified-id=\"Length-of-time-people-tend-to-shop-for-(days/weeks?)-2.0.3\"><span class=\"toc-item-num\">2.0.3&nbsp;&nbsp;</span>Length of time people tend to shop for (days/weeks?)</a></span></li></ul></li></ul></li></ul></div>"
   ]
  },
  {
   "cell_type": "markdown",
   "metadata": {},
   "source": [
    "The workbook serves as a comprehensive foot Traffic analysis for DDS analytics team.  \n",
    "Note: In this workbook the authors use Tampa to exemplify the analysis"
   ]
  },
  {
   "cell_type": "markdown",
   "metadata": {},
   "source": [
    "# Co-visitation Analysis"
   ]
  },
  {
   "cell_type": "markdown",
   "metadata": {},
   "source": [
    "## Importing Packages and Datafiles"
   ]
  },
  {
   "cell_type": "code",
   "execution_count": 4,
   "metadata": {
    "colab": {
     "autoexec": {
      "startup": false,
      "wait_interval": 0
     }
    },
    "colab_type": "code",
    "collapsed": true,
    "id": "u82Vd9Ei-Ssk"
   },
   "outputs": [],
   "source": [
    "import numpy as np\n",
    "import pandas as pd\n",
    "import seaborn as sns\n",
    "import matplotlib.pyplot as plt"
   ]
  },
  {
   "cell_type": "code",
   "execution_count": 5,
   "metadata": {
    "colab": {
     "autoexec": {
      "startup": false,
      "wait_interval": 0
     }
    },
    "colab_type": "code",
    "collapsed": true,
    "id": "o70gL7Gt-Ssn"
   },
   "outputs": [],
   "source": [
    "# Load FactVisits_2City csv\n",
    "factvisits = pd.read_csv(\"FacVisits_2city_2.csv\")"
   ]
  },
  {
   "cell_type": "code",
   "execution_count": 6,
   "metadata": {
    "colab": {
     "autoexec": {
      "startup": false,
      "wait_interval": 0
     }
    },
    "colab_type": "code",
    "id": "O7TUg1F8-Ssp",
    "outputId": "b296ce1d-f78a-4cf0-9eef-f00ab7f2a330"
   },
   "outputs": [
    {
     "name": "stderr",
     "output_type": "stream",
     "text": [
      "/Users/Jessica/anaconda3/lib/python3.6/site-packages/IPython/core/interactiveshell.py:2698: DtypeWarning: Columns (18,38,79,91,96,97,233,234,298,303,304) have mixed types. Specify dtype option on import or set low_memory=False.\n",
      "  interactivity=interactivity, compiler=compiler, result=result)\n"
     ]
    }
   ],
   "source": [
    "# Load DimLead_visiotr_2city csv\n",
    "Dim_Lead = pd.read_csv(\"DimLead_visiotr_2city.csv\")"
   ]
  },
  {
   "cell_type": "code",
   "execution_count": 7,
   "metadata": {
    "colab": {
     "autoexec": {
      "startup": false,
      "wait_interval": 0
     }
    },
    "colab_type": "code",
    "collapsed": true,
    "id": "Dvfh5LF8-Ssu"
   },
   "outputs": [],
   "source": [
    "# Load DimDealer_2city csv\n",
    "Dim_Dealer = pd.read_csv(\"DimDealer_2city.csv\")"
   ]
  },
  {
   "cell_type": "code",
   "execution_count": 8,
   "metadata": {
    "colab": {
     "autoexec": {
      "startup": false,
      "wait_interval": 0
     }
    },
    "colab_type": "code",
    "id": "BL1HMvwR-Ssv",
    "outputId": "f7a6f4c4-c6a8-4c65-8807-2647855ab887"
   },
   "outputs": [
    {
     "data": {
      "text/html": [
       "<div>\n",
       "<style scoped>\n",
       "    .dataframe tbody tr th:only-of-type {\n",
       "        vertical-align: middle;\n",
       "    }\n",
       "\n",
       "    .dataframe tbody tr th {\n",
       "        vertical-align: top;\n",
       "    }\n",
       "\n",
       "    .dataframe thead th {\n",
       "        text-align: right;\n",
       "    }\n",
       "</style>\n",
       "<table border=\"1\" class=\"dataframe\">\n",
       "  <thead>\n",
       "    <tr style=\"text-align: right;\">\n",
       "      <th></th>\n",
       "      <th>Unnamed: 0</th>\n",
       "      <th>DealerId</th>\n",
       "      <th>DealerName</th>\n",
       "      <th>Polygon Name</th>\n",
       "      <th>Address</th>\n",
       "      <th>City</th>\n",
       "      <th>State</th>\n",
       "      <th>Zip</th>\n",
       "      <th>Lat</th>\n",
       "      <th>Lng</th>\n",
       "      <th>...</th>\n",
       "      <th>Lotus</th>\n",
       "      <th>Maserati</th>\n",
       "      <th>Rolls Royce</th>\n",
       "      <th>Smart Cars</th>\n",
       "      <th>Tesla</th>\n",
       "      <th>PopulationDensityType</th>\n",
       "      <th>AlternateCategory1</th>\n",
       "      <th>AlternateCategory2</th>\n",
       "      <th>AlternateCategory3</th>\n",
       "      <th>AlternateCategory4</th>\n",
       "    </tr>\n",
       "  </thead>\n",
       "  <tbody>\n",
       "    <tr>\n",
       "      <th>0</th>\n",
       "      <td>0</td>\n",
       "      <td>1722781</td>\n",
       "      <td>Carmax Tampa(TAM)</td>\n",
       "      <td>CarMax 7105 - Tampa(TAM), Tampa, FL</td>\n",
       "      <td>14920 Nebraska Avenue</td>\n",
       "      <td>Tampa</td>\n",
       "      <td>FL</td>\n",
       "      <td>33613</td>\n",
       "      <td>28.085544</td>\n",
       "      <td>-82.452612</td>\n",
       "      <td>...</td>\n",
       "      <td>NaN</td>\n",
       "      <td>NaN</td>\n",
       "      <td>NaN</td>\n",
       "      <td>NaN</td>\n",
       "      <td>NaN</td>\n",
       "      <td>U</td>\n",
       "      <td>NaN</td>\n",
       "      <td>NaN</td>\n",
       "      <td>NaN</td>\n",
       "      <td>NaN</td>\n",
       "    </tr>\n",
       "    <tr>\n",
       "      <th>1</th>\n",
       "      <td>1</td>\n",
       "      <td>1722886</td>\n",
       "      <td>CarMax 11011 W Metro Auto Mall Milwaukee</td>\n",
       "      <td>CarMax, 11011 W Metro Auto Mall, Milwaukee, WI</td>\n",
       "      <td>11011 West Metro Blvd</td>\n",
       "      <td>Milwaukee</td>\n",
       "      <td>WI</td>\n",
       "      <td>53224</td>\n",
       "      <td>43.143111</td>\n",
       "      <td>-88.050223</td>\n",
       "      <td>...</td>\n",
       "      <td>NaN</td>\n",
       "      <td>NaN</td>\n",
       "      <td>NaN</td>\n",
       "      <td>NaN</td>\n",
       "      <td>NaN</td>\n",
       "      <td>S</td>\n",
       "      <td>NaN</td>\n",
       "      <td>NaN</td>\n",
       "      <td>NaN</td>\n",
       "      <td>NaN</td>\n",
       "    </tr>\n",
       "    <tr>\n",
       "      <th>2</th>\n",
       "      <td>2</td>\n",
       "      <td>2220942</td>\n",
       "      <td>Tesla Tampa</td>\n",
       "      <td>Tesla Tampa, Tampa, FL</td>\n",
       "      <td>1907 N U.S. Highway 301 Suite 170</td>\n",
       "      <td>Tampa</td>\n",
       "      <td>FL</td>\n",
       "      <td>33619</td>\n",
       "      <td>27.961792</td>\n",
       "      <td>-82.358732</td>\n",
       "      <td>...</td>\n",
       "      <td>NaN</td>\n",
       "      <td>NaN</td>\n",
       "      <td>NaN</td>\n",
       "      <td>NaN</td>\n",
       "      <td>NaN</td>\n",
       "      <td>S</td>\n",
       "      <td>NaN</td>\n",
       "      <td>NaN</td>\n",
       "      <td>NaN</td>\n",
       "      <td>NaN</td>\n",
       "    </tr>\n",
       "    <tr>\n",
       "      <th>3</th>\n",
       "      <td>3</td>\n",
       "      <td>4219663</td>\n",
       "      <td>Maserati Of Tampa</td>\n",
       "      <td>Maserati Of Tampa, Tampa, FL</td>\n",
       "      <td>11333 North Florida Ave.</td>\n",
       "      <td>Tampa</td>\n",
       "      <td>FL</td>\n",
       "      <td>33612</td>\n",
       "      <td>28.053106</td>\n",
       "      <td>-82.459041</td>\n",
       "      <td>...</td>\n",
       "      <td>NaN</td>\n",
       "      <td>NaN</td>\n",
       "      <td>NaN</td>\n",
       "      <td>NaN</td>\n",
       "      <td>NaN</td>\n",
       "      <td>U</td>\n",
       "      <td>NaN</td>\n",
       "      <td>NaN</td>\n",
       "      <td>NaN</td>\n",
       "      <td>NaN</td>\n",
       "    </tr>\n",
       "    <tr>\n",
       "      <th>4</th>\n",
       "      <td>4</td>\n",
       "      <td>5898233</td>\n",
       "      <td>Jerry Ulm Dodge Chrysler Jeep</td>\n",
       "      <td>Fiat Chrysler Automobiles 43654 - Jerry Ulm Do...</td>\n",
       "      <td>2966 N Dale Mabry Hwy</td>\n",
       "      <td>Tampa</td>\n",
       "      <td>FL</td>\n",
       "      <td>33607-2415</td>\n",
       "      <td>27.966091</td>\n",
       "      <td>-82.506459</td>\n",
       "      <td>...</td>\n",
       "      <td>NaN</td>\n",
       "      <td>NaN</td>\n",
       "      <td>NaN</td>\n",
       "      <td>NaN</td>\n",
       "      <td>NaN</td>\n",
       "      <td>S</td>\n",
       "      <td>Dodge</td>\n",
       "      <td>Jeep</td>\n",
       "      <td>NaN</td>\n",
       "      <td>NaN</td>\n",
       "    </tr>\n",
       "  </tbody>\n",
       "</table>\n",
       "<p>5 rows × 68 columns</p>\n",
       "</div>"
      ],
      "text/plain": [
       "   Unnamed: 0  DealerId                                DealerName  \\\n",
       "0           0   1722781                         Carmax Tampa(TAM)   \n",
       "1           1   1722886  CarMax 11011 W Metro Auto Mall Milwaukee   \n",
       "2           2   2220942                               Tesla Tampa   \n",
       "3           3   4219663                         Maserati Of Tampa   \n",
       "4           4   5898233             Jerry Ulm Dodge Chrysler Jeep   \n",
       "\n",
       "                                        Polygon Name  \\\n",
       "0                CarMax 7105 - Tampa(TAM), Tampa, FL   \n",
       "1     CarMax, 11011 W Metro Auto Mall, Milwaukee, WI   \n",
       "2                             Tesla Tampa, Tampa, FL   \n",
       "3                       Maserati Of Tampa, Tampa, FL   \n",
       "4  Fiat Chrysler Automobiles 43654 - Jerry Ulm Do...   \n",
       "\n",
       "                             Address       City State         Zip        Lat  \\\n",
       "0              14920 Nebraska Avenue      Tampa    FL       33613  28.085544   \n",
       "1              11011 West Metro Blvd  Milwaukee    WI       53224  43.143111   \n",
       "2  1907 N U.S. Highway 301 Suite 170      Tampa    FL       33619  27.961792   \n",
       "3           11333 North Florida Ave.      Tampa    FL       33612  28.053106   \n",
       "4              2966 N Dale Mabry Hwy      Tampa    FL  33607-2415  27.966091   \n",
       "\n",
       "         Lng         ...         Lotus  Maserati  Rolls Royce  Smart Cars  \\\n",
       "0 -82.452612         ...           NaN       NaN          NaN         NaN   \n",
       "1 -88.050223         ...           NaN       NaN          NaN         NaN   \n",
       "2 -82.358732         ...           NaN       NaN          NaN         NaN   \n",
       "3 -82.459041         ...           NaN       NaN          NaN         NaN   \n",
       "4 -82.506459         ...           NaN       NaN          NaN         NaN   \n",
       "\n",
       "   Tesla  PopulationDensityType  AlternateCategory1  AlternateCategory2  \\\n",
       "0    NaN                      U                 NaN                 NaN   \n",
       "1    NaN                      S                 NaN                 NaN   \n",
       "2    NaN                      S                 NaN                 NaN   \n",
       "3    NaN                      U                 NaN                 NaN   \n",
       "4    NaN                      S               Dodge                Jeep   \n",
       "\n",
       "   AlternateCategory3  AlternateCategory4  \n",
       "0                 NaN                 NaN  \n",
       "1                 NaN                 NaN  \n",
       "2                 NaN                 NaN  \n",
       "3                 NaN                 NaN  \n",
       "4                 NaN                 NaN  \n",
       "\n",
       "[5 rows x 68 columns]"
      ]
     },
     "execution_count": 8,
     "metadata": {},
     "output_type": "execute_result"
    }
   ],
   "source": [
    "#Get a sense of the dataset\n",
    "Dim_Dealer.head()"
   ]
  },
  {
   "cell_type": "markdown",
   "metadata": {},
   "source": [
    "## Data Transformation to Get All Data"
   ]
  },
  {
   "cell_type": "markdown",
   "metadata": {},
   "source": [
    "### Create Subsets"
   ]
  },
  {
   "cell_type": "markdown",
   "metadata": {},
   "source": [
    "#### create a new dataframe counts_by_dealer with dealership ID and its visits count"
   ]
  },
  {
   "cell_type": "code",
   "execution_count": 9,
   "metadata": {
    "colab": {
     "autoexec": {
      "startup": false,
      "wait_interval": 0
     }
    },
    "colab_type": "code",
    "collapsed": true,
    "id": "Qg-ngk2H-Ssy"
   },
   "outputs": [],
   "source": [
    "counts_by_dealer_t = factvisits.groupby(\"DealerId\")[\"DealerId\",\"LeadId\"].count()"
   ]
  },
  {
   "cell_type": "code",
   "execution_count": 10,
   "metadata": {
    "colab": {
     "autoexec": {
      "startup": false,
      "wait_interval": 0
     }
    },
    "colab_type": "code",
    "collapsed": true,
    "id": "hRXOrds6-Ss1"
   },
   "outputs": [],
   "source": [
    "counts_by_dealer_t[\"count\"] = counts_by_dealer_t[\"DealerId\"]"
   ]
  },
  {
   "cell_type": "code",
   "execution_count": 11,
   "metadata": {
    "colab": {
     "autoexec": {
      "startup": false,
      "wait_interval": 0
     }
    },
    "colab_type": "code",
    "collapsed": true,
    "id": "2I5ibAj4-Ss2"
   },
   "outputs": [],
   "source": [
    "counts_by_dealer_t[\"DealerId\"] = counts_by_dealer_t.index"
   ]
  },
  {
   "cell_type": "code",
   "execution_count": 12,
   "metadata": {
    "colab": {
     "autoexec": {
      "startup": false,
      "wait_interval": 0
     }
    },
    "colab_type": "code",
    "collapsed": true,
    "id": "AedgBaA1-Ss5"
   },
   "outputs": [],
   "source": [
    "counts_by_dealer = counts_by_dealer_t.drop(\"LeadId\",axis = 1)"
   ]
  },
  {
   "cell_type": "code",
   "execution_count": 13,
   "metadata": {
    "colab": {
     "autoexec": {
      "startup": false,
      "wait_interval": 0
     }
    },
    "colab_type": "code",
    "collapsed": true,
    "id": "LmQNk-gM-Ss7"
   },
   "outputs": [],
   "source": [
    "counts_by_dealer = counts_by_dealer.sort_values(by=['count'],ascending=False)"
   ]
  },
  {
   "cell_type": "code",
   "execution_count": 14,
   "metadata": {
    "colab": {
     "autoexec": {
      "startup": false,
      "wait_interval": 0
     }
    },
    "colab_type": "code",
    "id": "nvmOnUrs-Ss-",
    "outputId": "6cf5fc4f-a803-48f6-db68-e770bf4d4ccc"
   },
   "outputs": [
    {
     "data": {
      "text/html": [
       "<div>\n",
       "<style scoped>\n",
       "    .dataframe tbody tr th:only-of-type {\n",
       "        vertical-align: middle;\n",
       "    }\n",
       "\n",
       "    .dataframe tbody tr th {\n",
       "        vertical-align: top;\n",
       "    }\n",
       "\n",
       "    .dataframe thead th {\n",
       "        text-align: right;\n",
       "    }\n",
       "</style>\n",
       "<table border=\"1\" class=\"dataframe\">\n",
       "  <thead>\n",
       "    <tr style=\"text-align: right;\">\n",
       "      <th></th>\n",
       "      <th>DealerId</th>\n",
       "      <th>count</th>\n",
       "    </tr>\n",
       "    <tr>\n",
       "      <th>DealerId</th>\n",
       "      <th></th>\n",
       "      <th></th>\n",
       "    </tr>\n",
       "  </thead>\n",
       "  <tbody>\n",
       "    <tr>\n",
       "      <th>5904852</th>\n",
       "      <td>5904852</td>\n",
       "      <td>11980</td>\n",
       "    </tr>\n",
       "    <tr>\n",
       "      <th>5898233</th>\n",
       "      <td>5898233</td>\n",
       "      <td>10512</td>\n",
       "    </tr>\n",
       "    <tr>\n",
       "      <th>1722781</th>\n",
       "      <td>1722781</td>\n",
       "      <td>10476</td>\n",
       "    </tr>\n",
       "    <tr>\n",
       "      <th>5904883</th>\n",
       "      <td>5904883</td>\n",
       "      <td>9705</td>\n",
       "    </tr>\n",
       "    <tr>\n",
       "      <th>6043686</th>\n",
       "      <td>6043686</td>\n",
       "      <td>9533</td>\n",
       "    </tr>\n",
       "  </tbody>\n",
       "</table>\n",
       "</div>"
      ],
      "text/plain": [
       "          DealerId  count\n",
       "DealerId                 \n",
       "5904852    5904852  11980\n",
       "5898233    5898233  10512\n",
       "1722781    1722781  10476\n",
       "5904883    5904883   9705\n",
       "6043686    6043686   9533"
      ]
     },
     "execution_count": 14,
     "metadata": {},
     "output_type": "execute_result"
    }
   ],
   "source": [
    "counts_by_dealer.head()"
   ]
  },
  {
   "cell_type": "markdown",
   "metadata": {
    "collapsed": true
   },
   "source": [
    "#### join table counts_by_dealer with table Dim_Dealer"
   ]
  },
  {
   "cell_type": "code",
   "execution_count": 15,
   "metadata": {
    "colab": {
     "autoexec": {
      "startup": false,
      "wait_interval": 0
     }
    },
    "colab_type": "code",
    "collapsed": true,
    "id": "rK7SsL1Y-StA"
   },
   "outputs": [],
   "source": [
    "dealer_performance = counts_by_dealer.join(Dim_Dealer,on=\"DealerId\",how=\"right\",rsuffix=\"_d\")"
   ]
  },
  {
   "cell_type": "code",
   "execution_count": 16,
   "metadata": {
    "colab": {
     "autoexec": {
      "startup": false,
      "wait_interval": 0
     }
    },
    "colab_type": "code",
    "id": "IsdqoDJ9-StC",
    "outputId": "6d1a8e65-439f-4f7e-e5f5-b1aef8f22c96"
   },
   "outputs": [
    {
     "data": {
      "text/html": [
       "<div>\n",
       "<style scoped>\n",
       "    .dataframe tbody tr th:only-of-type {\n",
       "        vertical-align: middle;\n",
       "    }\n",
       "\n",
       "    .dataframe tbody tr th {\n",
       "        vertical-align: top;\n",
       "    }\n",
       "\n",
       "    .dataframe thead th {\n",
       "        text-align: right;\n",
       "    }\n",
       "</style>\n",
       "<table border=\"1\" class=\"dataframe\">\n",
       "  <thead>\n",
       "    <tr style=\"text-align: right;\">\n",
       "      <th></th>\n",
       "      <th>DealerId</th>\n",
       "      <th>count</th>\n",
       "      <th>Unnamed: 0</th>\n",
       "      <th>DealerId_d</th>\n",
       "      <th>DealerName</th>\n",
       "      <th>Polygon Name</th>\n",
       "      <th>Address</th>\n",
       "      <th>City</th>\n",
       "      <th>State</th>\n",
       "      <th>Zip</th>\n",
       "      <th>...</th>\n",
       "      <th>Lotus</th>\n",
       "      <th>Maserati</th>\n",
       "      <th>Rolls Royce</th>\n",
       "      <th>Smart Cars</th>\n",
       "      <th>Tesla</th>\n",
       "      <th>PopulationDensityType</th>\n",
       "      <th>AlternateCategory1</th>\n",
       "      <th>AlternateCategory2</th>\n",
       "      <th>AlternateCategory3</th>\n",
       "      <th>AlternateCategory4</th>\n",
       "    </tr>\n",
       "    <tr>\n",
       "      <th>DealerId</th>\n",
       "      <th></th>\n",
       "      <th></th>\n",
       "      <th></th>\n",
       "      <th></th>\n",
       "      <th></th>\n",
       "      <th></th>\n",
       "      <th></th>\n",
       "      <th></th>\n",
       "      <th></th>\n",
       "      <th></th>\n",
       "      <th></th>\n",
       "      <th></th>\n",
       "      <th></th>\n",
       "      <th></th>\n",
       "      <th></th>\n",
       "      <th></th>\n",
       "      <th></th>\n",
       "      <th></th>\n",
       "      <th></th>\n",
       "      <th></th>\n",
       "      <th></th>\n",
       "    </tr>\n",
       "  </thead>\n",
       "  <tbody>\n",
       "    <tr>\n",
       "      <th>5916117</th>\n",
       "      <td>0</td>\n",
       "      <td>NaN</td>\n",
       "      <td>0</td>\n",
       "      <td>1722781</td>\n",
       "      <td>Carmax Tampa(TAM)</td>\n",
       "      <td>CarMax 7105 - Tampa(TAM), Tampa, FL</td>\n",
       "      <td>14920 Nebraska Avenue</td>\n",
       "      <td>Tampa</td>\n",
       "      <td>FL</td>\n",
       "      <td>33613</td>\n",
       "      <td>...</td>\n",
       "      <td>NaN</td>\n",
       "      <td>NaN</td>\n",
       "      <td>NaN</td>\n",
       "      <td>NaN</td>\n",
       "      <td>NaN</td>\n",
       "      <td>U</td>\n",
       "      <td>NaN</td>\n",
       "      <td>NaN</td>\n",
       "      <td>NaN</td>\n",
       "      <td>NaN</td>\n",
       "    </tr>\n",
       "    <tr>\n",
       "      <th>5916117</th>\n",
       "      <td>1</td>\n",
       "      <td>NaN</td>\n",
       "      <td>1</td>\n",
       "      <td>1722886</td>\n",
       "      <td>CarMax 11011 W Metro Auto Mall Milwaukee</td>\n",
       "      <td>CarMax, 11011 W Metro Auto Mall, Milwaukee, WI</td>\n",
       "      <td>11011 West Metro Blvd</td>\n",
       "      <td>Milwaukee</td>\n",
       "      <td>WI</td>\n",
       "      <td>53224</td>\n",
       "      <td>...</td>\n",
       "      <td>NaN</td>\n",
       "      <td>NaN</td>\n",
       "      <td>NaN</td>\n",
       "      <td>NaN</td>\n",
       "      <td>NaN</td>\n",
       "      <td>S</td>\n",
       "      <td>NaN</td>\n",
       "      <td>NaN</td>\n",
       "      <td>NaN</td>\n",
       "      <td>NaN</td>\n",
       "    </tr>\n",
       "    <tr>\n",
       "      <th>5916117</th>\n",
       "      <td>2</td>\n",
       "      <td>NaN</td>\n",
       "      <td>2</td>\n",
       "      <td>2220942</td>\n",
       "      <td>Tesla Tampa</td>\n",
       "      <td>Tesla Tampa, Tampa, FL</td>\n",
       "      <td>1907 N U.S. Highway 301 Suite 170</td>\n",
       "      <td>Tampa</td>\n",
       "      <td>FL</td>\n",
       "      <td>33619</td>\n",
       "      <td>...</td>\n",
       "      <td>NaN</td>\n",
       "      <td>NaN</td>\n",
       "      <td>NaN</td>\n",
       "      <td>NaN</td>\n",
       "      <td>NaN</td>\n",
       "      <td>S</td>\n",
       "      <td>NaN</td>\n",
       "      <td>NaN</td>\n",
       "      <td>NaN</td>\n",
       "      <td>NaN</td>\n",
       "    </tr>\n",
       "    <tr>\n",
       "      <th>5916117</th>\n",
       "      <td>3</td>\n",
       "      <td>NaN</td>\n",
       "      <td>3</td>\n",
       "      <td>4219663</td>\n",
       "      <td>Maserati Of Tampa</td>\n",
       "      <td>Maserati Of Tampa, Tampa, FL</td>\n",
       "      <td>11333 North Florida Ave.</td>\n",
       "      <td>Tampa</td>\n",
       "      <td>FL</td>\n",
       "      <td>33612</td>\n",
       "      <td>...</td>\n",
       "      <td>NaN</td>\n",
       "      <td>NaN</td>\n",
       "      <td>NaN</td>\n",
       "      <td>NaN</td>\n",
       "      <td>NaN</td>\n",
       "      <td>U</td>\n",
       "      <td>NaN</td>\n",
       "      <td>NaN</td>\n",
       "      <td>NaN</td>\n",
       "      <td>NaN</td>\n",
       "    </tr>\n",
       "    <tr>\n",
       "      <th>5916117</th>\n",
       "      <td>4</td>\n",
       "      <td>NaN</td>\n",
       "      <td>4</td>\n",
       "      <td>5898233</td>\n",
       "      <td>Jerry Ulm Dodge Chrysler Jeep</td>\n",
       "      <td>Fiat Chrysler Automobiles 43654 - Jerry Ulm Do...</td>\n",
       "      <td>2966 N Dale Mabry Hwy</td>\n",
       "      <td>Tampa</td>\n",
       "      <td>FL</td>\n",
       "      <td>33607-2415</td>\n",
       "      <td>...</td>\n",
       "      <td>NaN</td>\n",
       "      <td>NaN</td>\n",
       "      <td>NaN</td>\n",
       "      <td>NaN</td>\n",
       "      <td>NaN</td>\n",
       "      <td>S</td>\n",
       "      <td>Dodge</td>\n",
       "      <td>Jeep</td>\n",
       "      <td>NaN</td>\n",
       "      <td>NaN</td>\n",
       "    </tr>\n",
       "  </tbody>\n",
       "</table>\n",
       "<p>5 rows × 70 columns</p>\n",
       "</div>"
      ],
      "text/plain": [
       "          DealerId  count  Unnamed: 0  DealerId_d  \\\n",
       "DealerId                                            \n",
       "5916117          0    NaN           0     1722781   \n",
       "5916117          1    NaN           1     1722886   \n",
       "5916117          2    NaN           2     2220942   \n",
       "5916117          3    NaN           3     4219663   \n",
       "5916117          4    NaN           4     5898233   \n",
       "\n",
       "                                        DealerName  \\\n",
       "DealerId                                             \n",
       "5916117                          Carmax Tampa(TAM)   \n",
       "5916117   CarMax 11011 W Metro Auto Mall Milwaukee   \n",
       "5916117                                Tesla Tampa   \n",
       "5916117                          Maserati Of Tampa   \n",
       "5916117              Jerry Ulm Dodge Chrysler Jeep   \n",
       "\n",
       "                                               Polygon Name  \\\n",
       "DealerId                                                      \n",
       "5916117                 CarMax 7105 - Tampa(TAM), Tampa, FL   \n",
       "5916117      CarMax, 11011 W Metro Auto Mall, Milwaukee, WI   \n",
       "5916117                              Tesla Tampa, Tampa, FL   \n",
       "5916117                        Maserati Of Tampa, Tampa, FL   \n",
       "5916117   Fiat Chrysler Automobiles 43654 - Jerry Ulm Do...   \n",
       "\n",
       "                                    Address       City State         Zip  \\\n",
       "DealerId                                                                   \n",
       "5916117               14920 Nebraska Avenue      Tampa    FL       33613   \n",
       "5916117               11011 West Metro Blvd  Milwaukee    WI       53224   \n",
       "5916117   1907 N U.S. Highway 301 Suite 170      Tampa    FL       33619   \n",
       "5916117            11333 North Florida Ave.      Tampa    FL       33612   \n",
       "5916117               2966 N Dale Mabry Hwy      Tampa    FL  33607-2415   \n",
       "\n",
       "                 ...          Lotus  Maserati Rolls Royce  Smart Cars  Tesla  \\\n",
       "DealerId         ...                                                           \n",
       "5916117          ...            NaN       NaN         NaN         NaN    NaN   \n",
       "5916117          ...            NaN       NaN         NaN         NaN    NaN   \n",
       "5916117          ...            NaN       NaN         NaN         NaN    NaN   \n",
       "5916117          ...            NaN       NaN         NaN         NaN    NaN   \n",
       "5916117          ...            NaN       NaN         NaN         NaN    NaN   \n",
       "\n",
       "          PopulationDensityType  AlternateCategory1  AlternateCategory2  \\\n",
       "DealerId                                                                  \n",
       "5916117                       U                 NaN                 NaN   \n",
       "5916117                       S                 NaN                 NaN   \n",
       "5916117                       S                 NaN                 NaN   \n",
       "5916117                       U                 NaN                 NaN   \n",
       "5916117                       S               Dodge                Jeep   \n",
       "\n",
       "          AlternateCategory3  AlternateCategory4  \n",
       "DealerId                                          \n",
       "5916117                  NaN                 NaN  \n",
       "5916117                  NaN                 NaN  \n",
       "5916117                  NaN                 NaN  \n",
       "5916117                  NaN                 NaN  \n",
       "5916117                  NaN                 NaN  \n",
       "\n",
       "[5 rows x 70 columns]"
      ]
     },
     "execution_count": 16,
     "metadata": {},
     "output_type": "execute_result"
    }
   ],
   "source": [
    "dealer_performance.sort_values(by = \"count\",ascending=False).head()"
   ]
  },
  {
   "cell_type": "markdown",
   "metadata": {},
   "source": [
    "#### check null value in dealership count "
   ]
  },
  {
   "cell_type": "code",
   "execution_count": 17,
   "metadata": {
    "colab": {
     "autoexec": {
      "startup": false,
      "wait_interval": 0
     }
    },
    "colab_type": "code",
    "id": "LVoQnKG6-StG",
    "outputId": "2126ed4e-60b0-4045-88d1-55c570242ed3"
   },
   "outputs": [
    {
     "data": {
      "text/plain": [
       "77"
      ]
     },
     "execution_count": 17,
     "metadata": {},
     "output_type": "execute_result"
    }
   ],
   "source": [
    "dealer_performance[\"count\"].isnull().sum()"
   ]
  },
  {
   "cell_type": "code",
   "execution_count": 18,
   "metadata": {
    "colab": {
     "autoexec": {
      "startup": false,
      "wait_interval": 0
     }
    },
    "colab_type": "code",
    "id": "lHqrZRVz-StJ",
    "outputId": "8f0e90ce-70b1-4174-e5e8-d4db43798683"
   },
   "outputs": [
    {
     "data": {
      "text/plain": [
       "Index(['Unnamed: 0', 'LeadId', 'MobileHashtag', 'Latitude', 'Longitude',\n",
       "       'AddressLatitude', 'AddressLongitude', 'AddressLine1', 'City',\n",
       "       'Country',\n",
       "       ...\n",
       "       'Fourth Auto Mileage.1', 'Fourth Auto Last Verified Date.1',\n",
       "       'IP Address.1', 'Region.1', 'IP City.1', 'IP Zip.1',\n",
       "       'Internet Provider.1', 'IP From.1', 'IP To.1', 'MailableStatus'],\n",
       "      dtype='object', length=446)"
      ]
     },
     "execution_count": 18,
     "metadata": {},
     "output_type": "execute_result"
    }
   ],
   "source": [
    "Dim_Lead.columns"
   ]
  },
  {
   "cell_type": "markdown",
   "metadata": {},
   "source": [
    "#### create a new table Lead_simple with LeadId as Index"
   ]
  },
  {
   "cell_type": "code",
   "execution_count": 19,
   "metadata": {
    "colab": {
     "autoexec": {
      "startup": false,
      "wait_interval": 0
     }
    },
    "colab_type": "code",
    "collapsed": true,
    "id": "usjTiNAM-StM"
   },
   "outputs": [],
   "source": [
    "Lead_simple = Dim_Lead[['LeadId','VisitorId']].set_index('LeadId')"
   ]
  },
  {
   "cell_type": "code",
   "execution_count": 20,
   "metadata": {
    "colab": {
     "autoexec": {
      "startup": false,
      "wait_interval": 0
     }
    },
    "colab_type": "code",
    "collapsed": true,
    "id": "CNS5ZRDb-StP"
   },
   "outputs": [],
   "source": [
    "factvisits = factvisits.set_index('LeadId')"
   ]
  },
  {
   "cell_type": "code",
   "execution_count": 21,
   "metadata": {
    "colab": {
     "autoexec": {
      "startup": false,
      "wait_interval": 0
     }
    },
    "colab_type": "code",
    "id": "Xdd9_9MR-StQ",
    "outputId": "1d78d6f7-9cdc-4e0a-adc7-57fdc3cddd5c"
   },
   "outputs": [
    {
     "data": {
      "text/html": [
       "<div>\n",
       "<style scoped>\n",
       "    .dataframe tbody tr th:only-of-type {\n",
       "        vertical-align: middle;\n",
       "    }\n",
       "\n",
       "    .dataframe tbody tr th {\n",
       "        vertical-align: top;\n",
       "    }\n",
       "\n",
       "    .dataframe thead th {\n",
       "        text-align: right;\n",
       "    }\n",
       "</style>\n",
       "<table border=\"1\" class=\"dataframe\">\n",
       "  <thead>\n",
       "    <tr style=\"text-align: right;\">\n",
       "      <th></th>\n",
       "      <th>VisitorId</th>\n",
       "    </tr>\n",
       "    <tr>\n",
       "      <th>LeadId</th>\n",
       "      <th></th>\n",
       "    </tr>\n",
       "  </thead>\n",
       "  <tbody>\n",
       "    <tr>\n",
       "      <th>816</th>\n",
       "      <td>5297747</td>\n",
       "    </tr>\n",
       "    <tr>\n",
       "      <th>2345</th>\n",
       "      <td>699580</td>\n",
       "    </tr>\n",
       "    <tr>\n",
       "      <th>6750</th>\n",
       "      <td>2848049</td>\n",
       "    </tr>\n",
       "    <tr>\n",
       "      <th>7613</th>\n",
       "      <td>6192321</td>\n",
       "    </tr>\n",
       "    <tr>\n",
       "      <th>7622</th>\n",
       "      <td>6192322</td>\n",
       "    </tr>\n",
       "  </tbody>\n",
       "</table>\n",
       "</div>"
      ],
      "text/plain": [
       "        VisitorId\n",
       "LeadId           \n",
       "816       5297747\n",
       "2345       699580\n",
       "6750      2848049\n",
       "7613      6192321\n",
       "7622      6192322"
      ]
     },
     "execution_count": 21,
     "metadata": {},
     "output_type": "execute_result"
    }
   ],
   "source": [
    "Lead_simple.head()"
   ]
  },
  {
   "cell_type": "markdown",
   "metadata": {},
   "source": [
    "#### create a new table visitor_agg with visitor Id and count of visits"
   ]
  },
  {
   "cell_type": "code",
   "execution_count": 22,
   "metadata": {
    "colab": {
     "autoexec": {
      "startup": false,
      "wait_interval": 0
     }
    },
    "colab_type": "code",
    "collapsed": true,
    "id": "xNy2KRTw-StT"
   },
   "outputs": [],
   "source": [
    "shopping_visitor = Lead_simple.join(factvisits,rsuffix=\"_d\")"
   ]
  },
  {
   "cell_type": "code",
   "execution_count": 23,
   "metadata": {
    "colab": {
     "autoexec": {
      "startup": false,
      "wait_interval": 0
     }
    },
    "colab_type": "code",
    "collapsed": true,
    "id": "kV-wJcKW-StU"
   },
   "outputs": [],
   "source": [
    "visitor_agg_1 = shopping_visitor.groupby(\"VisitorId\")[\"VisitorId\",\"CustomerId\"].count()"
   ]
  },
  {
   "cell_type": "code",
   "execution_count": 24,
   "metadata": {
    "colab": {
     "autoexec": {
      "startup": false,
      "wait_interval": 0
     }
    },
    "colab_type": "code",
    "collapsed": true,
    "id": "7rhzIPxJ-StW"
   },
   "outputs": [],
   "source": [
    "visitor_agg_1[\"count\"] = visitor_agg_1[\"VisitorId\"]"
   ]
  },
  {
   "cell_type": "code",
   "execution_count": 25,
   "metadata": {
    "colab": {
     "autoexec": {
      "startup": false,
      "wait_interval": 0
     }
    },
    "colab_type": "code",
    "collapsed": true,
    "id": "S-YQv_Cw-StY"
   },
   "outputs": [],
   "source": [
    "visitor_agg_1[\"VisitorId\"] = visitor_agg_1.index "
   ]
  },
  {
   "cell_type": "code",
   "execution_count": 26,
   "metadata": {
    "colab": {
     "autoexec": {
      "startup": false,
      "wait_interval": 0
     }
    },
    "colab_type": "code",
    "id": "M5Hq1Gg--Sta",
    "outputId": "08691b1b-64ae-449b-ad6c-ea6d34ddbfa5"
   },
   "outputs": [
    {
     "data": {
      "text/plain": [
       "Index(['VisitorId', 'CustomerId', 'count'], dtype='object')"
      ]
     },
     "execution_count": 26,
     "metadata": {},
     "output_type": "execute_result"
    }
   ],
   "source": [
    "visitor_agg_1.columns"
   ]
  },
  {
   "cell_type": "code",
   "execution_count": 27,
   "metadata": {
    "colab": {
     "autoexec": {
      "startup": false,
      "wait_interval": 0
     }
    },
    "colab_type": "code",
    "collapsed": true,
    "id": "ZJa9otb6-Std"
   },
   "outputs": [],
   "source": [
    "visitor_agg = visitor_agg_1[['VisitorId','count']]"
   ]
  },
  {
   "cell_type": "code",
   "execution_count": 28,
   "metadata": {
    "colab": {
     "autoexec": {
      "startup": false,
      "wait_interval": 0
     }
    },
    "colab_type": "code",
    "id": "CnzI5343-Stf",
    "outputId": "87e827c6-0a6e-44d8-fcfc-9f513d334215"
   },
   "outputs": [
    {
     "data": {
      "text/html": [
       "<div>\n",
       "<style scoped>\n",
       "    .dataframe tbody tr th:only-of-type {\n",
       "        vertical-align: middle;\n",
       "    }\n",
       "\n",
       "    .dataframe tbody tr th {\n",
       "        vertical-align: top;\n",
       "    }\n",
       "\n",
       "    .dataframe thead th {\n",
       "        text-align: right;\n",
       "    }\n",
       "</style>\n",
       "<table border=\"1\" class=\"dataframe\">\n",
       "  <thead>\n",
       "    <tr style=\"text-align: right;\">\n",
       "      <th></th>\n",
       "      <th>VisitorId</th>\n",
       "      <th>count</th>\n",
       "    </tr>\n",
       "    <tr>\n",
       "      <th>VisitorId</th>\n",
       "      <th></th>\n",
       "      <th></th>\n",
       "    </tr>\n",
       "  </thead>\n",
       "  <tbody>\n",
       "    <tr>\n",
       "      <th>81283</th>\n",
       "      <td>81283</td>\n",
       "      <td>1</td>\n",
       "    </tr>\n",
       "    <tr>\n",
       "      <th>81284</th>\n",
       "      <td>81284</td>\n",
       "      <td>1</td>\n",
       "    </tr>\n",
       "    <tr>\n",
       "      <th>81935</th>\n",
       "      <td>81935</td>\n",
       "      <td>7</td>\n",
       "    </tr>\n",
       "    <tr>\n",
       "      <th>84087</th>\n",
       "      <td>84087</td>\n",
       "      <td>1</td>\n",
       "    </tr>\n",
       "    <tr>\n",
       "      <th>84088</th>\n",
       "      <td>84088</td>\n",
       "      <td>1</td>\n",
       "    </tr>\n",
       "  </tbody>\n",
       "</table>\n",
       "</div>"
      ],
      "text/plain": [
       "           VisitorId  count\n",
       "VisitorId                  \n",
       "81283          81283      1\n",
       "81284          81284      1\n",
       "81935          81935      7\n",
       "84087          84087      1\n",
       "84088          84088      1"
      ]
     },
     "execution_count": 28,
     "metadata": {},
     "output_type": "execute_result"
    }
   ],
   "source": [
    "visitor_agg.head()"
   ]
  },
  {
   "cell_type": "code",
   "execution_count": 32,
   "metadata": {
    "colab": {
     "autoexec": {
      "startup": false,
      "wait_interval": 0
     }
    },
    "colab_type": "code",
    "collapsed": true,
    "id": "_re8yjoA-Stj"
   },
   "outputs": [],
   "source": [
    "## all_data = Dim_Dealer.merge(factvisits,suffixes=('_l', '_r'),on=(\"DealerId\")).merge(Dim_Lead,on=(\"LeadId\"),suffixes=('_l', '_r'))"
   ]
  },
  {
   "cell_type": "markdown",
   "metadata": {
    "colab_type": "text",
    "id": "MxANmiaXGNs5"
   },
   "source": [
    "### Export all data"
   ]
  },
  {
   "cell_type": "code",
   "execution_count": 33,
   "metadata": {
    "colab": {
     "autoexec": {
      "startup": false,
      "wait_interval": 0
     }
    },
    "colab_type": "code",
    "collapsed": true,
    "id": "bopb1k02-Stm"
   },
   "outputs": [],
   "source": [
    "## all_data.to_csv(\"all_data.csv\")"
   ]
  },
  {
   "cell_type": "markdown",
   "metadata": {},
   "source": [
    "## Co-visitation Analysis "
   ]
  },
  {
   "cell_type": "markdown",
   "metadata": {},
   "source": [
    "### Fetch Data"
   ]
  },
  {
   "cell_type": "code",
   "execution_count": 35,
   "metadata": {
    "colab": {
     "autoexec": {
      "startup": false,
      "wait_interval": 0
     }
    },
    "colab_type": "code",
    "id": "IqZQpVwH-Stn",
    "outputId": "63ffa539-6e84-487e-cb3d-b4b758344afe"
   },
   "outputs": [
    {
     "name": "stderr",
     "output_type": "stream",
     "text": [
      "/Users/Jessica/anaconda3/lib/python3.6/site-packages/IPython/core/interactiveshell.py:2698: DtypeWarning: Columns (8,65,66,94,96,114,128,129,130,155,167,171,172,173,189,190,192,193,196,197,198,199,229,230,240,241,242,243,254,255,256,257,258,259,260,262,265,266,268,269,270,271,272,274,275,277,278,279,280,281,283,284,286,287,288,289,290,292,293,295,296,297,298,299,309,310,335,365,374,378,379,380,450,451,452,453,472,473,474,494,505,506,508,509,510,511,512,521) have mixed types. Specify dtype option on import or set low_memory=False.\n",
      "  interactivity=interactivity, compiler=compiler, result=result)\n"
     ]
    }
   ],
   "source": [
    "all_data = pd.read_csv(\"all_data.csv\")"
   ]
  },
  {
   "cell_type": "code",
   "execution_count": 36,
   "metadata": {
    "colab": {
     "autoexec": {
      "startup": false,
      "wait_interval": 0
     }
    },
    "colab_type": "code",
    "id": "URrwltym-Str",
    "outputId": "34f3cb62-309d-4962-9f80-1a8c4e90cc42"
   },
   "outputs": [
    {
     "data": {
      "text/plain": [
       "Index(['Unnamed: 0', 'Unnamed: 0_l', 'DealerId', 'DealerName', 'Polygon Name',\n",
       "       'Address', 'City_l', 'State', 'Zip', 'Lat',\n",
       "       ...\n",
       "       'Fourth Auto Mileage.1', 'Fourth Auto Last Verified Date.1',\n",
       "       'IP Address.1', 'Region.1', 'IP City.1', 'IP Zip.1',\n",
       "       'Internet Provider.1', 'IP From.1', 'IP To.1', 'MailableStatus'],\n",
       "      dtype='object', length=522)"
      ]
     },
     "execution_count": 36,
     "metadata": {},
     "output_type": "execute_result"
    }
   ],
   "source": [
    "all_data.columns"
   ]
  },
  {
   "cell_type": "markdown",
   "metadata": {
    "colab_type": "text",
    "id": "9a1YgHMcGRJj"
   },
   "source": [
    "#### pull out count of visits by city"
   ]
  },
  {
   "cell_type": "code",
   "execution_count": 37,
   "metadata": {
    "colab": {
     "autoexec": {
      "startup": false,
      "wait_interval": 0
     }
    },
    "colab_type": "code",
    "collapsed": true,
    "id": "nhSXPqss-Stu"
   },
   "outputs": [],
   "source": [
    "visits_per_lead_p = all_data[[\"DealerId\",\"LeadId\",\"DateId\",\"City_l\"]].drop_duplicates()"
   ]
  },
  {
   "cell_type": "code",
   "execution_count": 38,
   "metadata": {
    "colab": {
     "autoexec": {
      "startup": false,
      "wait_interval": 0
     }
    },
    "colab_type": "code",
    "id": "s6sEXo1I-Stw",
    "outputId": "4e2c44aa-c2a8-4d5e-ea30-61c3d74554bc"
   },
   "outputs": [
    {
     "data": {
      "text/plain": [
       "Tampa        65792\n",
       "Milwaukee    23119\n",
       "MILWAUKEE     4340\n",
       "TAMPA         3887\n",
       "Name: City_l, dtype: int64"
      ]
     },
     "execution_count": 38,
     "metadata": {},
     "output_type": "execute_result"
    }
   ],
   "source": [
    "all_data[\"City_l\"].value_counts()"
   ]
  },
  {
   "cell_type": "markdown",
   "metadata": {
    "colab_type": "text",
    "id": "y6noa_bHGkkm"
   },
   "source": [
    "#### Set City"
   ]
  },
  {
   "cell_type": "code",
   "execution_count": 39,
   "metadata": {
    "colab": {
     "autoexec": {
      "startup": false,
      "wait_interval": 0
     }
    },
    "colab_type": "code",
    "collapsed": true,
    "id": "tYYaiVVHGqD_"
   },
   "outputs": [],
   "source": [
    "city = \"tampa\""
   ]
  },
  {
   "cell_type": "code",
   "execution_count": 41,
   "metadata": {
    "colab": {
     "autoexec": {
      "startup": false,
      "wait_interval": 0
     }
    },
    "colab_type": "code",
    "collapsed": true,
    "id": "xaFhUx2m-Stz"
   },
   "outputs": [],
   "source": [
    "visits_per_lead = visits_per_lead_p[visits_per_lead_p[\"City_l\"].str.lower() == city]"
   ]
  },
  {
   "cell_type": "code",
   "execution_count": 42,
   "metadata": {
    "colab": {
     "autoexec": {
      "startup": false,
      "wait_interval": 0
     }
    },
    "colab_type": "code",
    "id": "vkQDqjfC-St1",
    "outputId": "aa2f9bcc-1878-449e-d30c-541e80cf1693"
   },
   "outputs": [
    {
     "data": {
      "text/plain": [
       "pandas.core.frame.DataFrame"
      ]
     },
     "execution_count": 42,
     "metadata": {},
     "output_type": "execute_result"
    }
   ],
   "source": [
    "type(visits_per_lead)"
   ]
  },
  {
   "cell_type": "code",
   "execution_count": 43,
   "metadata": {
    "colab": {
     "autoexec": {
      "startup": false,
      "wait_interval": 0
     }
    },
    "colab_type": "code",
    "collapsed": true,
    "id": "Dt50LWKn-St3"
   },
   "outputs": [],
   "source": [
    "cross_visit = pd.pivot_table(visits_per_lead,values='DateId', index=['LeadId'],columns=['DealerId'], aggfunc='count')"
   ]
  },
  {
   "cell_type": "code",
   "execution_count": 44,
   "metadata": {
    "colab": {
     "autoexec": {
      "startup": false,
      "wait_interval": 0
     }
    },
    "colab_type": "code",
    "id": "hHpH4vzl-St5",
    "outputId": "2ed33ce1-c026-4613-b789-7d3ff417723a"
   },
   "outputs": [
    {
     "data": {
      "text/html": [
       "<div>\n",
       "<style scoped>\n",
       "    .dataframe tbody tr th:only-of-type {\n",
       "        vertical-align: middle;\n",
       "    }\n",
       "\n",
       "    .dataframe tbody tr th {\n",
       "        vertical-align: top;\n",
       "    }\n",
       "\n",
       "    .dataframe thead th {\n",
       "        text-align: right;\n",
       "    }\n",
       "</style>\n",
       "<table border=\"1\" class=\"dataframe\">\n",
       "  <thead>\n",
       "    <tr style=\"text-align: right;\">\n",
       "      <th>DealerId</th>\n",
       "      <th>1722781</th>\n",
       "      <th>2220942</th>\n",
       "      <th>4219663</th>\n",
       "      <th>5898233</th>\n",
       "      <th>5898628</th>\n",
       "      <th>5899139</th>\n",
       "      <th>5901137</th>\n",
       "      <th>5901143</th>\n",
       "      <th>5902011</th>\n",
       "      <th>5902012</th>\n",
       "      <th>...</th>\n",
       "      <th>6070090</th>\n",
       "      <th>6070091</th>\n",
       "      <th>6072752</th>\n",
       "      <th>6101127</th>\n",
       "      <th>6101128</th>\n",
       "      <th>6101129</th>\n",
       "      <th>6101130</th>\n",
       "      <th>6101131</th>\n",
       "      <th>6101132</th>\n",
       "      <th>6151734</th>\n",
       "    </tr>\n",
       "    <tr>\n",
       "      <th>LeadId</th>\n",
       "      <th></th>\n",
       "      <th></th>\n",
       "      <th></th>\n",
       "      <th></th>\n",
       "      <th></th>\n",
       "      <th></th>\n",
       "      <th></th>\n",
       "      <th></th>\n",
       "      <th></th>\n",
       "      <th></th>\n",
       "      <th></th>\n",
       "      <th></th>\n",
       "      <th></th>\n",
       "      <th></th>\n",
       "      <th></th>\n",
       "      <th></th>\n",
       "      <th></th>\n",
       "      <th></th>\n",
       "      <th></th>\n",
       "      <th></th>\n",
       "      <th></th>\n",
       "    </tr>\n",
       "  </thead>\n",
       "  <tbody>\n",
       "    <tr>\n",
       "      <th>816</th>\n",
       "      <td>NaN</td>\n",
       "      <td>NaN</td>\n",
       "      <td>NaN</td>\n",
       "      <td>NaN</td>\n",
       "      <td>NaN</td>\n",
       "      <td>NaN</td>\n",
       "      <td>NaN</td>\n",
       "      <td>NaN</td>\n",
       "      <td>NaN</td>\n",
       "      <td>NaN</td>\n",
       "      <td>...</td>\n",
       "      <td>NaN</td>\n",
       "      <td>NaN</td>\n",
       "      <td>NaN</td>\n",
       "      <td>NaN</td>\n",
       "      <td>NaN</td>\n",
       "      <td>NaN</td>\n",
       "      <td>NaN</td>\n",
       "      <td>NaN</td>\n",
       "      <td>NaN</td>\n",
       "      <td>NaN</td>\n",
       "    </tr>\n",
       "    <tr>\n",
       "      <th>2345</th>\n",
       "      <td>NaN</td>\n",
       "      <td>NaN</td>\n",
       "      <td>NaN</td>\n",
       "      <td>NaN</td>\n",
       "      <td>NaN</td>\n",
       "      <td>NaN</td>\n",
       "      <td>NaN</td>\n",
       "      <td>NaN</td>\n",
       "      <td>NaN</td>\n",
       "      <td>1.0</td>\n",
       "      <td>...</td>\n",
       "      <td>NaN</td>\n",
       "      <td>NaN</td>\n",
       "      <td>NaN</td>\n",
       "      <td>NaN</td>\n",
       "      <td>NaN</td>\n",
       "      <td>1.0</td>\n",
       "      <td>NaN</td>\n",
       "      <td>NaN</td>\n",
       "      <td>NaN</td>\n",
       "      <td>NaN</td>\n",
       "    </tr>\n",
       "    <tr>\n",
       "      <th>6750</th>\n",
       "      <td>NaN</td>\n",
       "      <td>NaN</td>\n",
       "      <td>NaN</td>\n",
       "      <td>NaN</td>\n",
       "      <td>NaN</td>\n",
       "      <td>NaN</td>\n",
       "      <td>NaN</td>\n",
       "      <td>NaN</td>\n",
       "      <td>NaN</td>\n",
       "      <td>NaN</td>\n",
       "      <td>...</td>\n",
       "      <td>NaN</td>\n",
       "      <td>NaN</td>\n",
       "      <td>NaN</td>\n",
       "      <td>NaN</td>\n",
       "      <td>NaN</td>\n",
       "      <td>NaN</td>\n",
       "      <td>NaN</td>\n",
       "      <td>NaN</td>\n",
       "      <td>NaN</td>\n",
       "      <td>NaN</td>\n",
       "    </tr>\n",
       "    <tr>\n",
       "      <th>7613</th>\n",
       "      <td>NaN</td>\n",
       "      <td>NaN</td>\n",
       "      <td>NaN</td>\n",
       "      <td>NaN</td>\n",
       "      <td>NaN</td>\n",
       "      <td>6.0</td>\n",
       "      <td>NaN</td>\n",
       "      <td>NaN</td>\n",
       "      <td>NaN</td>\n",
       "      <td>NaN</td>\n",
       "      <td>...</td>\n",
       "      <td>NaN</td>\n",
       "      <td>NaN</td>\n",
       "      <td>5.0</td>\n",
       "      <td>NaN</td>\n",
       "      <td>8.0</td>\n",
       "      <td>NaN</td>\n",
       "      <td>NaN</td>\n",
       "      <td>NaN</td>\n",
       "      <td>NaN</td>\n",
       "      <td>2.0</td>\n",
       "    </tr>\n",
       "    <tr>\n",
       "      <th>7622</th>\n",
       "      <td>NaN</td>\n",
       "      <td>NaN</td>\n",
       "      <td>NaN</td>\n",
       "      <td>NaN</td>\n",
       "      <td>NaN</td>\n",
       "      <td>NaN</td>\n",
       "      <td>NaN</td>\n",
       "      <td>NaN</td>\n",
       "      <td>NaN</td>\n",
       "      <td>NaN</td>\n",
       "      <td>...</td>\n",
       "      <td>NaN</td>\n",
       "      <td>NaN</td>\n",
       "      <td>NaN</td>\n",
       "      <td>NaN</td>\n",
       "      <td>NaN</td>\n",
       "      <td>NaN</td>\n",
       "      <td>NaN</td>\n",
       "      <td>NaN</td>\n",
       "      <td>NaN</td>\n",
       "      <td>NaN</td>\n",
       "    </tr>\n",
       "  </tbody>\n",
       "</table>\n",
       "<p>5 rows × 50 columns</p>\n",
       "</div>"
      ],
      "text/plain": [
       "DealerId  1722781  2220942  4219663  5898233  5898628  5899139  5901137  \\\n",
       "LeadId                                                                    \n",
       "816           NaN      NaN      NaN      NaN      NaN      NaN      NaN   \n",
       "2345          NaN      NaN      NaN      NaN      NaN      NaN      NaN   \n",
       "6750          NaN      NaN      NaN      NaN      NaN      NaN      NaN   \n",
       "7613          NaN      NaN      NaN      NaN      NaN      6.0      NaN   \n",
       "7622          NaN      NaN      NaN      NaN      NaN      NaN      NaN   \n",
       "\n",
       "DealerId  5901143  5902011  5902012   ...     6070090  6070091  6072752  \\\n",
       "LeadId                                ...                                 \n",
       "816           NaN      NaN      NaN   ...         NaN      NaN      NaN   \n",
       "2345          NaN      NaN      1.0   ...         NaN      NaN      NaN   \n",
       "6750          NaN      NaN      NaN   ...         NaN      NaN      NaN   \n",
       "7613          NaN      NaN      NaN   ...         NaN      NaN      5.0   \n",
       "7622          NaN      NaN      NaN   ...         NaN      NaN      NaN   \n",
       "\n",
       "DealerId  6101127  6101128  6101129  6101130  6101131  6101132  6151734  \n",
       "LeadId                                                                   \n",
       "816           NaN      NaN      NaN      NaN      NaN      NaN      NaN  \n",
       "2345          NaN      NaN      1.0      NaN      NaN      NaN      NaN  \n",
       "6750          NaN      NaN      NaN      NaN      NaN      NaN      NaN  \n",
       "7613          NaN      8.0      NaN      NaN      NaN      NaN      2.0  \n",
       "7622          NaN      NaN      NaN      NaN      NaN      NaN      NaN  \n",
       "\n",
       "[5 rows x 50 columns]"
      ]
     },
     "execution_count": 44,
     "metadata": {},
     "output_type": "execute_result"
    }
   ],
   "source": [
    "cross_visit.head()"
   ]
  },
  {
   "cell_type": "markdown",
   "metadata": {
    "colab_type": "text",
    "id": "GsEW4UdCGYPh"
   },
   "source": [
    "### Co-visitation on dealer level"
   ]
  },
  {
   "cell_type": "markdown",
   "metadata": {},
   "source": [
    "#### Use For Loop to calculate covisitation by DealerId"
   ]
  },
  {
   "cell_type": "code",
   "execution_count": 45,
   "metadata": {
    "colab": {
     "autoexec": {
      "startup": false,
      "wait_interval": 0
     }
    },
    "colab_type": "code",
    "collapsed": true,
    "id": "T8vqADva-St8"
   },
   "outputs": [],
   "source": [
    "dealerlist = cross_visit.columns"
   ]
  },
  {
   "cell_type": "code",
   "execution_count": 46,
   "metadata": {
    "colab": {
     "autoexec": {
      "startup": false,
      "wait_interval": 0
     }
    },
    "colab_type": "code",
    "collapsed": true,
    "id": "t7Bnj1QU-SuA"
   },
   "outputs": [],
   "source": [
    "brandlist = dealerlist"
   ]
  },
  {
   "cell_type": "code",
   "execution_count": 47,
   "metadata": {
    "colab": {
     "autoexec": {
      "startup": false,
      "wait_interval": 0
     }
    },
    "colab_type": "code",
    "collapsed": true,
    "id": "lmlUn635-SuC"
   },
   "outputs": [],
   "source": [
    "b = []\n",
    "for brand1 in brandlist:\n",
    "    a = []\n",
    "    for brand2 in brandlist:\n",
    "        try:\n",
    "            value = len(cross_visit[(cross_visit[brand1] > 0) & (cross_visit[brand2] > 0)])/len(cross_visit[cross_visit[brand1] > 0])\n",
    "            value = round(value,3)\n",
    "        except:\n",
    "            value = np.nan\n",
    "        a.append(value)\n",
    "    b.append(a)    "
   ]
  },
  {
   "cell_type": "code",
   "execution_count": 48,
   "metadata": {
    "colab": {
     "autoexec": {
      "startup": false,
      "wait_interval": 0
     }
    },
    "colab_type": "code",
    "collapsed": true,
    "id": "ZgqQIb9x-SuG"
   },
   "outputs": [],
   "source": [
    "cross_visitation_dealer = pd.DataFrame.from_records(b, columns=brandlist)"
   ]
  },
  {
   "cell_type": "code",
   "execution_count": 49,
   "metadata": {
    "colab": {
     "autoexec": {
      "startup": false,
      "wait_interval": 0
     }
    },
    "colab_type": "code",
    "collapsed": true,
    "id": "GIX6Ftee-SuJ"
   },
   "outputs": [],
   "source": [
    "cross_visitation_dealer.index = brandlist"
   ]
  },
  {
   "cell_type": "code",
   "execution_count": 51,
   "metadata": {
    "colab": {
     "autoexec": {
      "startup": false,
      "wait_interval": 0
     }
    },
    "colab_type": "code",
    "id": "8CB4pNYN-SuM",
    "outputId": "7b900278-6c41-4db6-f6e6-89d3256fb631"
   },
   "outputs": [
    {
     "data": {
      "text/html": [
       "<div>\n",
       "<style scoped>\n",
       "    .dataframe tbody tr th:only-of-type {\n",
       "        vertical-align: middle;\n",
       "    }\n",
       "\n",
       "    .dataframe tbody tr th {\n",
       "        vertical-align: top;\n",
       "    }\n",
       "\n",
       "    .dataframe thead th {\n",
       "        text-align: right;\n",
       "    }\n",
       "</style>\n",
       "<table border=\"1\" class=\"dataframe\">\n",
       "  <thead>\n",
       "    <tr style=\"text-align: right;\">\n",
       "      <th>DealerId</th>\n",
       "      <th>1722781</th>\n",
       "      <th>2220942</th>\n",
       "      <th>4219663</th>\n",
       "      <th>5898233</th>\n",
       "      <th>5898628</th>\n",
       "      <th>5899139</th>\n",
       "      <th>5901137</th>\n",
       "      <th>5901143</th>\n",
       "      <th>5902011</th>\n",
       "      <th>5902012</th>\n",
       "      <th>...</th>\n",
       "      <th>6070090</th>\n",
       "      <th>6070091</th>\n",
       "      <th>6072752</th>\n",
       "      <th>6101127</th>\n",
       "      <th>6101128</th>\n",
       "      <th>6101129</th>\n",
       "      <th>6101130</th>\n",
       "      <th>6101131</th>\n",
       "      <th>6101132</th>\n",
       "      <th>6151734</th>\n",
       "    </tr>\n",
       "    <tr>\n",
       "      <th>DealerId</th>\n",
       "      <th></th>\n",
       "      <th></th>\n",
       "      <th></th>\n",
       "      <th></th>\n",
       "      <th></th>\n",
       "      <th></th>\n",
       "      <th></th>\n",
       "      <th></th>\n",
       "      <th></th>\n",
       "      <th></th>\n",
       "      <th></th>\n",
       "      <th></th>\n",
       "      <th></th>\n",
       "      <th></th>\n",
       "      <th></th>\n",
       "      <th></th>\n",
       "      <th></th>\n",
       "      <th></th>\n",
       "      <th></th>\n",
       "      <th></th>\n",
       "      <th></th>\n",
       "    </tr>\n",
       "  </thead>\n",
       "  <tbody>\n",
       "    <tr>\n",
       "      <th>1722781</th>\n",
       "      <td>1.000</td>\n",
       "      <td>0.000</td>\n",
       "      <td>0.003</td>\n",
       "      <td>0.046</td>\n",
       "      <td>0.011</td>\n",
       "      <td>0.034</td>\n",
       "      <td>0.023</td>\n",
       "      <td>0.005</td>\n",
       "      <td>0.011</td>\n",
       "      <td>0.008</td>\n",
       "      <td>...</td>\n",
       "      <td>0.024</td>\n",
       "      <td>0.039</td>\n",
       "      <td>0.023</td>\n",
       "      <td>0.017</td>\n",
       "      <td>0.062</td>\n",
       "      <td>0.022</td>\n",
       "      <td>0.028</td>\n",
       "      <td>0.024</td>\n",
       "      <td>0.012</td>\n",
       "      <td>0.065</td>\n",
       "    </tr>\n",
       "    <tr>\n",
       "      <th>2220942</th>\n",
       "      <td>0.000</td>\n",
       "      <td>1.000</td>\n",
       "      <td>0.000</td>\n",
       "      <td>0.083</td>\n",
       "      <td>0.042</td>\n",
       "      <td>0.042</td>\n",
       "      <td>0.083</td>\n",
       "      <td>0.042</td>\n",
       "      <td>0.000</td>\n",
       "      <td>0.042</td>\n",
       "      <td>...</td>\n",
       "      <td>0.125</td>\n",
       "      <td>0.000</td>\n",
       "      <td>0.000</td>\n",
       "      <td>0.000</td>\n",
       "      <td>0.000</td>\n",
       "      <td>0.083</td>\n",
       "      <td>0.000</td>\n",
       "      <td>0.000</td>\n",
       "      <td>0.000</td>\n",
       "      <td>0.083</td>\n",
       "    </tr>\n",
       "    <tr>\n",
       "      <th>4219663</th>\n",
       "      <td>0.048</td>\n",
       "      <td>0.000</td>\n",
       "      <td>1.000</td>\n",
       "      <td>0.016</td>\n",
       "      <td>0.016</td>\n",
       "      <td>0.161</td>\n",
       "      <td>0.032</td>\n",
       "      <td>0.000</td>\n",
       "      <td>0.016</td>\n",
       "      <td>0.000</td>\n",
       "      <td>...</td>\n",
       "      <td>0.016</td>\n",
       "      <td>0.113</td>\n",
       "      <td>0.177</td>\n",
       "      <td>0.016</td>\n",
       "      <td>0.113</td>\n",
       "      <td>0.000</td>\n",
       "      <td>0.016</td>\n",
       "      <td>0.274</td>\n",
       "      <td>0.000</td>\n",
       "      <td>0.242</td>\n",
       "    </tr>\n",
       "    <tr>\n",
       "      <th>5898233</th>\n",
       "      <td>0.061</td>\n",
       "      <td>0.003</td>\n",
       "      <td>0.001</td>\n",
       "      <td>1.000</td>\n",
       "      <td>0.031</td>\n",
       "      <td>0.029</td>\n",
       "      <td>0.072</td>\n",
       "      <td>0.015</td>\n",
       "      <td>0.047</td>\n",
       "      <td>0.011</td>\n",
       "      <td>...</td>\n",
       "      <td>0.029</td>\n",
       "      <td>0.037</td>\n",
       "      <td>0.019</td>\n",
       "      <td>0.055</td>\n",
       "      <td>0.046</td>\n",
       "      <td>0.032</td>\n",
       "      <td>0.033</td>\n",
       "      <td>0.022</td>\n",
       "      <td>0.018</td>\n",
       "      <td>0.043</td>\n",
       "    </tr>\n",
       "    <tr>\n",
       "      <th>5898628</th>\n",
       "      <td>0.022</td>\n",
       "      <td>0.002</td>\n",
       "      <td>0.002</td>\n",
       "      <td>0.045</td>\n",
       "      <td>1.000</td>\n",
       "      <td>0.024</td>\n",
       "      <td>0.045</td>\n",
       "      <td>0.066</td>\n",
       "      <td>0.011</td>\n",
       "      <td>0.103</td>\n",
       "      <td>...</td>\n",
       "      <td>0.116</td>\n",
       "      <td>0.021</td>\n",
       "      <td>0.015</td>\n",
       "      <td>0.013</td>\n",
       "      <td>0.021</td>\n",
       "      <td>0.169</td>\n",
       "      <td>0.009</td>\n",
       "      <td>0.015</td>\n",
       "      <td>0.081</td>\n",
       "      <td>0.026</td>\n",
       "    </tr>\n",
       "  </tbody>\n",
       "</table>\n",
       "<p>5 rows × 50 columns</p>\n",
       "</div>"
      ],
      "text/plain": [
       "DealerId  1722781  2220942  4219663  5898233  5898628  5899139  5901137  \\\n",
       "DealerId                                                                  \n",
       "1722781     1.000    0.000    0.003    0.046    0.011    0.034    0.023   \n",
       "2220942     0.000    1.000    0.000    0.083    0.042    0.042    0.083   \n",
       "4219663     0.048    0.000    1.000    0.016    0.016    0.161    0.032   \n",
       "5898233     0.061    0.003    0.001    1.000    0.031    0.029    0.072   \n",
       "5898628     0.022    0.002    0.002    0.045    1.000    0.024    0.045   \n",
       "\n",
       "DealerId  5901143  5902011  5902012   ...     6070090  6070091  6072752  \\\n",
       "DealerId                              ...                                 \n",
       "1722781     0.005    0.011    0.008   ...       0.024    0.039    0.023   \n",
       "2220942     0.042    0.000    0.042   ...       0.125    0.000    0.000   \n",
       "4219663     0.000    0.016    0.000   ...       0.016    0.113    0.177   \n",
       "5898233     0.015    0.047    0.011   ...       0.029    0.037    0.019   \n",
       "5898628     0.066    0.011    0.103   ...       0.116    0.021    0.015   \n",
       "\n",
       "DealerId  6101127  6101128  6101129  6101130  6101131  6101132  6151734  \n",
       "DealerId                                                                 \n",
       "1722781     0.017    0.062    0.022    0.028    0.024    0.012    0.065  \n",
       "2220942     0.000    0.000    0.083    0.000    0.000    0.000    0.083  \n",
       "4219663     0.016    0.113    0.000    0.016    0.274    0.000    0.242  \n",
       "5898233     0.055    0.046    0.032    0.033    0.022    0.018    0.043  \n",
       "5898628     0.013    0.021    0.169    0.009    0.015    0.081    0.026  \n",
       "\n",
       "[5 rows x 50 columns]"
      ]
     },
     "execution_count": 51,
     "metadata": {},
     "output_type": "execute_result"
    }
   ],
   "source": [
    "cross_visitation_dealer.head()"
   ]
  },
  {
   "cell_type": "markdown",
   "metadata": {},
   "source": [
    "#### Export to CSV file"
   ]
  },
  {
   "cell_type": "code",
   "execution_count": 17,
   "metadata": {
    "colab": {
     "autoexec": {
      "startup": false,
      "wait_interval": 0
     }
    },
    "colab_type": "code",
    "collapsed": true,
    "id": "8Po6UF9c-SuP"
   },
   "outputs": [],
   "source": [
    "cross_visitation_dealer.to_csv(\"cross_visitation_dealer_tampa.csv\")"
   ]
  },
  {
   "cell_type": "markdown",
   "metadata": {
    "colab_type": "text",
    "id": "77pa4l7rG7YF"
   },
   "source": [
    "### Co-visitation on OEM level"
   ]
  },
  {
   "cell_type": "markdown",
   "metadata": {},
   "source": [
    "#### Data Transformation\n",
    "##### Create a subset of the data"
   ]
  },
  {
   "cell_type": "code",
   "execution_count": 52,
   "metadata": {
    "colab": {
     "autoexec": {
      "startup": false,
      "wait_interval": 0
     }
    },
    "colab_type": "code",
    "collapsed": true,
    "id": "j9bXZiWS-Suf"
   },
   "outputs": [],
   "source": [
    "all_data_part_l = all_data[[\"DealerId\",\"LeadId\",\"DateId\",'Key Category','City_l','Acura','Audi','BMW','Buick','Cadillac','Chevrolet','Chrysler'\\\n",
    "                         ,'Dodge','FIAT','Ford','GMC','Honda','Hyundai','Inifiniti','Jaguar','Jeep','Kia','Lamborghini',\\\n",
    "                         'Land Rover','Lexus','Lincoln','Mazda','Mercedes-Benz','MINI','Mitsubishi','Nissan','Porsche',\\\n",
    "                         'Scion','Subaru','Toyota','Volkswagen','Volvo',\"Auto Make\",\"Second Auto Make\",\"Third Auto Make\",\"Fourth Auto Make\"]]"
   ]
  },
  {
   "cell_type": "markdown",
   "metadata": {
    "colab_type": "text",
    "id": "eYZzTjIRHE33"
   },
   "source": []
  },
  {
   "cell_type": "code",
   "execution_count": 53,
   "metadata": {
    "colab": {
     "autoexec": {
      "startup": false,
      "wait_interval": 0
     }
    },
    "colab_type": "code",
    "collapsed": true,
    "id": "6pD7E6Kd-Suh"
   },
   "outputs": [],
   "source": [
    "all_data_part = all_data_part_l[all_data_part_l[\"City_l\"].str.lower() == city]"
   ]
  },
  {
   "cell_type": "code",
   "execution_count": 54,
   "metadata": {
    "colab": {
     "autoexec": {
      "startup": false,
      "wait_interval": 0
     }
    },
    "colab_type": "code",
    "id": "xdol2mag-Suk",
    "outputId": "01c7efa8-53bc-4ba3-8556-196840c1f6fd"
   },
   "outputs": [
    {
     "data": {
      "text/html": [
       "<div>\n",
       "<style scoped>\n",
       "    .dataframe tbody tr th:only-of-type {\n",
       "        vertical-align: middle;\n",
       "    }\n",
       "\n",
       "    .dataframe tbody tr th {\n",
       "        vertical-align: top;\n",
       "    }\n",
       "\n",
       "    .dataframe thead th {\n",
       "        text-align: right;\n",
       "    }\n",
       "</style>\n",
       "<table border=\"1\" class=\"dataframe\">\n",
       "  <thead>\n",
       "    <tr style=\"text-align: right;\">\n",
       "      <th></th>\n",
       "      <th>DealerId</th>\n",
       "      <th>LeadId</th>\n",
       "      <th>DateId</th>\n",
       "      <th>Key Category</th>\n",
       "      <th>City_l</th>\n",
       "      <th>Acura</th>\n",
       "      <th>Audi</th>\n",
       "      <th>BMW</th>\n",
       "      <th>Buick</th>\n",
       "      <th>Cadillac</th>\n",
       "      <th>...</th>\n",
       "      <th>Porsche</th>\n",
       "      <th>Scion</th>\n",
       "      <th>Subaru</th>\n",
       "      <th>Toyota</th>\n",
       "      <th>Volkswagen</th>\n",
       "      <th>Volvo</th>\n",
       "      <th>Auto Make</th>\n",
       "      <th>Second Auto Make</th>\n",
       "      <th>Third Auto Make</th>\n",
       "      <th>Fourth Auto Make</th>\n",
       "    </tr>\n",
       "  </thead>\n",
       "  <tbody>\n",
       "    <tr>\n",
       "      <th>0</th>\n",
       "      <td>1722781</td>\n",
       "      <td>31400</td>\n",
       "      <td>20170102</td>\n",
       "      <td>CarMax</td>\n",
       "      <td>Tampa</td>\n",
       "      <td>0.0</td>\n",
       "      <td>0.0</td>\n",
       "      <td>0.0</td>\n",
       "      <td>0.0</td>\n",
       "      <td>0.0</td>\n",
       "      <td>...</td>\n",
       "      <td>0.0</td>\n",
       "      <td>0.0</td>\n",
       "      <td>0.0</td>\n",
       "      <td>0.0</td>\n",
       "      <td>0.0</td>\n",
       "      <td>0.0</td>\n",
       "      <td>NaN</td>\n",
       "      <td>NaN</td>\n",
       "      <td>NaN</td>\n",
       "      <td>NaN</td>\n",
       "    </tr>\n",
       "    <tr>\n",
       "      <th>1</th>\n",
       "      <td>1722781</td>\n",
       "      <td>31400</td>\n",
       "      <td>20170103</td>\n",
       "      <td>CarMax</td>\n",
       "      <td>Tampa</td>\n",
       "      <td>0.0</td>\n",
       "      <td>0.0</td>\n",
       "      <td>0.0</td>\n",
       "      <td>0.0</td>\n",
       "      <td>0.0</td>\n",
       "      <td>...</td>\n",
       "      <td>0.0</td>\n",
       "      <td>0.0</td>\n",
       "      <td>0.0</td>\n",
       "      <td>0.0</td>\n",
       "      <td>0.0</td>\n",
       "      <td>0.0</td>\n",
       "      <td>NaN</td>\n",
       "      <td>NaN</td>\n",
       "      <td>NaN</td>\n",
       "      <td>NaN</td>\n",
       "    </tr>\n",
       "    <tr>\n",
       "      <th>2</th>\n",
       "      <td>1722781</td>\n",
       "      <td>31400</td>\n",
       "      <td>20170104</td>\n",
       "      <td>CarMax</td>\n",
       "      <td>Tampa</td>\n",
       "      <td>0.0</td>\n",
       "      <td>0.0</td>\n",
       "      <td>0.0</td>\n",
       "      <td>0.0</td>\n",
       "      <td>0.0</td>\n",
       "      <td>...</td>\n",
       "      <td>0.0</td>\n",
       "      <td>0.0</td>\n",
       "      <td>0.0</td>\n",
       "      <td>0.0</td>\n",
       "      <td>0.0</td>\n",
       "      <td>0.0</td>\n",
       "      <td>NaN</td>\n",
       "      <td>NaN</td>\n",
       "      <td>NaN</td>\n",
       "      <td>NaN</td>\n",
       "    </tr>\n",
       "    <tr>\n",
       "      <th>3</th>\n",
       "      <td>1722781</td>\n",
       "      <td>31400</td>\n",
       "      <td>20170106</td>\n",
       "      <td>CarMax</td>\n",
       "      <td>Tampa</td>\n",
       "      <td>0.0</td>\n",
       "      <td>0.0</td>\n",
       "      <td>0.0</td>\n",
       "      <td>0.0</td>\n",
       "      <td>0.0</td>\n",
       "      <td>...</td>\n",
       "      <td>0.0</td>\n",
       "      <td>0.0</td>\n",
       "      <td>0.0</td>\n",
       "      <td>0.0</td>\n",
       "      <td>0.0</td>\n",
       "      <td>0.0</td>\n",
       "      <td>NaN</td>\n",
       "      <td>NaN</td>\n",
       "      <td>NaN</td>\n",
       "      <td>NaN</td>\n",
       "    </tr>\n",
       "    <tr>\n",
       "      <th>4</th>\n",
       "      <td>1722781</td>\n",
       "      <td>31400</td>\n",
       "      <td>20170109</td>\n",
       "      <td>CarMax</td>\n",
       "      <td>Tampa</td>\n",
       "      <td>0.0</td>\n",
       "      <td>0.0</td>\n",
       "      <td>0.0</td>\n",
       "      <td>0.0</td>\n",
       "      <td>0.0</td>\n",
       "      <td>...</td>\n",
       "      <td>0.0</td>\n",
       "      <td>0.0</td>\n",
       "      <td>0.0</td>\n",
       "      <td>0.0</td>\n",
       "      <td>0.0</td>\n",
       "      <td>0.0</td>\n",
       "      <td>NaN</td>\n",
       "      <td>NaN</td>\n",
       "      <td>NaN</td>\n",
       "      <td>NaN</td>\n",
       "    </tr>\n",
       "  </tbody>\n",
       "</table>\n",
       "<p>5 rows × 41 columns</p>\n",
       "</div>"
      ],
      "text/plain": [
       "   DealerId  LeadId    DateId Key Category City_l  Acura  Audi  BMW  Buick  \\\n",
       "0   1722781   31400  20170102       CarMax  Tampa    0.0   0.0  0.0    0.0   \n",
       "1   1722781   31400  20170103       CarMax  Tampa    0.0   0.0  0.0    0.0   \n",
       "2   1722781   31400  20170104       CarMax  Tampa    0.0   0.0  0.0    0.0   \n",
       "3   1722781   31400  20170106       CarMax  Tampa    0.0   0.0  0.0    0.0   \n",
       "4   1722781   31400  20170109       CarMax  Tampa    0.0   0.0  0.0    0.0   \n",
       "\n",
       "   Cadillac        ...         Porsche  Scion  Subaru  Toyota  Volkswagen  \\\n",
       "0       0.0        ...             0.0    0.0     0.0     0.0         0.0   \n",
       "1       0.0        ...             0.0    0.0     0.0     0.0         0.0   \n",
       "2       0.0        ...             0.0    0.0     0.0     0.0         0.0   \n",
       "3       0.0        ...             0.0    0.0     0.0     0.0         0.0   \n",
       "4       0.0        ...             0.0    0.0     0.0     0.0         0.0   \n",
       "\n",
       "   Volvo  Auto Make  Second Auto Make  Third Auto Make  Fourth Auto Make  \n",
       "0    0.0        NaN               NaN              NaN               NaN  \n",
       "1    0.0        NaN               NaN              NaN               NaN  \n",
       "2    0.0        NaN               NaN              NaN               NaN  \n",
       "3    0.0        NaN               NaN              NaN               NaN  \n",
       "4    0.0        NaN               NaN              NaN               NaN  \n",
       "\n",
       "[5 rows x 41 columns]"
      ]
     },
     "execution_count": 54,
     "metadata": {},
     "output_type": "execute_result"
    }
   ],
   "source": [
    "all_data_part.head()"
   ]
  },
  {
   "cell_type": "markdown",
   "metadata": {},
   "source": [
    "##### Create new column for CarMax, Tesla, Maserati"
   ]
  },
  {
   "cell_type": "code",
   "execution_count": 55,
   "metadata": {
    "colab": {
     "autoexec": {
      "startup": false,
      "wait_interval": 0
     }
    },
    "colab_type": "code",
    "id": "hLrsnwwO-Sum",
    "outputId": "fa316afe-94f1-402a-fa1a-e8b23eb9ed6f"
   },
   "outputs": [
    {
     "name": "stderr",
     "output_type": "stream",
     "text": [
      "/Users/Jessica/anaconda3/lib/python3.6/site-packages/pandas/core/indexing.py:357: SettingWithCopyWarning: \n",
      "A value is trying to be set on a copy of a slice from a DataFrame.\n",
      "Try using .loc[row_indexer,col_indexer] = value instead\n",
      "\n",
      "See the caveats in the documentation: http://pandas.pydata.org/pandas-docs/stable/indexing.html#indexing-view-versus-copy\n",
      "  self.obj[key] = _infer_fill_value(value)\n",
      "/Users/Jessica/anaconda3/lib/python3.6/site-packages/pandas/core/indexing.py:537: SettingWithCopyWarning: \n",
      "A value is trying to be set on a copy of a slice from a DataFrame.\n",
      "Try using .loc[row_indexer,col_indexer] = value instead\n",
      "\n",
      "See the caveats in the documentation: http://pandas.pydata.org/pandas-docs/stable/indexing.html#indexing-view-versus-copy\n",
      "  self.obj[item] = s\n"
     ]
    }
   ],
   "source": [
    "all_data_part.loc[all_data_part['Key Category'] == 'CarMax', 'CarMax'] = 1\n",
    "all_data_part.loc[all_data_part['Key Category'] != 'CarMax', 'CarMax'] = 0"
   ]
  },
  {
   "cell_type": "code",
   "execution_count": 56,
   "metadata": {
    "colab": {
     "autoexec": {
      "startup": false,
      "wait_interval": 0
     }
    },
    "colab_type": "code",
    "id": "x_pdHIpg-Suq",
    "outputId": "f61e4085-74dd-4a02-a24b-ee4bce4fa8f1"
   },
   "outputs": [
    {
     "name": "stderr",
     "output_type": "stream",
     "text": [
      "/Users/Jessica/anaconda3/lib/python3.6/site-packages/pandas/core/indexing.py:357: SettingWithCopyWarning: \n",
      "A value is trying to be set on a copy of a slice from a DataFrame.\n",
      "Try using .loc[row_indexer,col_indexer] = value instead\n",
      "\n",
      "See the caveats in the documentation: http://pandas.pydata.org/pandas-docs/stable/indexing.html#indexing-view-versus-copy\n",
      "  self.obj[key] = _infer_fill_value(value)\n",
      "/Users/Jessica/anaconda3/lib/python3.6/site-packages/pandas/core/indexing.py:537: SettingWithCopyWarning: \n",
      "A value is trying to be set on a copy of a slice from a DataFrame.\n",
      "Try using .loc[row_indexer,col_indexer] = value instead\n",
      "\n",
      "See the caveats in the documentation: http://pandas.pydata.org/pandas-docs/stable/indexing.html#indexing-view-versus-copy\n",
      "  self.obj[item] = s\n"
     ]
    }
   ],
   "source": [
    "all_data_part.loc[all_data_part['Key Category'] == 'Tesla', 'Tesla'] = 1\n",
    "all_data_part.loc[all_data_part['Key Category'] != 'Tesla', 'Tesla'] = 0"
   ]
  },
  {
   "cell_type": "code",
   "execution_count": 57,
   "metadata": {
    "colab": {
     "autoexec": {
      "startup": false,
      "wait_interval": 0
     }
    },
    "colab_type": "code",
    "id": "LEu5o9DB-Sus",
    "outputId": "f74abafa-cf79-41f9-b72d-bca4b6e44482"
   },
   "outputs": [
    {
     "name": "stderr",
     "output_type": "stream",
     "text": [
      "/Users/Jessica/anaconda3/lib/python3.6/site-packages/pandas/core/indexing.py:357: SettingWithCopyWarning: \n",
      "A value is trying to be set on a copy of a slice from a DataFrame.\n",
      "Try using .loc[row_indexer,col_indexer] = value instead\n",
      "\n",
      "See the caveats in the documentation: http://pandas.pydata.org/pandas-docs/stable/indexing.html#indexing-view-versus-copy\n",
      "  self.obj[key] = _infer_fill_value(value)\n",
      "/Users/Jessica/anaconda3/lib/python3.6/site-packages/pandas/core/indexing.py:537: SettingWithCopyWarning: \n",
      "A value is trying to be set on a copy of a slice from a DataFrame.\n",
      "Try using .loc[row_indexer,col_indexer] = value instead\n",
      "\n",
      "See the caveats in the documentation: http://pandas.pydata.org/pandas-docs/stable/indexing.html#indexing-view-versus-copy\n",
      "  self.obj[item] = s\n"
     ]
    }
   ],
   "source": [
    "all_data_part.loc[all_data_part['Key Category'] == 'Maserati', 'Maserati'] = 1\n",
    "all_data_part.loc[all_data_part['Key Category'] != 'Maserati', 'Maserati'] = 0"
   ]
  },
  {
   "cell_type": "code",
   "execution_count": 61,
   "metadata": {},
   "outputs": [
    {
     "data": {
      "text/html": [
       "<div>\n",
       "<style scoped>\n",
       "    .dataframe tbody tr th:only-of-type {\n",
       "        vertical-align: middle;\n",
       "    }\n",
       "\n",
       "    .dataframe tbody tr th {\n",
       "        vertical-align: top;\n",
       "    }\n",
       "\n",
       "    .dataframe thead th {\n",
       "        text-align: right;\n",
       "    }\n",
       "</style>\n",
       "<table border=\"1\" class=\"dataframe\">\n",
       "  <thead>\n",
       "    <tr style=\"text-align: right;\">\n",
       "      <th></th>\n",
       "      <th>DealerId</th>\n",
       "      <th>LeadId</th>\n",
       "      <th>DateId</th>\n",
       "      <th>Key Category</th>\n",
       "      <th>City_l</th>\n",
       "      <th>Acura</th>\n",
       "      <th>Audi</th>\n",
       "      <th>BMW</th>\n",
       "      <th>Buick</th>\n",
       "      <th>Cadillac</th>\n",
       "      <th>...</th>\n",
       "      <th>Toyota</th>\n",
       "      <th>Volkswagen</th>\n",
       "      <th>Volvo</th>\n",
       "      <th>Auto Make</th>\n",
       "      <th>Second Auto Make</th>\n",
       "      <th>Third Auto Make</th>\n",
       "      <th>Fourth Auto Make</th>\n",
       "      <th>CarMax</th>\n",
       "      <th>Tesla</th>\n",
       "      <th>Maserati</th>\n",
       "    </tr>\n",
       "  </thead>\n",
       "  <tbody>\n",
       "    <tr>\n",
       "      <th>0</th>\n",
       "      <td>1722781</td>\n",
       "      <td>31400</td>\n",
       "      <td>20170102</td>\n",
       "      <td>CarMax</td>\n",
       "      <td>Tampa</td>\n",
       "      <td>0.0</td>\n",
       "      <td>0.0</td>\n",
       "      <td>0.0</td>\n",
       "      <td>0.0</td>\n",
       "      <td>0.0</td>\n",
       "      <td>...</td>\n",
       "      <td>0.0</td>\n",
       "      <td>0.0</td>\n",
       "      <td>0.0</td>\n",
       "      <td>NaN</td>\n",
       "      <td>NaN</td>\n",
       "      <td>NaN</td>\n",
       "      <td>NaN</td>\n",
       "      <td>1.0</td>\n",
       "      <td>0.0</td>\n",
       "      <td>0.0</td>\n",
       "    </tr>\n",
       "    <tr>\n",
       "      <th>1</th>\n",
       "      <td>1722781</td>\n",
       "      <td>31400</td>\n",
       "      <td>20170103</td>\n",
       "      <td>CarMax</td>\n",
       "      <td>Tampa</td>\n",
       "      <td>0.0</td>\n",
       "      <td>0.0</td>\n",
       "      <td>0.0</td>\n",
       "      <td>0.0</td>\n",
       "      <td>0.0</td>\n",
       "      <td>...</td>\n",
       "      <td>0.0</td>\n",
       "      <td>0.0</td>\n",
       "      <td>0.0</td>\n",
       "      <td>NaN</td>\n",
       "      <td>NaN</td>\n",
       "      <td>NaN</td>\n",
       "      <td>NaN</td>\n",
       "      <td>1.0</td>\n",
       "      <td>0.0</td>\n",
       "      <td>0.0</td>\n",
       "    </tr>\n",
       "    <tr>\n",
       "      <th>2</th>\n",
       "      <td>1722781</td>\n",
       "      <td>31400</td>\n",
       "      <td>20170104</td>\n",
       "      <td>CarMax</td>\n",
       "      <td>Tampa</td>\n",
       "      <td>0.0</td>\n",
       "      <td>0.0</td>\n",
       "      <td>0.0</td>\n",
       "      <td>0.0</td>\n",
       "      <td>0.0</td>\n",
       "      <td>...</td>\n",
       "      <td>0.0</td>\n",
       "      <td>0.0</td>\n",
       "      <td>0.0</td>\n",
       "      <td>NaN</td>\n",
       "      <td>NaN</td>\n",
       "      <td>NaN</td>\n",
       "      <td>NaN</td>\n",
       "      <td>1.0</td>\n",
       "      <td>0.0</td>\n",
       "      <td>0.0</td>\n",
       "    </tr>\n",
       "    <tr>\n",
       "      <th>3</th>\n",
       "      <td>1722781</td>\n",
       "      <td>31400</td>\n",
       "      <td>20170106</td>\n",
       "      <td>CarMax</td>\n",
       "      <td>Tampa</td>\n",
       "      <td>0.0</td>\n",
       "      <td>0.0</td>\n",
       "      <td>0.0</td>\n",
       "      <td>0.0</td>\n",
       "      <td>0.0</td>\n",
       "      <td>...</td>\n",
       "      <td>0.0</td>\n",
       "      <td>0.0</td>\n",
       "      <td>0.0</td>\n",
       "      <td>NaN</td>\n",
       "      <td>NaN</td>\n",
       "      <td>NaN</td>\n",
       "      <td>NaN</td>\n",
       "      <td>1.0</td>\n",
       "      <td>0.0</td>\n",
       "      <td>0.0</td>\n",
       "    </tr>\n",
       "    <tr>\n",
       "      <th>4</th>\n",
       "      <td>1722781</td>\n",
       "      <td>31400</td>\n",
       "      <td>20170109</td>\n",
       "      <td>CarMax</td>\n",
       "      <td>Tampa</td>\n",
       "      <td>0.0</td>\n",
       "      <td>0.0</td>\n",
       "      <td>0.0</td>\n",
       "      <td>0.0</td>\n",
       "      <td>0.0</td>\n",
       "      <td>...</td>\n",
       "      <td>0.0</td>\n",
       "      <td>0.0</td>\n",
       "      <td>0.0</td>\n",
       "      <td>NaN</td>\n",
       "      <td>NaN</td>\n",
       "      <td>NaN</td>\n",
       "      <td>NaN</td>\n",
       "      <td>1.0</td>\n",
       "      <td>0.0</td>\n",
       "      <td>0.0</td>\n",
       "    </tr>\n",
       "  </tbody>\n",
       "</table>\n",
       "<p>5 rows × 44 columns</p>\n",
       "</div>"
      ],
      "text/plain": [
       "   DealerId  LeadId    DateId Key Category City_l  Acura  Audi  BMW  Buick  \\\n",
       "0   1722781   31400  20170102       CarMax  Tampa    0.0   0.0  0.0    0.0   \n",
       "1   1722781   31400  20170103       CarMax  Tampa    0.0   0.0  0.0    0.0   \n",
       "2   1722781   31400  20170104       CarMax  Tampa    0.0   0.0  0.0    0.0   \n",
       "3   1722781   31400  20170106       CarMax  Tampa    0.0   0.0  0.0    0.0   \n",
       "4   1722781   31400  20170109       CarMax  Tampa    0.0   0.0  0.0    0.0   \n",
       "\n",
       "   Cadillac    ...     Toyota  Volkswagen  Volvo  Auto Make  Second Auto Make  \\\n",
       "0       0.0    ...        0.0         0.0    0.0        NaN               NaN   \n",
       "1       0.0    ...        0.0         0.0    0.0        NaN               NaN   \n",
       "2       0.0    ...        0.0         0.0    0.0        NaN               NaN   \n",
       "3       0.0    ...        0.0         0.0    0.0        NaN               NaN   \n",
       "4       0.0    ...        0.0         0.0    0.0        NaN               NaN   \n",
       "\n",
       "   Third Auto Make  Fourth Auto Make  CarMax  Tesla  Maserati  \n",
       "0              NaN               NaN     1.0    0.0       0.0  \n",
       "1              NaN               NaN     1.0    0.0       0.0  \n",
       "2              NaN               NaN     1.0    0.0       0.0  \n",
       "3              NaN               NaN     1.0    0.0       0.0  \n",
       "4              NaN               NaN     1.0    0.0       0.0  \n",
       "\n",
       "[5 rows x 44 columns]"
      ]
     },
     "execution_count": 61,
     "metadata": {},
     "output_type": "execute_result"
    }
   ],
   "source": [
    "all_data_part.head()"
   ]
  },
  {
   "cell_type": "code",
   "execution_count": 58,
   "metadata": {
    "colab": {
     "autoexec": {
      "startup": false,
      "wait_interval": 0
     }
    },
    "colab_type": "code",
    "collapsed": true,
    "id": "LgENK8zy-Suv"
   },
   "outputs": [],
   "source": [
    "visit_with_brand = all_data_part.drop_duplicates(subset=[\"DealerId\",\"LeadId\",\"DateId\"])"
   ]
  },
  {
   "cell_type": "code",
   "execution_count": 59,
   "metadata": {
    "colab": {
     "autoexec": {
      "startup": false,
      "wait_interval": 0
     }
    },
    "colab_type": "code",
    "id": "cs4rfjc0-Suy",
    "outputId": "af34ae77-c0a6-4af2-b59e-3c625fc5b08d"
   },
   "outputs": [
    {
     "data": {
      "text/html": [
       "<div>\n",
       "<style scoped>\n",
       "    .dataframe tbody tr th:only-of-type {\n",
       "        vertical-align: middle;\n",
       "    }\n",
       "\n",
       "    .dataframe tbody tr th {\n",
       "        vertical-align: top;\n",
       "    }\n",
       "\n",
       "    .dataframe thead th {\n",
       "        text-align: right;\n",
       "    }\n",
       "</style>\n",
       "<table border=\"1\" class=\"dataframe\">\n",
       "  <thead>\n",
       "    <tr style=\"text-align: right;\">\n",
       "      <th></th>\n",
       "      <th>DealerId</th>\n",
       "      <th>LeadId</th>\n",
       "      <th>DateId</th>\n",
       "      <th>Key Category</th>\n",
       "      <th>City_l</th>\n",
       "      <th>Acura</th>\n",
       "      <th>Audi</th>\n",
       "      <th>BMW</th>\n",
       "      <th>Buick</th>\n",
       "      <th>Cadillac</th>\n",
       "      <th>...</th>\n",
       "      <th>Toyota</th>\n",
       "      <th>Volkswagen</th>\n",
       "      <th>Volvo</th>\n",
       "      <th>Auto Make</th>\n",
       "      <th>Second Auto Make</th>\n",
       "      <th>Third Auto Make</th>\n",
       "      <th>Fourth Auto Make</th>\n",
       "      <th>CarMax</th>\n",
       "      <th>Tesla</th>\n",
       "      <th>Maserati</th>\n",
       "    </tr>\n",
       "  </thead>\n",
       "  <tbody>\n",
       "    <tr>\n",
       "      <th>0</th>\n",
       "      <td>1722781</td>\n",
       "      <td>31400</td>\n",
       "      <td>20170102</td>\n",
       "      <td>CarMax</td>\n",
       "      <td>Tampa</td>\n",
       "      <td>0.0</td>\n",
       "      <td>0.0</td>\n",
       "      <td>0.0</td>\n",
       "      <td>0.0</td>\n",
       "      <td>0.0</td>\n",
       "      <td>...</td>\n",
       "      <td>0.0</td>\n",
       "      <td>0.0</td>\n",
       "      <td>0.0</td>\n",
       "      <td>NaN</td>\n",
       "      <td>NaN</td>\n",
       "      <td>NaN</td>\n",
       "      <td>NaN</td>\n",
       "      <td>1.0</td>\n",
       "      <td>0.0</td>\n",
       "      <td>0.0</td>\n",
       "    </tr>\n",
       "    <tr>\n",
       "      <th>1</th>\n",
       "      <td>1722781</td>\n",
       "      <td>31400</td>\n",
       "      <td>20170103</td>\n",
       "      <td>CarMax</td>\n",
       "      <td>Tampa</td>\n",
       "      <td>0.0</td>\n",
       "      <td>0.0</td>\n",
       "      <td>0.0</td>\n",
       "      <td>0.0</td>\n",
       "      <td>0.0</td>\n",
       "      <td>...</td>\n",
       "      <td>0.0</td>\n",
       "      <td>0.0</td>\n",
       "      <td>0.0</td>\n",
       "      <td>NaN</td>\n",
       "      <td>NaN</td>\n",
       "      <td>NaN</td>\n",
       "      <td>NaN</td>\n",
       "      <td>1.0</td>\n",
       "      <td>0.0</td>\n",
       "      <td>0.0</td>\n",
       "    </tr>\n",
       "    <tr>\n",
       "      <th>2</th>\n",
       "      <td>1722781</td>\n",
       "      <td>31400</td>\n",
       "      <td>20170104</td>\n",
       "      <td>CarMax</td>\n",
       "      <td>Tampa</td>\n",
       "      <td>0.0</td>\n",
       "      <td>0.0</td>\n",
       "      <td>0.0</td>\n",
       "      <td>0.0</td>\n",
       "      <td>0.0</td>\n",
       "      <td>...</td>\n",
       "      <td>0.0</td>\n",
       "      <td>0.0</td>\n",
       "      <td>0.0</td>\n",
       "      <td>NaN</td>\n",
       "      <td>NaN</td>\n",
       "      <td>NaN</td>\n",
       "      <td>NaN</td>\n",
       "      <td>1.0</td>\n",
       "      <td>0.0</td>\n",
       "      <td>0.0</td>\n",
       "    </tr>\n",
       "    <tr>\n",
       "      <th>3</th>\n",
       "      <td>1722781</td>\n",
       "      <td>31400</td>\n",
       "      <td>20170106</td>\n",
       "      <td>CarMax</td>\n",
       "      <td>Tampa</td>\n",
       "      <td>0.0</td>\n",
       "      <td>0.0</td>\n",
       "      <td>0.0</td>\n",
       "      <td>0.0</td>\n",
       "      <td>0.0</td>\n",
       "      <td>...</td>\n",
       "      <td>0.0</td>\n",
       "      <td>0.0</td>\n",
       "      <td>0.0</td>\n",
       "      <td>NaN</td>\n",
       "      <td>NaN</td>\n",
       "      <td>NaN</td>\n",
       "      <td>NaN</td>\n",
       "      <td>1.0</td>\n",
       "      <td>0.0</td>\n",
       "      <td>0.0</td>\n",
       "    </tr>\n",
       "    <tr>\n",
       "      <th>4</th>\n",
       "      <td>1722781</td>\n",
       "      <td>31400</td>\n",
       "      <td>20170109</td>\n",
       "      <td>CarMax</td>\n",
       "      <td>Tampa</td>\n",
       "      <td>0.0</td>\n",
       "      <td>0.0</td>\n",
       "      <td>0.0</td>\n",
       "      <td>0.0</td>\n",
       "      <td>0.0</td>\n",
       "      <td>...</td>\n",
       "      <td>0.0</td>\n",
       "      <td>0.0</td>\n",
       "      <td>0.0</td>\n",
       "      <td>NaN</td>\n",
       "      <td>NaN</td>\n",
       "      <td>NaN</td>\n",
       "      <td>NaN</td>\n",
       "      <td>1.0</td>\n",
       "      <td>0.0</td>\n",
       "      <td>0.0</td>\n",
       "    </tr>\n",
       "  </tbody>\n",
       "</table>\n",
       "<p>5 rows × 44 columns</p>\n",
       "</div>"
      ],
      "text/plain": [
       "   DealerId  LeadId    DateId Key Category City_l  Acura  Audi  BMW  Buick  \\\n",
       "0   1722781   31400  20170102       CarMax  Tampa    0.0   0.0  0.0    0.0   \n",
       "1   1722781   31400  20170103       CarMax  Tampa    0.0   0.0  0.0    0.0   \n",
       "2   1722781   31400  20170104       CarMax  Tampa    0.0   0.0  0.0    0.0   \n",
       "3   1722781   31400  20170106       CarMax  Tampa    0.0   0.0  0.0    0.0   \n",
       "4   1722781   31400  20170109       CarMax  Tampa    0.0   0.0  0.0    0.0   \n",
       "\n",
       "   Cadillac    ...     Toyota  Volkswagen  Volvo  Auto Make  Second Auto Make  \\\n",
       "0       0.0    ...        0.0         0.0    0.0        NaN               NaN   \n",
       "1       0.0    ...        0.0         0.0    0.0        NaN               NaN   \n",
       "2       0.0    ...        0.0         0.0    0.0        NaN               NaN   \n",
       "3       0.0    ...        0.0         0.0    0.0        NaN               NaN   \n",
       "4       0.0    ...        0.0         0.0    0.0        NaN               NaN   \n",
       "\n",
       "   Third Auto Make  Fourth Auto Make  CarMax  Tesla  Maserati  \n",
       "0              NaN               NaN     1.0    0.0       0.0  \n",
       "1              NaN               NaN     1.0    0.0       0.0  \n",
       "2              NaN               NaN     1.0    0.0       0.0  \n",
       "3              NaN               NaN     1.0    0.0       0.0  \n",
       "4              NaN               NaN     1.0    0.0       0.0  \n",
       "\n",
       "[5 rows x 44 columns]"
      ]
     },
     "execution_count": 59,
     "metadata": {},
     "output_type": "execute_result"
    }
   ],
   "source": [
    "visit_with_brand.head()"
   ]
  },
  {
   "cell_type": "code",
   "execution_count": 60,
   "metadata": {
    "colab": {
     "autoexec": {
      "startup": false,
      "wait_interval": 0
     }
    },
    "colab_type": "code",
    "id": "XugoN8Iv-Su0",
    "outputId": "53c632b5-25d3-49a7-8756-73437fd4cac9"
   },
   "outputs": [
    {
     "name": "stdout",
     "output_type": "stream",
     "text": [
      "<class 'pandas.core.frame.DataFrame'>\n",
      "Int64Index: 39348 entries, 0 to 96902\n",
      "Data columns (total 44 columns):\n",
      "DealerId            39348 non-null int64\n",
      "LeadId              39348 non-null int64\n",
      "DateId              39348 non-null int64\n",
      "Key Category        39348 non-null object\n",
      "City_l              39348 non-null object\n",
      "Acura               39348 non-null float64\n",
      "Audi                39348 non-null float64\n",
      "BMW                 39348 non-null float64\n",
      "Buick               39348 non-null float64\n",
      "Cadillac            39348 non-null float64\n",
      "Chevrolet           39348 non-null float64\n",
      "Chrysler            39348 non-null float64\n",
      "Dodge               39348 non-null float64\n",
      "FIAT                39348 non-null float64\n",
      "Ford                39348 non-null float64\n",
      "GMC                 39348 non-null float64\n",
      "Honda               39348 non-null float64\n",
      "Hyundai             39348 non-null float64\n",
      "Inifiniti           39348 non-null float64\n",
      "Jaguar              39348 non-null float64\n",
      "Jeep                39348 non-null float64\n",
      "Kia                 39348 non-null float64\n",
      "Lamborghini         39348 non-null float64\n",
      "Land Rover          39348 non-null float64\n",
      "Lexus               39348 non-null float64\n",
      "Lincoln             39348 non-null float64\n",
      "Mazda               39348 non-null float64\n",
      "Mercedes-Benz       39348 non-null float64\n",
      "MINI                39348 non-null float64\n",
      "Mitsubishi          39348 non-null float64\n",
      "Nissan              39348 non-null float64\n",
      "Porsche             39348 non-null float64\n",
      "Scion               39348 non-null float64\n",
      "Subaru              39348 non-null float64\n",
      "Toyota              39348 non-null float64\n",
      "Volkswagen          39348 non-null float64\n",
      "Volvo               39348 non-null float64\n",
      "Auto Make           12213 non-null object\n",
      "Second Auto Make    7472 non-null object\n",
      "Third Auto Make     4039 non-null object\n",
      "Fourth Auto Make    2026 non-null object\n",
      "CarMax              39348 non-null float64\n",
      "Tesla               39348 non-null float64\n",
      "Maserati            39348 non-null float64\n",
      "dtypes: float64(35), int64(3), object(6)\n",
      "memory usage: 13.5+ MB\n"
     ]
    }
   ],
   "source": [
    "visit_with_brand.info()"
   ]
  },
  {
   "cell_type": "code",
   "execution_count": 62,
   "metadata": {
    "colab": {
     "autoexec": {
      "startup": false,
      "wait_interval": 0
     }
    },
    "colab_type": "code",
    "collapsed": true,
    "id": "EX4kwrUN-Su7"
   },
   "outputs": [],
   "source": [
    "cross_visit_brand = visit_with_brand.groupby([\"LeadId\"])[\"LeadId\",'Acura','Audi','BMW','Buick','Cadillac','Chevrolet','Chrysler'\\\n",
    "                         ,'Dodge','FIAT','Ford','GMC','Honda','Hyundai','Inifiniti','Jaguar','Jeep','Kia','Lamborghini',\\\n",
    "                         'Land Rover','Lexus','Lincoln','Mazda','Mercedes-Benz','MINI','Mitsubishi','Nissan','Porsche',\\\n",
    "                         'Scion','Subaru','Toyota','Volkswagen','Volvo','CarMax','Tesla','Maserati'].sum()"
   ]
  },
  {
   "cell_type": "code",
   "execution_count": 63,
   "metadata": {
    "colab": {
     "autoexec": {
      "startup": false,
      "wait_interval": 0
     }
    },
    "colab_type": "code",
    "id": "Hd3bg5Pt-Su8",
    "outputId": "3a4f3509-63cb-4a1a-f190-6f7e7b9883da"
   },
   "outputs": [
    {
     "data": {
      "text/html": [
       "<div>\n",
       "<style scoped>\n",
       "    .dataframe tbody tr th:only-of-type {\n",
       "        vertical-align: middle;\n",
       "    }\n",
       "\n",
       "    .dataframe tbody tr th {\n",
       "        vertical-align: top;\n",
       "    }\n",
       "\n",
       "    .dataframe thead th {\n",
       "        text-align: right;\n",
       "    }\n",
       "</style>\n",
       "<table border=\"1\" class=\"dataframe\">\n",
       "  <thead>\n",
       "    <tr style=\"text-align: right;\">\n",
       "      <th></th>\n",
       "      <th>LeadId</th>\n",
       "      <th>Acura</th>\n",
       "      <th>Audi</th>\n",
       "      <th>BMW</th>\n",
       "      <th>Buick</th>\n",
       "      <th>Cadillac</th>\n",
       "      <th>Chevrolet</th>\n",
       "      <th>Chrysler</th>\n",
       "      <th>Dodge</th>\n",
       "      <th>FIAT</th>\n",
       "      <th>...</th>\n",
       "      <th>Nissan</th>\n",
       "      <th>Porsche</th>\n",
       "      <th>Scion</th>\n",
       "      <th>Subaru</th>\n",
       "      <th>Toyota</th>\n",
       "      <th>Volkswagen</th>\n",
       "      <th>Volvo</th>\n",
       "      <th>CarMax</th>\n",
       "      <th>Tesla</th>\n",
       "      <th>Maserati</th>\n",
       "    </tr>\n",
       "    <tr>\n",
       "      <th>LeadId</th>\n",
       "      <th></th>\n",
       "      <th></th>\n",
       "      <th></th>\n",
       "      <th></th>\n",
       "      <th></th>\n",
       "      <th></th>\n",
       "      <th></th>\n",
       "      <th></th>\n",
       "      <th></th>\n",
       "      <th></th>\n",
       "      <th></th>\n",
       "      <th></th>\n",
       "      <th></th>\n",
       "      <th></th>\n",
       "      <th></th>\n",
       "      <th></th>\n",
       "      <th></th>\n",
       "      <th></th>\n",
       "      <th></th>\n",
       "      <th></th>\n",
       "      <th></th>\n",
       "    </tr>\n",
       "  </thead>\n",
       "  <tbody>\n",
       "    <tr>\n",
       "      <th>816</th>\n",
       "      <td>7344</td>\n",
       "      <td>0.0</td>\n",
       "      <td>0.0</td>\n",
       "      <td>0.0</td>\n",
       "      <td>0.0</td>\n",
       "      <td>0.0</td>\n",
       "      <td>0.0</td>\n",
       "      <td>0.0</td>\n",
       "      <td>0.0</td>\n",
       "      <td>0.0</td>\n",
       "      <td>...</td>\n",
       "      <td>0.0</td>\n",
       "      <td>0.0</td>\n",
       "      <td>0.0</td>\n",
       "      <td>0.0</td>\n",
       "      <td>0.0</td>\n",
       "      <td>0.0</td>\n",
       "      <td>0.0</td>\n",
       "      <td>0.0</td>\n",
       "      <td>0.0</td>\n",
       "      <td>0.0</td>\n",
       "    </tr>\n",
       "    <tr>\n",
       "      <th>2345</th>\n",
       "      <td>7035</td>\n",
       "      <td>0.0</td>\n",
       "      <td>0.0</td>\n",
       "      <td>0.0</td>\n",
       "      <td>0.0</td>\n",
       "      <td>0.0</td>\n",
       "      <td>1.0</td>\n",
       "      <td>0.0</td>\n",
       "      <td>0.0</td>\n",
       "      <td>0.0</td>\n",
       "      <td>...</td>\n",
       "      <td>0.0</td>\n",
       "      <td>0.0</td>\n",
       "      <td>0.0</td>\n",
       "      <td>0.0</td>\n",
       "      <td>0.0</td>\n",
       "      <td>0.0</td>\n",
       "      <td>0.0</td>\n",
       "      <td>0.0</td>\n",
       "      <td>0.0</td>\n",
       "      <td>0.0</td>\n",
       "    </tr>\n",
       "    <tr>\n",
       "      <th>6750</th>\n",
       "      <td>20250</td>\n",
       "      <td>0.0</td>\n",
       "      <td>0.0</td>\n",
       "      <td>0.0</td>\n",
       "      <td>0.0</td>\n",
       "      <td>0.0</td>\n",
       "      <td>0.0</td>\n",
       "      <td>0.0</td>\n",
       "      <td>0.0</td>\n",
       "      <td>0.0</td>\n",
       "      <td>...</td>\n",
       "      <td>0.0</td>\n",
       "      <td>0.0</td>\n",
       "      <td>0.0</td>\n",
       "      <td>3.0</td>\n",
       "      <td>0.0</td>\n",
       "      <td>0.0</td>\n",
       "      <td>0.0</td>\n",
       "      <td>0.0</td>\n",
       "      <td>0.0</td>\n",
       "      <td>0.0</td>\n",
       "    </tr>\n",
       "    <tr>\n",
       "      <th>7613</th>\n",
       "      <td>738461</td>\n",
       "      <td>7.0</td>\n",
       "      <td>0.0</td>\n",
       "      <td>2.0</td>\n",
       "      <td>0.0</td>\n",
       "      <td>8.0</td>\n",
       "      <td>0.0</td>\n",
       "      <td>6.0</td>\n",
       "      <td>6.0</td>\n",
       "      <td>0.0</td>\n",
       "      <td>...</td>\n",
       "      <td>61.0</td>\n",
       "      <td>1.0</td>\n",
       "      <td>0.0</td>\n",
       "      <td>2.0</td>\n",
       "      <td>0.0</td>\n",
       "      <td>0.0</td>\n",
       "      <td>0.0</td>\n",
       "      <td>0.0</td>\n",
       "      <td>0.0</td>\n",
       "      <td>0.0</td>\n",
       "    </tr>\n",
       "    <tr>\n",
       "      <th>7622</th>\n",
       "      <td>7622</td>\n",
       "      <td>0.0</td>\n",
       "      <td>0.0</td>\n",
       "      <td>0.0</td>\n",
       "      <td>0.0</td>\n",
       "      <td>0.0</td>\n",
       "      <td>0.0</td>\n",
       "      <td>0.0</td>\n",
       "      <td>0.0</td>\n",
       "      <td>0.0</td>\n",
       "      <td>...</td>\n",
       "      <td>0.0</td>\n",
       "      <td>1.0</td>\n",
       "      <td>0.0</td>\n",
       "      <td>0.0</td>\n",
       "      <td>0.0</td>\n",
       "      <td>0.0</td>\n",
       "      <td>0.0</td>\n",
       "      <td>0.0</td>\n",
       "      <td>0.0</td>\n",
       "      <td>0.0</td>\n",
       "    </tr>\n",
       "  </tbody>\n",
       "</table>\n",
       "<p>5 rows × 36 columns</p>\n",
       "</div>"
      ],
      "text/plain": [
       "        LeadId  Acura  Audi  BMW  Buick  Cadillac  Chevrolet  Chrysler  Dodge  \\\n",
       "LeadId                                                                          \n",
       "816       7344    0.0   0.0  0.0    0.0       0.0        0.0       0.0    0.0   \n",
       "2345      7035    0.0   0.0  0.0    0.0       0.0        1.0       0.0    0.0   \n",
       "6750     20250    0.0   0.0  0.0    0.0       0.0        0.0       0.0    0.0   \n",
       "7613    738461    7.0   0.0  2.0    0.0       8.0        0.0       6.0    6.0   \n",
       "7622      7622    0.0   0.0  0.0    0.0       0.0        0.0       0.0    0.0   \n",
       "\n",
       "        FIAT    ...     Nissan  Porsche  Scion  Subaru  Toyota  Volkswagen  \\\n",
       "LeadId          ...                                                          \n",
       "816      0.0    ...        0.0      0.0    0.0     0.0     0.0         0.0   \n",
       "2345     0.0    ...        0.0      0.0    0.0     0.0     0.0         0.0   \n",
       "6750     0.0    ...        0.0      0.0    0.0     3.0     0.0         0.0   \n",
       "7613     0.0    ...       61.0      1.0    0.0     2.0     0.0         0.0   \n",
       "7622     0.0    ...        0.0      1.0    0.0     0.0     0.0         0.0   \n",
       "\n",
       "        Volvo  CarMax  Tesla  Maserati  \n",
       "LeadId                                  \n",
       "816       0.0     0.0    0.0       0.0  \n",
       "2345      0.0     0.0    0.0       0.0  \n",
       "6750      0.0     0.0    0.0       0.0  \n",
       "7613      0.0     0.0    0.0       0.0  \n",
       "7622      0.0     0.0    0.0       0.0  \n",
       "\n",
       "[5 rows x 36 columns]"
      ]
     },
     "execution_count": 63,
     "metadata": {},
     "output_type": "execute_result"
    }
   ],
   "source": [
    "cross_visit_brand.head()"
   ]
  },
  {
   "cell_type": "markdown",
   "metadata": {
    "colab_type": "text",
    "id": "9IGm2364HTHU"
   },
   "source": [
    "#### Co visitation for brand"
   ]
  },
  {
   "cell_type": "markdown",
   "metadata": {},
   "source": [
    "##### Use For Loop to calculate covisitation by DealerId"
   ]
  },
  {
   "cell_type": "code",
   "execution_count": 64,
   "metadata": {
    "colab": {
     "autoexec": {
      "startup": false,
      "wait_interval": 0
     }
    },
    "colab_type": "code",
    "collapsed": true,
    "id": "DEdjM11i-SvB"
   },
   "outputs": [],
   "source": [
    "brandlist = ['Acura','Audi','BMW','Buick','Cadillac','Chevrolet','Chrysler'\\\n",
    "                         ,'Dodge','FIAT','Ford','GMC','Honda','Hyundai','Inifiniti','Jaguar','Jeep','Kia','Lamborghini',\\\n",
    "                         'Land Rover','Lexus','Lincoln','Mazda','Mercedes-Benz','MINI','Mitsubishi','Nissan','Porsche',\\\n",
    "                         'Scion','Subaru','Toyota','Volkswagen','Volvo','CarMax','Tesla','Maserati']"
   ]
  },
  {
   "cell_type": "code",
   "execution_count": 65,
   "metadata": {
    "colab": {
     "autoexec": {
      "startup": false,
      "wait_interval": 0
     }
    },
    "colab_type": "code",
    "collapsed": true,
    "id": "1V0IvLZJ-SvC"
   },
   "outputs": [],
   "source": [
    "b = []\n",
    "for brand1 in brandlist:\n",
    "    a = []\n",
    "    for brand2 in brandlist:\n",
    "        try:\n",
    "            value = len(cross_visit_brand[(cross_visit_brand[brand1] != 0) & (cross_visit_brand[brand2] != 0)])/len(cross_visit_brand[cross_visit_brand[brand1] != 0])\n",
    "            value = round(value,3)\n",
    "        except:\n",
    "            value = np.nan\n",
    "        a.append(value)\n",
    "    b.append(a)\n",
    "\n",
    "        \n",
    "        \n",
    "        "
   ]
  },
  {
   "cell_type": "code",
   "execution_count": 66,
   "metadata": {
    "colab": {
     "autoexec": {
      "startup": false,
      "wait_interval": 0
     }
    },
    "colab_type": "code",
    "collapsed": true,
    "id": "ejkVxZRk-SvD"
   },
   "outputs": [],
   "source": [
    "df = pd.DataFrame.from_records(b, columns=brandlist)"
   ]
  },
  {
   "cell_type": "code",
   "execution_count": 67,
   "metadata": {
    "colab": {
     "autoexec": {
      "startup": false,
      "wait_interval": 0
     }
    },
    "colab_type": "code",
    "collapsed": true,
    "id": "qmqDru7l-SvF"
   },
   "outputs": [],
   "source": [
    "df.index = brandlist"
   ]
  },
  {
   "cell_type": "code",
   "execution_count": 68,
   "metadata": {
    "colab": {
     "autoexec": {
      "startup": false,
      "wait_interval": 0
     }
    },
    "colab_type": "code",
    "id": "q8UKDNqU-SvH",
    "outputId": "54557457-0c81-4493-be6d-7a9011e09865"
   },
   "outputs": [
    {
     "data": {
      "text/html": [
       "<div>\n",
       "<style scoped>\n",
       "    .dataframe tbody tr th:only-of-type {\n",
       "        vertical-align: middle;\n",
       "    }\n",
       "\n",
       "    .dataframe tbody tr th {\n",
       "        vertical-align: top;\n",
       "    }\n",
       "\n",
       "    .dataframe thead th {\n",
       "        text-align: right;\n",
       "    }\n",
       "</style>\n",
       "<table border=\"1\" class=\"dataframe\">\n",
       "  <thead>\n",
       "    <tr style=\"text-align: right;\">\n",
       "      <th></th>\n",
       "      <th>Acura</th>\n",
       "      <th>Audi</th>\n",
       "      <th>BMW</th>\n",
       "      <th>Buick</th>\n",
       "      <th>Cadillac</th>\n",
       "      <th>Chevrolet</th>\n",
       "      <th>Chrysler</th>\n",
       "      <th>Dodge</th>\n",
       "      <th>FIAT</th>\n",
       "      <th>Ford</th>\n",
       "      <th>...</th>\n",
       "      <th>Nissan</th>\n",
       "      <th>Porsche</th>\n",
       "      <th>Scion</th>\n",
       "      <th>Subaru</th>\n",
       "      <th>Toyota</th>\n",
       "      <th>Volkswagen</th>\n",
       "      <th>Volvo</th>\n",
       "      <th>CarMax</th>\n",
       "      <th>Tesla</th>\n",
       "      <th>Maserati</th>\n",
       "    </tr>\n",
       "  </thead>\n",
       "  <tbody>\n",
       "    <tr>\n",
       "      <th>Acura</th>\n",
       "      <td>1.000</td>\n",
       "      <td>0.132</td>\n",
       "      <td>0.240</td>\n",
       "      <td>0.039</td>\n",
       "      <td>0.124</td>\n",
       "      <td>0.209</td>\n",
       "      <td>0.194</td>\n",
       "      <td>0.194</td>\n",
       "      <td>0.0</td>\n",
       "      <td>0.194</td>\n",
       "      <td>...</td>\n",
       "      <td>0.163</td>\n",
       "      <td>0.078</td>\n",
       "      <td>0.194</td>\n",
       "      <td>0.225</td>\n",
       "      <td>0.194</td>\n",
       "      <td>0.054</td>\n",
       "      <td>0.047</td>\n",
       "      <td>0.147</td>\n",
       "      <td>0.000</td>\n",
       "      <td>0.054</td>\n",
       "    </tr>\n",
       "    <tr>\n",
       "      <th>Audi</th>\n",
       "      <td>0.109</td>\n",
       "      <td>1.000</td>\n",
       "      <td>0.346</td>\n",
       "      <td>0.032</td>\n",
       "      <td>0.109</td>\n",
       "      <td>0.141</td>\n",
       "      <td>0.167</td>\n",
       "      <td>0.167</td>\n",
       "      <td>0.0</td>\n",
       "      <td>0.122</td>\n",
       "      <td>...</td>\n",
       "      <td>0.122</td>\n",
       "      <td>0.160</td>\n",
       "      <td>0.128</td>\n",
       "      <td>0.154</td>\n",
       "      <td>0.128</td>\n",
       "      <td>0.051</td>\n",
       "      <td>0.032</td>\n",
       "      <td>0.115</td>\n",
       "      <td>0.006</td>\n",
       "      <td>0.083</td>\n",
       "    </tr>\n",
       "    <tr>\n",
       "      <th>BMW</th>\n",
       "      <td>0.068</td>\n",
       "      <td>0.119</td>\n",
       "      <td>1.000</td>\n",
       "      <td>0.064</td>\n",
       "      <td>0.119</td>\n",
       "      <td>0.148</td>\n",
       "      <td>0.161</td>\n",
       "      <td>0.161</td>\n",
       "      <td>0.0</td>\n",
       "      <td>0.139</td>\n",
       "      <td>...</td>\n",
       "      <td>0.088</td>\n",
       "      <td>0.038</td>\n",
       "      <td>0.168</td>\n",
       "      <td>0.110</td>\n",
       "      <td>0.168</td>\n",
       "      <td>0.044</td>\n",
       "      <td>0.022</td>\n",
       "      <td>0.150</td>\n",
       "      <td>0.004</td>\n",
       "      <td>0.033</td>\n",
       "    </tr>\n",
       "    <tr>\n",
       "      <th>Buick</th>\n",
       "      <td>0.009</td>\n",
       "      <td>0.009</td>\n",
       "      <td>0.053</td>\n",
       "      <td>1.000</td>\n",
       "      <td>0.039</td>\n",
       "      <td>0.189</td>\n",
       "      <td>0.211</td>\n",
       "      <td>0.211</td>\n",
       "      <td>0.0</td>\n",
       "      <td>0.182</td>\n",
       "      <td>...</td>\n",
       "      <td>0.131</td>\n",
       "      <td>0.004</td>\n",
       "      <td>0.215</td>\n",
       "      <td>0.090</td>\n",
       "      <td>0.215</td>\n",
       "      <td>0.097</td>\n",
       "      <td>0.028</td>\n",
       "      <td>0.055</td>\n",
       "      <td>0.000</td>\n",
       "      <td>0.002</td>\n",
       "    </tr>\n",
       "    <tr>\n",
       "      <th>Cadillac</th>\n",
       "      <td>0.032</td>\n",
       "      <td>0.034</td>\n",
       "      <td>0.107</td>\n",
       "      <td>0.042</td>\n",
       "      <td>1.000</td>\n",
       "      <td>0.109</td>\n",
       "      <td>0.158</td>\n",
       "      <td>0.158</td>\n",
       "      <td>0.0</td>\n",
       "      <td>0.144</td>\n",
       "      <td>...</td>\n",
       "      <td>0.075</td>\n",
       "      <td>0.016</td>\n",
       "      <td>0.247</td>\n",
       "      <td>0.079</td>\n",
       "      <td>0.247</td>\n",
       "      <td>0.022</td>\n",
       "      <td>0.024</td>\n",
       "      <td>0.128</td>\n",
       "      <td>0.000</td>\n",
       "      <td>0.014</td>\n",
       "    </tr>\n",
       "  </tbody>\n",
       "</table>\n",
       "<p>5 rows × 35 columns</p>\n",
       "</div>"
      ],
      "text/plain": [
       "          Acura   Audi    BMW  Buick  Cadillac  Chevrolet  Chrysler  Dodge  \\\n",
       "Acura     1.000  0.132  0.240  0.039     0.124      0.209     0.194  0.194   \n",
       "Audi      0.109  1.000  0.346  0.032     0.109      0.141     0.167  0.167   \n",
       "BMW       0.068  0.119  1.000  0.064     0.119      0.148     0.161  0.161   \n",
       "Buick     0.009  0.009  0.053  1.000     0.039      0.189     0.211  0.211   \n",
       "Cadillac  0.032  0.034  0.107  0.042     1.000      0.109     0.158  0.158   \n",
       "\n",
       "          FIAT   Ford    ...     Nissan  Porsche  Scion  Subaru  Toyota  \\\n",
       "Acura      0.0  0.194    ...      0.163    0.078  0.194   0.225   0.194   \n",
       "Audi       0.0  0.122    ...      0.122    0.160  0.128   0.154   0.128   \n",
       "BMW        0.0  0.139    ...      0.088    0.038  0.168   0.110   0.168   \n",
       "Buick      0.0  0.182    ...      0.131    0.004  0.215   0.090   0.215   \n",
       "Cadillac   0.0  0.144    ...      0.075    0.016  0.247   0.079   0.247   \n",
       "\n",
       "          Volkswagen  Volvo  CarMax  Tesla  Maserati  \n",
       "Acura          0.054  0.047   0.147  0.000     0.054  \n",
       "Audi           0.051  0.032   0.115  0.006     0.083  \n",
       "BMW            0.044  0.022   0.150  0.004     0.033  \n",
       "Buick          0.097  0.028   0.055  0.000     0.002  \n",
       "Cadillac       0.022  0.024   0.128  0.000     0.014  \n",
       "\n",
       "[5 rows x 35 columns]"
      ]
     },
     "execution_count": 68,
     "metadata": {},
     "output_type": "execute_result"
    }
   ],
   "source": [
    "df.head()"
   ]
  },
  {
   "cell_type": "markdown",
   "metadata": {},
   "source": [
    "#### Export to csv"
   ]
  },
  {
   "cell_type": "code",
   "execution_count": 69,
   "metadata": {
    "colab": {
     "autoexec": {
      "startup": false,
      "wait_interval": 0
     }
    },
    "colab_type": "code",
    "collapsed": true,
    "id": "mENiv1Ud-SvI"
   },
   "outputs": [],
   "source": [
    "# df.to_csv(\"Cross_Visitation_brand_tampa.csv\")"
   ]
  },
  {
   "cell_type": "markdown",
   "metadata": {
    "colab_type": "text",
    "id": "2KtwFGQ8Hbb-"
   },
   "source": [
    "### Lead Type Analysis"
   ]
  },
  {
   "cell_type": "markdown",
   "metadata": {},
   "source": [
    "#### Create new table customer_type contains unique leadid and the visiting brand"
   ]
  },
  {
   "cell_type": "code",
   "execution_count": 70,
   "metadata": {
    "colab": {
     "autoexec": {
      "startup": false,
      "wait_interval": 0
     }
    },
    "colab_type": "code",
    "collapsed": true,
    "id": "oUcgJRVI-SvT"
   },
   "outputs": [],
   "source": [
    "#https://stackoverflow.com/questions/42904255/list-column-names-that-are-null-empty-for-a-dataframe-in-each-row\n",
    "customer_type = pd.DataFrame(cross_visit_brand.drop(\"LeadId\",axis=1).apply(\n",
    "    lambda x: ','.join(x[x!=0].index).upper().split(\",\"),axis=1),columns=[\"Visiting Brand\"])\n"
   ]
  },
  {
   "cell_type": "code",
   "execution_count": 71,
   "metadata": {
    "colab": {
     "autoexec": {
      "startup": false,
      "wait_interval": 0
     }
    },
    "colab_type": "code",
    "id": "Fav0MaRk-SvU",
    "outputId": "bacc2f17-7d87-4695-8dc0-14615c383dfc"
   },
   "outputs": [
    {
     "data": {
      "text/html": [
       "<div>\n",
       "<style scoped>\n",
       "    .dataframe tbody tr th:only-of-type {\n",
       "        vertical-align: middle;\n",
       "    }\n",
       "\n",
       "    .dataframe tbody tr th {\n",
       "        vertical-align: top;\n",
       "    }\n",
       "\n",
       "    .dataframe thead th {\n",
       "        text-align: right;\n",
       "    }\n",
       "</style>\n",
       "<table border=\"1\" class=\"dataframe\">\n",
       "  <thead>\n",
       "    <tr style=\"text-align: right;\">\n",
       "      <th></th>\n",
       "      <th>Visiting Brand</th>\n",
       "    </tr>\n",
       "    <tr>\n",
       "      <th>LeadId</th>\n",
       "      <th></th>\n",
       "    </tr>\n",
       "  </thead>\n",
       "  <tbody>\n",
       "    <tr>\n",
       "      <th>816</th>\n",
       "      <td>[FORD]</td>\n",
       "    </tr>\n",
       "    <tr>\n",
       "      <th>2345</th>\n",
       "      <td>[CHEVROLET, HONDA, KIA]</td>\n",
       "    </tr>\n",
       "    <tr>\n",
       "      <th>6750</th>\n",
       "      <td>[SUBARU]</td>\n",
       "    </tr>\n",
       "    <tr>\n",
       "      <th>7613</th>\n",
       "      <td>[ACURA, BMW, CADILLAC, CHRYSLER, DODGE, HONDA,...</td>\n",
       "    </tr>\n",
       "    <tr>\n",
       "      <th>7622</th>\n",
       "      <td>[PORSCHE]</td>\n",
       "    </tr>\n",
       "  </tbody>\n",
       "</table>\n",
       "</div>"
      ],
      "text/plain": [
       "                                           Visiting Brand\n",
       "LeadId                                                   \n",
       "816                                                [FORD]\n",
       "2345                              [CHEVROLET, HONDA, KIA]\n",
       "6750                                             [SUBARU]\n",
       "7613    [ACURA, BMW, CADILLAC, CHRYSLER, DODGE, HONDA,...\n",
       "7622                                            [PORSCHE]"
      ]
     },
     "execution_count": 71,
     "metadata": {},
     "output_type": "execute_result"
    }
   ],
   "source": [
    "customer_type.head()"
   ]
  },
  {
   "cell_type": "markdown",
   "metadata": {},
   "source": [
    "#### Load Dataset"
   ]
  },
  {
   "cell_type": "code",
   "execution_count": 72,
   "metadata": {
    "colab": {
     "autoexec": {
      "startup": false,
      "wait_interval": 0
     }
    },
    "colab_type": "code",
    "id": "sHovn-WY-SvV",
    "outputId": "6791ea13-cb94-4c71-a077-e72823d52ef4"
   },
   "outputs": [
    {
     "name": "stderr",
     "output_type": "stream",
     "text": [
      "/Users/Jessica/anaconda3/lib/python3.6/site-packages/IPython/core/interactiveshell.py:2698: DtypeWarning: Columns (10,18,19,20,21,22,24,38,53,54,79,86,91,92,95,96,97,113,114,116,117,122,123,165,166,183,189,190,192,193,194,195,196,198,199,201,202,203,204,205,207,208,210,211,212,213,214,216,217,219,220,221,222,223,233,234,235,236,238,255,256,257,258,259) have mixed types. Specify dtype option on import or set low_memory=False.\n",
      "  interactivity=interactivity, compiler=compiler, result=result)\n"
     ]
    }
   ],
   "source": [
    "DimLead = pd.read_csv(\"DimLead_2city_2.csv\")"
   ]
  },
  {
   "cell_type": "code",
   "execution_count": 73,
   "metadata": {
    "colab": {
     "autoexec": {
      "startup": false,
      "wait_interval": 0
     }
    },
    "colab_type": "code",
    "collapsed": true,
    "id": "MfaaGtVi-SvW"
   },
   "outputs": [],
   "source": [
    "DimLead_part = DimLead[[\"LeadId\",\"Auto Make\",\"Second Auto Make\",\"Third Auto Make\",\"Fourth Auto Make\"]].set_index('LeadId')"
   ]
  },
  {
   "cell_type": "markdown",
   "metadata": {},
   "source": [
    "#### Join customer_type and DimLead_part to create a new table lead_type"
   ]
  },
  {
   "cell_type": "code",
   "execution_count": 74,
   "metadata": {
    "colab": {
     "autoexec": {
      "startup": false,
      "wait_interval": 0
     }
    },
    "colab_type": "code",
    "collapsed": true,
    "id": "fLRIDgPc-SvW"
   },
   "outputs": [],
   "source": [
    "lead_type = customer_type.join(DimLead_part,rsuffix=\"_d\")"
   ]
  },
  {
   "cell_type": "code",
   "execution_count": 75,
   "metadata": {
    "colab": {
     "autoexec": {
      "startup": false,
      "wait_interval": 0
     }
    },
    "colab_type": "code",
    "collapsed": true,
    "id": "Ecj8cURK-SvZ"
   },
   "outputs": [],
   "source": [
    "owned_brand = lead_type[[\"Auto Make\",\"Second Auto Make\",\"Third Auto Make\",\"Fourth Auto Make\"]].values.tolist()"
   ]
  },
  {
   "cell_type": "markdown",
   "metadata": {},
   "source": [
    "#### Create owned_brands list that are not null in owned_brand list"
   ]
  },
  {
   "cell_type": "code",
   "execution_count": 76,
   "metadata": {
    "colab": {
     "autoexec": {
      "startup": false,
      "wait_interval": 0
     }
    },
    "colab_type": "code",
    "collapsed": true,
    "id": "QI63qrX1-Sva"
   },
   "outputs": [],
   "source": [
    "owned_brands = [list(set(x)-set([np.nan])) for x in owned_brand]"
   ]
  },
  {
   "cell_type": "markdown",
   "metadata": {},
   "source": [
    "#### Assign owned_brands list to owned_brand column in lead_type"
   ]
  },
  {
   "cell_type": "code",
   "execution_count": 77,
   "metadata": {
    "colab": {
     "autoexec": {
      "startup": false,
      "wait_interval": 0
     }
    },
    "colab_type": "code",
    "collapsed": true,
    "id": "FTn9FRSD-Svc"
   },
   "outputs": [],
   "source": [
    "lead_type[\"owned_brand\"] = owned_brands"
   ]
  },
  {
   "cell_type": "markdown",
   "metadata": {},
   "source": [
    "#### Check null value"
   ]
  },
  {
   "cell_type": "code",
   "execution_count": 78,
   "metadata": {
    "colab": {
     "autoexec": {
      "startup": false,
      "wait_interval": 0
     }
    },
    "colab_type": "code",
    "id": "EW9dbjeE-Svd",
    "outputId": "2909530a-20fa-437f-ba3c-8994eda6d0e3"
   },
   "outputs": [
    {
     "data": {
      "text/plain": [
       "0"
      ]
     },
     "execution_count": 78,
     "metadata": {},
     "output_type": "execute_result"
    }
   ],
   "source": [
    "lead_type[\"Visiting Brand\"].isnull().sum()"
   ]
  },
  {
   "cell_type": "code",
   "execution_count": 79,
   "metadata": {
    "colab": {
     "autoexec": {
      "startup": false,
      "wait_interval": 0
     }
    },
    "colab_type": "code",
    "id": "PV15JAkw-Svf",
    "outputId": "f4b9419d-9b2f-4a29-e0ca-55c984fa14f7"
   },
   "outputs": [
    {
     "data": {
      "text/html": [
       "<div>\n",
       "<style scoped>\n",
       "    .dataframe tbody tr th:only-of-type {\n",
       "        vertical-align: middle;\n",
       "    }\n",
       "\n",
       "    .dataframe tbody tr th {\n",
       "        vertical-align: top;\n",
       "    }\n",
       "\n",
       "    .dataframe thead th {\n",
       "        text-align: right;\n",
       "    }\n",
       "</style>\n",
       "<table border=\"1\" class=\"dataframe\">\n",
       "  <thead>\n",
       "    <tr style=\"text-align: right;\">\n",
       "      <th></th>\n",
       "      <th>Visiting Brand</th>\n",
       "      <th>Auto Make</th>\n",
       "      <th>Second Auto Make</th>\n",
       "      <th>Third Auto Make</th>\n",
       "      <th>Fourth Auto Make</th>\n",
       "      <th>owned_brand</th>\n",
       "    </tr>\n",
       "    <tr>\n",
       "      <th>LeadId</th>\n",
       "      <th></th>\n",
       "      <th></th>\n",
       "      <th></th>\n",
       "      <th></th>\n",
       "      <th></th>\n",
       "      <th></th>\n",
       "    </tr>\n",
       "  </thead>\n",
       "  <tbody>\n",
       "    <tr>\n",
       "      <th>816</th>\n",
       "      <td>[FORD]</td>\n",
       "      <td>NaN</td>\n",
       "      <td>NaN</td>\n",
       "      <td>NaN</td>\n",
       "      <td>NaN</td>\n",
       "      <td>[]</td>\n",
       "    </tr>\n",
       "    <tr>\n",
       "      <th>2345</th>\n",
       "      <td>[CHEVROLET, HONDA, KIA]</td>\n",
       "      <td>NaN</td>\n",
       "      <td>NaN</td>\n",
       "      <td>NaN</td>\n",
       "      <td>NaN</td>\n",
       "      <td>[]</td>\n",
       "    </tr>\n",
       "    <tr>\n",
       "      <th>6750</th>\n",
       "      <td>[SUBARU]</td>\n",
       "      <td>NaN</td>\n",
       "      <td>NaN</td>\n",
       "      <td>NaN</td>\n",
       "      <td>NaN</td>\n",
       "      <td>[]</td>\n",
       "    </tr>\n",
       "    <tr>\n",
       "      <th>7613</th>\n",
       "      <td>[ACURA, BMW, CADILLAC, CHRYSLER, DODGE, HONDA,...</td>\n",
       "      <td>NaN</td>\n",
       "      <td>NaN</td>\n",
       "      <td>NaN</td>\n",
       "      <td>NaN</td>\n",
       "      <td>[]</td>\n",
       "    </tr>\n",
       "    <tr>\n",
       "      <th>7622</th>\n",
       "      <td>[PORSCHE]</td>\n",
       "      <td>NaN</td>\n",
       "      <td>NaN</td>\n",
       "      <td>NaN</td>\n",
       "      <td>NaN</td>\n",
       "      <td>[]</td>\n",
       "    </tr>\n",
       "  </tbody>\n",
       "</table>\n",
       "</div>"
      ],
      "text/plain": [
       "                                           Visiting Brand Auto Make  \\\n",
       "LeadId                                                                \n",
       "816                                                [FORD]       NaN   \n",
       "2345                              [CHEVROLET, HONDA, KIA]       NaN   \n",
       "6750                                             [SUBARU]       NaN   \n",
       "7613    [ACURA, BMW, CADILLAC, CHRYSLER, DODGE, HONDA,...       NaN   \n",
       "7622                                            [PORSCHE]       NaN   \n",
       "\n",
       "       Second Auto Make Third Auto Make Fourth Auto Make owned_brand  \n",
       "LeadId                                                                \n",
       "816                 NaN             NaN              NaN          []  \n",
       "2345                NaN             NaN              NaN          []  \n",
       "6750                NaN             NaN              NaN          []  \n",
       "7613                NaN             NaN              NaN          []  \n",
       "7622                NaN             NaN              NaN          []  "
      ]
     },
     "execution_count": 79,
     "metadata": {},
     "output_type": "execute_result"
    }
   ],
   "source": [
    "lead_type.head()"
   ]
  },
  {
   "cell_type": "markdown",
   "metadata": {},
   "source": [
    "#### Use For loop to create logic to assign Defector/Loyalist/Conquest/Non-shopper "
   ]
  },
  {
   "cell_type": "code",
   "execution_count": 45,
   "metadata": {
    "colab": {
     "autoexec": {
      "startup": false,
      "wait_interval": 0
     }
    },
    "colab_type": "code",
    "collapsed": true,
    "id": "nhdgDcw0-Svh"
   },
   "outputs": [],
   "source": [
    "def leadtype(row):\n",
    "    brand_u = brand.upper()\n",
    "    if brand.upper() in row[\"owned_brand\"]:\n",
    "        if len(list(set(row[\"Visiting Brand\"]) - set([brand.upper()]))) > 0 :\n",
    "            val = \"Defector\"\n",
    "        else:\n",
    "            val = \"Loyalist\"\n",
    "    else:\n",
    "        if brand_u in row[\"Visiting Brand\"]:\n",
    "            val = \"Conquest\"\n",
    "        else:\n",
    "            val = \"Non-shopper\"\n",
    "    return val"
   ]
  },
  {
   "cell_type": "code",
   "execution_count": 46,
   "metadata": {
    "colab": {
     "autoexec": {
      "startup": false,
      "wait_interval": 0
     }
    },
    "colab_type": "code",
    "collapsed": true,
    "id": "7aAIPF1F-Svj"
   },
   "outputs": [],
   "source": [
    "brandlist = ['Acura','Audi','BMW','Buick','Cadillac','Chevrolet','Chrysler'\\\n",
    "                         ,'Dodge','FIAT','Ford','GMC','Honda','Hyundai','Inifiniti','Jaguar','Jeep','Kia','Lamborghini',\\\n",
    "                         'Land Rover','Lexus','Lincoln','Mazda','Mercedes-Benz','MINI','Mitsubishi','Nissan','Porsche',\\\n",
    "                         'Scion','Subaru','Toyota','Volkswagen','Volvo','CarMax','Tesla','Maserati']"
   ]
  },
  {
   "cell_type": "code",
   "execution_count": 47,
   "metadata": {
    "colab": {
     "autoexec": {
      "startup": false,
      "wait_interval": 0
     }
    },
    "colab_type": "code",
    "collapsed": true,
    "id": "c2JFcaPq-Svj"
   },
   "outputs": [],
   "source": [
    "for brand in brandlist:\n",
    "    lead_type[brand] = lead_type.apply(leadtype,axis=1)\n"
   ]
  },
  {
   "cell_type": "code",
   "execution_count": 48,
   "metadata": {
    "colab": {
     "autoexec": {
      "startup": false,
      "wait_interval": 0
     }
    },
    "colab_type": "code",
    "collapsed": true,
    "id": "DimfsUOg-Svk"
   },
   "outputs": [],
   "source": [
    "lead_type[\"LeadId\"] = lead_type.index"
   ]
  },
  {
   "cell_type": "markdown",
   "metadata": {},
   "source": [
    "#### Export lead_type csv"
   ]
  },
  {
   "cell_type": "code",
   "execution_count": 49,
   "metadata": {
    "colab": {
     "autoexec": {
      "startup": false,
      "wait_interval": 0
     }
    },
    "colab_type": "code",
    "collapsed": true,
    "id": "OiOpue6Z-Svl"
   },
   "outputs": [],
   "source": [
    "lead_type.to_csv(\"lead_type_tampa.csv\")"
   ]
  },
  {
   "cell_type": "code",
   "execution_count": 50,
   "metadata": {
    "colab": {
     "autoexec": {
      "startup": false,
      "wait_interval": 0
     }
    },
    "colab_type": "code",
    "id": "WTyEzCyN-Svm",
    "outputId": "133b1504-1a4c-4f7d-dba7-4207e03a8456"
   },
   "outputs": [
    {
     "data": {
      "text/html": [
       "<div>\n",
       "<style scoped>\n",
       "    .dataframe tbody tr th:only-of-type {\n",
       "        vertical-align: middle;\n",
       "    }\n",
       "\n",
       "    .dataframe tbody tr th {\n",
       "        vertical-align: top;\n",
       "    }\n",
       "\n",
       "    .dataframe thead th {\n",
       "        text-align: right;\n",
       "    }\n",
       "</style>\n",
       "<table border=\"1\" class=\"dataframe\">\n",
       "  <thead>\n",
       "    <tr style=\"text-align: right;\">\n",
       "      <th></th>\n",
       "      <th>Visiting Brand</th>\n",
       "      <th>Auto Make</th>\n",
       "      <th>Second Auto Make</th>\n",
       "      <th>Third Auto Make</th>\n",
       "      <th>Fourth Auto Make</th>\n",
       "      <th>owned_brand</th>\n",
       "      <th>Acura</th>\n",
       "      <th>Audi</th>\n",
       "      <th>BMW</th>\n",
       "      <th>Buick</th>\n",
       "      <th>...</th>\n",
       "      <th>Porsche</th>\n",
       "      <th>Scion</th>\n",
       "      <th>Subaru</th>\n",
       "      <th>Toyota</th>\n",
       "      <th>Volkswagen</th>\n",
       "      <th>Volvo</th>\n",
       "      <th>CarMax</th>\n",
       "      <th>Tesla</th>\n",
       "      <th>Maserati</th>\n",
       "      <th>LeadId</th>\n",
       "    </tr>\n",
       "    <tr>\n",
       "      <th>LeadId</th>\n",
       "      <th></th>\n",
       "      <th></th>\n",
       "      <th></th>\n",
       "      <th></th>\n",
       "      <th></th>\n",
       "      <th></th>\n",
       "      <th></th>\n",
       "      <th></th>\n",
       "      <th></th>\n",
       "      <th></th>\n",
       "      <th></th>\n",
       "      <th></th>\n",
       "      <th></th>\n",
       "      <th></th>\n",
       "      <th></th>\n",
       "      <th></th>\n",
       "      <th></th>\n",
       "      <th></th>\n",
       "      <th></th>\n",
       "      <th></th>\n",
       "      <th></th>\n",
       "    </tr>\n",
       "  </thead>\n",
       "  <tbody>\n",
       "    <tr>\n",
       "      <th>816</th>\n",
       "      <td>[FORD]</td>\n",
       "      <td>NaN</td>\n",
       "      <td>NaN</td>\n",
       "      <td>NaN</td>\n",
       "      <td>NaN</td>\n",
       "      <td>[]</td>\n",
       "      <td>Non-shopper</td>\n",
       "      <td>Non-shopper</td>\n",
       "      <td>Non-shopper</td>\n",
       "      <td>Non-shopper</td>\n",
       "      <td>...</td>\n",
       "      <td>Non-shopper</td>\n",
       "      <td>Non-shopper</td>\n",
       "      <td>Non-shopper</td>\n",
       "      <td>Non-shopper</td>\n",
       "      <td>Non-shopper</td>\n",
       "      <td>Non-shopper</td>\n",
       "      <td>Non-shopper</td>\n",
       "      <td>Non-shopper</td>\n",
       "      <td>Non-shopper</td>\n",
       "      <td>816</td>\n",
       "    </tr>\n",
       "    <tr>\n",
       "      <th>2345</th>\n",
       "      <td>[CHEVROLET, HONDA, KIA]</td>\n",
       "      <td>NaN</td>\n",
       "      <td>NaN</td>\n",
       "      <td>NaN</td>\n",
       "      <td>NaN</td>\n",
       "      <td>[]</td>\n",
       "      <td>Non-shopper</td>\n",
       "      <td>Non-shopper</td>\n",
       "      <td>Non-shopper</td>\n",
       "      <td>Non-shopper</td>\n",
       "      <td>...</td>\n",
       "      <td>Non-shopper</td>\n",
       "      <td>Non-shopper</td>\n",
       "      <td>Non-shopper</td>\n",
       "      <td>Non-shopper</td>\n",
       "      <td>Non-shopper</td>\n",
       "      <td>Non-shopper</td>\n",
       "      <td>Non-shopper</td>\n",
       "      <td>Non-shopper</td>\n",
       "      <td>Non-shopper</td>\n",
       "      <td>2345</td>\n",
       "    </tr>\n",
       "    <tr>\n",
       "      <th>6750</th>\n",
       "      <td>[SUBARU]</td>\n",
       "      <td>NaN</td>\n",
       "      <td>NaN</td>\n",
       "      <td>NaN</td>\n",
       "      <td>NaN</td>\n",
       "      <td>[]</td>\n",
       "      <td>Non-shopper</td>\n",
       "      <td>Non-shopper</td>\n",
       "      <td>Non-shopper</td>\n",
       "      <td>Non-shopper</td>\n",
       "      <td>...</td>\n",
       "      <td>Non-shopper</td>\n",
       "      <td>Non-shopper</td>\n",
       "      <td>Conquest</td>\n",
       "      <td>Non-shopper</td>\n",
       "      <td>Non-shopper</td>\n",
       "      <td>Non-shopper</td>\n",
       "      <td>Non-shopper</td>\n",
       "      <td>Non-shopper</td>\n",
       "      <td>Non-shopper</td>\n",
       "      <td>6750</td>\n",
       "    </tr>\n",
       "    <tr>\n",
       "      <th>7613</th>\n",
       "      <td>[ACURA, BMW, CADILLAC, CHRYSLER, DODGE, HONDA,...</td>\n",
       "      <td>NaN</td>\n",
       "      <td>NaN</td>\n",
       "      <td>NaN</td>\n",
       "      <td>NaN</td>\n",
       "      <td>[]</td>\n",
       "      <td>Conquest</td>\n",
       "      <td>Non-shopper</td>\n",
       "      <td>Conquest</td>\n",
       "      <td>Non-shopper</td>\n",
       "      <td>...</td>\n",
       "      <td>Conquest</td>\n",
       "      <td>Non-shopper</td>\n",
       "      <td>Conquest</td>\n",
       "      <td>Non-shopper</td>\n",
       "      <td>Non-shopper</td>\n",
       "      <td>Non-shopper</td>\n",
       "      <td>Non-shopper</td>\n",
       "      <td>Non-shopper</td>\n",
       "      <td>Non-shopper</td>\n",
       "      <td>7613</td>\n",
       "    </tr>\n",
       "    <tr>\n",
       "      <th>7622</th>\n",
       "      <td>[PORSCHE]</td>\n",
       "      <td>NaN</td>\n",
       "      <td>NaN</td>\n",
       "      <td>NaN</td>\n",
       "      <td>NaN</td>\n",
       "      <td>[]</td>\n",
       "      <td>Non-shopper</td>\n",
       "      <td>Non-shopper</td>\n",
       "      <td>Non-shopper</td>\n",
       "      <td>Non-shopper</td>\n",
       "      <td>...</td>\n",
       "      <td>Conquest</td>\n",
       "      <td>Non-shopper</td>\n",
       "      <td>Non-shopper</td>\n",
       "      <td>Non-shopper</td>\n",
       "      <td>Non-shopper</td>\n",
       "      <td>Non-shopper</td>\n",
       "      <td>Non-shopper</td>\n",
       "      <td>Non-shopper</td>\n",
       "      <td>Non-shopper</td>\n",
       "      <td>7622</td>\n",
       "    </tr>\n",
       "  </tbody>\n",
       "</table>\n",
       "<p>5 rows × 42 columns</p>\n",
       "</div>"
      ],
      "text/plain": [
       "                                           Visiting Brand Auto Make  \\\n",
       "LeadId                                                                \n",
       "816                                                [FORD]       NaN   \n",
       "2345                              [CHEVROLET, HONDA, KIA]       NaN   \n",
       "6750                                             [SUBARU]       NaN   \n",
       "7613    [ACURA, BMW, CADILLAC, CHRYSLER, DODGE, HONDA,...       NaN   \n",
       "7622                                            [PORSCHE]       NaN   \n",
       "\n",
       "       Second Auto Make Third Auto Make Fourth Auto Make owned_brand  \\\n",
       "LeadId                                                                 \n",
       "816                 NaN             NaN              NaN          []   \n",
       "2345                NaN             NaN              NaN          []   \n",
       "6750                NaN             NaN              NaN          []   \n",
       "7613                NaN             NaN              NaN          []   \n",
       "7622                NaN             NaN              NaN          []   \n",
       "\n",
       "              Acura         Audi          BMW        Buick  ...    \\\n",
       "LeadId                                                      ...     \n",
       "816     Non-shopper  Non-shopper  Non-shopper  Non-shopper  ...     \n",
       "2345    Non-shopper  Non-shopper  Non-shopper  Non-shopper  ...     \n",
       "6750    Non-shopper  Non-shopper  Non-shopper  Non-shopper  ...     \n",
       "7613       Conquest  Non-shopper     Conquest  Non-shopper  ...     \n",
       "7622    Non-shopper  Non-shopper  Non-shopper  Non-shopper  ...     \n",
       "\n",
       "            Porsche        Scion       Subaru       Toyota   Volkswagen  \\\n",
       "LeadId                                                                    \n",
       "816     Non-shopper  Non-shopper  Non-shopper  Non-shopper  Non-shopper   \n",
       "2345    Non-shopper  Non-shopper  Non-shopper  Non-shopper  Non-shopper   \n",
       "6750    Non-shopper  Non-shopper     Conquest  Non-shopper  Non-shopper   \n",
       "7613       Conquest  Non-shopper     Conquest  Non-shopper  Non-shopper   \n",
       "7622       Conquest  Non-shopper  Non-shopper  Non-shopper  Non-shopper   \n",
       "\n",
       "              Volvo       CarMax        Tesla     Maserati LeadId  \n",
       "LeadId                                                             \n",
       "816     Non-shopper  Non-shopper  Non-shopper  Non-shopper    816  \n",
       "2345    Non-shopper  Non-shopper  Non-shopper  Non-shopper   2345  \n",
       "6750    Non-shopper  Non-shopper  Non-shopper  Non-shopper   6750  \n",
       "7613    Non-shopper  Non-shopper  Non-shopper  Non-shopper   7613  \n",
       "7622    Non-shopper  Non-shopper  Non-shopper  Non-shopper   7622  \n",
       "\n",
       "[5 rows x 42 columns]"
      ]
     },
     "execution_count": 50,
     "metadata": {},
     "output_type": "execute_result"
    }
   ],
   "source": [
    "lead_type.head()"
   ]
  },
  {
   "cell_type": "code",
   "execution_count": null,
   "metadata": {
    "collapsed": true
   },
   "outputs": [],
   "source": []
  },
  {
   "cell_type": "markdown",
   "metadata": {},
   "source": [
    "# Frequency of Shopping Behavior"
   ]
  },
  {
   "cell_type": "markdown",
   "metadata": {},
   "source": [
    "### Import Packages and Fetch Data"
   ]
  },
  {
   "cell_type": "code",
   "execution_count": 88,
   "metadata": {
    "collapsed": true
   },
   "outputs": [],
   "source": [
    "import pandas as pd\n",
    "import numpy as np\n",
    "import seaborn as sns\n",
    "import matplotlib.pyplot as plt\n",
    "import sklearn \n",
    "%matplotlib inline"
   ]
  },
  {
   "cell_type": "code",
   "execution_count": 89,
   "metadata": {
    "collapsed": true
   },
   "outputs": [],
   "source": [
    "facvisit_df = pd.read_csv('FacVisits_2city_2new.csv')"
   ]
  },
  {
   "cell_type": "code",
   "execution_count": 90,
   "metadata": {},
   "outputs": [],
   "source": [
    "lead_df = pd.read_csv('lead_type.csv')"
   ]
  },
  {
   "cell_type": "code",
   "execution_count": 91,
   "metadata": {},
   "outputs": [],
   "source": [
    "dimdate_df = pd.read_csv('DimDate.csv')\n"
   ]
  },
  {
   "cell_type": "code",
   "execution_count": 92,
   "metadata": {},
   "outputs": [],
   "source": [
    "dimdealer_df = pd.read_csv('DimDealer_2city.csv')"
   ]
  },
  {
   "cell_type": "code",
   "execution_count": 93,
   "metadata": {},
   "outputs": [],
   "source": [
    "dimtime_df = pd.read_csv('DimTime.csv')"
   ]
  },
  {
   "cell_type": "code",
   "execution_count": 94,
   "metadata": {},
   "outputs": [
    {
     "name": "stderr",
     "output_type": "stream",
     "text": [
      "/Users/Jessica/anaconda3/lib/python3.6/site-packages/IPython/core/interactiveshell.py:2698: DtypeWarning: Columns (18,38,79,91,96,97,233,234,298,303,304) have mixed types. Specify dtype option on import or set low_memory=False.\n",
      "  interactivity=interactivity, compiler=compiler, result=result)\n"
     ]
    }
   ],
   "source": [
    "leadvisitor_df = pd.read_csv('DimLead_visiotr_2city.csv')"
   ]
  },
  {
   "cell_type": "code",
   "execution_count": 95,
   "metadata": {
    "collapsed": true
   },
   "outputs": [],
   "source": [
    "leadvisitor_df.columns = [c.replace(' ', '_') for c in leadvisitor_df.columns]"
   ]
  },
  {
   "cell_type": "code",
   "execution_count": 96,
   "metadata": {
    "scrolled": true
   },
   "outputs": [
    {
     "data": {
      "text/html": [
       "<div>\n",
       "<style scoped>\n",
       "    .dataframe tbody tr th:only-of-type {\n",
       "        vertical-align: middle;\n",
       "    }\n",
       "\n",
       "    .dataframe tbody tr th {\n",
       "        vertical-align: top;\n",
       "    }\n",
       "\n",
       "    .dataframe thead th {\n",
       "        text-align: right;\n",
       "    }\n",
       "</style>\n",
       "<table border=\"1\" class=\"dataframe\">\n",
       "  <thead>\n",
       "    <tr style=\"text-align: right;\">\n",
       "      <th></th>\n",
       "      <th>Unnamed:_0</th>\n",
       "      <th>LeadId</th>\n",
       "      <th>Latitude</th>\n",
       "      <th>Longitude</th>\n",
       "      <th>AddressLatitude</th>\n",
       "      <th>AddressLongitude</th>\n",
       "      <th>PostalCode</th>\n",
       "      <th>AppendedPhone</th>\n",
       "      <th>PhoneScore</th>\n",
       "      <th>StandardizedZipCode</th>\n",
       "      <th>...</th>\n",
       "      <th>Third_Auto_Last_Verified_Date.1</th>\n",
       "      <th>Fourth_Auto_Year.1</th>\n",
       "      <th>Fourth_Auto_Last_Verified_Date.1</th>\n",
       "      <th>IP_Address.1</th>\n",
       "      <th>Region.1</th>\n",
       "      <th>IP_City.1</th>\n",
       "      <th>IP_Zip.1</th>\n",
       "      <th>Internet_Provider.1</th>\n",
       "      <th>IP_From.1</th>\n",
       "      <th>IP_To.1</th>\n",
       "    </tr>\n",
       "  </thead>\n",
       "  <tbody>\n",
       "    <tr>\n",
       "      <th>count</th>\n",
       "      <td>30089.000000</td>\n",
       "      <td>3.008900e+04</td>\n",
       "      <td>30089.000000</td>\n",
       "      <td>30089.000000</td>\n",
       "      <td>30089.000000</td>\n",
       "      <td>30089.000000</td>\n",
       "      <td>30089.000000</td>\n",
       "      <td>2.207100e+04</td>\n",
       "      <td>0.0</td>\n",
       "      <td>30089.000000</td>\n",
       "      <td>...</td>\n",
       "      <td>2.807000e+03</td>\n",
       "      <td>1437.000000</td>\n",
       "      <td>1.427000e+03</td>\n",
       "      <td>0.0</td>\n",
       "      <td>0.0</td>\n",
       "      <td>0.0</td>\n",
       "      <td>0.0</td>\n",
       "      <td>0.0</td>\n",
       "      <td>0.0</td>\n",
       "      <td>0.0</td>\n",
       "    </tr>\n",
       "    <tr>\n",
       "      <th>mean</th>\n",
       "      <td>15044.000000</td>\n",
       "      <td>1.277743e+07</td>\n",
       "      <td>33.081982</td>\n",
       "      <td>-84.255260</td>\n",
       "      <td>33.114101</td>\n",
       "      <td>-84.282422</td>\n",
       "      <td>40094.556283</td>\n",
       "      <td>6.359286e+09</td>\n",
       "      <td>NaN</td>\n",
       "      <td>40094.575526</td>\n",
       "      <td>...</td>\n",
       "      <td>2.013009e+07</td>\n",
       "      <td>2001.299930</td>\n",
       "      <td>2.012457e+07</td>\n",
       "      <td>NaN</td>\n",
       "      <td>NaN</td>\n",
       "      <td>NaN</td>\n",
       "      <td>NaN</td>\n",
       "      <td>NaN</td>\n",
       "      <td>NaN</td>\n",
       "      <td>NaN</td>\n",
       "    </tr>\n",
       "    <tr>\n",
       "      <th>std</th>\n",
       "      <td>8686.090461</td>\n",
       "      <td>6.002133e+06</td>\n",
       "      <td>7.035073</td>\n",
       "      <td>4.235265</td>\n",
       "      <td>7.034068</td>\n",
       "      <td>4.298708</td>\n",
       "      <td>11241.491402</td>\n",
       "      <td>2.133725e+09</td>\n",
       "      <td>NaN</td>\n",
       "      <td>11241.482180</td>\n",
       "      <td>...</td>\n",
       "      <td>2.374991e+04</td>\n",
       "      <td>6.864371</td>\n",
       "      <td>2.266108e+04</td>\n",
       "      <td>NaN</td>\n",
       "      <td>NaN</td>\n",
       "      <td>NaN</td>\n",
       "      <td>NaN</td>\n",
       "      <td>NaN</td>\n",
       "      <td>NaN</td>\n",
       "      <td>NaN</td>\n",
       "    </tr>\n",
       "    <tr>\n",
       "      <th>min</th>\n",
       "      <td>0.000000</td>\n",
       "      <td>8.160000e+02</td>\n",
       "      <td>18.403270</td>\n",
       "      <td>-158.029975</td>\n",
       "      <td>19.599600</td>\n",
       "      <td>-158.030023</td>\n",
       "      <td>1062.000000</td>\n",
       "      <td>2.013106e+09</td>\n",
       "      <td>NaN</td>\n",
       "      <td>1062.000000</td>\n",
       "      <td>...</td>\n",
       "      <td>1.996061e+07</td>\n",
       "      <td>1981.000000</td>\n",
       "      <td>1.997112e+07</td>\n",
       "      <td>NaN</td>\n",
       "      <td>NaN</td>\n",
       "      <td>NaN</td>\n",
       "      <td>NaN</td>\n",
       "      <td>NaN</td>\n",
       "      <td>NaN</td>\n",
       "      <td>NaN</td>\n",
       "    </tr>\n",
       "    <tr>\n",
       "      <th>25%</th>\n",
       "      <td>7522.000000</td>\n",
       "      <td>6.719774e+06</td>\n",
       "      <td>27.979402</td>\n",
       "      <td>-87.881723</td>\n",
       "      <td>27.979611</td>\n",
       "      <td>-87.881900</td>\n",
       "      <td>33603.000000</td>\n",
       "      <td>4.145077e+09</td>\n",
       "      <td>NaN</td>\n",
       "      <td>33603.000000</td>\n",
       "      <td>...</td>\n",
       "      <td>2.012080e+07</td>\n",
       "      <td>1997.000000</td>\n",
       "      <td>2.012051e+07</td>\n",
       "      <td>NaN</td>\n",
       "      <td>NaN</td>\n",
       "      <td>NaN</td>\n",
       "      <td>NaN</td>\n",
       "      <td>NaN</td>\n",
       "      <td>NaN</td>\n",
       "      <td>NaN</td>\n",
       "    </tr>\n",
       "    <tr>\n",
       "      <th>50%</th>\n",
       "      <td>15044.000000</td>\n",
       "      <td>1.675337e+07</td>\n",
       "      <td>28.100240</td>\n",
       "      <td>-82.516331</td>\n",
       "      <td>28.101590</td>\n",
       "      <td>-82.517653</td>\n",
       "      <td>33634.000000</td>\n",
       "      <td>7.277986e+09</td>\n",
       "      <td>NaN</td>\n",
       "      <td>33634.000000</td>\n",
       "      <td>...</td>\n",
       "      <td>2.012120e+07</td>\n",
       "      <td>2001.000000</td>\n",
       "      <td>2.012120e+07</td>\n",
       "      <td>NaN</td>\n",
       "      <td>NaN</td>\n",
       "      <td>NaN</td>\n",
       "      <td>NaN</td>\n",
       "      <td>NaN</td>\n",
       "      <td>NaN</td>\n",
       "      <td>NaN</td>\n",
       "    </tr>\n",
       "    <tr>\n",
       "      <th>75%</th>\n",
       "      <td>22566.000000</td>\n",
       "      <td>1.773470e+07</td>\n",
       "      <td>42.960562</td>\n",
       "      <td>-82.368515</td>\n",
       "      <td>42.962133</td>\n",
       "      <td>-82.370429</td>\n",
       "      <td>53186.000000</td>\n",
       "      <td>8.137280e+09</td>\n",
       "      <td>NaN</td>\n",
       "      <td>53186.000000</td>\n",
       "      <td>...</td>\n",
       "      <td>2.015052e+07</td>\n",
       "      <td>2005.000000</td>\n",
       "      <td>2.013090e+07</td>\n",
       "      <td>NaN</td>\n",
       "      <td>NaN</td>\n",
       "      <td>NaN</td>\n",
       "      <td>NaN</td>\n",
       "      <td>NaN</td>\n",
       "      <td>NaN</td>\n",
       "      <td>NaN</td>\n",
       "    </tr>\n",
       "    <tr>\n",
       "      <th>max</th>\n",
       "      <td>30088.000000</td>\n",
       "      <td>1.875994e+07</td>\n",
       "      <td>57.794560</td>\n",
       "      <td>44.339211</td>\n",
       "      <td>61.073208</td>\n",
       "      <td>-67.894889</td>\n",
       "      <td>99615.000000</td>\n",
       "      <td>9.895746e+09</td>\n",
       "      <td>NaN</td>\n",
       "      <td>99615.000000</td>\n",
       "      <td>...</td>\n",
       "      <td>2.018040e+07</td>\n",
       "      <td>2016.000000</td>\n",
       "      <td>2.018011e+07</td>\n",
       "      <td>NaN</td>\n",
       "      <td>NaN</td>\n",
       "      <td>NaN</td>\n",
       "      <td>NaN</td>\n",
       "      <td>NaN</td>\n",
       "      <td>NaN</td>\n",
       "      <td>NaN</td>\n",
       "    </tr>\n",
       "  </tbody>\n",
       "</table>\n",
       "<p>8 rows × 252 columns</p>\n",
       "</div>"
      ],
      "text/plain": [
       "         Unnamed:_0        LeadId      Latitude     Longitude  \\\n",
       "count  30089.000000  3.008900e+04  30089.000000  30089.000000   \n",
       "mean   15044.000000  1.277743e+07     33.081982    -84.255260   \n",
       "std     8686.090461  6.002133e+06      7.035073      4.235265   \n",
       "min        0.000000  8.160000e+02     18.403270   -158.029975   \n",
       "25%     7522.000000  6.719774e+06     27.979402    -87.881723   \n",
       "50%    15044.000000  1.675337e+07     28.100240    -82.516331   \n",
       "75%    22566.000000  1.773470e+07     42.960562    -82.368515   \n",
       "max    30088.000000  1.875994e+07     57.794560     44.339211   \n",
       "\n",
       "       AddressLatitude  AddressLongitude    PostalCode  AppendedPhone  \\\n",
       "count     30089.000000      30089.000000  30089.000000   2.207100e+04   \n",
       "mean         33.114101        -84.282422  40094.556283   6.359286e+09   \n",
       "std           7.034068          4.298708  11241.491402   2.133725e+09   \n",
       "min          19.599600       -158.030023   1062.000000   2.013106e+09   \n",
       "25%          27.979611        -87.881900  33603.000000   4.145077e+09   \n",
       "50%          28.101590        -82.517653  33634.000000   7.277986e+09   \n",
       "75%          42.962133        -82.370429  53186.000000   8.137280e+09   \n",
       "max          61.073208        -67.894889  99615.000000   9.895746e+09   \n",
       "\n",
       "       PhoneScore  StandardizedZipCode   ...     \\\n",
       "count         0.0         30089.000000   ...      \n",
       "mean          NaN         40094.575526   ...      \n",
       "std           NaN         11241.482180   ...      \n",
       "min           NaN          1062.000000   ...      \n",
       "25%           NaN         33603.000000   ...      \n",
       "50%           NaN         33634.000000   ...      \n",
       "75%           NaN         53186.000000   ...      \n",
       "max           NaN         99615.000000   ...      \n",
       "\n",
       "       Third_Auto_Last_Verified_Date.1  Fourth_Auto_Year.1  \\\n",
       "count                     2.807000e+03         1437.000000   \n",
       "mean                      2.013009e+07         2001.299930   \n",
       "std                       2.374991e+04            6.864371   \n",
       "min                       1.996061e+07         1981.000000   \n",
       "25%                       2.012080e+07         1997.000000   \n",
       "50%                       2.012120e+07         2001.000000   \n",
       "75%                       2.015052e+07         2005.000000   \n",
       "max                       2.018040e+07         2016.000000   \n",
       "\n",
       "       Fourth_Auto_Last_Verified_Date.1  IP_Address.1  Region.1  IP_City.1  \\\n",
       "count                      1.427000e+03           0.0       0.0        0.0   \n",
       "mean                       2.012457e+07           NaN       NaN        NaN   \n",
       "std                        2.266108e+04           NaN       NaN        NaN   \n",
       "min                        1.997112e+07           NaN       NaN        NaN   \n",
       "25%                        2.012051e+07           NaN       NaN        NaN   \n",
       "50%                        2.012120e+07           NaN       NaN        NaN   \n",
       "75%                        2.013090e+07           NaN       NaN        NaN   \n",
       "max                        2.018011e+07           NaN       NaN        NaN   \n",
       "\n",
       "       IP_Zip.1  Internet_Provider.1  IP_From.1  IP_To.1  \n",
       "count       0.0                  0.0        0.0      0.0  \n",
       "mean        NaN                  NaN        NaN      NaN  \n",
       "std         NaN                  NaN        NaN      NaN  \n",
       "min         NaN                  NaN        NaN      NaN  \n",
       "25%         NaN                  NaN        NaN      NaN  \n",
       "50%         NaN                  NaN        NaN      NaN  \n",
       "75%         NaN                  NaN        NaN      NaN  \n",
       "max         NaN                  NaN        NaN      NaN  \n",
       "\n",
       "[8 rows x 252 columns]"
      ]
     },
     "execution_count": 96,
     "metadata": {},
     "output_type": "execute_result"
    }
   ],
   "source": [
    "leadvisitor_df.describe()"
   ]
  },
  {
   "cell_type": "markdown",
   "metadata": {},
   "source": [
    "### Number of Dealerships Visited by a Household"
   ]
  },
  {
   "cell_type": "code",
   "execution_count": 97,
   "metadata": {},
   "outputs": [
    {
     "data": {
      "text/html": [
       "<div>\n",
       "<style scoped>\n",
       "    .dataframe tbody tr th:only-of-type {\n",
       "        vertical-align: middle;\n",
       "    }\n",
       "\n",
       "    .dataframe tbody tr th {\n",
       "        vertical-align: top;\n",
       "    }\n",
       "\n",
       "    .dataframe thead th {\n",
       "        text-align: right;\n",
       "    }\n",
       "</style>\n",
       "<table border=\"1\" class=\"dataframe\">\n",
       "  <thead>\n",
       "    <tr style=\"text-align: right;\">\n",
       "      <th></th>\n",
       "      <th>DateId</th>\n",
       "      <th>DealerId</th>\n",
       "      <th>LeadId</th>\n",
       "      <th>City</th>\n",
       "      <th>DealerName</th>\n",
       "    </tr>\n",
       "  </thead>\n",
       "  <tbody>\n",
       "    <tr>\n",
       "      <th>0</th>\n",
       "      <td>20180513</td>\n",
       "      <td>5906849</td>\n",
       "      <td>2345</td>\n",
       "      <td>Tampa</td>\n",
       "      <td>Brandon Honda</td>\n",
       "    </tr>\n",
       "    <tr>\n",
       "      <th>1</th>\n",
       "      <td>20170101</td>\n",
       "      <td>5906849</td>\n",
       "      <td>2606</td>\n",
       "      <td>Tampa</td>\n",
       "      <td>Brandon Honda</td>\n",
       "    </tr>\n",
       "    <tr>\n",
       "      <th>2</th>\n",
       "      <td>20170101</td>\n",
       "      <td>5906849</td>\n",
       "      <td>3058</td>\n",
       "      <td>Tampa</td>\n",
       "      <td>Brandon Honda</td>\n",
       "    </tr>\n",
       "    <tr>\n",
       "      <th>3</th>\n",
       "      <td>20170110</td>\n",
       "      <td>5906849</td>\n",
       "      <td>3058</td>\n",
       "      <td>Tampa</td>\n",
       "      <td>Brandon Honda</td>\n",
       "    </tr>\n",
       "    <tr>\n",
       "      <th>4</th>\n",
       "      <td>20170122</td>\n",
       "      <td>5906849</td>\n",
       "      <td>3058</td>\n",
       "      <td>Tampa</td>\n",
       "      <td>Brandon Honda</td>\n",
       "    </tr>\n",
       "  </tbody>\n",
       "</table>\n",
       "</div>"
      ],
      "text/plain": [
       "     DateId  DealerId  LeadId   City     DealerName\n",
       "0  20180513   5906849    2345  Tampa  Brandon Honda\n",
       "1  20170101   5906849    2606  Tampa  Brandon Honda\n",
       "2  20170101   5906849    3058  Tampa  Brandon Honda\n",
       "3  20170110   5906849    3058  Tampa  Brandon Honda\n",
       "4  20170122   5906849    3058  Tampa  Brandon Honda"
      ]
     },
     "execution_count": 97,
     "metadata": {},
     "output_type": "execute_result"
    }
   ],
   "source": [
    "left = pd.DataFrame({'LeadId': facvisit_df[\"LeadId\"],\n",
    "                     'DealerId': facvisit_df[\"DealerId\"],\n",
    "                    'DateId': facvisit_df[\"DateId\"]})\n",
    "\n",
    "right = pd.DataFrame({'DealerId': dimdealer_df[\"DealerId\"],\n",
    "                     'DealerName': dimdealer_df[\"DealerName\"],\n",
    "                     'City': dimdealer_df[\"City\"]})\n",
    "\n",
    "result = pd.merge(left, right, how='left', on=['DealerId'])\n",
    "result.head()"
   ]
  },
  {
   "cell_type": "code",
   "execution_count": 98,
   "metadata": {},
   "outputs": [
    {
     "data": {
      "text/plain": [
       "251819"
      ]
     },
     "execution_count": 98,
     "metadata": {},
     "output_type": "execute_result"
    }
   ],
   "source": [
    "len(result)"
   ]
  },
  {
   "cell_type": "code",
   "execution_count": 99,
   "metadata": {},
   "outputs": [
    {
     "data": {
      "text/plain": [
       "189080"
      ]
     },
     "execution_count": 99,
     "metadata": {},
     "output_type": "execute_result"
    }
   ],
   "source": [
    "result_tampa= result[result[\"City\"].str.lower() == 'tampa']\n",
    "len(result_tampa)"
   ]
  },
  {
   "cell_type": "code",
   "execution_count": 100,
   "metadata": {},
   "outputs": [
    {
     "data": {
      "text/html": [
       "<div>\n",
       "<style scoped>\n",
       "    .dataframe tbody tr th:only-of-type {\n",
       "        vertical-align: middle;\n",
       "    }\n",
       "\n",
       "    .dataframe tbody tr th {\n",
       "        vertical-align: top;\n",
       "    }\n",
       "\n",
       "    .dataframe thead th {\n",
       "        text-align: right;\n",
       "    }\n",
       "</style>\n",
       "<table border=\"1\" class=\"dataframe\">\n",
       "  <thead>\n",
       "    <tr style=\"text-align: right;\">\n",
       "      <th></th>\n",
       "      <th>LeadId</th>\n",
       "      <th>cnt</th>\n",
       "    </tr>\n",
       "  </thead>\n",
       "  <tbody>\n",
       "    <tr>\n",
       "      <th>0</th>\n",
       "      <td>24</td>\n",
       "      <td>1</td>\n",
       "    </tr>\n",
       "    <tr>\n",
       "      <th>1</th>\n",
       "      <td>27</td>\n",
       "      <td>1</td>\n",
       "    </tr>\n",
       "    <tr>\n",
       "      <th>2</th>\n",
       "      <td>87</td>\n",
       "      <td>1</td>\n",
       "    </tr>\n",
       "    <tr>\n",
       "      <th>3</th>\n",
       "      <td>94</td>\n",
       "      <td>1</td>\n",
       "    </tr>\n",
       "    <tr>\n",
       "      <th>4</th>\n",
       "      <td>276</td>\n",
       "      <td>1</td>\n",
       "    </tr>\n",
       "  </tbody>\n",
       "</table>\n",
       "</div>"
      ],
      "text/plain": [
       "   LeadId  cnt\n",
       "0      24    1\n",
       "1      27    1\n",
       "2      87    1\n",
       "3      94    1\n",
       "4     276    1"
      ]
     },
     "execution_count": 100,
     "metadata": {},
     "output_type": "execute_result"
    }
   ],
   "source": [
    "df_tampa = result_tampa.groupby('LeadId')['DealerId'].nunique().reset_index()\n",
    "df_tampa.rename(columns={'DealerId': 'cnt'}, inplace=True)\n",
    "df_tampa.head()"
   ]
  },
  {
   "cell_type": "code",
   "execution_count": 101,
   "metadata": {
    "collapsed": true
   },
   "outputs": [],
   "source": [
    "percentile_list = [0, 25, 50, 75, 100, 'mean']\n",
    "percentile_title = ['Min', '25th pct', 'Median', '75th pct', 'Max', 'Mean']"
   ]
  },
  {
   "cell_type": "code",
   "execution_count": 102,
   "metadata": {},
   "outputs": [
    {
     "name": "stdout",
     "output_type": "stream",
     "text": [
      "[1.0, 1.0, 1.0, 1.0, 31.0, 1.38]\n"
     ]
    }
   ],
   "source": [
    "a = []\n",
    "for n in percentile_list:\n",
    "    try:\n",
    "        value = np.percentile(df_tampa.cnt, n)\n",
    "    except:\n",
    "        value = round(np.mean(df_tampa.cnt),2)\n",
    "    a.append(value)\n",
    "print(a)   "
   ]
  },
  {
   "cell_type": "code",
   "execution_count": 103,
   "metadata": {},
   "outputs": [
    {
     "data": {
      "text/html": [
       "<div>\n",
       "<style scoped>\n",
       "    .dataframe tbody tr th:only-of-type {\n",
       "        vertical-align: middle;\n",
       "    }\n",
       "\n",
       "    .dataframe tbody tr th {\n",
       "        vertical-align: top;\n",
       "    }\n",
       "\n",
       "    .dataframe thead th {\n",
       "        text-align: right;\n",
       "    }\n",
       "</style>\n",
       "<table border=\"1\" class=\"dataframe\">\n",
       "  <thead>\n",
       "    <tr style=\"text-align: right;\">\n",
       "      <th></th>\n",
       "      <th>percentile_title</th>\n",
       "      <th>tampa</th>\n",
       "    </tr>\n",
       "  </thead>\n",
       "  <tbody>\n",
       "    <tr>\n",
       "      <th>0</th>\n",
       "      <td>Min</td>\n",
       "      <td>1.00</td>\n",
       "    </tr>\n",
       "    <tr>\n",
       "      <th>1</th>\n",
       "      <td>25th pct</td>\n",
       "      <td>1.00</td>\n",
       "    </tr>\n",
       "    <tr>\n",
       "      <th>2</th>\n",
       "      <td>Median</td>\n",
       "      <td>1.00</td>\n",
       "    </tr>\n",
       "    <tr>\n",
       "      <th>3</th>\n",
       "      <td>75th pct</td>\n",
       "      <td>1.00</td>\n",
       "    </tr>\n",
       "    <tr>\n",
       "      <th>4</th>\n",
       "      <td>Max</td>\n",
       "      <td>31.00</td>\n",
       "    </tr>\n",
       "    <tr>\n",
       "      <th>5</th>\n",
       "      <td>Mean</td>\n",
       "      <td>1.38</td>\n",
       "    </tr>\n",
       "  </tbody>\n",
       "</table>\n",
       "</div>"
      ],
      "text/plain": [
       "  percentile_title  tampa\n",
       "0              Min   1.00\n",
       "1         25th pct   1.00\n",
       "2           Median   1.00\n",
       "3         75th pct   1.00\n",
       "4              Max  31.00\n",
       "5             Mean   1.38"
      ]
     },
     "execution_count": 103,
     "metadata": {},
     "output_type": "execute_result"
    }
   ],
   "source": [
    "household_visit_df_tampa = pd.DataFrame()\n",
    "household_visit_df_tampa['percentile_title'] = percentile_title\n",
    "household_visit_df_tampa ['tampa'] = a\n",
    "household_visit_df_tampa"
   ]
  },
  {
   "cell_type": "code",
   "execution_count": 115,
   "metadata": {
    "scrolled": true
   },
   "outputs": [
    {
     "data": {
      "text/plain": [
       "Text(0.5,1,'Number of visit - Tampa')"
      ]
     },
     "execution_count": 115,
     "metadata": {},
     "output_type": "execute_result"
    },
    {
     "data": {
      "image/png": "[encoded data removed]",
      "text/plain": [
       "<matplotlib.figure.Figure at 0x11805d390>"
      ]
     },
     "metadata": {},
     "output_type": "display_data"
    }
   ],
   "source": [
    "# Import library and dataset\n",
    "import seaborn as sns\n",
    "\n",
    "# Make default histogram of sepal length\n",
    "sns.distplot(df_tampa[\"cnt\"]).set_title('Number of visit - Tampa')\n",
    "#sns.plt.show()\n"
   ]
  },
  {
   "cell_type": "markdown",
   "metadata": {},
   "source": [
    "### Length of time people tend to shop for (days/weeks?)"
   ]
  },
  {
   "cell_type": "code",
   "execution_count": 106,
   "metadata": {
    "scrolled": false
   },
   "outputs": [
    {
     "data": {
      "text/html": [
       "<div>\n",
       "<style scoped>\n",
       "    .dataframe tbody tr th:only-of-type {\n",
       "        vertical-align: middle;\n",
       "    }\n",
       "\n",
       "    .dataframe tbody tr th {\n",
       "        vertical-align: top;\n",
       "    }\n",
       "\n",
       "    .dataframe thead th {\n",
       "        text-align: right;\n",
       "    }\n",
       "</style>\n",
       "<table border=\"1\" class=\"dataframe\">\n",
       "  <thead>\n",
       "    <tr style=\"text-align: right;\">\n",
       "      <th></th>\n",
       "      <th>Unnamed: 0</th>\n",
       "      <th>DealerId</th>\n",
       "      <th>LeadId</th>\n",
       "      <th>DateId</th>\n",
       "      <th>TimeId</th>\n",
       "      <th>CustomerId</th>\n",
       "      <th>Region</th>\n",
       "      <th>LoadId</th>\n",
       "      <th>Old_DealerId</th>\n",
       "      <th>Date</th>\n",
       "    </tr>\n",
       "  </thead>\n",
       "  <tbody>\n",
       "    <tr>\n",
       "      <th>0</th>\n",
       "      <td>0</td>\n",
       "      <td>5906849</td>\n",
       "      <td>2345</td>\n",
       "      <td>20180513</td>\n",
       "      <td>33581</td>\n",
       "      <td>1526217580</td>\n",
       "      <td>America/New_York</td>\n",
       "      <td>425</td>\n",
       "      <td>NaN</td>\n",
       "      <td>2018/5/13</td>\n",
       "    </tr>\n",
       "    <tr>\n",
       "      <th>1</th>\n",
       "      <td>1</td>\n",
       "      <td>5906849</td>\n",
       "      <td>2606</td>\n",
       "      <td>20170101</td>\n",
       "      <td>45001</td>\n",
       "      <td>1483291800</td>\n",
       "      <td>America/New_York</td>\n",
       "      <td>1</td>\n",
       "      <td>1732334.0</td>\n",
       "      <td>2017/1/1</td>\n",
       "    </tr>\n",
       "    <tr>\n",
       "      <th>2</th>\n",
       "      <td>2</td>\n",
       "      <td>5906849</td>\n",
       "      <td>3058</td>\n",
       "      <td>20170101</td>\n",
       "      <td>54001</td>\n",
       "      <td>1483300800</td>\n",
       "      <td>America/New_York</td>\n",
       "      <td>1</td>\n",
       "      <td>1732334.0</td>\n",
       "      <td>2017/1/1</td>\n",
       "    </tr>\n",
       "    <tr>\n",
       "      <th>3</th>\n",
       "      <td>3</td>\n",
       "      <td>5906849</td>\n",
       "      <td>3058</td>\n",
       "      <td>20170110</td>\n",
       "      <td>63001</td>\n",
       "      <td>1484087400</td>\n",
       "      <td>America/New_York</td>\n",
       "      <td>1</td>\n",
       "      <td>1732334.0</td>\n",
       "      <td>2017/1/10</td>\n",
       "    </tr>\n",
       "    <tr>\n",
       "      <th>4</th>\n",
       "      <td>4</td>\n",
       "      <td>5906849</td>\n",
       "      <td>3058</td>\n",
       "      <td>20170122</td>\n",
       "      <td>37201</td>\n",
       "      <td>1485098400</td>\n",
       "      <td>America/New_York</td>\n",
       "      <td>1</td>\n",
       "      <td>1732334.0</td>\n",
       "      <td>2017/1/22</td>\n",
       "    </tr>\n",
       "  </tbody>\n",
       "</table>\n",
       "</div>"
      ],
      "text/plain": [
       "   Unnamed: 0  DealerId  LeadId    DateId  TimeId  CustomerId  \\\n",
       "0           0   5906849    2345  20180513   33581  1526217580   \n",
       "1           1   5906849    2606  20170101   45001  1483291800   \n",
       "2           2   5906849    3058  20170101   54001  1483300800   \n",
       "3           3   5906849    3058  20170110   63001  1484087400   \n",
       "4           4   5906849    3058  20170122   37201  1485098400   \n",
       "\n",
       "             Region  LoadId  Old_DealerId       Date  \n",
       "0  America/New_York     425           NaN  2018/5/13  \n",
       "1  America/New_York       1     1732334.0   2017/1/1  \n",
       "2  America/New_York       1     1732334.0   2017/1/1  \n",
       "3  America/New_York       1     1732334.0  2017/1/10  \n",
       "4  America/New_York       1     1732334.0  2017/1/22  "
      ]
     },
     "execution_count": 106,
     "metadata": {},
     "output_type": "execute_result"
    }
   ],
   "source": [
    "facvisit_df.head()"
   ]
  },
  {
   "cell_type": "code",
   "execution_count": 107,
   "metadata": {},
   "outputs": [
    {
     "data": {
      "text/html": [
       "<div>\n",
       "<style scoped>\n",
       "    .dataframe tbody tr th:only-of-type {\n",
       "        vertical-align: middle;\n",
       "    }\n",
       "\n",
       "    .dataframe tbody tr th {\n",
       "        vertical-align: top;\n",
       "    }\n",
       "\n",
       "    .dataframe thead th {\n",
       "        text-align: right;\n",
       "    }\n",
       "</style>\n",
       "<table border=\"1\" class=\"dataframe\">\n",
       "  <thead>\n",
       "    <tr style=\"text-align: right;\">\n",
       "      <th></th>\n",
       "      <th>LeadId</th>\n",
       "      <th>DealerId</th>\n",
       "      <th>amax</th>\n",
       "      <th>amin</th>\n",
       "    </tr>\n",
       "  </thead>\n",
       "  <tbody>\n",
       "    <tr>\n",
       "      <th>0</th>\n",
       "      <td>24</td>\n",
       "      <td>5915301</td>\n",
       "      <td>2017/1/8</td>\n",
       "      <td>2017/1/1</td>\n",
       "    </tr>\n",
       "    <tr>\n",
       "      <th>1</th>\n",
       "      <td>27</td>\n",
       "      <td>5906912</td>\n",
       "      <td>2017/3/30</td>\n",
       "      <td>2017/1/1</td>\n",
       "    </tr>\n",
       "    <tr>\n",
       "      <th>2</th>\n",
       "      <td>87</td>\n",
       "      <td>5906912</td>\n",
       "      <td>2017/1/2</td>\n",
       "      <td>2017/1/2</td>\n",
       "    </tr>\n",
       "    <tr>\n",
       "      <th>3</th>\n",
       "      <td>94</td>\n",
       "      <td>5904870</td>\n",
       "      <td>2017/3/24</td>\n",
       "      <td>2017/1/1</td>\n",
       "    </tr>\n",
       "    <tr>\n",
       "      <th>4</th>\n",
       "      <td>266</td>\n",
       "      <td>5905586</td>\n",
       "      <td>2017/2/9</td>\n",
       "      <td>2017/1/1</td>\n",
       "    </tr>\n",
       "  </tbody>\n",
       "</table>\n",
       "</div>"
      ],
      "text/plain": [
       "   LeadId  DealerId       amax      amin\n",
       "0      24   5915301   2017/1/8  2017/1/1\n",
       "1      27   5906912  2017/3/30  2017/1/1\n",
       "2      87   5906912   2017/1/2  2017/1/2\n",
       "3      94   5904870  2017/3/24  2017/1/1\n",
       "4     266   5905586   2017/2/9  2017/1/1"
      ]
     },
     "execution_count": 107,
     "metadata": {},
     "output_type": "execute_result"
    }
   ],
   "source": [
    "lenth_df = facvisit_df.groupby(['LeadId', 'DealerId'])['Date'].agg([np.max,np.min]).reset_index()\n",
    "lenth_df.head()"
   ]
  },
  {
   "cell_type": "code",
   "execution_count": 108,
   "metadata": {
    "collapsed": true
   },
   "outputs": [],
   "source": [
    "lenth_df.to_csv(\"lenth.csv\")"
   ]
  },
  {
   "cell_type": "code",
   "execution_count": 109,
   "metadata": {
    "collapsed": true
   },
   "outputs": [],
   "source": [
    "lenth_df['amax'] = pd.to_datetime(lenth_df.amax)\n",
    "lenth_df['amin'] = pd.to_datetime(lenth_df.amin)\n",
    "lenth_df['diff'] = abs(lenth_df.amax - lenth_df.amin).astype('timedelta64[D]')"
   ]
  },
  {
   "cell_type": "code",
   "execution_count": 110,
   "metadata": {
    "collapsed": true
   },
   "outputs": [],
   "source": [
    "#lenth_df\n",
    "#lenth_df.loc[lenth_df['diff'].idxmin()]\n",
    "#facvisit_df.loc[facvisit_df['LeadId'] == 1071798]\n",
    "#lenth_df.describe()"
   ]
  },
  {
   "cell_type": "code",
   "execution_count": 111,
   "metadata": {
    "collapsed": true
   },
   "outputs": [],
   "source": [
    "dealer_tampa = dimdealer_df.loc[dimdealer_df['City'] == 'Tampa']"
   ]
  },
  {
   "cell_type": "code",
   "execution_count": 112,
   "metadata": {
    "collapsed": true
   },
   "outputs": [],
   "source": [
    "right = pd.DataFrame({'DealerId': dealer_tampa[\"DealerId\"]})\n",
    "\n",
    "\n",
    "length_tampa = pd.merge(lenth_df, right, how='inner', on=['DealerId'])\n",
    "#length_tampa['diff'] = length_tampa['diff'].astype(int)"
   ]
  },
  {
   "cell_type": "code",
   "execution_count": 113,
   "metadata": {},
   "outputs": [
    {
     "data": {
      "text/html": [
       "<div>\n",
       "<style scoped>\n",
       "    .dataframe tbody tr th:only-of-type {\n",
       "        vertical-align: middle;\n",
       "    }\n",
       "\n",
       "    .dataframe tbody tr th {\n",
       "        vertical-align: top;\n",
       "    }\n",
       "\n",
       "    .dataframe thead th {\n",
       "        text-align: right;\n",
       "    }\n",
       "</style>\n",
       "<table border=\"1\" class=\"dataframe\">\n",
       "  <thead>\n",
       "    <tr style=\"text-align: right;\">\n",
       "      <th></th>\n",
       "      <th>LeadId</th>\n",
       "      <th>DealerId</th>\n",
       "      <th>diff</th>\n",
       "    </tr>\n",
       "  </thead>\n",
       "  <tbody>\n",
       "    <tr>\n",
       "      <th>count</th>\n",
       "      <td>1.108150e+05</td>\n",
       "      <td>1.108150e+05</td>\n",
       "      <td>110815.000000</td>\n",
       "    </tr>\n",
       "    <tr>\n",
       "      <th>mean</th>\n",
       "      <td>9.016283e+06</td>\n",
       "      <td>5.715674e+06</td>\n",
       "      <td>10.437739</td>\n",
       "    </tr>\n",
       "    <tr>\n",
       "      <th>std</th>\n",
       "      <td>5.231556e+06</td>\n",
       "      <td>9.849136e+05</td>\n",
       "      <td>39.035535</td>\n",
       "    </tr>\n",
       "    <tr>\n",
       "      <th>min</th>\n",
       "      <td>2.400000e+01</td>\n",
       "      <td>1.722781e+06</td>\n",
       "      <td>0.000000</td>\n",
       "    </tr>\n",
       "    <tr>\n",
       "      <th>25%</th>\n",
       "      <td>4.664287e+06</td>\n",
       "      <td>5.904852e+06</td>\n",
       "      <td>0.000000</td>\n",
       "    </tr>\n",
       "    <tr>\n",
       "      <th>50%</th>\n",
       "      <td>8.354257e+06</td>\n",
       "      <td>5.907026e+06</td>\n",
       "      <td>0.000000</td>\n",
       "    </tr>\n",
       "    <tr>\n",
       "      <th>75%</th>\n",
       "      <td>1.378212e+07</td>\n",
       "      <td>6.043686e+06</td>\n",
       "      <td>0.000000</td>\n",
       "    </tr>\n",
       "    <tr>\n",
       "      <th>max</th>\n",
       "      <td>1.876044e+07</td>\n",
       "      <td>6.151734e+06</td>\n",
       "      <td>535.000000</td>\n",
       "    </tr>\n",
       "  </tbody>\n",
       "</table>\n",
       "</div>"
      ],
      "text/plain": [
       "             LeadId      DealerId           diff\n",
       "count  1.108150e+05  1.108150e+05  110815.000000\n",
       "mean   9.016283e+06  5.715674e+06      10.437739\n",
       "std    5.231556e+06  9.849136e+05      39.035535\n",
       "min    2.400000e+01  1.722781e+06       0.000000\n",
       "25%    4.664287e+06  5.904852e+06       0.000000\n",
       "50%    8.354257e+06  5.907026e+06       0.000000\n",
       "75%    1.378212e+07  6.043686e+06       0.000000\n",
       "max    1.876044e+07  6.151734e+06     535.000000"
      ]
     },
     "execution_count": 113,
     "metadata": {},
     "output_type": "execute_result"
    }
   ],
   "source": [
    "t = length_tampa.describe().reset_index()\n",
    "length_tampa.describe()"
   ]
  },
  {
   "cell_type": "code",
   "execution_count": 114,
   "metadata": {
    "scrolled": false
   },
   "outputs": [
    {
     "data": {
      "text/plain": [
       "Text(0.5,1,'Length of Stay in Tampa')"
      ]
     },
     "execution_count": 114,
     "metadata": {},
     "output_type": "execute_result"
    },
    {
     "data": {
      "image/png": "[encoded data removed]",
      "text/plain": [
       "<matplotlib.figure.Figure at 0x12cf12128>"
      ]
     },
     "metadata": {},
     "output_type": "display_data"
    }
   ],
   "source": [
    "sns.distplot(length_tampa[\"diff\"]).set_title('Length of Stay - Tampa')"
   ]
  }
 ],
 "metadata": {
  "colab": {
   "collapsed_sections": [],
   "default_view": {},
   "name": "EDA for DDS Part2.ipynb",
   "provenance": [],
   "version": "0.3.2",
   "views": {}
  },
  "kernelspec": {
   "display_name": "Python 3",
   "language": "python",
   "name": "python3"
  },
  "language_info": {
   "codemirror_mode": {
    "name": "ipython",
    "version": 3
   },
   "file_extension": ".py",
   "mimetype": "text/x-python",
   "name": "python",
   "nbconvert_exporter": "python",
   "pygments_lexer": "ipython3",
   "version": "3.6.4"
  },
  "toc": {
   "nav_menu": {},
   "number_sections": true,
   "sideBar": true,
   "skip_h1_title": false,
   "title_cell": "Table of Contents",
   "title_sidebar": "Contents",
   "toc_cell": true,
   "toc_position": {},
   "toc_section_display": true,
   "toc_window_display": false
  }
 },
 "nbformat": 4,
 "nbformat_minor": 1
}
